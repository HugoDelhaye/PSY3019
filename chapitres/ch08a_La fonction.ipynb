{
 "cells": [
  {
   "cell_type": "markdown",
   "metadata": {},
   "source": [
    "<div class=\"alert alert-info\">\n",
    "\n",
    "# PSY 3019-G-H24\n",
    "# Cueillette et traitement des données en neurosciences cognitives\n",
    "## Chapitre 8: La fonction\n",
    "<p>\n",
    "<li>La fonction"
   ]
  },
  {
   "cell_type": "markdown",
   "metadata": {},
   "source": [
    "<div class=\"alert alert-info\">\n",
    "<h3>La fonction python</h3>\n",
    "</div>"
   ]
  },
  {
   "cell_type": "markdown",
   "metadata": {},
   "source": [
    "<div class=\"alert alert-success\">\n",
    "<ul>\n",
    "    <li>Une fonction est un bloc de code qui ne s'exécute que lorsqu'elle est appelée.\n",
    "    <li>les fonctions sont crées en utilisant le nom + parenthèses + deux points\n",
    "    <li>les fonctions sont appelées en utilisant le nom + parenthèses\n",
    "    <li>le contenu d'une fonction DOIT être indenté\n",
    "    </ul></div>"
   ]
  },
  {
   "cell_type": "code",
   "execution_count": null,
   "metadata": {},
   "outputs": [],
   "source": [
    "def nom(argument_1, argument_2, argument_n):\n",
    "    instructions"
   ]
  },
  {
   "cell_type": "markdown",
   "metadata": {},
   "source": [
    "<div class=\"alert alert-success\">\n",
    "<ul>\n",
    "    <li>les arguments peuvent être des variables, des listes, des tuples, des dictionnaires, d'autres fonctions. Presque tout\n",
    "    </ul></div>"
   ]
  },
  {
   "cell_type": "code",
   "execution_count": 25,
   "metadata": {},
   "outputs": [
    {
     "name": "stdout",
     "output_type": "stream",
     "text": [
      "oui\n"
     ]
    }
   ],
   "source": [
    "print('oui')"
   ]
  },
  {
   "cell_type": "code",
   "execution_count": 26,
   "metadata": {},
   "outputs": [],
   "source": [
    "def app1():\n",
    "    print('oui')"
   ]
  },
  {
   "cell_type": "code",
   "execution_count": 27,
   "metadata": {},
   "outputs": [
    {
     "name": "stdout",
     "output_type": "stream",
     "text": [
      "oui\n"
     ]
    }
   ],
   "source": [
    "app1()"
   ]
  },
  {
   "cell_type": "markdown",
   "metadata": {},
   "source": [
    "<div class=\"alert alert-success\">\n",
    "<ul>\n",
    "    <li>Les données (nommées paramètres ou arguments) peuvent être envoyées à une fonction.\n",
    "    </ul></div>"
   ]
  },
  {
   "cell_type": "code",
   "execution_count": 28,
   "metadata": {},
   "outputs": [],
   "source": [
    "def app2(var):\n",
    "    print(var)"
   ]
  },
  {
   "cell_type": "code",
   "execution_count": 29,
   "metadata": {},
   "outputs": [
    {
     "name": "stdout",
     "output_type": "stream",
     "text": [
      "text\n"
     ]
    }
   ],
   "source": [
    "variable = 'text'\n",
    "\n",
    "app2(variable)"
   ]
  },
  {
   "cell_type": "code",
   "execution_count": 30,
   "metadata": {},
   "outputs": [
    {
     "name": "stdout",
     "output_type": "stream",
     "text": [
      "text\n"
     ]
    }
   ],
   "source": [
    "v2 = app2(variable)"
   ]
  },
  {
   "cell_type": "code",
   "execution_count": 31,
   "metadata": {},
   "outputs": [],
   "source": [
    "v2"
   ]
  },
  {
   "cell_type": "markdown",
   "metadata": {},
   "source": [
    "<div class=\"alert alert-success\">\n",
    "<ul>\n",
    "    <li> La fonction peut renvoyer un autre résultat, avec la commande: <b>return</b>\n",
    "    </ul></div>"
   ]
  },
  {
   "cell_type": "code",
   "execution_count": 32,
   "metadata": {},
   "outputs": [
    {
     "data": {
      "text/plain": [
       "'text-S'"
      ]
     },
     "execution_count": 32,
     "metadata": {},
     "output_type": "execute_result"
    }
   ],
   "source": [
    "def app2(var):\n",
    "    return (var+'-S')\n",
    "\n",
    "app2(variable)"
   ]
  },
  {
   "cell_type": "code",
   "execution_count": 33,
   "metadata": {},
   "outputs": [],
   "source": [
    "v2 = app2(variable)"
   ]
  },
  {
   "cell_type": "code",
   "execution_count": 34,
   "metadata": {},
   "outputs": [
    {
     "data": {
      "text/plain": [
       "'text-S'"
      ]
     },
     "execution_count": 34,
     "metadata": {},
     "output_type": "execute_result"
    }
   ],
   "source": [
    "v2"
   ]
  },
  {
   "cell_type": "markdown",
   "metadata": {},
   "source": [
    "<div class=\"alert alert-success\">\n",
    "<ul>\n",
    "    <li>Les arguments sont spécifiés après le nom de la fonction, entre parenthèses.\n",
    "    <li>Les arguments doivent être séparés par une virgule \n",
    "    </ul></div>"
   ]
  },
  {
   "cell_type": "code",
   "execution_count": 35,
   "metadata": {},
   "outputs": [],
   "source": [
    "import pandas\n",
    "\n",
    "def make_df(columns, index):\n",
    "    data = {a: [str(a) + str(i) for i in index] for a in columns}\n",
    "    return pandas.DataFrame(data, index)"
   ]
  },
  {
   "cell_type": "code",
   "execution_count": 36,
   "metadata": {},
   "outputs": [
    {
     "data": {
      "text/html": [
       "<div>\n",
       "<style scoped>\n",
       "    .dataframe tbody tr th:only-of-type {\n",
       "        vertical-align: middle;\n",
       "    }\n",
       "\n",
       "    .dataframe tbody tr th {\n",
       "        vertical-align: top;\n",
       "    }\n",
       "\n",
       "    .dataframe thead th {\n",
       "        text-align: right;\n",
       "    }\n",
       "</style>\n",
       "<table border=\"1\" class=\"dataframe\">\n",
       "  <thead>\n",
       "    <tr style=\"text-align: right;\">\n",
       "      <th></th>\n",
       "      <th>A</th>\n",
       "      <th>B</th>\n",
       "    </tr>\n",
       "  </thead>\n",
       "  <tbody>\n",
       "    <tr>\n",
       "      <th>1</th>\n",
       "      <td>A1</td>\n",
       "      <td>B1</td>\n",
       "    </tr>\n",
       "    <tr>\n",
       "      <th>2</th>\n",
       "      <td>A2</td>\n",
       "      <td>B2</td>\n",
       "    </tr>\n",
       "  </tbody>\n",
       "</table>\n",
       "</div>"
      ],
      "text/plain": [
       "    A   B\n",
       "1  A1  B1\n",
       "2  A2  B2"
      ]
     },
     "execution_count": 36,
     "metadata": {},
     "output_type": "execute_result"
    }
   ],
   "source": [
    "df_Concat1  = make_df('AB',[1,2])\n",
    "df_Concat1"
   ]
  },
  {
   "cell_type": "markdown",
   "metadata": {},
   "source": [
    "<div class=\"alert alert-success\">\n",
    "<ul>\n",
    "    <li>Lors de l'appel d'une fonction, tous les arguments doivent être définis. \n",
    "    </ul></div>"
   ]
  },
  {
   "cell_type": "code",
   "execution_count": 37,
   "metadata": {},
   "outputs": [
    {
     "ename": "TypeError",
     "evalue": "make_df() missing 1 required positional argument: 'index'",
     "output_type": "error",
     "traceback": [
      "\u001b[0;31m---------------------------------------------------------------------------\u001b[0m",
      "\u001b[0;31mTypeError\u001b[0m                                 Traceback (most recent call last)",
      "\u001b[0;32m<ipython-input-37-dcde2551fdf1>\u001b[0m in \u001b[0;36m<module>\u001b[0;34m\u001b[0m\n\u001b[0;32m----> 1\u001b[0;31m \u001b[0mmake_df\u001b[0m\u001b[0;34m(\u001b[0m\u001b[0;34m'CD'\u001b[0m\u001b[0;34m)\u001b[0m\u001b[0;34m\u001b[0m\u001b[0;34m\u001b[0m\u001b[0m\n\u001b[0m",
      "\u001b[0;31mTypeError\u001b[0m: make_df() missing 1 required positional argument: 'index'"
     ]
    }
   ],
   "source": [
    "make_df('CD')"
   ]
  },
  {
   "cell_type": "markdown",
   "metadata": {},
   "source": [
    "<div class=\"alert alert-success\">\n",
    "<ul>\n",
    "    <li>Lorsque le nombre des variables d'un argument n'est pas connu, le symbole étoile * peut être utilisé avant le paramètre\n",
    "    <li> la fonction recevra un TUPLE d'arguments\n",
    "    </ul></div>"
   ]
  },
  {
   "cell_type": "code",
   "execution_count": 38,
   "metadata": {},
   "outputs": [
    {
     "name": "stdout",
     "output_type": "stream",
     "text": [
      "nom3\n"
     ]
    }
   ],
   "source": [
    "def fonc_args(*params):\n",
    "    print(params[2])\n",
    "\n",
    "fonc_args('nom1', 'nom2', 'nom3', 'nom4')"
   ]
  },
  {
   "cell_type": "markdown",
   "metadata": {},
   "source": [
    "<div class=\"alert alert-success\">\n",
    "<ul>\n",
    "    <li>ce paramètre est appelé *args \n",
    "    </ul></div>"
   ]
  },
  {
   "cell_type": "code",
   "execution_count": 39,
   "metadata": {},
   "outputs": [
    {
     "name": "stdout",
     "output_type": "stream",
     "text": [
      "nom3\n"
     ]
    }
   ],
   "source": [
    "def fonc_args(*args):\n",
    "    print(args[2])\n",
    "    \n",
    "fonc_args('nom1', 'nom2', 'nom3', 'nom4')"
   ]
  },
  {
   "cell_type": "code",
   "execution_count": 40,
   "metadata": {},
   "outputs": [
    {
     "name": "stdout",
     "output_type": "stream",
     "text": [
      "nom3\n"
     ]
    }
   ],
   "source": [
    "v1 = \"nom1\"\n",
    "v2 = \"nom2\"\n",
    "v3 = 'nom3'\n",
    "\n",
    "fonc_args(v1, v2, v3)"
   ]
  },
  {
   "cell_type": "markdown",
   "metadata": {},
   "source": [
    "<div class=\"alert alert-success\">\n",
    "<ul>\n",
    "    <li>les arguments par défaut peuvent être définis à l'intérieur de la parenthèse de la fonction.\n",
    "    <li>les arguments définis entre parenthèses peuvent être omis lors de l'appel de la fonction.\n",
    "    </ul></div>"
   ]
  },
  {
   "cell_type": "code",
   "execution_count": 41,
   "metadata": {},
   "outputs": [
    {
     "name": "stdout",
     "output_type": "stream",
     "text": [
      "nom1 nom2\n"
     ]
    }
   ],
   "source": [
    "def fonc_defs(vals, val2 = 'nom2'):\n",
    "    print(vals, val2)\n",
    "\n",
    "fonc_defs('nom1')"
   ]
  },
  {
   "cell_type": "code",
   "execution_count": 42,
   "metadata": {},
   "outputs": [
    {
     "name": "stdout",
     "output_type": "stream",
     "text": [
      "nom1 nom3\n"
     ]
    }
   ],
   "source": [
    "fonc_defs('nom1', 'nom3')"
   ]
  },
  {
   "cell_type": "markdown",
   "metadata": {},
   "source": [
    "<div class=\"alert alert-success\">\n",
    "<ul>\n",
    "    <li>les arguments par défault doivent TOUJOURS être écrits dans les dernières positions. \n",
    "    </ul></div>"
   ]
  },
  {
   "cell_type": "code",
   "execution_count": 43,
   "metadata": {},
   "outputs": [
    {
     "ename": "SyntaxError",
     "evalue": "non-default argument follows default argument (<ipython-input-43-00b716b8e553>, line 1)",
     "output_type": "error",
     "traceback": [
      "\u001b[0;36m  File \u001b[0;32m\"<ipython-input-43-00b716b8e553>\"\u001b[0;36m, line \u001b[0;32m1\u001b[0m\n\u001b[0;31m    def fonc_defs(vals, val2 = 'nom2', val3):\u001b[0m\n\u001b[0m                                           ^\u001b[0m\n\u001b[0;31mSyntaxError\u001b[0m\u001b[0;31m:\u001b[0m non-default argument follows default argument\n"
     ]
    }
   ],
   "source": [
    "def fonc_defs(vals, val2 = 'nom2', val3):\n",
    "    print(vals, val2, val3)"
   ]
  },
  {
   "cell_type": "markdown",
   "metadata": {},
   "source": [
    "<div class=\"alert alert-success\">\n",
    "<ul>\n",
    "    <li> Lorsque le nombre d'arguments n'est pas connu, ajoutez deux astérisques: ** avant le nom du paramètre.\n",
    "    <li> la fonction recevra un DICTIONNAIRE d'arguments\n",
    "    <li> ce paramètre est appelé **kwargs \n",
    "    </ul></div>"
   ]
  },
  {
   "cell_type": "code",
   "execution_count": 44,
   "metadata": {},
   "outputs": [
    {
     "name": "stdout",
     "output_type": "stream",
     "text": [
      "nom2\n"
     ]
    }
   ],
   "source": [
    "def fonc_kwargs(**kwargs):\n",
    "    print(kwargs['var2'])\n",
    "\n",
    "fonc_kwargs(var1 = 'nom1', var2 = 'nom2')"
   ]
  },
  {
   "cell_type": "markdown",
   "metadata": {},
   "source": [
    "<div class=\"alert alert-success\">\n",
    "<ul>\n",
    "    <li>le **kwargs n'est pas un argument\n",
    "    </ul></div>"
   ]
  },
  {
   "cell_type": "code",
   "execution_count": 45,
   "metadata": {},
   "outputs": [
    {
     "ename": "TypeError",
     "evalue": "fonc_kwargs() takes 0 positional arguments but 2 were given",
     "output_type": "error",
     "traceback": [
      "\u001b[0;31m---------------------------------------------------------------------------\u001b[0m",
      "\u001b[0;31mTypeError\u001b[0m                                 Traceback (most recent call last)",
      "\u001b[0;32m<ipython-input-45-a9ac7b904918>\u001b[0m in \u001b[0;36m<module>\u001b[0;34m\u001b[0m\n\u001b[1;32m      2\u001b[0m \u001b[0mvar2\u001b[0m \u001b[0;34m=\u001b[0m \u001b[0;34m'nom2'\u001b[0m\u001b[0;34m\u001b[0m\u001b[0;34m\u001b[0m\u001b[0m\n\u001b[1;32m      3\u001b[0m \u001b[0;34m\u001b[0m\u001b[0m\n\u001b[0;32m----> 4\u001b[0;31m \u001b[0mfonc_kwargs\u001b[0m\u001b[0;34m(\u001b[0m\u001b[0mvar1\u001b[0m\u001b[0;34m,\u001b[0m \u001b[0mvar2\u001b[0m\u001b[0;34m)\u001b[0m\u001b[0;34m\u001b[0m\u001b[0;34m\u001b[0m\u001b[0m\n\u001b[0m",
      "\u001b[0;31mTypeError\u001b[0m: fonc_kwargs() takes 0 positional arguments but 2 were given"
     ]
    }
   ],
   "source": [
    "var1 = 'nom1'\n",
    "var2 = 'nom2'\n",
    "\n",
    "fonc_kwargs(var1, var2)"
   ]
  },
  {
   "cell_type": "markdown",
   "metadata": {},
   "source": [
    "<div class=\"alert alert-success\">\n",
    "<ul>\n",
    "    <li>les définitions de fonction ne peuvent pas être vides.\n",
    "    <li>l'instruction \"pass\" peut être utilisée pour éviter les erreurs \n",
    "    </ul></div>"
   ]
  },
  {
   "cell_type": "code",
   "execution_count": 46,
   "metadata": {},
   "outputs": [],
   "source": [
    "def app2(var):\n",
    "    pass\n",
    "\n",
    "app2(var1)"
   ]
  },
  {
   "cell_type": "markdown",
   "metadata": {},
   "source": [
    "<div class=\"alert alert-success\">\n",
    "<ul>\n",
    "    <li>n'oubliez pas d'ajouter des COMMENTAIRES qui décriraient la fonction.\n",
    "    </ul></div>"
   ]
  },
  {
   "cell_type": "code",
   "execution_count": 3,
   "metadata": {},
   "outputs": [],
   "source": [
    "def make_df(columns, index):\n",
    "    \"\"\"Cette fonction crée un cadre de données\n",
    "    Args:\n",
    "        columns = chaîne de lettres (str)\n",
    "        index   = liste avec des nombres (int)\n",
    "    Return:\n",
    "        pandas.DataFrame\n",
    "    \"\"\"\n",
    "    data = dict()\n",
    "    for a in columns:\n",
    "        data[a] = list()\n",
    "    for key in data:\n",
    "        for i in index:\n",
    "            data[key].append(key+str(i))\n",
    "    return pandas.DataFrame(data, index)"
   ]
  },
  {
   "cell_type": "markdown",
   "metadata": {},
   "source": [
    "<div class=\"alert alert-danger\">\n",
    "<b>les commandes et codes à apprendre par cœur </b></div>"
   ]
  },
  {
   "cell_type": "raw",
   "metadata": {},
   "source": [
    "FONTION:\n",
    "    def fonc1(val1, val2 = 'nom2):\n",
    "        resultat = True\n",
    "        instruction1\n",
    "        instruction2\n",
    "        return resultat\n",
    "\n",
    "    def fonc_tout(*args, **kwargs):\n",
    "        pass"
   ]
  }
 ],
 "metadata": {
  "anaconda-cloud": {},
  "celltoolbar": "Slideshow",
  "kernelspec": {
   "display_name": "Python 3 (ipykernel)",
   "language": "python",
   "name": "python3"
  },
  "language_info": {
   "codemirror_mode": {
    "name": "ipython",
    "version": 3
   },
   "file_extension": ".py",
   "mimetype": "text/x-python",
   "name": "python",
   "nbconvert_exporter": "python",
   "pygments_lexer": "ipython3",
   "version": "3.10.7"
  }
 },
 "nbformat": 4,
 "nbformat_minor": 2
}
