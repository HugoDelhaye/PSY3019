{
 "cells": [
  {
   "cell_type": "markdown",
   "metadata": {},
   "source": [
    "<div class=\"alert alert-info\">\n",
    "\n",
    "# PSY 3019 / 6973\n",
    "# Cueillette et traitement des données en neurosciences cognitives\n",
    "## Chapitre 8c\n",
    "<p>\n",
    "<li>Les algorithmes\n",
    "</div>"
   ]
  },
  {
   "cell_type": "markdown",
   "metadata": {
    "slideshow": {
     "slide_type": "subslide"
    }
   },
   "source": [
    "<div class=\"alert alert-info\">\n",
    "<b><h1>Algorithmes</h1></b></div>"
   ]
  },
  {
   "cell_type": "markdown",
   "metadata": {
    "slideshow": {
     "slide_type": "subslide"
    }
   },
   "source": [
    "<div class=\"alert alert-success\">\n",
    "<h2>Algorithme:</h2>\n",
    "<br>\n",
    "<li>une séquence finie d'instructions précises\n",
    "<li>permettant d'effectuer un calcul ou de résoudre un problème.\n",
    "</div>"
   ]
  },
  {
   "cell_type": "markdown",
   "metadata": {
    "slideshow": {
     "slide_type": "subslide"
    }
   },
   "source": [
    "<div class=\"alert alert-success\">\n",
    "<h2>Propriétés des algorithmes:</h2>\n",
    "<br>\n",
    "<li><b>Entrée:</b> Un algorithme a des valeurs d'entrée d'un ensemble spécifié.\n",
    "<li><b>Sortie:</b> Parmi chaque ensemble de valeurs d'entrée, un algorithme produit des valeurs de sortie à partir d'un ensemble spécifié. Les valeurs de sortie sont la solution au problème.\n",
    "<li><b>Caractère définitif:</b> Les étapes d'un algorithme doivent être définies avec précision.\n",
    "<li><b>Correctitude:</b> Un algorithme doit produire les valeurs de sortie correctes pour chaque ensemble de valeurs d'entrée.\n",
    "<li><b>Finitude:</b> Un algorithme doit produire la sortie souhaitée après un nombre fini (mais peut-être grand) d'étapes pour toute entrée de l'ensemble.\n",
    "<li><b>Efficacité:</b> Il doit être possible d'effectuer chaque étape d'un algorithme de manière exacte et dans un laps de temps déterminé.\n",
    "<li><b>Généralité:</b> La procédure doit être applicable à tous les problèmes de la forme souhaitée, et pas seulement à un ensemble particulier de valeurs d'entrée.\n",
    "</div>"
   ]
  },
  {
   "cell_type": "markdown",
   "metadata": {},
   "source": [
    "## Calcul et algorithmes\n",
    "\n",
    "Les ordinateurs et les humains sont bons à certaines choses et mauvais à d'autres.\n",
    "\n",
    "Voici une liste des tâches possibles qu'un humain et / ou un ordinateur pourraient essayer d'accomplir:\n",
    "\n",
    "- À partir d’une liste de 100 000 valeurs, recherchez la moyenne et la plage de la liste.\n",
    "- Trier un tableau de chiffres générés aléatoirement du plus petit au plus grand\n",
    "- Reconnaître la partie la plus triste d'un film\n",
    "- Rappelez des faits spécifiques, comme la réponse du jour de la semaine au 1er juin 1997\n",
    "- Identifier le pays d'origine probable d'une personne à partir de son accent\n",
    "- Créer un meme\n",
    "- Trier une liste de 10 000 noms par ordre alphabétique\n",
    "- Classez les mèmes par ordre d’amusement.\n",
    "- Étant donné deux endroits, déterminez le meilleur itinéraire pour vous rendre entre eux.\n",
    "- Reconnaître l'état émotionnel d'une personne\n",
    "- Stratégie de changement flexible, basée sur des indices dans l'environnement\n",
    "- Ecrire et effectuer une bataille de rap gagnante\n",
    "- Apprendre et être capable de comprendre une langue humaine\n",
    "- Apprendre et être capable de comprendre un langage de programmation\n",
    "- Jouer au tic-tac-toe\n",
    "- Rédiger une critique de film\n",
    "- Jouer aux échecs\n",
    "- Jouer à PACMAN"
   ]
  },
  {
   "cell_type": "markdown",
   "metadata": {},
   "source": [
    "### Instructions\n",
    "\n",
    "Choisissez 3 ou 4 exemples dans la liste des tâches ci-dessus et essayez de décider s'il s'agit d'une tâche pour laquelle les ordinateurs seraient meilleurs, les humains seraient meilleurs, ou si c’était une égalité.\n",
    "\n",
    "Pour chaque tâche, essayez d’imaginer comment vous pourriez le faire en Python. \n",
    "\n",
    "Utilisez un pseudocode pour esquisser un aperçu de la procédure.\n",
    "- Si vous pensez que les ordinateurs peuvent très bien fonctionner, votre pseudocode devrait couvrir à peu près tout le processus.\n",
    "- Si vous pensez qu’il s’agit plus d’une chose humaine, essayez d’identifier quelle partie du processus, en particulier, est difficile à spécifier dans un algorithme formel.\n",
    "\n",
    "Remarque: en règle générale, les ordinateurs peuvent faire et sont bons à tout ce que nous pouvons écrire un algorithme à compléter.\n",
    "\n",
    "Voici un exemple:"
   ]
  },
  {
   "cell_type": "markdown",
   "metadata": {},
   "source": [
    "#### Exemple: à partir d’une liste de 100 000 valeurs, recherchez la moyenne et la plage de la liste.\n",
    "\n",
    "C’est une tâche plus facile pour les ordinateurs car nous pouvons écrire un ensemble clair d’étapes pour la mener à bien (nous pouvons écrire un algorithme).\n",
    "\n",
    "Les humains ne seraient pas doués pour mener à bien cette tâche car il y avait beaucoup d'étapes à franchir, et ce serait lent, et nous n'aurions peut-être pas la mémoire pour le faire."
   ]
  },
  {
   "cell_type": "code",
   "execution_count": 1,
   "metadata": {
    "collapsed": true
   },
   "outputs": [],
   "source": [
    "# Pseudocode pour les statistiques de tableau\n",
    "def array_statistics():\n",
    "    \n",
    "    # Trouvez la moyenne du tableau. \n",
    "    pass\n",
    "    # Faire cela:\n",
    "        # Trouver la somme totale du tableau\n",
    "        # Trouver le nombre d'éléments dans le tableau\n",
    "        # Divise la somme par le nombre d'éléments \n",
    "\n",
    "    # Trouvez la plage du tableau.\n",
    "    pass\n",
    "    # Faire cela:\n",
    "        # Trouver la valeur maximale du tableau\n",
    "        # Trouver la valeur minimale du tableau\n",
    "        # Calculer la distance en soustrayant le maximum du minimum pour le tableau\n",
    "    \n",
    "    # Renvoie la moyenne et la plage du tableau\n",
    "    return None"
   ]
  },
  {
   "cell_type": "markdown",
   "metadata": {
    "slideshow": {
     "slide_type": "subslide"
    }
   },
   "source": [
    "<div class=\"alert alert-success\">\n",
    "<h2>Algorithmes de recherche</h2>\n",
    "<br>\n",
    "Le problème de recherche général peut être décrit comme suit:\n",
    "<li>localisez un élément x\n",
    "<li>dans une liste d’éléments distincts al, a2, ...,\n",
    "<li>ou déterminez qu’il ne figure pas dans la liste.\n",
    "<br><br>\n",
    "La solution à ce problème de recherche est:\n",
    "<li>l'emplacement du terme dans la liste égal à x \n",
    "<li>si x n'est pas dans la liste - égal à 0\n",
    "</div>"
   ]
  },
  {
   "cell_type": "markdown",
   "metadata": {
    "slideshow": {
     "slide_type": "subslide"
    }
   },
   "source": [
    "<div class=\"alert alert-success\">\n",
    "<h2>Algorithmes de recherche - Recherche linéaire</h2>\n",
    "<br>\n",
    "<li>l’algorithme de choix pour les listes courtes, car elle est simple et nécessite peu de code à mettre en œuvre.\n",
    "<li>l'algorithme examine le premier élément de la liste pour voir s'il correspond aux critères de recherche\n",
    "<li>et, le cas échéant, vous avez terminé. Sinon, il regarde l'élément suivant et passe en revue chaque entrée de la liste.\n",
    "<li>si les critères sont remplis, la recherche est terminée.\n",
    "<li>si ce n'est pas le cas, l'algorithme examine l'élément suivant jusqu'à ce que la liste complète soit complète.\n",
    "</div>"
   ]
  },
  {
   "cell_type": "code",
   "execution_count": 1,
   "metadata": {},
   "outputs": [
    {
     "data": {
      "text/plain": [
       "\"\\nL'algorithme est-il correct?\\n\""
      ]
     },
     "execution_count": 1,
     "metadata": {},
     "output_type": "execute_result"
    }
   ],
   "source": [
    "# PseudoCode - Recherche linéaire\n",
    "\n",
    "def linear_search1(Integer, Table):\n",
    "\n",
    "    x = Integer # une variable que nous voulons trouver; integer, float, character, string\n",
    "    Table = [a1, a2, ..., an] # une table de valeurs pouvant contenir la valeur à rechercher\n",
    "\n",
    "    for i in Table: # lire toutes les valeurs de la table, appelons-le 'i'\n",
    "        \n",
    "        if i == x:\n",
    "\n",
    "            reponse = True\n",
    "\n",
    "    return reponse\n",
    "\n",
    "'''\n",
    "L'algorithme est-il correct?\n",
    "'''"
   ]
  },
  {
   "cell_type": "code",
   "execution_count": 2,
   "metadata": {},
   "outputs": [],
   "source": [
    "def linear_search2(x, Table):\n",
    "        \n",
    "    if x in Table:\n",
    "\n",
    "            reponse = True\n",
    "\n",
    "    return reponse"
   ]
  },
  {
   "cell_type": "markdown",
   "metadata": {
    "slideshow": {
     "slide_type": "subslide"
    }
   },
   "source": [
    "<div class=\"alert alert-success\">\n",
    "<li>la recherche linéaire est rarement utilisée car d'autres algorithmes de recherche permettent une recherche beaucoup plus rapide.\n",
    "<li>les autres algorithmes de recherche sont les suivants: recherche binaire, tables de hachage.\n",
    "</div>"
   ]
  },
  {
   "cell_type": "markdown",
   "metadata": {
    "slideshow": {
     "slide_type": "subslide"
    }
   },
   "source": [
    "<div class=\"alert alert-success\">\n",
    "<h2>Algorithmes de recherche - Recherche binaire</h2>\n",
    "<br>\n",
    "<li>l’un des algorithmes les plus fondamentaux et les plus utiles en informatique.\n",
    "<li>il décrit le processus de recherche d'une valeur spécifique dans une collection ordonnée.\n",
    "<li>peut être utilisé pour les grandes bases de données avec des enregistrements ordonnés par clé numérique\n",
    "<li>l'algorithme commence au milieu de la base de données.\n",
    "<li>si la valeur cible est supérieur au valeur du milieu, la recherche se poursuivra avec la moitié supérieure de la base de données.\n",
    "<li>l'algorithme répète constamment ce processus en coupant la base de données à chaque fois jusqu'à trouver la valeur. <li>cette recherche est plus compliquée que la recherche linéaire, mais pour les grandes bases de données, elle est beaucoup plus rapide.\n",
    "<br><br>\n",
    "La recherche binaire est généralement composée de 3 sections principales:\n",
    "<ol>\n",
    "    <li>Pré-traitement - Tri si la collecte n'est pas triée.\n",
    "    <li>Recherche binaire - Utilisation d'une boucle ou d'une récursivité pour diviser l'espace de recherche en deux après chaque comparaison.\n",
    "    <li>Post-traitement - Déterminez les candidats viables dans l'espace restant.</ol>\n",
    "</div>"
   ]
  },
  {
   "cell_type": "code",
   "execution_count": 4,
   "metadata": {},
   "outputs": [],
   "source": [
    "# PseudoCode - Recherche binaire\n",
    "\n",
    "def binary_search(Integer, Table):\n",
    "    \n",
    "    def get_mean(table):\n",
    "\n",
    "        mean = Table/2 # trouver la valeur moyenne\n",
    "        \n",
    "        return mean\n",
    "    \n",
    "    \n",
    "    def get_New_Table(mean, Integer, Table):\n",
    "    \n",
    "        if Integer <= mean: # comparer la valeur avec la moyenne\n",
    "        \n",
    "            New_Table = Table[: mean]\n",
    "        \n",
    "        else:\n",
    "\n",
    "            New_Table = Table[mean :]\n",
    "            \n",
    "        return New_Table\n",
    "\n",
    "    # vérifier si la valeur est dans le tableau.\n",
    "\n",
    "    return reponse"
   ]
  },
  {
   "cell_type": "code",
   "execution_count": 11,
   "metadata": {},
   "outputs": [
    {
     "name": "stdout",
     "output_type": "stream",
     "text": [
      "2.0\n",
      "3.5\n",
      "L'élément est présent à l'index 3\n"
     ]
    }
   ],
   "source": [
    "# code pour la recherche binaire récursive.\n",
    " \n",
    "# Retourne l'index de x dans tab si présent, sinon -1\n",
    "def binarySearch (tab, l, r, x):\n",
    " \n",
    "    # Check base case\n",
    "    if r >= l:\n",
    " \n",
    "        mid = l + (r - l)/2\n",
    "    \n",
    "        # If element is present at the middle itself\n",
    "        if tab[int(mid)] == x:\n",
    "            return mid\n",
    "         \n",
    "        # If element is smaller than mid, then it \n",
    "        # can only be present in left subarray\n",
    "        elif tab[int(mid)] > x:\n",
    "            return binarySearch(tab, l, mid-1, x)\n",
    " \n",
    "        # Else the element can only be present \n",
    "        # in right subarray\n",
    "        else:\n",
    "            return binarySearch(tab, mid+1, r, x)\n",
    " \n",
    "    else:\n",
    "        # Element is not present in the array\n",
    "        return -1\n",
    " \n",
    "# Test\n",
    "tab = [ 2, 3, 4, 10, 40 ]\n",
    "x = 10\n",
    " \n",
    "# Appel de fonction\n",
    "result = binarySearch(tab, 0, len(tab)-1, x)\n",
    " \n",
    "if result != -1:\n",
    "    print(\"L'élément est présent à l'index %d\" % result)\n",
    "else:\n",
    "    print(\"L'élément n'est pas présent dans le tableau\")"
   ]
  },
  {
   "cell_type": "markdown",
   "metadata": {
    "slideshow": {
     "slide_type": "subslide"
    }
   },
   "source": [
    "<div class=\"alert alert-success\">\n",
    "<h2>Algorithmes de tri</h2>\n",
    "<br>\n",
    "<li>L'ordre des éléments d'une liste est un problème qui se produit dans de nombreux contextes. Par exemple, pour créer un répertoire téléphonique, il est nécessaire d’alphabétiser les noms des abonnés. De même, la création d'un répertoire de chansons pouvant être téléchargées nécessite que leurs titres soient classés par ordre alphabétique.\n",
    "\n",
    "<li>En classant les adresses dans une liste de courrier électronique, vous pouvez déterminer s'il existe des adresses en double.\n",
    "<li>Créer un dictionnaire utile nécessite que les mots soient classés par ordre alphabétique.\n",
    "<li>De même, générer une liste de pièces nécessite de les commander en fonction du numéro de pièce croissant.\n",
    "\n",
    "<li>Plus de 100 algorithmes de tri ont été conçus, et de nouveaux algorithmes de tri sont développés.\n",
    "</div>"
   ]
  },
  {
   "cell_type": "markdown",
   "metadata": {
    "slideshow": {
     "slide_type": "subslide"
    }
   },
   "source": [
    "<div class=\"alert alert-success\">\n",
    "<h2>Algorithmes de tri - Tri à bulles</h2>\n",
    "<br>\n",
    "<li>L’algorithme de tri à bulles commence par comparer les deux premiers éléments d’un tableau\n",
    "<li>si nécessaire, les éléments sonts échanger par ordre croissant/ décroissant\n",
    "<li>Ensuite, les deuxième et troisième éléments sont à nouveau comparés et échangés\n",
    "<li>ce processus se poursuit jusqu'à ce que le dernier soient comparés et échangés.\n",
    "<li>l'algorithme de tri à bulles remplace les éléments en commençant au début de la liste, pour un passage complet. <li>la procédure est répeter jusqu'à ce que le tri soit terminé.\n",
    "<li>C'est l'un des algorithmes de tri les plus inefficaces en raison de sa simplicité.\n",
    "</div>"
   ]
  },
  {
   "cell_type": "code",
   "execution_count": 4,
   "metadata": {},
   "outputs": [],
   "source": [
    "# PseudoCode - Tri à bulles\n",
    "\n",
    "a = table\n",
    "\n",
    "swapped = true\n",
    "while swapped:\n",
    "    swapped = false\n",
    "    for j from 0 to N - 1:\n",
    "        if a[j] > a[j + 1]:\n",
    "            swap( a[j], a[j + 1] )\n",
    "            swapped = true\n",
    "\n",
    "# source - Wikipedia"
   ]
  },
  {
   "cell_type": "code",
   "execution_count": 4,
   "metadata": {},
   "outputs": [],
   "source": [
    "# PseudoCode - Tri à bulles\n",
    "\n",
    "Sort(A)\n",
    "for j = 2 to n:\n",
    "    clé <- A[j]\n",
    "    # Insérer A[j] dans la séquence trier A[1 ... j-1]\n",
    "    j <- i-1\n",
    "    while i > 0 and A[i] > clé:\n",
    "        A[i+1] <- A[i]\n",
    "        i <- i-1\n",
    "    A[j+1] <- clé\n",
    "\n",
    "# source - Wikipedia"
   ]
  },
  {
   "cell_type": "markdown",
   "metadata": {
    "slideshow": {
     "slide_type": "subslide"
    }
   },
   "source": [
    "<div class=\"alert alert-success\">\n",
    "<h2>Algorithmes de tri - Tri par insertion</h2>\n",
    "<br>\n",
    "<li>Le tri par insertion est un algorithme de tri simple qui construit le tableau final trié (ou la liste), un élément à la fois.\n",
    "<li>Il est beaucoup moins efficace sur les grandes listes que des algorithmes plus avancés (tels que le tri rapide, le tri massif ou le tri par fusion). Cependant, le tri par insertion offre plusieurs avantages.\n",
    "<li>Pour trier une liste de n éléments, le tri par insertion commence par le deuxième élément.\n",
    "<li>La sorte d'insertion compare ce deuxième élément avec le premier élément\n",
    "<li>s'il ne dépasse pas le premier élément l'algorithme l'insère avant le premier élément\n",
    "<li>s'il dépasse le premier élément l'algorithme l'insère après le premier élément\n",
    "<li>À ce stade, les deux premiers éléments sont dans le bon ordre.\n",
    "<li>Le troisième élément est ensuite comparé au premier élément\n",
    "<li>s'il est plus grand que le premier - il est comparé au deuxième élément.\n",
    "<li>le troisième élément est inséré dans la position correcte parmi les trois premiers éléments.\n",
    "<br<br>\n",
    "<li>Le tri par insertion est utilisé lorsque le nombre d'éléments est petit.\n",
    "<li>Cela peut également être utile lorsque le tableau en entrée est presque trié, seuls quelques éléments sont mal placés dans un grand tableau complet.\n",
    "</div>"
   ]
  },
  {
   "cell_type": "code",
   "execution_count": 4,
   "metadata": {},
   "outputs": [],
   "source": [
    "# code  pour l'implémentation du tri par insertion\n",
    " \n",
    "# Function to do insertion sort\n",
    "def insertionSort(arr):\n",
    " \n",
    "    # Traverse through 1 to len(arr)\n",
    "    for i in range(1, len(arr)):\n",
    " \n",
    "        key = arr[i]\n",
    " \n",
    "        # Move elements of arr[0..i-1], that are\n",
    "        # greater than key, to one position ahead\n",
    "        # of their current position\n",
    "        j = i-1\n",
    "        while j >=0 and key < arr[j] :\n",
    "                arr[j+1] = arr[j]\n",
    "                j -= 1\n",
    "        arr[j+1] = key\n",
    " \n",
    " \n",
    "# Driver code to test above\n",
    "arr = [12, 11, 13, 5, 6]\n",
    "insertionSort(arr)\n",
    "print (\"Sorted array is:\")\n",
    "for i in range(len(arr)):\n",
    "    print (\"%d\" %arr[i])\n",
    " \n",
    "# This code is contributed by Mohit Kumra"
   ]
  },
  {
   "cell_type": "code",
   "execution_count": 5,
   "metadata": {},
   "outputs": [],
   "source": [
    "# exemple sorting - NumPy est plus rapide\n",
    "\n",
    "import numpy as np\n",
    "x = np.array([2,5,3,7,5,3])\n",
    "\n",
    "def bogosort(x):\n",
    "    while np.any(x[:-1]>x[1:]):\n",
    "        np.random.shuffle(x)\n",
    "    return x\n",
    "\n",
    "def selection_sort(x):\n",
    "    for i in range(len(x)):\n",
    "        val = i+np.argmin(x[i:])\n",
    "        (x[i],x[val]) = (x[val],x[i])\n",
    "    return x"
   ]
  },
  {
   "cell_type": "code",
   "execution_count": 6,
   "metadata": {},
   "outputs": [
    {
     "name": "stdout",
     "output_type": "stream",
     "text": [
      "7.62 µs ± 349 ns per loop (mean ± std. dev. of 7 runs, 100000 loops each)\n"
     ]
    }
   ],
   "source": [
    "%timeit bogosort(x)"
   ]
  },
  {
   "cell_type": "code",
   "execution_count": 7,
   "metadata": {},
   "outputs": [
    {
     "name": "stdout",
     "output_type": "stream",
     "text": [
      "29.5 µs ± 3.58 µs per loop (mean ± std. dev. of 7 runs, 10000 loops each)\n"
     ]
    }
   ],
   "source": [
    "%timeit selection_sort(x)"
   ]
  }
 ],
 "metadata": {
  "anaconda-cloud": {},
  "celltoolbar": "Slideshow",
  "kernelspec": {
   "display_name": "Python 3 (ipykernel)",
   "language": "python",
   "name": "python3"
  },
  "language_info": {
   "codemirror_mode": {
    "name": "ipython",
    "version": 3
   },
   "file_extension": ".py",
   "mimetype": "text/x-python",
   "name": "python",
   "nbconvert_exporter": "python",
   "pygments_lexer": "ipython3",
   "version": "3.11.7"
  }
 },
 "nbformat": 4,
 "nbformat_minor": 2
}
