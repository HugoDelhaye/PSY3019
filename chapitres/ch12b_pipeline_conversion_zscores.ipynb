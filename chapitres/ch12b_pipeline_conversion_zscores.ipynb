{
 "cells": [
  {
   "cell_type": "markdown",
   "metadata": {
    "slideshow": {
     "slide_type": "slide"
    }
   },
   "source": [
    "<div class=\"alert alert-info\">\n",
    "\n",
    "# PSY 3019 / 6973\n",
    "# Cueillette et traitement des données en neurosciences cognitives\n",
    "## Chapitre 11: Automatisation des traitements\n",
    "<p>\n",
    "<li>PRESENTATION\n",
    "</div>"
   ]
  },
  {
   "cell_type": "markdown",
   "metadata": {
    "slideshow": {
     "slide_type": "subslide"
    }
   },
   "source": [
    "<div class=\"alert alert-info\">\n",
    "<b><h1>Pipeline - conversion en z-scores</h1></b></div>"
   ]
  },
  {
   "cell_type": "markdown",
   "metadata": {
    "collapsed": true
   },
   "source": [
    "<div class=\"alert alert-success\">\n",
    "<b><h1>Étape 1 - structure</h1></b></div>"
   ]
  },
  {
   "cell_type": "code",
   "execution_count": 13,
   "metadata": {},
   "outputs": [
    {
     "name": "stdout",
     "output_type": "stream",
     "text": [
      "colonne avec les valeurs pour l'âge: Age\n",
      "colonne avec les valeurs pour l'éducation: Education\n"
     ]
    }
   ],
   "source": [
    "Age = input('colonne avec les valeurs pour l\\'âge: ')\n",
    "Education = input('colonne avec les valeurs pour l\\'éducation: ')"
   ]
  },
  {
   "cell_type": "code",
   "execution_count": 1,
   "metadata": {},
   "outputs": [],
   "source": [
    "fichier_src = 'npsy_data.csv'"
   ]
  },
  {
   "cell_type": "markdown",
   "metadata": {
    "collapsed": true
   },
   "source": [
    "<div class=\"alert alert-success\">\n",
    "<b><h4>lire le fichier</h4></b></div>"
   ]
  },
  {
   "cell_type": "code",
   "execution_count": 2,
   "metadata": {},
   "outputs": [],
   "source": [
    "import pandas\n",
    "tab = pandas.read_csv(fichier_src)"
   ]
  },
  {
   "cell_type": "code",
   "execution_count": 3,
   "metadata": {},
   "outputs": [
    {
     "data": {
      "text/plain": [
       "Index(['Id', 'Age', 'Education', 'TMTAT1', 'TMTAT2', 'TMTAT3', 'TMTAT4',\n",
       "       'BrixtonT1', 'BrixtonT2', 'BrixtonT3', 'BrixtonT4', 'BrixtonScaleT1',\n",
       "       'BrixtonScaleT2', 'BrixtonScaleT3', 'BrixtonScaleT4', 'MecLibreT1',\n",
       "       'MecLibreT2', 'MecLibreT3', 'MecLibreT4', 'MecOrthoT1', 'MecOrthoT2',\n",
       "       'MecOrthoT3', 'MecOrthoT4', 'TMTBT1', 'TMTBT2', 'TMTBT3', 'TMTBT4',\n",
       "       'BostonT1', 'BostonT2', 'BostonT3', 'BostonT4', 'MecSemT1', 'MecSemT2',\n",
       "       'MecSemT3', 'MecSemT4', 'ClockDrawintT1', 'ClockDrawintT2',\n",
       "       'ClockDrawintT3', 'ClockDrawintT4'],\n",
       "      dtype='object')"
      ]
     },
     "execution_count": 3,
     "metadata": {},
     "output_type": "execute_result"
    }
   ],
   "source": [
    "#tab.shape\n",
    "tab.columns"
   ]
  },
  {
   "cell_type": "code",
   "execution_count": 4,
   "metadata": {},
   "outputs": [
    {
     "data": {
      "text/html": [
       "<div>\n",
       "<style scoped>\n",
       "    .dataframe tbody tr th:only-of-type {\n",
       "        vertical-align: middle;\n",
       "    }\n",
       "\n",
       "    .dataframe tbody tr th {\n",
       "        vertical-align: top;\n",
       "    }\n",
       "\n",
       "    .dataframe thead th {\n",
       "        text-align: right;\n",
       "    }\n",
       "</style>\n",
       "<table border=\"1\" class=\"dataframe\">\n",
       "  <thead>\n",
       "    <tr style=\"text-align: right;\">\n",
       "      <th></th>\n",
       "      <th>Id</th>\n",
       "      <th>Age</th>\n",
       "      <th>Education</th>\n",
       "      <th>TMTAT1</th>\n",
       "      <th>TMTAT2</th>\n",
       "      <th>TMTAT3</th>\n",
       "      <th>TMTAT4</th>\n",
       "      <th>BrixtonT1</th>\n",
       "      <th>BrixtonT2</th>\n",
       "      <th>BrixtonT3</th>\n",
       "      <th>...</th>\n",
       "      <th>BostonT3</th>\n",
       "      <th>BostonT4</th>\n",
       "      <th>MecSemT1</th>\n",
       "      <th>MecSemT2</th>\n",
       "      <th>MecSemT3</th>\n",
       "      <th>MecSemT4</th>\n",
       "      <th>ClockDrawintT1</th>\n",
       "      <th>ClockDrawintT2</th>\n",
       "      <th>ClockDrawintT3</th>\n",
       "      <th>ClockDrawintT4</th>\n",
       "    </tr>\n",
       "  </thead>\n",
       "  <tbody>\n",
       "    <tr>\n",
       "      <th>0</th>\n",
       "      <td>s01</td>\n",
       "      <td>85.5</td>\n",
       "      <td>17</td>\n",
       "      <td>77</td>\n",
       "      <td>53</td>\n",
       "      <td>42</td>\n",
       "      <td>55</td>\n",
       "      <td>26</td>\n",
       "      <td>31</td>\n",
       "      <td>36</td>\n",
       "      <td>...</td>\n",
       "      <td>47</td>\n",
       "      <td>44</td>\n",
       "      <td>16</td>\n",
       "      <td>21</td>\n",
       "      <td>21</td>\n",
       "      <td>23</td>\n",
       "      <td>7</td>\n",
       "      <td>8</td>\n",
       "      <td>6</td>\n",
       "      <td>7</td>\n",
       "    </tr>\n",
       "    <tr>\n",
       "      <th>1</th>\n",
       "      <td>s02</td>\n",
       "      <td>63.0</td>\n",
       "      <td>15</td>\n",
       "      <td>56</td>\n",
       "      <td>39</td>\n",
       "      <td>54</td>\n",
       "      <td>47</td>\n",
       "      <td>16</td>\n",
       "      <td>17</td>\n",
       "      <td>14</td>\n",
       "      <td>...</td>\n",
       "      <td>14</td>\n",
       "      <td>13</td>\n",
       "      <td>17</td>\n",
       "      <td>20</td>\n",
       "      <td>22</td>\n",
       "      <td>16</td>\n",
       "      <td>8</td>\n",
       "      <td>9</td>\n",
       "      <td>9</td>\n",
       "      <td>8</td>\n",
       "    </tr>\n",
       "    <tr>\n",
       "      <th>2</th>\n",
       "      <td>s03</td>\n",
       "      <td>62.0</td>\n",
       "      <td>11</td>\n",
       "      <td>31</td>\n",
       "      <td>36</td>\n",
       "      <td>32</td>\n",
       "      <td>36</td>\n",
       "      <td>15</td>\n",
       "      <td>9</td>\n",
       "      <td>8</td>\n",
       "      <td>...</td>\n",
       "      <td>13</td>\n",
       "      <td>11</td>\n",
       "      <td>20</td>\n",
       "      <td>21</td>\n",
       "      <td>23</td>\n",
       "      <td>22</td>\n",
       "      <td>8</td>\n",
       "      <td>9</td>\n",
       "      <td>9</td>\n",
       "      <td>9</td>\n",
       "    </tr>\n",
       "    <tr>\n",
       "      <th>3</th>\n",
       "      <td>s04</td>\n",
       "      <td>70.7</td>\n",
       "      <td>21</td>\n",
       "      <td>30</td>\n",
       "      <td>40</td>\n",
       "      <td>34</td>\n",
       "      <td>32</td>\n",
       "      <td>23</td>\n",
       "      <td>12</td>\n",
       "      <td>13</td>\n",
       "      <td>...</td>\n",
       "      <td>14</td>\n",
       "      <td>13</td>\n",
       "      <td>18</td>\n",
       "      <td>19</td>\n",
       "      <td>16</td>\n",
       "      <td>24</td>\n",
       "      <td>9</td>\n",
       "      <td>10</td>\n",
       "      <td>9</td>\n",
       "      <td>9</td>\n",
       "    </tr>\n",
       "    <tr>\n",
       "      <th>4</th>\n",
       "      <td>s05</td>\n",
       "      <td>65.8</td>\n",
       "      <td>18</td>\n",
       "      <td>47</td>\n",
       "      <td>56</td>\n",
       "      <td>57</td>\n",
       "      <td>57</td>\n",
       "      <td>16</td>\n",
       "      <td>11</td>\n",
       "      <td>13</td>\n",
       "      <td>...</td>\n",
       "      <td>15</td>\n",
       "      <td>15</td>\n",
       "      <td>14</td>\n",
       "      <td>18</td>\n",
       "      <td>22</td>\n",
       "      <td>22</td>\n",
       "      <td>9</td>\n",
       "      <td>8</td>\n",
       "      <td>8</td>\n",
       "      <td>10</td>\n",
       "    </tr>\n",
       "  </tbody>\n",
       "</table>\n",
       "<p>5 rows × 39 columns</p>\n",
       "</div>"
      ],
      "text/plain": [
       "    Id   Age  Education  TMTAT1  TMTAT2  TMTAT3  TMTAT4  BrixtonT1  BrixtonT2  \\\n",
       "0  s01  85.5         17      77      53      42      55         26         31   \n",
       "1  s02  63.0         15      56      39      54      47         16         17   \n",
       "2  s03  62.0         11      31      36      32      36         15          9   \n",
       "3  s04  70.7         21      30      40      34      32         23         12   \n",
       "4  s05  65.8         18      47      56      57      57         16         11   \n",
       "\n",
       "   BrixtonT3  ...  BostonT3  BostonT4  MecSemT1  MecSemT2  MecSemT3  MecSemT4  \\\n",
       "0         36  ...        47        44        16        21        21        23   \n",
       "1         14  ...        14        13        17        20        22        16   \n",
       "2          8  ...        13        11        20        21        23        22   \n",
       "3         13  ...        14        13        18        19        16        24   \n",
       "4         13  ...        15        15        14        18        22        22   \n",
       "\n",
       "   ClockDrawintT1  ClockDrawintT2  ClockDrawintT3  ClockDrawintT4  \n",
       "0               7               8               6               7  \n",
       "1               8               9               9               8  \n",
       "2               8               9               9               9  \n",
       "3               9              10               9               9  \n",
       "4               9               8               8              10  \n",
       "\n",
       "[5 rows x 39 columns]"
      ]
     },
     "execution_count": 4,
     "metadata": {},
     "output_type": "execute_result"
    }
   ],
   "source": [
    "tab.head()"
   ]
  },
  {
   "cell_type": "markdown",
   "metadata": {
    "collapsed": true
   },
   "source": [
    "<div class=\"alert alert-success\">\n",
    "<b><h4>base de données des normes</h4></b></div>"
   ]
  },
  {
   "cell_type": "code",
   "execution_count": 81,
   "metadata": {},
   "outputs": [],
   "source": [
    "# VERSION 1 - Fonction\n",
    "\n",
    "# Formule = (valeur - moyenne) / ds\n",
    "\n",
    "def MEC(age, edu):\n",
    "    if age >= 30 and age <= 85:\n",
    "        if edu <= 25:\n",
    "            moyenne = 34.13\n",
    "            ecart_type = 4.25\n",
    "    return moyenne, ecart_type"
   ]
  },
  {
   "cell_type": "code",
   "execution_count": 23,
   "metadata": {},
   "outputs": [
    {
     "data": {
      "text/plain": [
       "(34.13, 4.25)"
      ]
     },
     "execution_count": 23,
     "metadata": {},
     "output_type": "execute_result"
    }
   ],
   "source": [
    "MEC(31, 10)"
   ]
  },
  {
   "cell_type": "code",
   "execution_count": 24,
   "metadata": {
    "collapsed": true
   },
   "outputs": [],
   "source": [
    "# VERSION 2 - Dictionnaire\n",
    "\n",
    "npsy_normes = {\n",
    "    'MEC':{\n",
    "        'Age Edu intervalle':{'1':[30, 49, 11]},\n",
    "        '1':{'<=':{'moyenne':34.13, 'ecart_type':4.25},\n",
    "             '>':{},\n",
    "            \n",
    "        }\n",
    "    }\n",
    "}"
   ]
  },
  {
   "cell_type": "code",
   "execution_count": 30,
   "metadata": {},
   "outputs": [
    {
     "data": {
      "text/plain": [
       "34.13"
      ]
     },
     "execution_count": 30,
     "metadata": {},
     "output_type": "execute_result"
    }
   ],
   "source": [
    "npsy_normes['MEC']['1']['<=']['moyenne']"
   ]
  },
  {
   "cell_type": "markdown",
   "metadata": {
    "collapsed": true
   },
   "source": [
    "<div class=\"alert alert-success\">\n",
    "<b><h4>extraction des valeurs</h4></b></div>"
   ]
  },
  {
   "cell_type": "code",
   "execution_count": 90,
   "metadata": {},
   "outputs": [],
   "source": [
    "for valeur in tab.columns:\n",
    "    if 'MecLibre' in valeur:\n",
    "        ls_ztest = chng_val_pour_zscore(tab[valeur], tab[Age], tab[Education])\n",
    "        tab[valeur+'_zscore'] = ls_ztest"
   ]
  },
  {
   "cell_type": "markdown",
   "metadata": {
    "collapsed": true
   },
   "source": [
    "<div class=\"alert alert-success\">\n",
    "<b><h4>conversion en z-scores</h4></b></div>"
   ]
  },
  {
   "cell_type": "code",
   "execution_count": 85,
   "metadata": {},
   "outputs": [],
   "source": [
    "def chng_val_pour_zscore(np_test, np_Age, np_Edu):\n",
    "    \n",
    "    ls_ztest = list()\n",
    "    for val, age, edu in zip(np_test, np_Age, np_Edu):\n",
    "        moyenne, ecart_type = MEC(int(age), int(edu))\n",
    "        z_score = (val - moyenne) / ecart_type\n",
    "        ls_ztest.append(z_score)\n",
    "\n",
    "    return ls_ztest"
   ]
  },
  {
   "cell_type": "markdown",
   "metadata": {
    "collapsed": true
   },
   "source": [
    "<div class=\"alert alert-success\">\n",
    "<b><h4>sauvegarder les  résultats</h4></b></div>"
   ]
  },
  {
   "cell_type": "code",
   "execution_count": 91,
   "metadata": {
    "collapsed": true
   },
   "outputs": [],
   "source": [
    "fichier_dst = '/tmp/result.csv'\n",
    "\n",
    "tab.to_csv(fichier_dst)"
   ]
  },
  {
   "cell_type": "markdown",
   "metadata": {
    "collapsed": true
   },
   "source": [
    "<div class=\"alert alert-success\">\n",
    "<b><h4>assembler le code</h4></b></div>"
   ]
  },
  {
   "cell_type": "code",
   "execution_count": 19,
   "metadata": {},
   "outputs": [
    {
     "name": "stdout",
     "output_type": "stream",
     "text": [
      "colonne avec les valeurs pour l'âge: Age\n",
      "colonne avec les valeurs pour l'éducation: Education\n"
     ]
    }
   ],
   "source": [
    "fichier_src = getcwd()+'/npsy_data.csv'\n",
    "Age         = input('colonne avec les valeurs pour l\\'âge: ')\n",
    "Education   = input('colonne avec les valeurs pour l\\'éducation: ')\n",
    "fichier_dst = getcwd()+'/tmp/result.csv'"
   ]
  },
  {
   "cell_type": "code",
   "execution_count": 95,
   "metadata": {},
   "outputs": [],
   "source": [
    "import pandas\n",
    "tab = pandas.read_csv(fichier_src)\n",
    "\n",
    "def MEC(age, edu):\n",
    "    if age >= 30 and age <= 85:\n",
    "        if edu <= 25:\n",
    "            moyenne = 34.13\n",
    "            ecart_type = 4.25\n",
    "    return moyenne, ecart_type\n",
    "\n",
    "\n",
    "def chng_val_pour_zscore(np_test, np_Age, np_Edu):\n",
    "    ls_ztest = list()\n",
    "    for val, age, edu in zip(np_test, np_Age, np_Edu):\n",
    "        moyenne, ecart_type = MEC(int(age), int(edu))\n",
    "        z_score = (val - moyenne) / ecart_type\n",
    "        ls_ztest.append(z_score)\n",
    "    return ls_ztest\n",
    "\n",
    "\n",
    "for valeur in tab.columns:\n",
    "    if 'MecLibre' in valeur:\n",
    "        ls_ztest = chng_val_pour_zscore(tab[valeur], tab[Age], tab[Education])\n",
    "        tab[valeur+'_zscore'] = ls_ztest\n",
    "        \n",
    "tab.to_csv(fichier_dst)"
   ]
  },
  {
   "cell_type": "markdown",
   "metadata": {
    "collapsed": true
   },
   "source": [
    "<div class=\"alert alert-success\">\n",
    "<b><h4>travailler avec la base de données</h4></b></div>"
   ]
  },
  {
   "cell_type": "markdown",
   "metadata": {
    "slideshow": {
     "slide_type": "-"
    }
   },
   "source": [
    "# SQLITE3"
   ]
  },
  {
   "cell_type": "code",
   "execution_count": 1,
   "metadata": {},
   "outputs": [],
   "source": [
    "import os\n",
    "\n",
    "#os.getcwd()\n",
    "#os.listdir(getcwd())\n",
    "#os.makedirs('lib')"
   ]
  },
  {
   "cell_type": "code",
   "execution_count": 2,
   "metadata": {},
   "outputs": [],
   "source": [
    "from sqlite3 import connect\n",
    "\n",
    "def __connect_db():\n",
    "    conn = connect(os.getcwd()+'/tmp/base_données.db', check_same_thread = False)\n",
    "    return conn\n",
    "\n",
    "def __creer_tableau_(tableau):\n",
    "    conn = __connect_db()\n",
    "    conn.execute('''CREATE TABLE IF NOT EXISTS {0} (age_bas, age_haut, edu_seuil, edu_niveau, moyenne, ecart_type)'''\n",
    "                 .format(tableau,))\n",
    "    conn.commit()\n",
    "    conn.close()\n",
    "\n",
    "def __definir_les_donnees_(tableau, donnees):\n",
    "    conn = __connect_db()\n",
    "    conn.execute('''INSERT INTO {0} VALUES {1}'''.format(tableau, donnees))\n",
    "    conn.commit()\n",
    "    conn.close()"
   ]
  },
  {
   "cell_type": "code",
   "execution_count": 17,
   "metadata": {},
   "outputs": [
    {
     "data": {
      "text/plain": [
       "[(30, 49, 11, '<=', 34.13, 4.25)]"
      ]
     },
     "execution_count": 17,
     "metadata": {},
     "output_type": "execute_result"
    }
   ],
   "source": [
    "conn = __connect_db()\n",
    "#conn.execute('''SELECT * FROM sqlite_master WHERE type='table' ''').fetchall()\n",
    "#conn.execute('''PRAGMA table_info (MEC)''').fetchall()\n",
    "conn.execute('''SELECT * FROM MEC WHERE age_bas = 30 AND edu_niveau='<=' ''').fetchall()"
   ]
  },
  {
   "cell_type": "code",
   "execution_count": 15,
   "metadata": {},
   "outputs": [],
   "source": [
    "#conn = __connect_db()\n",
    "#conn.execute('''DROP TABLE MEC''')\n",
    "#conn.commit()\n",
    "#conn.close()"
   ]
  },
  {
   "cell_type": "code",
   "execution_count": 10,
   "metadata": {},
   "outputs": [
    {
     "name": "stdout",
     "output_type": "stream",
     "text": [
      "(30, 49, 11, '>', 32, 5)\n"
     ]
    }
   ],
   "source": [
    "__creer_tableau_('MEC')\n",
    "__definir_les_donnees_('MEC', (30, 49, 11, '>', 32, 5))"
   ]
  },
  {
   "cell_type": "code",
   "execution_count": 18,
   "metadata": {},
   "outputs": [
    {
     "data": {
      "text/plain": [
       "[(30, 49, 11, '<=', 34.13, 4.25)]"
      ]
     },
     "execution_count": 18,
     "metadata": {},
     "output_type": "execute_result"
    }
   ],
   "source": [
    "ls_donnees = conn.execute('''SELECT * FROM MEC WHERE age_bas = 30 AND edu_niveau='<=' ''').fetchall()\n",
    "ls_donnees"
   ]
  },
  {
   "cell_type": "code",
   "execution_count": 40,
   "metadata": {},
   "outputs": [
    {
     "data": {
      "text/plain": [
       "34.13"
      ]
     },
     "execution_count": 40,
     "metadata": {},
     "output_type": "execute_result"
    }
   ],
   "source": [
    "def tirer_donnees(age, edu_niveau):\n",
    "    ls_donnees = conn.execute('''SELECT * FROM MEC WHERE age_bas = {0} AND edu_niveau = '{1}' '''\n",
    "                              .format(age,edu_niveau)).fetchall()\n",
    "    moyenne, ecart_type =(ls_donnees[0][4], ls_donnees[0][5])\n",
    "    return moyenne, ecart_type\n",
    "moyenne, ecart_type = tirer_donnees(30, '<=')"
   ]
  },
  {
   "cell_type": "code",
   "execution_count": 43,
   "metadata": {},
   "outputs": [],
   "source": [
    "import pandas\n",
    "tab = pandas.read_csv(fichier_src)\n",
    "\n",
    "def tirer_donnees(age, edu_niveau):\n",
    "    ls_donnees = conn.execute('''SELECT * FROM MEC WHERE age_bas = {0} AND edu_niveau = '{1}' '''\n",
    "                              .format(age,edu_niveau)).fetchall()\n",
    "    moyenne, ecart_type =(ls_donnees[0][4], ls_donnees[0][5])\n",
    "    return moyenne, ecart_type\n",
    "\n",
    "\n",
    "def chng_val_pour_zscore(np_test, np_Age, np_Edu):\n",
    "    ls_ztest = list()\n",
    "    for val, age, edu in zip(np_test, np_Age, np_Edu):\n",
    "        moyenne, ecart_type = moyenne, ecart_type = tirer_donnees(30, '<=')\n",
    "        z_score = (val - moyenne) / ecart_type\n",
    "        ls_ztest.append(z_score)\n",
    "    return ls_ztest\n",
    "\n",
    "\n",
    "for valeur in tab.columns:\n",
    "    if 'MecLibre' in valeur:\n",
    "        ls_ztest = chng_val_pour_zscore(tab[valeur], tab[Age], tab[Education])\n",
    "        tab[valeur+'_zscore'] = ls_ztest\n",
    "        \n",
    "#tab.to_csv(fichier_dst)"
   ]
  },
  {
   "cell_type": "markdown",
   "metadata": {
    "collapsed": true
   },
   "source": [
    "<div class=\"alert alert-success\">\n",
    "<b><h4>créer les modules</h4></b></div>"
   ]
  },
  {
   "cell_type": "code",
   "execution_count": 2,
   "metadata": {},
   "outputs": [],
   "source": [
    "#listdir(getcwd())"
   ]
  },
  {
   "cell_type": "code",
   "execution_count": null,
   "metadata": {
    "collapsed": true
   },
   "outputs": [],
   "source": [
    "with open('bin/database.py', 'w') as f:\n",
    "    f.write('#!/bin/python')\n",
    "    \n",
    "with open('bin/__init__.py', 'w') as f:\n",
    "    f.write('__all__ =[] ')\n",
    "    \n",
    "with open('execute_moi.py', 'w') as f:\n",
    "    f.write('#!/bin/python')\n",
    "\n",
    "with open('__init__.py', 'w') as f:\n",
    "    f.write('__all__ =[] ')"
   ]
  }
 ],
 "metadata": {
  "anaconda-cloud": {},
  "celltoolbar": "Slideshow",
  "kernelspec": {
   "display_name": "Python 3 (ipykernel)",
   "language": "python",
   "name": "python3"
  },
  "language_info": {
   "codemirror_mode": {
    "name": "ipython",
    "version": 3
   },
   "file_extension": ".py",
   "mimetype": "text/x-python",
   "name": "python",
   "nbconvert_exporter": "python",
   "pygments_lexer": "ipython3",
   "version": "3.11.8"
  }
 },
 "nbformat": 4,
 "nbformat_minor": 2
}
