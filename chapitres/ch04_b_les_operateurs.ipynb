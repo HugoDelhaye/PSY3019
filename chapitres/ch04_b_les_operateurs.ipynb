{
 "cells": [
  {
   "cell_type": "markdown",
   "metadata": {},
   "source": [
    "<div class=\"alert alert-info\">\n",
    "\n",
    "# PSY 3019/6973-G-H24\n",
    "# Cueillette et traitement des données en neurosciences cognitives\n",
    "## Chapitre 3: Les opérateurs\n",
    "<p>\n",
    "<li>opérateurs de comparaison\n",
    "    <li>opérateurs d'aggregation\n",
    "    <li>opérateurs arithmétiques (incluses dans NumPy)\n",
    "    <li>opérateurs trigonométrique; exponents, logarithms\n",
    "    <li>opérateurs sur les valuers manquantes"
   ]
  },
  {
   "cell_type": "raw",
   "metadata": {},
   "source": [
    "# types de data\n",
    "\n",
    "bool_\t\t\t\t\tTrue/False\n",
    "int_\t\t\t\t\tentier par défaut\n",
    "int8\t\t\t\t\tOctet\n",
    "int16/int32/int64\t\tentier\n",
    "float_\t\t\t\t\tflotte64/ flotte32/ flotte16\n",
    "complex64/complex128\tnombres complexes de deux flottants 32/64 octet"
   ]
  },
  {
   "cell_type": "markdown",
   "metadata": {},
   "source": [
    "<div class=\"alert alert-info\">\n",
    "<h3>opérateurs de comparaison</h3></div>"
   ]
  },
  {
   "cell_type": "raw",
   "metadata": {},
   "source": [
    "==  Égal à\n",
    "!=  Inégal\n",
    "<   Moins que\n",
    ">   Plus grand que\n",
    "<=  Inférieur ou égal à\n",
    ">=  Égal ou supérieur à\n",
    "\n",
    "Opérateurs logiques\n",
    "\n",
    "and \n",
    "or \n",
    "not \n",
    "\n",
    "Opérateurs d'identité\n",
    "is\n",
    "is not\n",
    "\n",
    "Opérateurs d'adhésion\n",
    "in\n",
    "not in\n",
    "\n",
    "Opérateurs au niveau du bit\n",
    "& AND\n",
    "|  OR"
   ]
  },
  {
   "cell_type": "code",
   "execution_count": 7,
   "metadata": {},
   "outputs": [],
   "source": [
    "fichier = 'data/projinfrarechrapprou20200527.csv'\n",
    "df_qc = pandas.read_csv(fichier)\n",
    "\n",
    "df_qc = pandas.read_csv(fichier,\n",
    "                        usecols = ['REGION_ADMINISTRATIVE', 'ETABLISSEMENT', \"COUT_TOTAL\"])"
   ]
  },
  {
   "cell_type": "code",
   "execution_count": 8,
   "metadata": {},
   "outputs": [
    {
     "data": {
      "text/plain": [
       "Index(['REGION_ADMINISTRATIVE', 'ETABLISSEMENT', 'COUT_TOTAL'], dtype='object')"
      ]
     },
     "execution_count": 8,
     "metadata": {},
     "output_type": "execute_result"
    }
   ],
   "source": [
    "df_qc.columns"
   ]
  },
  {
   "cell_type": "code",
   "execution_count": 4,
   "metadata": {},
   "outputs": [
    {
     "data": {
      "text/plain": [
       "True"
      ]
     },
     "execution_count": 4,
     "metadata": {},
     "output_type": "execute_result"
    }
   ],
   "source": [
    "# utiliser les méthodes de Bool pour examiner les \n",
    "# clés / indices et les valeurs - pour vérifier si la valeur est présente\n",
    "\n",
    "'ETABLISSEMENT' in df_qc"
   ]
  },
  {
   "cell_type": "code",
   "execution_count": 5,
   "metadata": {},
   "outputs": [
    {
     "data": {
      "text/plain": [
       "False"
      ]
     },
     "execution_count": 5,
     "metadata": {},
     "output_type": "execute_result"
    }
   ],
   "source": [
    "'etab' in df_qc"
   ]
  },
  {
   "cell_type": "code",
   "execution_count": 9,
   "metadata": {},
   "outputs": [
    {
     "data": {
      "text/html": [
       "<div>\n",
       "<style scoped>\n",
       "    .dataframe tbody tr th:only-of-type {\n",
       "        vertical-align: middle;\n",
       "    }\n",
       "\n",
       "    .dataframe tbody tr th {\n",
       "        vertical-align: top;\n",
       "    }\n",
       "\n",
       "    .dataframe thead th {\n",
       "        text-align: right;\n",
       "    }\n",
       "</style>\n",
       "<table border=\"1\" class=\"dataframe\">\n",
       "  <thead>\n",
       "    <tr style=\"text-align: right;\">\n",
       "      <th></th>\n",
       "      <th>REGION_ADMINISTRATIVE</th>\n",
       "      <th>ETABLISSEMENT</th>\n",
       "      <th>COUT_TOTAL</th>\n",
       "    </tr>\n",
       "  </thead>\n",
       "  <tbody>\n",
       "    <tr>\n",
       "      <th>0</th>\n",
       "      <td>Saguenay-Lac-Saint-Jean</td>\n",
       "      <td>Université du Québec à Chicoutimi (UQAC)</td>\n",
       "      <td>1457930</td>\n",
       "    </tr>\n",
       "    <tr>\n",
       "      <th>1</th>\n",
       "      <td>Montréal</td>\n",
       "      <td>École Polytechnique de Montréal</td>\n",
       "      <td>2725474</td>\n",
       "    </tr>\n",
       "    <tr>\n",
       "      <th>3</th>\n",
       "      <td>Estrie</td>\n",
       "      <td>Université de Sherbrooke</td>\n",
       "      <td>4248206</td>\n",
       "    </tr>\n",
       "    <tr>\n",
       "      <th>6</th>\n",
       "      <td>Montréal</td>\n",
       "      <td>École Polytechnique de Montréal</td>\n",
       "      <td>2733818</td>\n",
       "    </tr>\n",
       "    <tr>\n",
       "      <th>7</th>\n",
       "      <td>Montréal</td>\n",
       "      <td>École Polytechnique de Montréal</td>\n",
       "      <td>3950656</td>\n",
       "    </tr>\n",
       "    <tr>\n",
       "      <th>...</th>\n",
       "      <td>...</td>\n",
       "      <td>...</td>\n",
       "      <td>...</td>\n",
       "    </tr>\n",
       "    <tr>\n",
       "      <th>1216</th>\n",
       "      <td>Côte-Nord</td>\n",
       "      <td>Cégep de Sept-Iles</td>\n",
       "      <td>2471713</td>\n",
       "    </tr>\n",
       "    <tr>\n",
       "      <th>1217</th>\n",
       "      <td>Saguenay-Lac-Saint-Jean</td>\n",
       "      <td>Université du Québec à Chicoutimi (UQAC)</td>\n",
       "      <td>2990981</td>\n",
       "    </tr>\n",
       "    <tr>\n",
       "      <th>1218</th>\n",
       "      <td>Montérégie</td>\n",
       "      <td>Collège Édouard Montpetit</td>\n",
       "      <td>1585562</td>\n",
       "    </tr>\n",
       "    <tr>\n",
       "      <th>1220</th>\n",
       "      <td>Capitale-Nationale</td>\n",
       "      <td>Université Laval</td>\n",
       "      <td>1984920</td>\n",
       "    </tr>\n",
       "    <tr>\n",
       "      <th>1250</th>\n",
       "      <td>Estrie</td>\n",
       "      <td>Université de Sherbrooke</td>\n",
       "      <td>1583499</td>\n",
       "    </tr>\n",
       "  </tbody>\n",
       "</table>\n",
       "<p>104 rows × 3 columns</p>\n",
       "</div>"
      ],
      "text/plain": [
       "        REGION_ADMINISTRATIVE                             ETABLISSEMENT  \\\n",
       "0     Saguenay-Lac-Saint-Jean  Université du Québec à Chicoutimi (UQAC)   \n",
       "1                    Montréal           École Polytechnique de Montréal   \n",
       "3                      Estrie                  Université de Sherbrooke   \n",
       "6                    Montréal           École Polytechnique de Montréal   \n",
       "7                    Montréal           École Polytechnique de Montréal   \n",
       "...                       ...                                       ...   \n",
       "1216                Côte-Nord                        Cégep de Sept-Iles   \n",
       "1217  Saguenay-Lac-Saint-Jean  Université du Québec à Chicoutimi (UQAC)   \n",
       "1218               Montérégie                 Collège Édouard Montpetit   \n",
       "1220       Capitale-Nationale                          Université Laval   \n",
       "1250                   Estrie                  Université de Sherbrooke   \n",
       "\n",
       "      COUT_TOTAL  \n",
       "0        1457930  \n",
       "1        2725474  \n",
       "3        4248206  \n",
       "6        2733818  \n",
       "7        3950656  \n",
       "...          ...  \n",
       "1216     2471713  \n",
       "1217     2990981  \n",
       "1218     1585562  \n",
       "1220     1984920  \n",
       "1250     1583499  \n",
       "\n",
       "[104 rows x 3 columns]"
      ]
     },
     "execution_count": 9,
     "metadata": {},
     "output_type": "execute_result"
    }
   ],
   "source": [
    "df_qc[(df_qc[\"COUT_TOTAL\"] > 1400000) & (df_qc[\"COUT_TOTAL\"] < 5500000)]"
   ]
  },
  {
   "cell_type": "code",
   "execution_count": 10,
   "metadata": {},
   "outputs": [
    {
     "data": {
      "text/html": [
       "<div>\n",
       "<style scoped>\n",
       "    .dataframe tbody tr th:only-of-type {\n",
       "        vertical-align: middle;\n",
       "    }\n",
       "\n",
       "    .dataframe tbody tr th {\n",
       "        vertical-align: top;\n",
       "    }\n",
       "\n",
       "    .dataframe thead th {\n",
       "        text-align: right;\n",
       "    }\n",
       "</style>\n",
       "<table border=\"1\" class=\"dataframe\">\n",
       "  <thead>\n",
       "    <tr style=\"text-align: right;\">\n",
       "      <th></th>\n",
       "      <th>REGION_ADMINISTRATIVE</th>\n",
       "      <th>ETABLISSEMENT</th>\n",
       "      <th>COUT_TOTAL</th>\n",
       "    </tr>\n",
       "  </thead>\n",
       "  <tbody>\n",
       "    <tr>\n",
       "      <th>9</th>\n",
       "      <td>Montréal</td>\n",
       "      <td>Université de Montréal</td>\n",
       "      <td>22912123</td>\n",
       "    </tr>\n",
       "    <tr>\n",
       "      <th>10</th>\n",
       "      <td>Montréal</td>\n",
       "      <td>Université de Montréal</td>\n",
       "      <td>4596464</td>\n",
       "    </tr>\n",
       "    <tr>\n",
       "      <th>13</th>\n",
       "      <td>Montréal</td>\n",
       "      <td>Université de Montréal</td>\n",
       "      <td>9998513</td>\n",
       "    </tr>\n",
       "    <tr>\n",
       "      <th>17</th>\n",
       "      <td>Montréal</td>\n",
       "      <td>Université de Montréal</td>\n",
       "      <td>8576653</td>\n",
       "    </tr>\n",
       "    <tr>\n",
       "      <th>25</th>\n",
       "      <td>Montréal</td>\n",
       "      <td>Université de Montréal</td>\n",
       "      <td>11700123</td>\n",
       "    </tr>\n",
       "    <tr>\n",
       "      <th>...</th>\n",
       "      <td>...</td>\n",
       "      <td>...</td>\n",
       "      <td>...</td>\n",
       "    </tr>\n",
       "    <tr>\n",
       "      <th>1294</th>\n",
       "      <td>Montréal</td>\n",
       "      <td>Université de Montréal</td>\n",
       "      <td>698421</td>\n",
       "    </tr>\n",
       "    <tr>\n",
       "      <th>1298</th>\n",
       "      <td>Montréal</td>\n",
       "      <td>Université de Montréal</td>\n",
       "      <td>127125</td>\n",
       "    </tr>\n",
       "    <tr>\n",
       "      <th>1310</th>\n",
       "      <td>Montréal</td>\n",
       "      <td>Université de Montréal</td>\n",
       "      <td>287517</td>\n",
       "    </tr>\n",
       "    <tr>\n",
       "      <th>1311</th>\n",
       "      <td>Montréal</td>\n",
       "      <td>Université de Montréal</td>\n",
       "      <td>583965</td>\n",
       "    </tr>\n",
       "    <tr>\n",
       "      <th>1313</th>\n",
       "      <td>Montréal</td>\n",
       "      <td>Université de Montréal</td>\n",
       "      <td>382425</td>\n",
       "    </tr>\n",
       "  </tbody>\n",
       "</table>\n",
       "<p>268 rows × 3 columns</p>\n",
       "</div>"
      ],
      "text/plain": [
       "     REGION_ADMINISTRATIVE           ETABLISSEMENT  COUT_TOTAL\n",
       "9                 Montréal  Université de Montréal    22912123\n",
       "10                Montréal  Université de Montréal     4596464\n",
       "13                Montréal  Université de Montréal     9998513\n",
       "17                Montréal  Université de Montréal     8576653\n",
       "25                Montréal  Université de Montréal    11700123\n",
       "...                    ...                     ...         ...\n",
       "1294              Montréal  Université de Montréal      698421\n",
       "1298              Montréal  Université de Montréal      127125\n",
       "1310              Montréal  Université de Montréal      287517\n",
       "1311              Montréal  Université de Montréal      583965\n",
       "1313              Montréal  Université de Montréal      382425\n",
       "\n",
       "[268 rows x 3 columns]"
      ]
     },
     "execution_count": 10,
     "metadata": {},
     "output_type": "execute_result"
    }
   ],
   "source": [
    "df_qc[df_qc.ETABLISSEMENT == 'Université de Montréal']"
   ]
  },
  {
   "cell_type": "code",
   "execution_count": null,
   "metadata": {},
   "outputs": [],
   "source": [
    "df_qc[\n",
    "    (df_qc.ETABLISSEMENT == 'Université de Montréal') &\n",
    "    (df_qc.COUT_TOTAL < 100000)]"
   ]
  },
  {
   "cell_type": "code",
   "execution_count": 13,
   "metadata": {},
   "outputs": [],
   "source": [
    "a = np.random.randint(10, size=8)"
   ]
  },
  {
   "cell_type": "code",
   "execution_count": 14,
   "metadata": {},
   "outputs": [
    {
     "data": {
      "text/plain": [
       "array([4, 5, 7, 5, 6, 6, 9, 3])"
      ]
     },
     "execution_count": 14,
     "metadata": {},
     "output_type": "execute_result"
    }
   ],
   "source": [
    "a"
   ]
  },
  {
   "cell_type": "code",
   "execution_count": 15,
   "metadata": {},
   "outputs": [
    {
     "data": {
      "text/plain": [
       "array([False, False, False, False, False, False, False,  True])"
      ]
     },
     "execution_count": 15,
     "metadata": {},
     "output_type": "execute_result"
    }
   ],
   "source": [
    "a < 4"
   ]
  },
  {
   "cell_type": "code",
   "execution_count": 89,
   "metadata": {},
   "outputs": [
    {
     "data": {
      "text/plain": [
       "array([ True,  True,  True, False,  True,  True,  True,  True])"
      ]
     },
     "execution_count": 89,
     "metadata": {},
     "output_type": "execute_result"
    }
   ],
   "source": [
    "a != 3"
   ]
  },
  {
   "cell_type": "markdown",
   "metadata": {},
   "source": [
    "<div class=\"alert alert-info\">\n",
    "<h3>opérateurs d'aggregation</h3></div>"
   ]
  },
  {
   "cell_type": "raw",
   "metadata": {},
   "source": [
    "python:\n",
    "\n",
    "min(a) = minimum\n",
    "max(a) = maximum\n",
    "\n",
    "pandas:\n",
    "min()    = minimum\n",
    "max()    = maximum\n",
    "std()    = écart type\n",
    "var()    = variance\n",
    "count()  = Nombre total d'éléments\n",
    "first()  = premier élément\n",
    "last()   = dernier élément\n",
    "mean()   = moyenne\n",
    "median() = médiane\n",
    "mad()    = écart absolu moyen\n",
    "prod()   = produit de tous les articles\n",
    "sum()    = somme de tous les éléments\n",
    "\n",
    "\n",
    "numpy: (operate more quickly)\n",
    "np.min\n",
    "np.max\n",
    "np.sum\n",
    "np.prod\n",
    "np.mean\n",
    "np.std\n",
    "\n",
    "np.var\t\t  = variance\n",
    "np.argmin\t  = index of min value\n",
    "np.argmax\t  = index of max value\n",
    "np.median\t  = compute median\n",
    "np.percentile = compute rank\n",
    "np.any\t\t  = if any True\n",
    "np.all\t\t  = if all True"
   ]
  },
  {
   "cell_type": "code",
   "execution_count": 1,
   "metadata": {},
   "outputs": [],
   "source": [
    "import seaborn as sns\n",
    "\n",
    "# pip3 install seaborn"
   ]
  },
  {
   "cell_type": "code",
   "execution_count": 2,
   "metadata": {},
   "outputs": [
    {
     "data": {
      "text/html": [
       "<div>\n",
       "<style scoped>\n",
       "    .dataframe tbody tr th:only-of-type {\n",
       "        vertical-align: middle;\n",
       "    }\n",
       "\n",
       "    .dataframe tbody tr th {\n",
       "        vertical-align: top;\n",
       "    }\n",
       "\n",
       "    .dataframe thead th {\n",
       "        text-align: right;\n",
       "    }\n",
       "</style>\n",
       "<table border=\"1\" class=\"dataframe\">\n",
       "  <thead>\n",
       "    <tr style=\"text-align: right;\">\n",
       "      <th></th>\n",
       "      <th>method</th>\n",
       "      <th>number</th>\n",
       "      <th>orbital_period</th>\n",
       "      <th>mass</th>\n",
       "      <th>distance</th>\n",
       "      <th>year</th>\n",
       "    </tr>\n",
       "  </thead>\n",
       "  <tbody>\n",
       "    <tr>\n",
       "      <th>0</th>\n",
       "      <td>Radial Velocity</td>\n",
       "      <td>1</td>\n",
       "      <td>269.300</td>\n",
       "      <td>7.10</td>\n",
       "      <td>77.40</td>\n",
       "      <td>2006</td>\n",
       "    </tr>\n",
       "    <tr>\n",
       "      <th>1</th>\n",
       "      <td>Radial Velocity</td>\n",
       "      <td>1</td>\n",
       "      <td>874.774</td>\n",
       "      <td>2.21</td>\n",
       "      <td>56.95</td>\n",
       "      <td>2008</td>\n",
       "    </tr>\n",
       "    <tr>\n",
       "      <th>2</th>\n",
       "      <td>Radial Velocity</td>\n",
       "      <td>1</td>\n",
       "      <td>763.000</td>\n",
       "      <td>2.60</td>\n",
       "      <td>19.84</td>\n",
       "      <td>2011</td>\n",
       "    </tr>\n",
       "    <tr>\n",
       "      <th>3</th>\n",
       "      <td>Radial Velocity</td>\n",
       "      <td>1</td>\n",
       "      <td>326.030</td>\n",
       "      <td>19.40</td>\n",
       "      <td>110.62</td>\n",
       "      <td>2007</td>\n",
       "    </tr>\n",
       "    <tr>\n",
       "      <th>4</th>\n",
       "      <td>Radial Velocity</td>\n",
       "      <td>1</td>\n",
       "      <td>516.220</td>\n",
       "      <td>10.50</td>\n",
       "      <td>119.47</td>\n",
       "      <td>2009</td>\n",
       "    </tr>\n",
       "  </tbody>\n",
       "</table>\n",
       "</div>"
      ],
      "text/plain": [
       "            method  number  orbital_period   mass  distance  year\n",
       "0  Radial Velocity       1         269.300   7.10     77.40  2006\n",
       "1  Radial Velocity       1         874.774   2.21     56.95  2008\n",
       "2  Radial Velocity       1         763.000   2.60     19.84  2011\n",
       "3  Radial Velocity       1         326.030  19.40    110.62  2007\n",
       "4  Radial Velocity       1         516.220  10.50    119.47  2009"
      ]
     },
     "execution_count": 2,
     "metadata": {},
     "output_type": "execute_result"
    }
   ],
   "source": [
    "# lecture à partir de jeux de données de modules:\n",
    "\n",
    "planets = sns.load_dataset('planets')\n",
    "\n",
    "# # Alternative:\n",
    "# planets = pandas.read_excel('/data/planets.xlsx')\n",
    "# planets.set_index(\"Unnamed: 0\", inplace = True)\n",
    "\n",
    "planets.head()"
   ]
  },
  {
   "cell_type": "code",
   "execution_count": 3,
   "metadata": {},
   "outputs": [],
   "source": [
    "planets.to_excel(\"/home/ssp/Desktop/planets.xlsx\", engine = \"openpyxl\")"
   ]
  },
  {
   "cell_type": "code",
   "execution_count": 6,
   "metadata": {},
   "outputs": [],
   "source": [
    "import pandas"
   ]
  },
  {
   "cell_type": "code",
   "execution_count": 10,
   "metadata": {},
   "outputs": [
    {
     "data": {
      "text/html": [
       "<div>\n",
       "<style scoped>\n",
       "    .dataframe tbody tr th:only-of-type {\n",
       "        vertical-align: middle;\n",
       "    }\n",
       "\n",
       "    .dataframe tbody tr th {\n",
       "        vertical-align: top;\n",
       "    }\n",
       "\n",
       "    .dataframe thead th {\n",
       "        text-align: right;\n",
       "    }\n",
       "</style>\n",
       "<table border=\"1\" class=\"dataframe\">\n",
       "  <thead>\n",
       "    <tr style=\"text-align: right;\">\n",
       "      <th></th>\n",
       "      <th>method</th>\n",
       "      <th>number</th>\n",
       "      <th>orbital_period</th>\n",
       "      <th>mass</th>\n",
       "      <th>distance</th>\n",
       "      <th>year</th>\n",
       "    </tr>\n",
       "    <tr>\n",
       "      <th>Unnamed: 0</th>\n",
       "      <th></th>\n",
       "      <th></th>\n",
       "      <th></th>\n",
       "      <th></th>\n",
       "      <th></th>\n",
       "      <th></th>\n",
       "    </tr>\n",
       "  </thead>\n",
       "  <tbody>\n",
       "    <tr>\n",
       "      <th>0</th>\n",
       "      <td>Radial Velocity</td>\n",
       "      <td>1</td>\n",
       "      <td>269.300000</td>\n",
       "      <td>7.10</td>\n",
       "      <td>77.40</td>\n",
       "      <td>2006</td>\n",
       "    </tr>\n",
       "    <tr>\n",
       "      <th>1</th>\n",
       "      <td>Radial Velocity</td>\n",
       "      <td>1</td>\n",
       "      <td>874.774000</td>\n",
       "      <td>2.21</td>\n",
       "      <td>56.95</td>\n",
       "      <td>2008</td>\n",
       "    </tr>\n",
       "    <tr>\n",
       "      <th>2</th>\n",
       "      <td>Radial Velocity</td>\n",
       "      <td>1</td>\n",
       "      <td>763.000000</td>\n",
       "      <td>2.60</td>\n",
       "      <td>19.84</td>\n",
       "      <td>2011</td>\n",
       "    </tr>\n",
       "    <tr>\n",
       "      <th>3</th>\n",
       "      <td>Radial Velocity</td>\n",
       "      <td>1</td>\n",
       "      <td>326.030000</td>\n",
       "      <td>19.40</td>\n",
       "      <td>110.62</td>\n",
       "      <td>2007</td>\n",
       "    </tr>\n",
       "    <tr>\n",
       "      <th>4</th>\n",
       "      <td>Radial Velocity</td>\n",
       "      <td>1</td>\n",
       "      <td>516.220000</td>\n",
       "      <td>10.50</td>\n",
       "      <td>119.47</td>\n",
       "      <td>2009</td>\n",
       "    </tr>\n",
       "    <tr>\n",
       "      <th>...</th>\n",
       "      <td>...</td>\n",
       "      <td>...</td>\n",
       "      <td>...</td>\n",
       "      <td>...</td>\n",
       "      <td>...</td>\n",
       "      <td>...</td>\n",
       "    </tr>\n",
       "    <tr>\n",
       "      <th>1030</th>\n",
       "      <td>Transit</td>\n",
       "      <td>1</td>\n",
       "      <td>3.941507</td>\n",
       "      <td>NaN</td>\n",
       "      <td>172.00</td>\n",
       "      <td>2006</td>\n",
       "    </tr>\n",
       "    <tr>\n",
       "      <th>1031</th>\n",
       "      <td>Transit</td>\n",
       "      <td>1</td>\n",
       "      <td>2.615864</td>\n",
       "      <td>NaN</td>\n",
       "      <td>148.00</td>\n",
       "      <td>2007</td>\n",
       "    </tr>\n",
       "    <tr>\n",
       "      <th>1032</th>\n",
       "      <td>Transit</td>\n",
       "      <td>1</td>\n",
       "      <td>3.191524</td>\n",
       "      <td>NaN</td>\n",
       "      <td>174.00</td>\n",
       "      <td>2007</td>\n",
       "    </tr>\n",
       "    <tr>\n",
       "      <th>1033</th>\n",
       "      <td>Transit</td>\n",
       "      <td>1</td>\n",
       "      <td>4.125083</td>\n",
       "      <td>NaN</td>\n",
       "      <td>293.00</td>\n",
       "      <td>2008</td>\n",
       "    </tr>\n",
       "    <tr>\n",
       "      <th>1034</th>\n",
       "      <td>Transit</td>\n",
       "      <td>1</td>\n",
       "      <td>4.187757</td>\n",
       "      <td>NaN</td>\n",
       "      <td>260.00</td>\n",
       "      <td>2008</td>\n",
       "    </tr>\n",
       "  </tbody>\n",
       "</table>\n",
       "<p>1035 rows × 6 columns</p>\n",
       "</div>"
      ],
      "text/plain": [
       "                     method  number  orbital_period   mass  distance  year\n",
       "Unnamed: 0                                                                \n",
       "0           Radial Velocity       1      269.300000   7.10     77.40  2006\n",
       "1           Radial Velocity       1      874.774000   2.21     56.95  2008\n",
       "2           Radial Velocity       1      763.000000   2.60     19.84  2011\n",
       "3           Radial Velocity       1      326.030000  19.40    110.62  2007\n",
       "4           Radial Velocity       1      516.220000  10.50    119.47  2009\n",
       "...                     ...     ...             ...    ...       ...   ...\n",
       "1030                Transit       1        3.941507    NaN    172.00  2006\n",
       "1031                Transit       1        2.615864    NaN    148.00  2007\n",
       "1032                Transit       1        3.191524    NaN    174.00  2007\n",
       "1033                Transit       1        4.125083    NaN    293.00  2008\n",
       "1034                Transit       1        4.187757    NaN    260.00  2008\n",
       "\n",
       "[1035 rows x 6 columns]"
      ]
     },
     "execution_count": 10,
     "metadata": {},
     "output_type": "execute_result"
    }
   ],
   "source": [
    "\n"
   ]
  },
  {
   "cell_type": "code",
   "execution_count": 19,
   "metadata": {},
   "outputs": [],
   "source": [
    "#titanic = sns.load_dataset('titanic')\n",
    "#iris = sns.load_dataset('iris')"
   ]
  },
  {
   "cell_type": "code",
   "execution_count": 20,
   "metadata": {},
   "outputs": [
    {
     "data": {
      "text/plain": [
       "Index(['method', 'number', 'orbital_period', 'mass', 'distance', 'year'], dtype='object')"
      ]
     },
     "execution_count": 20,
     "metadata": {},
     "output_type": "execute_result"
    }
   ],
   "source": [
    "planets.columns"
   ]
  },
  {
   "cell_type": "code",
   "execution_count": 21,
   "metadata": {},
   "outputs": [
    {
     "data": {
      "text/plain": [
       "method            1035\n",
       "number            1035\n",
       "orbital_period     992\n",
       "mass               513\n",
       "distance           808\n",
       "year              1035\n",
       "dtype: int64"
      ]
     },
     "execution_count": 21,
     "metadata": {},
     "output_type": "execute_result"
    }
   ],
   "source": [
    "planets.count()"
   ]
  },
  {
   "cell_type": "code",
   "execution_count": 200,
   "metadata": {},
   "outputs": [
    {
     "data": {
      "text/plain": [
       "method            Transit Timing Variations\n",
       "number                                    7\n",
       "orbital_period                       730000\n",
       "mass                                     25\n",
       "distance                               8500\n",
       "year                                   2014\n",
       "dtype: object"
      ]
     },
     "execution_count": 200,
     "metadata": {},
     "output_type": "execute_result"
    }
   ],
   "source": [
    "planets.max()"
   ]
  },
  {
   "cell_type": "code",
   "execution_count": 22,
   "metadata": {},
   "outputs": [
    {
     "data": {
      "text/plain": [
       "(1035, 1035)"
      ]
     },
     "execution_count": 22,
     "metadata": {},
     "output_type": "execute_result"
    }
   ],
   "source": [
    "planets.method.count(), len(planets.method)"
   ]
  },
  {
   "cell_type": "code",
   "execution_count": 23,
   "metadata": {},
   "outputs": [
    {
     "data": {
      "text/plain": [
       "25.0"
      ]
     },
     "execution_count": 23,
     "metadata": {},
     "output_type": "execute_result"
    }
   ],
   "source": [
    "planets.mass.max()"
   ]
  },
  {
   "cell_type": "code",
   "execution_count": 24,
   "metadata": {},
   "outputs": [
    {
     "data": {
      "text/plain": [
       "Radial Velocity                  553\n",
       "Transit                          397\n",
       "Imaging                           38\n",
       "Microlensing                      23\n",
       "Eclipse Timing Variations          9\n",
       "Pulsar Timing                      5\n",
       "Transit Timing Variations          4\n",
       "Orbital Brightness Modulation      3\n",
       "Astrometry                         2\n",
       "Pulsation Timing Variations        1\n",
       "Name: method, dtype: int64"
      ]
     },
     "execution_count": 24,
     "metadata": {},
     "output_type": "execute_result"
    }
   ],
   "source": [
    "planets.method.value_counts()"
   ]
  },
  {
   "cell_type": "code",
   "execution_count": 26,
   "metadata": {},
   "outputs": [
    {
     "data": {
      "text/plain": [
       "['Radial Velocity',\n",
       " 'Radial Velocity',\n",
       " 'Radial Velocity',\n",
       " 'Radial Velocity',\n",
       " 'Radial Velocity',\n",
       " 'Radial Velocity',\n",
       " 'Radial Velocity',\n",
       " 'Radial Velocity',\n",
       " 'Radial Velocity',\n",
       " 'Radial Velocity',\n",
       " 'Radial Velocity',\n",
       " 'Radial Velocity',\n",
       " 'Radial Velocity',\n",
       " 'Radial Velocity',\n",
       " 'Radial Velocity',\n",
       " 'Radial Velocity',\n",
       " 'Radial Velocity',\n",
       " 'Radial Velocity',\n",
       " 'Radial Velocity',\n",
       " 'Radial Velocity',\n",
       " 'Radial Velocity',\n",
       " 'Radial Velocity',\n",
       " 'Radial Velocity',\n",
       " 'Radial Velocity',\n",
       " 'Radial Velocity',\n",
       " 'Radial Velocity',\n",
       " 'Radial Velocity',\n",
       " 'Radial Velocity',\n",
       " 'Radial Velocity',\n",
       " 'Imaging',\n",
       " 'Imaging',\n",
       " 'Imaging',\n",
       " 'Eclipse Timing Variations',\n",
       " 'Imaging',\n",
       " 'Imaging',\n",
       " 'Imaging',\n",
       " 'Imaging',\n",
       " 'Eclipse Timing Variations',\n",
       " 'Eclipse Timing Variations',\n",
       " 'Eclipse Timing Variations',\n",
       " 'Eclipse Timing Variations',\n",
       " 'Eclipse Timing Variations',\n",
       " 'Eclipse Timing Variations',\n",
       " 'Eclipse Timing Variations',\n",
       " 'Eclipse Timing Variations',\n",
       " 'Radial Velocity',\n",
       " 'Radial Velocity',\n",
       " 'Imaging',\n",
       " 'Radial Velocity',\n",
       " 'Radial Velocity',\n",
       " 'Radial Velocity',\n",
       " 'Radial Velocity',\n",
       " 'Radial Velocity',\n",
       " 'Radial Velocity',\n",
       " 'Imaging',\n",
       " 'Radial Velocity',\n",
       " 'Radial Velocity',\n",
       " 'Radial Velocity',\n",
       " 'Radial Velocity',\n",
       " 'Radial Velocity',\n",
       " 'Radial Velocity',\n",
       " 'Radial Velocity',\n",
       " 'Radial Velocity',\n",
       " 'Radial Velocity',\n",
       " 'Radial Velocity',\n",
       " 'Radial Velocity',\n",
       " 'Radial Velocity',\n",
       " 'Radial Velocity',\n",
       " 'Imaging',\n",
       " 'Imaging',\n",
       " 'Imaging',\n",
       " 'Imaging',\n",
       " 'Imaging',\n",
       " 'Imaging',\n",
       " 'Imaging',\n",
       " 'Imaging',\n",
       " 'Radial Velocity',\n",
       " 'Radial Velocity',\n",
       " 'Radial Velocity',\n",
       " 'Radial Velocity',\n",
       " 'Radial Velocity',\n",
       " 'Radial Velocity',\n",
       " 'Radial Velocity',\n",
       " 'Radial Velocity',\n",
       " 'Radial Velocity',\n",
       " 'Radial Velocity',\n",
       " 'Radial Velocity',\n",
       " 'Radial Velocity',\n",
       " 'Radial Velocity',\n",
       " 'Imaging',\n",
       " 'Imaging',\n",
       " 'Transit',\n",
       " 'Transit',\n",
       " 'Transit',\n",
       " 'Transit',\n",
       " 'Transit',\n",
       " 'Transit',\n",
       " 'Transit',\n",
       " 'Radial Velocity',\n",
       " 'Transit',\n",
       " 'Transit',\n",
       " 'Transit',\n",
       " 'Transit',\n",
       " 'Transit',\n",
       " 'Transit',\n",
       " 'Transit',\n",
       " 'Transit',\n",
       " 'Transit',\n",
       " 'Transit',\n",
       " 'Transit',\n",
       " 'Transit',\n",
       " 'Transit',\n",
       " 'Transit',\n",
       " 'Astrometry',\n",
       " 'Radial Velocity',\n",
       " 'Radial Velocity',\n",
       " 'Radial Velocity',\n",
       " 'Radial Velocity',\n",
       " 'Radial Velocity',\n",
       " 'Radial Velocity',\n",
       " 'Radial Velocity',\n",
       " 'Radial Velocity',\n",
       " 'Radial Velocity',\n",
       " 'Radial Velocity',\n",
       " 'Imaging',\n",
       " 'Radial Velocity',\n",
       " 'Radial Velocity',\n",
       " 'Radial Velocity',\n",
       " 'Radial Velocity',\n",
       " 'Radial Velocity',\n",
       " 'Radial Velocity',\n",
       " 'Radial Velocity',\n",
       " 'Radial Velocity',\n",
       " 'Radial Velocity',\n",
       " 'Radial Velocity',\n",
       " 'Radial Velocity',\n",
       " 'Radial Velocity',\n",
       " 'Radial Velocity',\n",
       " 'Radial Velocity',\n",
       " 'Radial Velocity',\n",
       " 'Radial Velocity',\n",
       " 'Radial Velocity',\n",
       " 'Radial Velocity',\n",
       " 'Radial Velocity',\n",
       " 'Radial Velocity',\n",
       " 'Radial Velocity',\n",
       " 'Transit',\n",
       " 'Radial Velocity',\n",
       " 'Radial Velocity',\n",
       " 'Radial Velocity',\n",
       " 'Imaging',\n",
       " 'Transit',\n",
       " 'Transit',\n",
       " 'Transit',\n",
       " 'Transit',\n",
       " 'Transit',\n",
       " 'Transit',\n",
       " 'Transit',\n",
       " 'Transit',\n",
       " 'Transit',\n",
       " 'Transit',\n",
       " 'Radial Velocity',\n",
       " 'Transit',\n",
       " 'Transit',\n",
       " 'Transit',\n",
       " 'Transit',\n",
       " 'Radial Velocity',\n",
       " 'Transit',\n",
       " 'Transit',\n",
       " 'Transit',\n",
       " 'Transit',\n",
       " 'Transit',\n",
       " 'Transit',\n",
       " 'Transit',\n",
       " 'Transit',\n",
       " 'Transit',\n",
       " 'Transit',\n",
       " 'Transit',\n",
       " 'Transit',\n",
       " 'Transit',\n",
       " 'Transit',\n",
       " 'Radial Velocity',\n",
       " 'Transit',\n",
       " 'Transit',\n",
       " 'Transit',\n",
       " 'Transit',\n",
       " 'Transit',\n",
       " 'Transit',\n",
       " 'Transit',\n",
       " 'Transit',\n",
       " 'Transit',\n",
       " 'Transit',\n",
       " 'Transit',\n",
       " 'Transit',\n",
       " 'Transit',\n",
       " 'Transit',\n",
       " 'Transit',\n",
       " 'Transit',\n",
       " 'Radial Velocity',\n",
       " 'Radial Velocity',\n",
       " 'Radial Velocity',\n",
       " 'Radial Velocity',\n",
       " 'Radial Velocity',\n",
       " 'Radial Velocity',\n",
       " 'Radial Velocity',\n",
       " 'Radial Velocity',\n",
       " 'Radial Velocity',\n",
       " 'Radial Velocity',\n",
       " 'Radial Velocity',\n",
       " 'Radial Velocity',\n",
       " 'Radial Velocity',\n",
       " 'Radial Velocity',\n",
       " 'Radial Velocity',\n",
       " 'Radial Velocity',\n",
       " 'Radial Velocity',\n",
       " 'Radial Velocity',\n",
       " 'Radial Velocity',\n",
       " 'Radial Velocity',\n",
       " 'Radial Velocity',\n",
       " 'Radial Velocity',\n",
       " 'Radial Velocity',\n",
       " 'Radial Velocity',\n",
       " 'Radial Velocity',\n",
       " 'Radial Velocity',\n",
       " 'Radial Velocity',\n",
       " 'Radial Velocity',\n",
       " 'Radial Velocity',\n",
       " 'Radial Velocity',\n",
       " 'Radial Velocity',\n",
       " 'Radial Velocity',\n",
       " 'Radial Velocity',\n",
       " 'Radial Velocity',\n",
       " 'Radial Velocity',\n",
       " 'Radial Velocity',\n",
       " 'Radial Velocity',\n",
       " 'Radial Velocity',\n",
       " 'Radial Velocity',\n",
       " 'Radial Velocity',\n",
       " 'Radial Velocity',\n",
       " 'Radial Velocity',\n",
       " 'Radial Velocity',\n",
       " 'Radial Velocity',\n",
       " 'Radial Velocity',\n",
       " 'Radial Velocity',\n",
       " 'Radial Velocity',\n",
       " 'Radial Velocity',\n",
       " 'Radial Velocity',\n",
       " 'Radial Velocity',\n",
       " 'Radial Velocity',\n",
       " 'Radial Velocity',\n",
       " 'Radial Velocity',\n",
       " 'Radial Velocity',\n",
       " 'Radial Velocity',\n",
       " 'Radial Velocity',\n",
       " 'Radial Velocity',\n",
       " 'Radial Velocity',\n",
       " 'Radial Velocity',\n",
       " 'Radial Velocity',\n",
       " 'Radial Velocity',\n",
       " 'Radial Velocity',\n",
       " 'Radial Velocity',\n",
       " 'Radial Velocity',\n",
       " 'Radial Velocity',\n",
       " 'Radial Velocity',\n",
       " 'Radial Velocity',\n",
       " 'Radial Velocity',\n",
       " 'Radial Velocity',\n",
       " 'Radial Velocity',\n",
       " 'Radial Velocity',\n",
       " 'Radial Velocity',\n",
       " 'Radial Velocity',\n",
       " 'Radial Velocity',\n",
       " 'Radial Velocity',\n",
       " 'Radial Velocity',\n",
       " 'Radial Velocity',\n",
       " 'Radial Velocity',\n",
       " 'Radial Velocity',\n",
       " 'Radial Velocity',\n",
       " 'Radial Velocity',\n",
       " 'Radial Velocity',\n",
       " 'Radial Velocity',\n",
       " 'Radial Velocity',\n",
       " 'Radial Velocity',\n",
       " 'Radial Velocity',\n",
       " 'Radial Velocity',\n",
       " 'Radial Velocity',\n",
       " 'Radial Velocity',\n",
       " 'Radial Velocity',\n",
       " 'Radial Velocity',\n",
       " 'Radial Velocity',\n",
       " 'Radial Velocity',\n",
       " 'Radial Velocity',\n",
       " 'Radial Velocity',\n",
       " 'Radial Velocity',\n",
       " 'Radial Velocity',\n",
       " 'Radial Velocity',\n",
       " 'Radial Velocity',\n",
       " 'Radial Velocity',\n",
       " 'Radial Velocity',\n",
       " 'Radial Velocity',\n",
       " 'Radial Velocity',\n",
       " 'Radial Velocity',\n",
       " 'Radial Velocity',\n",
       " 'Radial Velocity',\n",
       " 'Radial Velocity',\n",
       " 'Radial Velocity',\n",
       " 'Radial Velocity',\n",
       " 'Radial Velocity',\n",
       " 'Radial Velocity',\n",
       " 'Radial Velocity',\n",
       " 'Radial Velocity',\n",
       " 'Radial Velocity',\n",
       " 'Radial Velocity',\n",
       " 'Radial Velocity',\n",
       " 'Radial Velocity',\n",
       " 'Radial Velocity',\n",
       " 'Radial Velocity',\n",
       " 'Radial Velocity',\n",
       " 'Radial Velocity',\n",
       " 'Radial Velocity',\n",
       " 'Radial Velocity',\n",
       " 'Radial Velocity',\n",
       " 'Radial Velocity',\n",
       " 'Radial Velocity',\n",
       " 'Radial Velocity',\n",
       " 'Radial Velocity',\n",
       " 'Radial Velocity',\n",
       " 'Radial Velocity',\n",
       " 'Radial Velocity',\n",
       " 'Radial Velocity',\n",
       " 'Radial Velocity',\n",
       " 'Radial Velocity',\n",
       " 'Radial Velocity',\n",
       " 'Radial Velocity',\n",
       " 'Radial Velocity',\n",
       " 'Radial Velocity',\n",
       " 'Radial Velocity',\n",
       " 'Radial Velocity',\n",
       " 'Radial Velocity',\n",
       " 'Radial Velocity',\n",
       " 'Radial Velocity',\n",
       " 'Radial Velocity',\n",
       " 'Radial Velocity',\n",
       " 'Radial Velocity',\n",
       " 'Radial Velocity',\n",
       " 'Radial Velocity',\n",
       " 'Radial Velocity',\n",
       " 'Radial Velocity',\n",
       " 'Radial Velocity',\n",
       " 'Radial Velocity',\n",
       " 'Radial Velocity',\n",
       " 'Radial Velocity',\n",
       " 'Radial Velocity',\n",
       " 'Radial Velocity',\n",
       " 'Radial Velocity',\n",
       " 'Radial Velocity',\n",
       " 'Radial Velocity',\n",
       " 'Radial Velocity',\n",
       " 'Radial Velocity',\n",
       " 'Radial Velocity',\n",
       " 'Radial Velocity',\n",
       " 'Radial Velocity',\n",
       " 'Radial Velocity',\n",
       " 'Radial Velocity',\n",
       " 'Radial Velocity',\n",
       " 'Radial Velocity',\n",
       " 'Radial Velocity',\n",
       " 'Radial Velocity',\n",
       " 'Radial Velocity',\n",
       " 'Radial Velocity',\n",
       " 'Radial Velocity',\n",
       " 'Radial Velocity',\n",
       " 'Radial Velocity',\n",
       " 'Radial Velocity',\n",
       " 'Radial Velocity',\n",
       " 'Radial Velocity',\n",
       " 'Radial Velocity',\n",
       " 'Radial Velocity',\n",
       " 'Radial Velocity',\n",
       " 'Radial Velocity',\n",
       " 'Radial Velocity',\n",
       " 'Radial Velocity',\n",
       " 'Radial Velocity',\n",
       " 'Radial Velocity',\n",
       " 'Radial Velocity',\n",
       " 'Radial Velocity',\n",
       " 'Radial Velocity',\n",
       " 'Radial Velocity',\n",
       " 'Radial Velocity',\n",
       " 'Radial Velocity',\n",
       " 'Radial Velocity',\n",
       " 'Radial Velocity',\n",
       " 'Imaging',\n",
       " 'Radial Velocity',\n",
       " 'Radial Velocity',\n",
       " 'Radial Velocity',\n",
       " 'Radial Velocity',\n",
       " 'Radial Velocity',\n",
       " 'Radial Velocity',\n",
       " 'Radial Velocity',\n",
       " 'Radial Velocity',\n",
       " 'Radial Velocity',\n",
       " 'Radial Velocity',\n",
       " 'Radial Velocity',\n",
       " 'Radial Velocity',\n",
       " 'Radial Velocity',\n",
       " 'Radial Velocity',\n",
       " 'Radial Velocity',\n",
       " 'Radial Velocity',\n",
       " 'Radial Velocity',\n",
       " 'Radial Velocity',\n",
       " 'Radial Velocity',\n",
       " 'Radial Velocity',\n",
       " 'Radial Velocity',\n",
       " 'Radial Velocity',\n",
       " 'Radial Velocity',\n",
       " 'Radial Velocity',\n",
       " 'Radial Velocity',\n",
       " 'Radial Velocity',\n",
       " 'Radial Velocity',\n",
       " 'Radial Velocity',\n",
       " 'Radial Velocity',\n",
       " 'Radial Velocity',\n",
       " 'Imaging',\n",
       " 'Radial Velocity',\n",
       " 'Radial Velocity',\n",
       " 'Radial Velocity',\n",
       " 'Radial Velocity',\n",
       " 'Radial Velocity',\n",
       " 'Radial Velocity',\n",
       " 'Radial Velocity',\n",
       " 'Radial Velocity',\n",
       " 'Radial Velocity',\n",
       " 'Radial Velocity',\n",
       " 'Radial Velocity',\n",
       " 'Radial Velocity',\n",
       " 'Radial Velocity',\n",
       " 'Radial Velocity',\n",
       " 'Radial Velocity',\n",
       " 'Radial Velocity',\n",
       " 'Radial Velocity',\n",
       " 'Radial Velocity',\n",
       " 'Radial Velocity',\n",
       " 'Radial Velocity',\n",
       " 'Radial Velocity',\n",
       " 'Radial Velocity',\n",
       " 'Radial Velocity',\n",
       " 'Radial Velocity',\n",
       " 'Radial Velocity',\n",
       " 'Radial Velocity',\n",
       " 'Radial Velocity',\n",
       " 'Radial Velocity',\n",
       " 'Radial Velocity',\n",
       " 'Radial Velocity',\n",
       " 'Radial Velocity',\n",
       " 'Radial Velocity',\n",
       " 'Radial Velocity',\n",
       " 'Radial Velocity',\n",
       " 'Radial Velocity',\n",
       " 'Radial Velocity',\n",
       " 'Radial Velocity',\n",
       " 'Radial Velocity',\n",
       " 'Radial Velocity',\n",
       " 'Radial Velocity',\n",
       " 'Radial Velocity',\n",
       " 'Radial Velocity',\n",
       " 'Radial Velocity',\n",
       " 'Radial Velocity',\n",
       " 'Radial Velocity',\n",
       " 'Radial Velocity',\n",
       " 'Radial Velocity',\n",
       " 'Radial Velocity',\n",
       " 'Radial Velocity',\n",
       " 'Radial Velocity',\n",
       " 'Radial Velocity',\n",
       " 'Radial Velocity',\n",
       " 'Radial Velocity',\n",
       " 'Radial Velocity',\n",
       " 'Radial Velocity',\n",
       " 'Radial Velocity',\n",
       " 'Radial Velocity',\n",
       " 'Radial Velocity',\n",
       " 'Radial Velocity',\n",
       " 'Radial Velocity',\n",
       " 'Radial Velocity',\n",
       " 'Radial Velocity',\n",
       " 'Radial Velocity',\n",
       " 'Radial Velocity',\n",
       " 'Radial Velocity',\n",
       " 'Radial Velocity',\n",
       " 'Radial Velocity',\n",
       " 'Radial Velocity',\n",
       " 'Radial Velocity',\n",
       " 'Radial Velocity',\n",
       " 'Radial Velocity',\n",
       " 'Radial Velocity',\n",
       " 'Radial Velocity',\n",
       " 'Radial Velocity',\n",
       " 'Radial Velocity',\n",
       " 'Radial Velocity',\n",
       " 'Radial Velocity',\n",
       " 'Radial Velocity',\n",
       " 'Radial Velocity',\n",
       " 'Radial Velocity',\n",
       " 'Radial Velocity',\n",
       " 'Radial Velocity',\n",
       " 'Radial Velocity',\n",
       " 'Radial Velocity',\n",
       " 'Radial Velocity',\n",
       " 'Radial Velocity',\n",
       " 'Radial Velocity',\n",
       " 'Radial Velocity',\n",
       " 'Radial Velocity',\n",
       " 'Radial Velocity',\n",
       " 'Radial Velocity',\n",
       " 'Radial Velocity',\n",
       " 'Radial Velocity',\n",
       " 'Radial Velocity',\n",
       " 'Radial Velocity',\n",
       " 'Radial Velocity',\n",
       " 'Radial Velocity',\n",
       " 'Radial Velocity',\n",
       " 'Radial Velocity',\n",
       " 'Radial Velocity',\n",
       " 'Radial Velocity',\n",
       " 'Radial Velocity',\n",
       " 'Radial Velocity',\n",
       " 'Radial Velocity',\n",
       " 'Radial Velocity',\n",
       " 'Radial Velocity',\n",
       " 'Radial Velocity',\n",
       " 'Radial Velocity',\n",
       " 'Radial Velocity',\n",
       " 'Radial Velocity',\n",
       " 'Radial Velocity',\n",
       " 'Radial Velocity',\n",
       " 'Radial Velocity',\n",
       " 'Astrometry',\n",
       " 'Radial Velocity',\n",
       " 'Radial Velocity',\n",
       " 'Radial Velocity',\n",
       " 'Radial Velocity',\n",
       " 'Radial Velocity',\n",
       " 'Radial Velocity',\n",
       " 'Radial Velocity',\n",
       " 'Radial Velocity',\n",
       " 'Radial Velocity',\n",
       " 'Radial Velocity',\n",
       " 'Radial Velocity',\n",
       " 'Radial Velocity',\n",
       " 'Radial Velocity',\n",
       " 'Radial Velocity',\n",
       " 'Radial Velocity',\n",
       " 'Radial Velocity',\n",
       " 'Radial Velocity',\n",
       " 'Radial Velocity',\n",
       " 'Radial Velocity',\n",
       " 'Radial Velocity',\n",
       " 'Radial Velocity',\n",
       " 'Radial Velocity',\n",
       " 'Radial Velocity',\n",
       " 'Radial Velocity',\n",
       " 'Radial Velocity',\n",
       " 'Radial Velocity',\n",
       " 'Radial Velocity',\n",
       " 'Radial Velocity',\n",
       " 'Radial Velocity',\n",
       " 'Radial Velocity',\n",
       " 'Radial Velocity',\n",
       " 'Radial Velocity',\n",
       " 'Radial Velocity',\n",
       " 'Radial Velocity',\n",
       " 'Radial Velocity',\n",
       " 'Radial Velocity',\n",
       " 'Radial Velocity',\n",
       " 'Radial Velocity',\n",
       " 'Radial Velocity',\n",
       " 'Imaging',\n",
       " 'Radial Velocity',\n",
       " 'Radial Velocity',\n",
       " 'Radial Velocity',\n",
       " 'Radial Velocity',\n",
       " 'Radial Velocity',\n",
       " 'Radial Velocity',\n",
       " 'Radial Velocity',\n",
       " 'Radial Velocity',\n",
       " 'Radial Velocity',\n",
       " 'Radial Velocity',\n",
       " 'Radial Velocity',\n",
       " 'Radial Velocity',\n",
       " 'Radial Velocity',\n",
       " 'Radial Velocity',\n",
       " 'Radial Velocity',\n",
       " 'Radial Velocity',\n",
       " 'Radial Velocity',\n",
       " 'Radial Velocity',\n",
       " 'Radial Velocity',\n",
       " 'Radial Velocity',\n",
       " 'Radial Velocity',\n",
       " 'Radial Velocity',\n",
       " 'Radial Velocity',\n",
       " 'Radial Velocity',\n",
       " 'Radial Velocity',\n",
       " 'Radial Velocity',\n",
       " 'Radial Velocity',\n",
       " 'Radial Velocity',\n",
       " 'Radial Velocity',\n",
       " 'Radial Velocity',\n",
       " 'Radial Velocity',\n",
       " 'Radial Velocity',\n",
       " 'Radial Velocity',\n",
       " 'Radial Velocity',\n",
       " 'Radial Velocity',\n",
       " 'Radial Velocity',\n",
       " 'Radial Velocity',\n",
       " 'Radial Velocity',\n",
       " 'Radial Velocity',\n",
       " 'Radial Velocity',\n",
       " 'Radial Velocity',\n",
       " 'Radial Velocity',\n",
       " 'Radial Velocity',\n",
       " 'Radial Velocity',\n",
       " 'Radial Velocity',\n",
       " 'Radial Velocity',\n",
       " 'Radial Velocity',\n",
       " 'Radial Velocity',\n",
       " 'Radial Velocity',\n",
       " 'Radial Velocity',\n",
       " 'Radial Velocity',\n",
       " 'Radial Velocity',\n",
       " 'Radial Velocity',\n",
       " 'Radial Velocity',\n",
       " 'Radial Velocity',\n",
       " 'Radial Velocity',\n",
       " 'Radial Velocity',\n",
       " 'Imaging',\n",
       " 'Radial Velocity',\n",
       " 'Radial Velocity',\n",
       " 'Radial Velocity',\n",
       " 'Imaging',\n",
       " 'Radial Velocity',\n",
       " 'Radial Velocity',\n",
       " 'Radial Velocity',\n",
       " 'Imaging',\n",
       " 'Imaging',\n",
       " 'Imaging',\n",
       " 'Imaging',\n",
       " 'Transit',\n",
       " 'Transit',\n",
       " 'Transit',\n",
       " 'Transit',\n",
       " 'Transit',\n",
       " 'Transit',\n",
       " 'Transit',\n",
       " 'Transit',\n",
       " 'Transit',\n",
       " 'Transit',\n",
       " 'Transit',\n",
       " 'Transit',\n",
       " 'Transit',\n",
       " 'Transit',\n",
       " 'Transit',\n",
       " 'Transit',\n",
       " 'Transit',\n",
       " 'Transit',\n",
       " 'Transit',\n",
       " 'Transit',\n",
       " 'Transit',\n",
       " 'Transit',\n",
       " 'Transit',\n",
       " 'Transit',\n",
       " 'Transit',\n",
       " 'Transit',\n",
       " 'Transit',\n",
       " 'Transit',\n",
       " 'Transit',\n",
       " 'Transit',\n",
       " 'Transit',\n",
       " 'Transit',\n",
       " 'Transit',\n",
       " 'Transit Timing Variations',\n",
       " 'Transit',\n",
       " 'Transit',\n",
       " 'Transit',\n",
       " 'Transit',\n",
       " 'Transit',\n",
       " 'Transit',\n",
       " 'Transit',\n",
       " 'Transit',\n",
       " 'Transit',\n",
       " 'Transit',\n",
       " 'Transit',\n",
       " 'Transit',\n",
       " 'Transit',\n",
       " 'Radial Velocity',\n",
       " 'Transit',\n",
       " 'Transit',\n",
       " 'Transit',\n",
       " 'Transit',\n",
       " 'Transit',\n",
       " 'Transit',\n",
       " 'Transit',\n",
       " 'Transit',\n",
       " 'Transit',\n",
       " 'Transit',\n",
       " 'Transit',\n",
       " 'Transit',\n",
       " 'Transit',\n",
       " 'Transit',\n",
       " 'Transit',\n",
       " 'Transit',\n",
       " 'Transit',\n",
       " 'Transit',\n",
       " 'Transit',\n",
       " 'Transit',\n",
       " 'Transit',\n",
       " 'Transit',\n",
       " 'Transit',\n",
       " 'Transit',\n",
       " 'Transit',\n",
       " 'Transit',\n",
       " 'Transit',\n",
       " 'Transit',\n",
       " 'Transit',\n",
       " 'Transit',\n",
       " 'Transit',\n",
       " 'Transit',\n",
       " 'Transit',\n",
       " 'Transit',\n",
       " 'Transit',\n",
       " 'Transit',\n",
       " 'Transit',\n",
       " 'Transit',\n",
       " 'Transit',\n",
       " 'Transit',\n",
       " 'Transit',\n",
       " 'Transit Timing Variations',\n",
       " 'Transit',\n",
       " 'Transit',\n",
       " 'Transit',\n",
       " 'Transit',\n",
       " 'Transit',\n",
       " 'Radial Velocity',\n",
       " 'Transit',\n",
       " 'Transit',\n",
       " 'Transit',\n",
       " 'Transit',\n",
       " 'Transit',\n",
       " 'Transit',\n",
       " 'Transit Timing Variations',\n",
       " 'Transit',\n",
       " 'Transit',\n",
       " 'Transit',\n",
       " 'Transit',\n",
       " 'Transit',\n",
       " 'Transit',\n",
       " 'Transit',\n",
       " 'Transit',\n",
       " 'Transit',\n",
       " 'Transit',\n",
       " 'Transit',\n",
       " 'Transit',\n",
       " 'Transit',\n",
       " 'Transit',\n",
       " 'Transit',\n",
       " 'Transit',\n",
       " 'Transit',\n",
       " 'Transit',\n",
       " 'Transit',\n",
       " 'Transit',\n",
       " 'Transit',\n",
       " 'Transit',\n",
       " 'Transit',\n",
       " 'Transit',\n",
       " 'Transit',\n",
       " 'Transit',\n",
       " 'Transit',\n",
       " 'Transit',\n",
       " 'Transit',\n",
       " 'Transit',\n",
       " 'Transit',\n",
       " 'Transit',\n",
       " 'Transit',\n",
       " 'Transit',\n",
       " 'Radial Velocity',\n",
       " 'Transit',\n",
       " 'Transit',\n",
       " 'Orbital Brightness Modulation',\n",
       " 'Orbital Brightness Modulation',\n",
       " 'Transit',\n",
       " 'Transit',\n",
       " 'Transit',\n",
       " 'Orbital Brightness Modulation',\n",
       " 'Transit',\n",
       " 'Transit',\n",
       " 'Transit',\n",
       " 'Transit',\n",
       " 'Transit',\n",
       " 'Transit',\n",
       " 'Transit',\n",
       " 'Transit',\n",
       " 'Transit',\n",
       " 'Transit',\n",
       " 'Transit',\n",
       " 'Transit',\n",
       " 'Transit',\n",
       " 'Transit',\n",
       " 'Transit',\n",
       " 'Transit',\n",
       " 'Transit',\n",
       " 'Transit',\n",
       " 'Transit',\n",
       " 'Transit',\n",
       " 'Transit Timing Variations',\n",
       " 'Transit',\n",
       " 'Transit',\n",
       " 'Transit',\n",
       " 'Transit',\n",
       " 'Transit',\n",
       " 'Transit',\n",
       " 'Transit',\n",
       " 'Transit',\n",
       " 'Transit',\n",
       " 'Transit',\n",
       " 'Transit',\n",
       " 'Transit',\n",
       " 'Transit',\n",
       " 'Transit',\n",
       " 'Transit',\n",
       " 'Radial Velocity',\n",
       " 'Transit',\n",
       " 'Radial Velocity',\n",
       " 'Transit',\n",
       " 'Transit',\n",
       " 'Transit',\n",
       " 'Radial Velocity',\n",
       " 'Transit',\n",
       " 'Transit',\n",
       " 'Transit',\n",
       " 'Transit',\n",
       " 'Transit',\n",
       " 'Transit',\n",
       " 'Transit',\n",
       " 'Transit',\n",
       " 'Transit',\n",
       " 'Transit',\n",
       " 'Transit',\n",
       " 'Transit',\n",
       " 'Transit',\n",
       " 'Transit',\n",
       " 'Transit',\n",
       " 'Transit',\n",
       " 'Transit',\n",
       " 'Transit',\n",
       " 'Transit',\n",
       " 'Transit',\n",
       " 'Transit',\n",
       " 'Transit',\n",
       " 'Transit',\n",
       " 'Transit',\n",
       " 'Transit',\n",
       " 'Transit',\n",
       " 'Transit',\n",
       " 'Transit',\n",
       " 'Transit',\n",
       " 'Transit',\n",
       " 'Transit',\n",
       " 'Transit',\n",
       " 'Transit',\n",
       " 'Transit',\n",
       " 'Transit',\n",
       " 'Transit',\n",
       " 'Transit',\n",
       " 'Transit',\n",
       " 'Transit',\n",
       " 'Transit',\n",
       " 'Transit',\n",
       " 'Transit',\n",
       " 'Transit',\n",
       " 'Transit',\n",
       " 'Transit',\n",
       " 'Transit',\n",
       " 'Transit',\n",
       " 'Transit',\n",
       " 'Transit',\n",
       " 'Transit',\n",
       " 'Transit',\n",
       " 'Transit',\n",
       " 'Transit',\n",
       " 'Transit',\n",
       " 'Transit',\n",
       " 'Transit',\n",
       " 'Transit',\n",
       " 'Radial Velocity',\n",
       " 'Transit',\n",
       " 'Transit',\n",
       " 'Transit',\n",
       " 'Transit',\n",
       " 'Transit',\n",
       " 'Transit',\n",
       " 'Imaging',\n",
       " 'Transit',\n",
       " 'Microlensing',\n",
       " 'Microlensing',\n",
       " 'Microlensing',\n",
       " 'Microlensing',\n",
       " 'Microlensing',\n",
       " 'Microlensing',\n",
       " 'Microlensing',\n",
       " 'Microlensing',\n",
       " 'Microlensing',\n",
       " 'Microlensing',\n",
       " 'Microlensing',\n",
       " 'Radial Velocity',\n",
       " 'Radial Velocity',\n",
       " 'Radial Velocity',\n",
       " 'Radial Velocity',\n",
       " 'Microlensing',\n",
       " 'Microlensing',\n",
       " 'Microlensing',\n",
       " 'Microlensing',\n",
       " 'Microlensing',\n",
       " 'Microlensing',\n",
       " 'Microlensing',\n",
       " 'Microlensing',\n",
       " 'Microlensing',\n",
       " 'Microlensing',\n",
       " 'Microlensing',\n",
       " 'Microlensing',\n",
       " 'Transit',\n",
       " 'Transit',\n",
       " 'Transit',\n",
       " 'Transit',\n",
       " 'Transit',\n",
       " 'Transit',\n",
       " 'Transit',\n",
       " 'Transit',\n",
       " 'Imaging',\n",
       " 'Transit',\n",
       " 'Radial Velocity',\n",
       " 'Radial Velocity',\n",
       " 'Pulsar Timing',\n",
       " 'Pulsar Timing',\n",
       " 'Pulsar Timing',\n",
       " 'Pulsar Timing',\n",
       " 'Pulsar Timing',\n",
       " 'Transit',\n",
       " 'Transit',\n",
       " 'Imaging',\n",
       " 'Imaging',\n",
       " 'Imaging',\n",
       " 'Transit',\n",
       " 'Transit',\n",
       " 'Transit',\n",
       " 'Transit',\n",
       " 'Transit',\n",
       " 'Transit',\n",
       " 'Imaging',\n",
       " 'Pulsation Timing Variations',\n",
       " 'Transit',\n",
       " 'Transit',\n",
       " 'Transit',\n",
       " 'Transit',\n",
       " 'Transit',\n",
       " 'Transit',\n",
       " 'Transit',\n",
       " 'Transit',\n",
       " 'Transit',\n",
       " 'Transit',\n",
       " 'Transit',\n",
       " 'Transit',\n",
       " 'Transit',\n",
       " 'Transit',\n",
       " 'Transit',\n",
       " 'Transit',\n",
       " 'Transit',\n",
       " 'Transit',\n",
       " 'Transit',\n",
       " 'Transit',\n",
       " 'Transit',\n",
       " 'Transit',\n",
       " 'Transit',\n",
       " 'Transit',\n",
       " 'Transit',\n",
       " 'Transit',\n",
       " 'Transit',\n",
       " 'Transit',\n",
       " 'Transit',\n",
       " 'Transit',\n",
       " 'Transit',\n",
       " 'Transit',\n",
       " 'Transit',\n",
       " 'Transit',\n",
       " 'Transit',\n",
       " 'Transit',\n",
       " 'Transit',\n",
       " 'Transit',\n",
       " 'Transit',\n",
       " 'Transit',\n",
       " 'Transit',\n",
       " ...]"
      ]
     },
     "execution_count": 26,
     "metadata": {},
     "output_type": "execute_result"
    }
   ],
   "source": [
    "ls = planets.method.tolist()\n",
    "ls"
   ]
  },
  {
   "cell_type": "code",
   "execution_count": 27,
   "metadata": {},
   "outputs": [
    {
     "data": {
      "text/plain": [
       "1.7855072463768116"
      ]
     },
     "execution_count": 27,
     "metadata": {},
     "output_type": "execute_result"
    }
   ],
   "source": [
    "planets['number'].mean()"
   ]
  },
  {
   "cell_type": "code",
   "execution_count": 29,
   "metadata": {},
   "outputs": [
    {
     "data": {
      "text/plain": [
       "array([4, 5, 7, 5, 6, 6, 9, 3])"
      ]
     },
     "execution_count": 29,
     "metadata": {},
     "output_type": "execute_result"
    }
   ],
   "source": [
    "a"
   ]
  },
  {
   "cell_type": "code",
   "execution_count": 28,
   "metadata": {},
   "outputs": [
    {
     "data": {
      "text/plain": [
       "True"
      ]
     },
     "execution_count": 28,
     "metadata": {},
     "output_type": "execute_result"
    }
   ],
   "source": [
    "np.any(a > 5)"
   ]
  },
  {
   "cell_type": "code",
   "execution_count": 30,
   "metadata": {},
   "outputs": [
    {
     "data": {
      "text/plain": [
       "4"
      ]
     },
     "execution_count": 30,
     "metadata": {},
     "output_type": "execute_result"
    }
   ],
   "source": [
    "np.sum(a > 5)"
   ]
  },
  {
   "cell_type": "code",
   "execution_count": 40,
   "metadata": {},
   "outputs": [],
   "source": [
    "x1 = np.random.randint(10, size = (2,6)) #tableau 1D"
   ]
  },
  {
   "cell_type": "code",
   "execution_count": 41,
   "metadata": {},
   "outputs": [
    {
     "data": {
      "text/plain": [
       "array([0, 0])"
      ]
     },
     "execution_count": 41,
     "metadata": {},
     "output_type": "execute_result"
    }
   ],
   "source": [
    "np.sum(x1 == 3, axis = 1)\n",
    "\n",
    "#nombre de valeurs = 3 dans chaque ligne"
   ]
  },
  {
   "cell_type": "code",
   "execution_count": 42,
   "metadata": {},
   "outputs": [
    {
     "data": {
      "text/plain": [
       "False"
      ]
     },
     "execution_count": 42,
     "metadata": {},
     "output_type": "execute_result"
    }
   ],
   "source": [
    "np.all(x1 < 8)\n",
    "\n",
    "# toutes les valeurs sont-elles inférieures à 8?"
   ]
  },
  {
   "cell_type": "markdown",
   "metadata": {},
   "source": [
    "<div class=\"alert alert-info\">\n",
    "<h3>opérateurs arithmétiques</h3></div>"
   ]
  },
  {
   "cell_type": "markdown",
   "metadata": {},
   "source": [
    "<div class=\"alert alert-warning\">\n",
    "    <ul> <b>opérateurs arithmétiques - pandas</b></div>"
   ]
  },
  {
   "cell_type": "raw",
   "metadata": {
    "slideshow": {
     "slide_type": "subslide"
    }
   },
   "source": [
    "pandas:\n",
    "\n",
    "add()                      = +\n",
    "sub(), substract()         = -\n",
    "mul(), multiply()          = *\n",
    "truediv(), div(), divide() = /\n",
    "floordiv()                 = //\n",
    "mod()                      = %\n",
    "pow()                      = **"
   ]
  },
  {
   "cell_type": "raw",
   "metadata": {},
   "source": [
    "numpy:\n",
    "\n",
    "np.add\t\t\t+\tAddition (3 + 6 = 9)\n",
    "np.subtract\t\t-\tSubtraction (6 – 3 = 3)\n",
    "np.negative\t\t-\tNegation ( -3)\n",
    "np.multiply\t\t*\tMultiplication (3 * 3 = 9)\n",
    "np.divide\t\t/\tDivision (6/3 = 2; 3/2 = 1)\n",
    "np.floor_divide\t//\tFloor division (6//3 = 2; 3//2 = 1)\n",
    "np.power\t\t**\tExponentiation (3**3 = 27; 2**3 = 8)\n",
    "np.mod\t\t\t%\tModulus/remainder(9%3=0; 9%4 = 1)"
   ]
  },
  {
   "cell_type": "code",
   "execution_count": 184,
   "metadata": {},
   "outputs": [
    {
     "data": {
      "text/plain": [
       "ETABLISSEMENT\n",
       "Université du Québec à Chicoutimi (UQAC)    4.859767e+05\n",
       "École Polytechnique de Montréal             9.084913e+05\n",
       "Université de Sherbrooke                    1.981616e+06\n",
       "Name: COUT/3, dtype: float64"
      ]
     },
     "execution_count": 184,
     "metadata": {},
     "output_type": "execute_result"
    }
   ],
   "source": [
    "df_qc['COUT/3'] = df_qc.COUT_TOTAL/3\n",
    "#df_qc['COUT/3'].tail()\n",
    "df_qc['COUT/3'].head(3)"
   ]
  },
  {
   "cell_type": "code",
   "execution_count": 183,
   "metadata": {},
   "outputs": [
    {
     "data": {
      "text/plain": [
       "numpy.float64"
      ]
     },
     "execution_count": 183,
     "metadata": {},
     "output_type": "execute_result"
    }
   ],
   "source": [
    "type(df_qc['COUT/3'][0])"
   ]
  },
  {
   "cell_type": "code",
   "execution_count": 182,
   "metadata": {},
   "outputs": [],
   "source": [
    "# df_qc.columns"
   ]
  },
  {
   "cell_type": "code",
   "execution_count": 185,
   "metadata": {},
   "outputs": [],
   "source": [
    "df_qc['soustraction'] = df_qc['COUT_TOTAL'].subtract(df_qc['MONTANT_TOTAL_QUEBEC'])"
   ]
  },
  {
   "cell_type": "code",
   "execution_count": 186,
   "metadata": {},
   "outputs": [
    {
     "data": {
      "text/plain": [
       "ETABLISSEMENT\n",
       "Université du Québec à Chicoutimi (UQAC)     874758\n",
       "École Polytechnique de Montréal             1657488\n",
       "Université de Sherbrooke                    3566908\n",
       "Université de Sherbrooke                    2603516\n",
       "Université Laval                            3317547\n",
       "Name: soustraction, dtype: int64"
      ]
     },
     "execution_count": 186,
     "metadata": {},
     "output_type": "execute_result"
    }
   ],
   "source": [
    "df_qc['soustraction'].head()"
   ]
  },
  {
   "cell_type": "markdown",
   "metadata": {},
   "source": [
    "<div class=\"alert alert-danger\">\n",
    "<h3>Exercise</h3>\n",
    "<li> Comment vérifier si le code de soustraction est correct ?\n",
    "</div>"
   ]
  },
  {
   "cell_type": "code",
   "execution_count": 189,
   "metadata": {},
   "outputs": [
    {
     "data": {
      "text/plain": [
       "ETABLISSEMENT\n",
       "Université du Québec à Chicoutimi (UQAC)    1457930\n",
       "École Polytechnique de Montréal             2725474\n",
       "Université de Sherbrooke                    5944847\n",
       "Université de Sherbrooke                    4248206\n",
       "Université Laval                            5521200\n",
       "Name: COUT_TOTAL, dtype: int64"
      ]
     },
     "execution_count": 189,
     "metadata": {},
     "output_type": "execute_result"
    }
   ],
   "source": [
    "df_qc.COUT_TOTAL.head()"
   ]
  },
  {
   "cell_type": "code",
   "execution_count": 190,
   "metadata": {},
   "outputs": [
    {
     "data": {
      "text/plain": [
       "ETABLISSEMENT\n",
       "Université du Québec à Chicoutimi (UQAC)     583172\n",
       "École Polytechnique de Montréal             1067986\n",
       "Université de Sherbrooke                    2377939\n",
       "Université de Sherbrooke                    1644690\n",
       "Université Laval                            2203653\n",
       "Name: MONTANT_TOTAL_QUEBEC, dtype: int64"
      ]
     },
     "execution_count": 190,
     "metadata": {},
     "output_type": "execute_result"
    }
   ],
   "source": [
    "df_qc.MONTANT_TOTAL_QUEBEC.head()"
   ]
  },
  {
   "cell_type": "code",
   "execution_count": 191,
   "metadata": {},
   "outputs": [
    {
     "data": {
      "text/plain": [
       "ETABLISSEMENT\n",
       "Université du Québec à Chicoutimi (UQAC)     874758\n",
       "École Polytechnique de Montréal             1657488\n",
       "Université de Sherbrooke                    3566908\n",
       "Université de Sherbrooke                    2603516\n",
       "Université Laval                            3317547\n",
       "Name: soustraction, dtype: int64"
      ]
     },
     "execution_count": 191,
     "metadata": {},
     "output_type": "execute_result"
    }
   ],
   "source": [
    "df_qc['soustraction'].head()"
   ]
  },
  {
   "cell_type": "code",
   "execution_count": 194,
   "metadata": {},
   "outputs": [
    {
     "data": {
      "text/plain": [
       "True"
      ]
     },
     "execution_count": 194,
     "metadata": {},
     "output_type": "execute_result"
    }
   ],
   "source": [
    "# vérification:\n",
    "val1 = df_qc['COUT_TOTAL'][1]\n",
    "val2 = df_qc['MONTANT_TOTAL_QUEBEC'][1]\n",
    "finale = val1-val2\n",
    "\n",
    "val3 = df_qc['soustraction'][1]\n",
    "finale == val3\n",
    "\n",
    "(df_qc.COUT_TOTAL[1])-(df_qc.MONTANT_TOTAL_QUEBEC[1]) == df_qc.soustraction[1]"
   ]
  },
  {
   "cell_type": "code",
   "execution_count": 192,
   "metadata": {},
   "outputs": [
    {
     "data": {
      "text/html": [
       "<div>\n",
       "<style scoped>\n",
       "    .dataframe tbody tr th:only-of-type {\n",
       "        vertical-align: middle;\n",
       "    }\n",
       "\n",
       "    .dataframe tbody tr th {\n",
       "        vertical-align: top;\n",
       "    }\n",
       "\n",
       "    .dataframe thead th {\n",
       "        text-align: right;\n",
       "    }\n",
       "</style>\n",
       "<table border=\"1\" class=\"dataframe\">\n",
       "  <thead>\n",
       "    <tr style=\"text-align: right;\">\n",
       "      <th></th>\n",
       "      <th>REGION_ADMINISTRATIVE</th>\n",
       "      <th>ANNEE_FINANCIERE</th>\n",
       "    </tr>\n",
       "    <tr>\n",
       "      <th>ETABLISSEMENT</th>\n",
       "      <th></th>\n",
       "      <th></th>\n",
       "    </tr>\n",
       "  </thead>\n",
       "  <tbody>\n",
       "    <tr>\n",
       "      <th>Université McGill</th>\n",
       "      <td>Montréal</td>\n",
       "      <td>2009-2010</td>\n",
       "    </tr>\n",
       "    <tr>\n",
       "      <th>Université de Montréal</th>\n",
       "      <td>Montréal</td>\n",
       "      <td>2009-2010</td>\n",
       "    </tr>\n",
       "    <tr>\n",
       "      <th>Université McGill</th>\n",
       "      <td>Montréal</td>\n",
       "      <td>2009-2010</td>\n",
       "    </tr>\n",
       "    <tr>\n",
       "      <th>Université Laval</th>\n",
       "      <td>Capitale-Nationale</td>\n",
       "      <td>2015-2016</td>\n",
       "    </tr>\n",
       "    <tr>\n",
       "      <th>Université McGill</th>\n",
       "      <td>Montréal</td>\n",
       "      <td>2015-2016</td>\n",
       "    </tr>\n",
       "  </tbody>\n",
       "</table>\n",
       "</div>"
      ],
      "text/plain": [
       "                       REGION_ADMINISTRATIVE ANNEE_FINANCIERE\n",
       "ETABLISSEMENT                                                \n",
       "Université McGill                   Montréal        2009-2010\n",
       "Université de Montréal              Montréal        2009-2010\n",
       "Université McGill                   Montréal        2009-2010\n",
       "Université Laval          Capitale-Nationale        2015-2016\n",
       "Université McGill                   Montréal        2015-2016"
      ]
     },
     "execution_count": 192,
     "metadata": {},
     "output_type": "execute_result"
    }
   ],
   "source": [
    "df_test1 = df_qc.loc[df_qc.COUT_TOTAL > 20000000,\n",
    "                     ['REGION_ADMINISTRATIVE', 'ANNEE_FINANCIERE']].head()\n",
    "df_test1"
   ]
  },
  {
   "cell_type": "code",
   "execution_count": 193,
   "metadata": {
    "scrolled": true
   },
   "outputs": [
    {
     "data": {
      "text/html": [
       "<div>\n",
       "<style scoped>\n",
       "    .dataframe tbody tr th:only-of-type {\n",
       "        vertical-align: middle;\n",
       "    }\n",
       "\n",
       "    .dataframe tbody tr th {\n",
       "        vertical-align: top;\n",
       "    }\n",
       "\n",
       "    .dataframe thead th {\n",
       "        text-align: right;\n",
       "    }\n",
       "</style>\n",
       "<table border=\"1\" class=\"dataframe\">\n",
       "  <thead>\n",
       "    <tr style=\"text-align: right;\">\n",
       "      <th>ETABLISSEMENT</th>\n",
       "      <th>Université McGill</th>\n",
       "      <th>Université de Montréal</th>\n",
       "      <th>Université McGill</th>\n",
       "      <th>Université Laval</th>\n",
       "      <th>Université McGill</th>\n",
       "    </tr>\n",
       "  </thead>\n",
       "  <tbody>\n",
       "    <tr>\n",
       "      <th>REGION_ADMINISTRATIVE</th>\n",
       "      <td>Montréal</td>\n",
       "      <td>Montréal</td>\n",
       "      <td>Montréal</td>\n",
       "      <td>Capitale-Nationale</td>\n",
       "      <td>Montréal</td>\n",
       "    </tr>\n",
       "    <tr>\n",
       "      <th>ANNEE_FINANCIERE</th>\n",
       "      <td>2009-2010</td>\n",
       "      <td>2009-2010</td>\n",
       "      <td>2009-2010</td>\n",
       "      <td>2015-2016</td>\n",
       "      <td>2015-2016</td>\n",
       "    </tr>\n",
       "  </tbody>\n",
       "</table>\n",
       "</div>"
      ],
      "text/plain": [
       "ETABLISSEMENT         Université McGill Université de Montréal  \\\n",
       "REGION_ADMINISTRATIVE          Montréal               Montréal   \n",
       "ANNEE_FINANCIERE              2009-2010              2009-2010   \n",
       "\n",
       "ETABLISSEMENT         Université McGill    Université Laval Université McGill  \n",
       "REGION_ADMINISTRATIVE          Montréal  Capitale-Nationale          Montréal  \n",
       "ANNEE_FINANCIERE              2009-2010           2015-2016         2015-2016  "
      ]
     },
     "execution_count": 193,
     "metadata": {},
     "output_type": "execute_result"
    }
   ],
   "source": [
    "df_test1.T"
   ]
  },
  {
   "cell_type": "code",
   "execution_count": 177,
   "metadata": {},
   "outputs": [],
   "source": [
    "# df_qc[df_qc.COUT_TOTAL > 200000]"
   ]
  },
  {
   "cell_type": "code",
   "execution_count": 179,
   "metadata": {},
   "outputs": [],
   "source": [
    "# df_qc.loc[df_qc.COUT_TOTAL>20000000, ['REGION_ADMINISTRATIVE', 'ANNEE_FINANCIERE']].head()"
   ]
  },
  {
   "cell_type": "code",
   "execution_count": null,
   "metadata": {},
   "outputs": [],
   "source": [
    "df_qc[(df_qc.COUT_TOTAL>1400000) & (df_qc.COUT_TOTAL<5500000)]"
   ]
  },
  {
   "cell_type": "markdown",
   "metadata": {},
   "source": [
    "<div class=\"alert alert-warning\">\n",
    "    <ul> <b>opérateurs arithmétiques - NumPy</b></div>"
   ]
  },
  {
   "cell_type": "code",
   "execution_count": null,
   "metadata": {},
   "outputs": [],
   "source": [
    "np.add\t\t\t+\tAddition (3 + 6 = 9)\n",
    "np.subtract\t\t-\tSubtraction (6 – 3 = 3)\n",
    "np.negative\t\t-\tNegation ( -3)\n",
    "np.multiply\t\t*\tMultiplication (3 * 3 = 9)\n",
    "np.divide\t\t/\tDivision (6/3 = 2; 3/2 = 1)\n",
    "np.floor_divide\t//\tFloor division (6//3 = 2; 3//2 = 1)\n",
    "np.power\t\t**\tExponentiation (3**3 = 27; 2**3 = 8)\n",
    "np.mod\t\t\t%\tModulus/remainder(9%3=0; 9%4 = 1)"
   ]
  },
  {
   "cell_type": "code",
   "execution_count": 43,
   "metadata": {},
   "outputs": [
    {
     "data": {
      "text/plain": [
       "(array([0, 4, 2, 0]), array([3, 2, 4, 2]))"
      ]
     },
     "execution_count": 43,
     "metadata": {},
     "output_type": "execute_result"
    }
   ],
   "source": [
    "# opérations arithmétiques \n",
    "\n",
    "arr1 = np.random.randint(5, size=4)\n",
    "arr2 = np.random.randint(5, size=4)\n",
    "arr1, arr2"
   ]
  },
  {
   "cell_type": "code",
   "execution_count": 44,
   "metadata": {},
   "outputs": [
    {
     "data": {
      "text/plain": [
       "array([3, 6, 6, 2])"
      ]
     },
     "execution_count": 44,
     "metadata": {},
     "output_type": "execute_result"
    }
   ],
   "source": [
    "# Ajouter des tableaux ensemble\n",
    "arr1 + arr2"
   ]
  },
  {
   "cell_type": "code",
   "execution_count": 115,
   "metadata": {},
   "outputs": [
    {
     "data": {
      "text/plain": [
       "array([0, 0, 0, 4])"
      ]
     },
     "execution_count": 115,
     "metadata": {},
     "output_type": "execute_result"
    }
   ],
   "source": [
    "# Multiplication matricielle\n",
    "arr1 * arr2"
   ]
  },
  {
   "cell_type": "code",
   "execution_count": 45,
   "metadata": {},
   "outputs": [
    {
     "data": {
      "text/plain": [
       "array([ 0, -4, -2,  0])"
      ]
     },
     "execution_count": 45,
     "metadata": {},
     "output_type": "execute_result"
    }
   ],
   "source": [
    "-arr1"
   ]
  },
  {
   "cell_type": "code",
   "execution_count": 94,
   "metadata": {},
   "outputs": [
    {
     "data": {
      "text/plain": [
       "array([ 1, 27,  9,  4], dtype=int32)"
      ]
     },
     "execution_count": 94,
     "metadata": {},
     "output_type": "execute_result"
    }
   ],
   "source": [
    "arr1**arr2"
   ]
  },
  {
   "cell_type": "code",
   "execution_count": 95,
   "metadata": {},
   "outputs": [
    {
     "data": {
      "text/plain": [
       "array([2, 5, 5, 6])"
      ]
     },
     "execution_count": 95,
     "metadata": {},
     "output_type": "execute_result"
    }
   ],
   "source": [
    "np.add(arr1, 2)"
   ]
  },
  {
   "cell_type": "code",
   "execution_count": 96,
   "metadata": {},
   "outputs": [
    {
     "data": {
      "text/plain": [
       "array([ 0, -3, -3, -4])"
      ]
     },
     "execution_count": 96,
     "metadata": {},
     "output_type": "execute_result"
    }
   ],
   "source": [
    "np.negative(arr1)"
   ]
  },
  {
   "cell_type": "code",
   "execution_count": 97,
   "metadata": {},
   "outputs": [
    {
     "data": {
      "text/plain": [
       "array([ 0,  9,  9, 12])"
      ]
     },
     "execution_count": 97,
     "metadata": {},
     "output_type": "execute_result"
    }
   ],
   "source": [
    "np.multiply(arr1, 3)"
   ]
  },
  {
   "cell_type": "code",
   "execution_count": 98,
   "metadata": {},
   "outputs": [
    {
     "data": {
      "text/plain": [
       "array([0, 3, 3, 4])"
      ]
     },
     "execution_count": 98,
     "metadata": {},
     "output_type": "execute_result"
    }
   ],
   "source": [
    "abs(arr1)\n",
    "\n",
    "# python command"
   ]
  },
  {
   "cell_type": "code",
   "execution_count": 99,
   "metadata": {},
   "outputs": [
    {
     "data": {
      "text/plain": [
       "array([0, 3, 3, 4])"
      ]
     },
     "execution_count": 99,
     "metadata": {},
     "output_type": "execute_result"
    }
   ],
   "source": [
    "np.absolute(arr1)\n",
    "\n",
    "# np command"
   ]
  },
  {
   "cell_type": "code",
   "execution_count": 90,
   "metadata": {},
   "outputs": [
    {
     "data": {
      "text/plain": [
       "39"
      ]
     },
     "execution_count": 90,
     "metadata": {},
     "output_type": "execute_result"
    }
   ],
   "source": [
    "np.add.reduce(a)\n",
    "\n",
    "# renvoie l'addition de tous les éléments"
   ]
  },
  {
   "cell_type": "code",
   "execution_count": 124,
   "metadata": {},
   "outputs": [
    {
     "data": {
      "text/plain": [
       "24"
      ]
     },
     "execution_count": 124,
     "metadata": {},
     "output_type": "execute_result"
    }
   ],
   "source": [
    "np.multiply.reduce(a) #produire de multiplier tous les éléments"
   ]
  },
  {
   "cell_type": "code",
   "execution_count": 125,
   "metadata": {},
   "outputs": [
    {
     "data": {
      "text/plain": [
       "array([ 1,  3,  6, 10], dtype=int32)"
      ]
     },
     "execution_count": 125,
     "metadata": {},
     "output_type": "execute_result"
    }
   ],
   "source": [
    "np.add.accumulate(a)\n",
    "\n",
    "#afficher toutes les valeurs intermédiaires"
   ]
  },
  {
   "cell_type": "code",
   "execution_count": 126,
   "metadata": {},
   "outputs": [
    {
     "data": {
      "text/plain": [
       "array([[ 1,  2,  3,  4],\n",
       "       [ 2,  4,  6,  8],\n",
       "       [ 3,  6,  9, 12],\n",
       "       [ 4,  8, 12, 16]])"
      ]
     },
     "execution_count": 126,
     "metadata": {},
     "output_type": "execute_result"
    }
   ],
   "source": [
    "np.multiply.outer(a,a)\n",
    "\n",
    "#créer une table de multiplication"
   ]
  },
  {
   "cell_type": "markdown",
   "metadata": {},
   "source": [
    "<div class=\"alert alert-info\">\n",
    "<h3>opérateurs trigonométrique; exponents, logarithms</h3></div>"
   ]
  },
  {
   "cell_type": "code",
   "execution_count": 46,
   "metadata": {},
   "outputs": [
    {
     "data": {
      "text/plain": [
       "array([0.        , 1.33333333, 2.66666667, 4.        ])"
      ]
     },
     "execution_count": 46,
     "metadata": {},
     "output_type": "execute_result"
    }
   ],
   "source": [
    "exmpl = np.linspace(0, 4, 4)\n",
    "exmpl"
   ]
  },
  {
   "cell_type": "code",
   "execution_count": null,
   "metadata": {},
   "outputs": [],
   "source": [
    "sin, cos, tan, arcsin, arccos, arctan\n",
    "\n",
    "np.sin(exmpl)\n",
    "np.cos(exmpl)\n",
    "np.tan(exmpl)\n",
    "\n",
    "exp, exp2, power, log, log2, log10\n",
    "\n",
    "np.exp(exmpl)\n",
    "np.exp2(exmpl)\n",
    "np.log(exmpl)\n",
    "np.log2(exmpl)\n",
    "np.power(exmpl, 2)"
   ]
  },
  {
   "cell_type": "code",
   "execution_count": 102,
   "metadata": {},
   "outputs": [
    {
     "data": {
      "text/plain": [
       "array([ 0.        ,  1.77777778,  7.11111111, 16.        ])"
      ]
     },
     "execution_count": 102,
     "metadata": {},
     "output_type": "execute_result"
    }
   ],
   "source": [
    "np.power(exmpl, 2)"
   ]
  },
  {
   "cell_type": "code",
   "execution_count": 101,
   "metadata": {},
   "outputs": [
    {
     "data": {
      "text/plain": [
       "array([ 0.        ,  0.9719379 ,  0.45727263, -0.7568025 ])"
      ]
     },
     "execution_count": 101,
     "metadata": {},
     "output_type": "execute_result"
    }
   ],
   "source": [
    "np.sin(exmpl)"
   ]
  },
  {
   "cell_type": "markdown",
   "metadata": {},
   "source": [
    "<div class=\"alert alert-info\">\n",
    "<h3>opérateurs sur les valuers manquantes</h3></div>"
   ]
  },
  {
   "cell_type": "markdown",
   "metadata": {},
   "source": [
    "<div class=\"alert alert-success\">\n",
    "<li>pandas marque les données manquantes avec NaN (pas un nombre) ou aucun (méthode du masque)\n",
    "<li>NaN / None - ne sont pas disponibles pour tous les types de données\n",
    "<li>-9999 (valeur sentinelle)\n",
    "<li>la valeur sentinelle réduit la plage de valeurs valides pouvant être représentées et peut nécessiter une logique supplémentaire dans l'arithmétique CPU et GPU</div>"
   ]
  },
  {
   "cell_type": "code",
   "execution_count": 47,
   "metadata": {},
   "outputs": [],
   "source": [
    "# quand quelque chose manque, pandas fusionne la cellule avec NaN:\n",
    "\n",
    "A = {'a':1, 'b':2}\n",
    "B = {'b':3, 'c':4}\n",
    "\n",
    "df_na = pandas.DataFrame([A, B])"
   ]
  },
  {
   "cell_type": "code",
   "execution_count": 48,
   "metadata": {},
   "outputs": [
    {
     "data": {
      "text/html": [
       "<div>\n",
       "<style scoped>\n",
       "    .dataframe tbody tr th:only-of-type {\n",
       "        vertical-align: middle;\n",
       "    }\n",
       "\n",
       "    .dataframe tbody tr th {\n",
       "        vertical-align: top;\n",
       "    }\n",
       "\n",
       "    .dataframe thead th {\n",
       "        text-align: right;\n",
       "    }\n",
       "</style>\n",
       "<table border=\"1\" class=\"dataframe\">\n",
       "  <thead>\n",
       "    <tr style=\"text-align: right;\">\n",
       "      <th></th>\n",
       "      <th>a</th>\n",
       "      <th>b</th>\n",
       "      <th>c</th>\n",
       "    </tr>\n",
       "  </thead>\n",
       "  <tbody>\n",
       "    <tr>\n",
       "      <th>0</th>\n",
       "      <td>1.0</td>\n",
       "      <td>2</td>\n",
       "      <td>NaN</td>\n",
       "    </tr>\n",
       "    <tr>\n",
       "      <th>1</th>\n",
       "      <td>NaN</td>\n",
       "      <td>3</td>\n",
       "      <td>4.0</td>\n",
       "    </tr>\n",
       "  </tbody>\n",
       "</table>\n",
       "</div>"
      ],
      "text/plain": [
       "     a  b    c\n",
       "0  1.0  2  NaN\n",
       "1  NaN  3  4.0"
      ]
     },
     "execution_count": 48,
     "metadata": {},
     "output_type": "execute_result"
    }
   ],
   "source": [
    "df_na"
   ]
  },
  {
   "cell_type": "code",
   "execution_count": 212,
   "metadata": {},
   "outputs": [
    {
     "data": {
      "text/plain": [
       "numpy.float64"
      ]
     },
     "execution_count": 212,
     "metadata": {},
     "output_type": "execute_result"
    }
   ],
   "source": [
    "type(df_na['a'][0])"
   ]
  },
  {
   "cell_type": "markdown",
   "metadata": {
    "slideshow": {
     "slide_type": "subslide"
    }
   },
   "source": [
    "<div class=\"alert alert-success\">\n",
    "<li>isnull()&nbsp;&nbsp;&nbsp;&nbsp; = générer un masque booléen indiquant les valeurs manquantes\n",
    "<li>notnull()&nbsp; = opposé à isnull()\n",
    "<li>dropna() = renvoie une version filtrée des données, les NaN sont supprimés\n",
    "<li>fillna()&nbsp;&nbsp;&nbsp;&nbsp; = renvoie une copie des données avec les valeurs manquantes renseignées ou imputées</div>"
   ]
  },
  {
   "cell_type": "code",
   "execution_count": 49,
   "metadata": {
    "scrolled": true
   },
   "outputs": [
    {
     "data": {
      "text/html": [
       "<div>\n",
       "<style scoped>\n",
       "    .dataframe tbody tr th:only-of-type {\n",
       "        vertical-align: middle;\n",
       "    }\n",
       "\n",
       "    .dataframe tbody tr th {\n",
       "        vertical-align: top;\n",
       "    }\n",
       "\n",
       "    .dataframe thead th {\n",
       "        text-align: right;\n",
       "    }\n",
       "</style>\n",
       "<table border=\"1\" class=\"dataframe\">\n",
       "  <thead>\n",
       "    <tr style=\"text-align: right;\">\n",
       "      <th></th>\n",
       "      <th>a</th>\n",
       "      <th>b</th>\n",
       "      <th>c</th>\n",
       "    </tr>\n",
       "  </thead>\n",
       "  <tbody>\n",
       "    <tr>\n",
       "      <th>0</th>\n",
       "      <td>False</td>\n",
       "      <td>False</td>\n",
       "      <td>True</td>\n",
       "    </tr>\n",
       "    <tr>\n",
       "      <th>1</th>\n",
       "      <td>True</td>\n",
       "      <td>False</td>\n",
       "      <td>False</td>\n",
       "    </tr>\n",
       "  </tbody>\n",
       "</table>\n",
       "</div>"
      ],
      "text/plain": [
       "       a      b      c\n",
       "0  False  False   True\n",
       "1   True  False  False"
      ]
     },
     "execution_count": 49,
     "metadata": {},
     "output_type": "execute_result"
    }
   ],
   "source": [
    "# df_na.isnull()\n",
    "\n",
    "df_na.isna()"
   ]
  },
  {
   "cell_type": "code",
   "execution_count": 50,
   "metadata": {
    "scrolled": false
   },
   "outputs": [
    {
     "data": {
      "text/html": [
       "<div>\n",
       "<style scoped>\n",
       "    .dataframe tbody tr th:only-of-type {\n",
       "        vertical-align: middle;\n",
       "    }\n",
       "\n",
       "    .dataframe tbody tr th {\n",
       "        vertical-align: top;\n",
       "    }\n",
       "\n",
       "    .dataframe thead th {\n",
       "        text-align: right;\n",
       "    }\n",
       "</style>\n",
       "<table border=\"1\" class=\"dataframe\">\n",
       "  <thead>\n",
       "    <tr style=\"text-align: right;\">\n",
       "      <th></th>\n",
       "      <th>a</th>\n",
       "      <th>b</th>\n",
       "      <th>c</th>\n",
       "    </tr>\n",
       "  </thead>\n",
       "  <tbody>\n",
       "    <tr>\n",
       "      <th>0</th>\n",
       "      <td>True</td>\n",
       "      <td>True</td>\n",
       "      <td>False</td>\n",
       "    </tr>\n",
       "    <tr>\n",
       "      <th>1</th>\n",
       "      <td>False</td>\n",
       "      <td>True</td>\n",
       "      <td>True</td>\n",
       "    </tr>\n",
       "  </tbody>\n",
       "</table>\n",
       "</div>"
      ],
      "text/plain": [
       "       a     b      c\n",
       "0   True  True  False\n",
       "1  False  True   True"
      ]
     },
     "execution_count": 50,
     "metadata": {},
     "output_type": "execute_result"
    }
   ],
   "source": [
    "df_na.notnull()\n",
    "# df_na.notna()"
   ]
  },
  {
   "cell_type": "code",
   "execution_count": 51,
   "metadata": {},
   "outputs": [
    {
     "data": {
      "text/html": [
       "<div>\n",
       "<style scoped>\n",
       "    .dataframe tbody tr th:only-of-type {\n",
       "        vertical-align: middle;\n",
       "    }\n",
       "\n",
       "    .dataframe tbody tr th {\n",
       "        vertical-align: top;\n",
       "    }\n",
       "\n",
       "    .dataframe thead th {\n",
       "        text-align: right;\n",
       "    }\n",
       "</style>\n",
       "<table border=\"1\" class=\"dataframe\">\n",
       "  <thead>\n",
       "    <tr style=\"text-align: right;\">\n",
       "      <th></th>\n",
       "      <th>a</th>\n",
       "      <th>b</th>\n",
       "      <th>c</th>\n",
       "    </tr>\n",
       "  </thead>\n",
       "  <tbody>\n",
       "  </tbody>\n",
       "</table>\n",
       "</div>"
      ],
      "text/plain": [
       "Empty DataFrame\n",
       "Columns: [a, b, c]\n",
       "Index: []"
      ]
     },
     "execution_count": 51,
     "metadata": {},
     "output_type": "execute_result"
    }
   ],
   "source": [
    "df_na.dropna()\n",
    "\n",
    "# supprime les colonnes où au moins un élément est manquant"
   ]
  },
  {
   "cell_type": "code",
   "execution_count": 52,
   "metadata": {},
   "outputs": [
    {
     "data": {
      "text/plain": [
       "True"
      ]
     },
     "execution_count": 52,
     "metadata": {},
     "output_type": "execute_result"
    }
   ],
   "source": [
    "df_na['a'].isnull().values.any()\n",
    "\n",
    "# df_na.a.isnull().values.any()"
   ]
  },
  {
   "cell_type": "code",
   "execution_count": 246,
   "metadata": {},
   "outputs": [],
   "source": [
    "#df_na['a']"
   ]
  },
  {
   "cell_type": "code",
   "execution_count": 53,
   "metadata": {},
   "outputs": [
    {
     "data": {
      "text/plain": [
       "0    1.0\n",
       "1    0.0\n",
       "Name: a, dtype: float64"
      ]
     },
     "execution_count": 53,
     "metadata": {},
     "output_type": "execute_result"
    }
   ],
   "source": [
    "df_na['a'].fillna(0)"
   ]
  },
  {
   "cell_type": "code",
   "execution_count": 54,
   "metadata": {
    "scrolled": true
   },
   "outputs": [
    {
     "data": {
      "text/plain": [
       "0    1.0\n",
       "1    3.0\n",
       "Name: a, dtype: float64"
      ]
     },
     "execution_count": 54,
     "metadata": {},
     "output_type": "execute_result"
    }
   ],
   "source": [
    "df_na['a'].fillna(3)"
   ]
  },
  {
   "cell_type": "code",
   "execution_count": 250,
   "metadata": {},
   "outputs": [],
   "source": [
    "#df_na.fillna(0)"
   ]
  },
  {
   "cell_type": "code",
   "execution_count": 55,
   "metadata": {},
   "outputs": [
    {
     "data": {
      "text/html": [
       "<div>\n",
       "<style scoped>\n",
       "    .dataframe tbody tr th:only-of-type {\n",
       "        vertical-align: middle;\n",
       "    }\n",
       "\n",
       "    .dataframe tbody tr th {\n",
       "        vertical-align: top;\n",
       "    }\n",
       "\n",
       "    .dataframe thead th {\n",
       "        text-align: right;\n",
       "    }\n",
       "</style>\n",
       "<table border=\"1\" class=\"dataframe\">\n",
       "  <thead>\n",
       "    <tr style=\"text-align: right;\">\n",
       "      <th></th>\n",
       "      <th>number</th>\n",
       "      <th>orbital_period</th>\n",
       "      <th>mass</th>\n",
       "      <th>distance</th>\n",
       "      <th>year</th>\n",
       "    </tr>\n",
       "  </thead>\n",
       "  <tbody>\n",
       "    <tr>\n",
       "      <th>count</th>\n",
       "      <td>498.00000</td>\n",
       "      <td>498.000000</td>\n",
       "      <td>498.000000</td>\n",
       "      <td>498.000000</td>\n",
       "      <td>498.000000</td>\n",
       "    </tr>\n",
       "    <tr>\n",
       "      <th>mean</th>\n",
       "      <td>1.73494</td>\n",
       "      <td>835.778671</td>\n",
       "      <td>2.509320</td>\n",
       "      <td>52.068213</td>\n",
       "      <td>2007.377510</td>\n",
       "    </tr>\n",
       "    <tr>\n",
       "      <th>std</th>\n",
       "      <td>1.17572</td>\n",
       "      <td>1469.128259</td>\n",
       "      <td>3.636274</td>\n",
       "      <td>46.596041</td>\n",
       "      <td>4.167284</td>\n",
       "    </tr>\n",
       "    <tr>\n",
       "      <th>min</th>\n",
       "      <td>1.00000</td>\n",
       "      <td>1.328300</td>\n",
       "      <td>0.003600</td>\n",
       "      <td>1.350000</td>\n",
       "      <td>1989.000000</td>\n",
       "    </tr>\n",
       "    <tr>\n",
       "      <th>25%</th>\n",
       "      <td>1.00000</td>\n",
       "      <td>38.272250</td>\n",
       "      <td>0.212500</td>\n",
       "      <td>24.497500</td>\n",
       "      <td>2005.000000</td>\n",
       "    </tr>\n",
       "    <tr>\n",
       "      <th>50%</th>\n",
       "      <td>1.00000</td>\n",
       "      <td>357.000000</td>\n",
       "      <td>1.245000</td>\n",
       "      <td>39.940000</td>\n",
       "      <td>2009.000000</td>\n",
       "    </tr>\n",
       "    <tr>\n",
       "      <th>75%</th>\n",
       "      <td>2.00000</td>\n",
       "      <td>999.600000</td>\n",
       "      <td>2.867500</td>\n",
       "      <td>59.332500</td>\n",
       "      <td>2011.000000</td>\n",
       "    </tr>\n",
       "    <tr>\n",
       "      <th>max</th>\n",
       "      <td>6.00000</td>\n",
       "      <td>17337.500000</td>\n",
       "      <td>25.000000</td>\n",
       "      <td>354.000000</td>\n",
       "      <td>2014.000000</td>\n",
       "    </tr>\n",
       "  </tbody>\n",
       "</table>\n",
       "</div>"
      ],
      "text/plain": [
       "          number  orbital_period        mass    distance         year\n",
       "count  498.00000      498.000000  498.000000  498.000000   498.000000\n",
       "mean     1.73494      835.778671    2.509320   52.068213  2007.377510\n",
       "std      1.17572     1469.128259    3.636274   46.596041     4.167284\n",
       "min      1.00000        1.328300    0.003600    1.350000  1989.000000\n",
       "25%      1.00000       38.272250    0.212500   24.497500  2005.000000\n",
       "50%      1.00000      357.000000    1.245000   39.940000  2009.000000\n",
       "75%      2.00000      999.600000    2.867500   59.332500  2011.000000\n",
       "max      6.00000    17337.500000   25.000000  354.000000  2014.000000"
      ]
     },
     "execution_count": 55,
     "metadata": {},
     "output_type": "execute_result"
    }
   ],
   "source": [
    "planets.dropna().describe()"
   ]
  },
  {
   "cell_type": "code",
   "execution_count": null,
   "metadata": {},
   "outputs": [],
   "source": [
    "# plus d'informations ici:\n",
    "\n",
    "https://pandas.pydata.org/pandas-docs/stable/reference/api/pandas.DataFrame.dropna.html"
   ]
  },
  {
   "cell_type": "markdown",
   "metadata": {},
   "source": [
    "<div class=\"alert alert-danger\">\n",
    "<b>les commandes et codes à apprendre par cœur </b></div>"
   ]
  },
  {
   "cell_type": "raw",
   "metadata": {},
   "source": [
    "OPÉRATEURS:\n",
    "    == != < > <= >=\n",
    "    and or not\n",
    "    is, is not\n",
    "    in, not in\n",
    "    & |\n",
    "    astype()\n",
    "    PANDAS:\n",
    "        df[df.COL > int]\n",
    "        df.loc[df.COL > int, ['COL1', 'COL2']].head()\n",
    "        dfc[(dfc.COL>int) & (df.COL<int]\n",
    "        count, first, last, mean, median, min, max, sum, std, var, mad, prod\n",
    "        mean(), add(), sub(), substract(), mul(), multiply(), div(), divide()\n",
    "        df.COL.mean()\n",
    "        df['COL'] = df_qc['COL1'].subtract(df_qc['COL2'])\n",
    "        NAN:\n",
    "            isnull, notnull, dropna, fillna\n",
    "            isnull().values.any()\n",
    "    NUMPY:\n",
    "        np.min\n",
    "        np.max\n",
    "        np.sum\n",
    "        np.mean\n",
    "        np.std\n",
    "        np.any\n",
    "        np.all\n",
    "        np.percentile\n",
    "        np.add\n",
    "        np.subtract\n",
    "        np.negative\n",
    "        np.multiply\n",
    "        np.divide"
   ]
  }
 ],
 "metadata": {
  "anaconda-cloud": {},
  "celltoolbar": "Slideshow",
  "kernelspec": {
   "display_name": "Python 3 (ipykernel)",
   "language": "python",
   "name": "python3"
  },
  "language_info": {
   "codemirror_mode": {
    "name": "ipython",
    "version": 3
   },
   "file_extension": ".py",
   "mimetype": "text/x-python",
   "name": "python",
   "nbconvert_exporter": "python",
   "pygments_lexer": "ipython3",
   "version": "3.11.7"
  }
 },
 "nbformat": 4,
 "nbformat_minor": 2
}
