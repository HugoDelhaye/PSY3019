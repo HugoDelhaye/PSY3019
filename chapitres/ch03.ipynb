{
 "cells": [
  {
   "cell_type": "markdown",
   "metadata": {},
   "source": [
    "<div class=\"alert alert-info\">\n",
    "\n",
    "# PSY 3019/6973-G-H24\n",
    "# Cueillette et traitement des données en neurosciences cognitives\n",
    "## Chapitre 3: Modification de données\n",
    "<p>\n",
    "<li> Modification des données\n",
    "<li> Combinaison des données\n",
    "<li> Pandas groupby"
   ]
  },
  {
   "cell_type": "markdown",
   "metadata": {},
   "source": [
    "<div class=\"alert alert-info\">\n",
    "<h3>Modifications de données</h3></div>"
   ]
  },
  {
   "cell_type": "markdown",
   "metadata": {},
   "source": [
    "<div class=\"alert alert-warning\">\n",
    "<h3>modification des valeurs des chaînes</h3>\n",
    "</div>"
   ]
  },
  {
   "cell_type": "code",
   "execution_count": 1,
   "metadata": {},
   "outputs": [
    {
     "data": {
      "text/plain": [
       "'bonjour'"
      ]
     },
     "execution_count": 1,
     "metadata": {},
     "output_type": "execute_result"
    }
   ],
   "source": [
    "a = \"bonjour\"\n",
    "a"
   ]
  },
  {
   "cell_type": "code",
   "execution_count": 2,
   "metadata": {},
   "outputs": [
    {
     "ename": "TypeError",
     "evalue": "'str' object does not support item assignment",
     "output_type": "error",
     "traceback": [
      "\u001b[0;31m--------------------------------------------------------------\u001b[0m",
      "\u001b[0;31mTypeError\u001b[0m                    Traceback (most recent call last)",
      "\u001b[0;32m<ipython-input-2-c9abe6dfb806>\u001b[0m in \u001b[0;36m<module>\u001b[0;34m\u001b[0m\n\u001b[0;32m----> 1\u001b[0;31m \u001b[0ma\u001b[0m\u001b[0;34m[\u001b[0m\u001b[0;36m3\u001b[0m\u001b[0;34m]\u001b[0m \u001b[0;34m=\u001b[0m \u001b[0;34m\"T\"\u001b[0m\u001b[0;34m\u001b[0m\u001b[0;34m\u001b[0m\u001b[0m\n\u001b[0m\u001b[1;32m      2\u001b[0m \u001b[0;34m\u001b[0m\u001b[0m\n\u001b[1;32m      3\u001b[0m \u001b[0;31m# la chaîne est un objet immuable\u001b[0m\u001b[0;34m\u001b[0m\u001b[0;34m\u001b[0m\u001b[0m\n",
      "\u001b[0;31mTypeError\u001b[0m: 'str' object does not support item assignment"
     ]
    }
   ],
   "source": [
    "a[3] = \"T\"\n",
    "\n",
    "# la chaîne est un objet immuable"
   ]
  },
  {
   "cell_type": "code",
   "execution_count": 4,
   "metadata": {},
   "outputs": [
    {
     "data": {
      "text/plain": [
       "3"
      ]
     },
     "execution_count": 4,
     "metadata": {},
     "output_type": "execute_result"
    }
   ],
   "source": [
    "a.index(\"j\")"
   ]
  },
  {
   "cell_type": "code",
   "execution_count": 3,
   "metadata": {},
   "outputs": [
    {
     "data": {
      "text/plain": [
       "'bonTour'"
      ]
     },
     "execution_count": 3,
     "metadata": {},
     "output_type": "execute_result"
    }
   ],
   "source": [
    "# remplacement des données dans la chaîne\n",
    "\n",
    "a.replace(\"njo\",\"nTo\")"
   ]
  },
  {
   "cell_type": "code",
   "execution_count": 4,
   "metadata": {},
   "outputs": [
    {
     "data": {
      "text/plain": [
       "['bo', 'jour']"
      ]
     },
     "execution_count": 4,
     "metadata": {},
     "output_type": "execute_result"
    }
   ],
   "source": [
    "# chaîne -> liste\n",
    "\n",
    "a.split(\"n\")"
   ]
  },
  {
   "cell_type": "markdown",
   "metadata": {},
   "source": [
    "<div class=\"alert alert-warning\">\n",
    "<h3>modification des valeurs d'une liste</h3>\n",
    "</div>"
   ]
  },
  {
   "cell_type": "code",
   "execution_count": 6,
   "metadata": {},
   "outputs": [],
   "source": [
    "ls1 = [3, 2, 1, 0]"
   ]
  },
  {
   "cell_type": "code",
   "execution_count": 7,
   "metadata": {},
   "outputs": [
    {
     "data": {
      "text/plain": [
       "[3, 2, 1, 0, 'text-ver2']"
      ]
     },
     "execution_count": 7,
     "metadata": {},
     "output_type": "execute_result"
    }
   ],
   "source": [
    "# ajout de données\n",
    "\n",
    "ls1.append('text-ver2')\n",
    "ls1"
   ]
  },
  {
   "cell_type": "code",
   "execution_count": 8,
   "metadata": {},
   "outputs": [
    {
     "name": "stdout",
     "output_type": "stream",
     "text": [
      "[3, 7, 1, 0, 'text-ver2']\n"
     ]
    }
   ],
   "source": [
    "# changement de données\n",
    "\n",
    "ls1[1] = 7\n",
    "print(ls1)"
   ]
  },
  {
   "cell_type": "code",
   "execution_count": null,
   "metadata": {},
   "outputs": [],
   "source": [
    "# faire des copies\n",
    "\n",
    "ls2 = ls1.copy()"
   ]
  },
  {
   "cell_type": "code",
   "execution_count": 26,
   "metadata": {},
   "outputs": [],
   "source": [
    "ls1.remove(3)"
   ]
  },
  {
   "cell_type": "code",
   "execution_count": 28,
   "metadata": {},
   "outputs": [],
   "source": [
    "# ls1"
   ]
  },
  {
   "cell_type": "code",
   "execution_count": 23,
   "metadata": {},
   "outputs": [],
   "source": [
    "ls1 = [3, 2, 1, 0]\n",
    "\n",
    "ls1.pop(2)\n",
    "ls1"
   ]
  },
  {
   "cell_type": "code",
   "execution_count": 9,
   "metadata": {},
   "outputs": [
    {
     "data": {
      "text/plain": [
       "[0, 1, 2, 3]"
      ]
     },
     "execution_count": 9,
     "metadata": {},
     "output_type": "execute_result"
    }
   ],
   "source": [
    "ls1 = [3, 2, 1, 0]\n",
    "\n",
    "ls1.sort()\n",
    "ls1"
   ]
  },
  {
   "cell_type": "code",
   "execution_count": 28,
   "metadata": {},
   "outputs": [],
   "source": [
    "ls1.reverse()\n",
    "ls1"
   ]
  },
  {
   "cell_type": "markdown",
   "metadata": {},
   "source": [
    "<div class=\"alert alert-warning\">\n",
    "<h3>modification des valeurs d'un tuple</h3>\n",
    "</div>"
   ]
  },
  {
   "cell_type": "code",
   "execution_count": 10,
   "metadata": {},
   "outputs": [
    {
     "ename": "TypeError",
     "evalue": "'tuple' object does not support item assignment",
     "output_type": "error",
     "traceback": [
      "\u001b[0;31m--------------------------------------------------------------\u001b[0m",
      "\u001b[0;31mTypeError\u001b[0m                    Traceback (most recent call last)",
      "\u001b[0;32m<ipython-input-10-80771549369b>\u001b[0m in \u001b[0;36m<module>\u001b[0;34m\u001b[0m\n\u001b[1;32m      1\u001b[0m \u001b[0mtup1\u001b[0m \u001b[0;34m=\u001b[0m \u001b[0;34m(\u001b[0m\u001b[0;36m3\u001b[0m\u001b[0;34m,\u001b[0m \u001b[0;36m2\u001b[0m\u001b[0;34m,\u001b[0m \u001b[0;36m1\u001b[0m\u001b[0;34m,\u001b[0m \u001b[0;36m0\u001b[0m\u001b[0;34m)\u001b[0m\u001b[0;34m\u001b[0m\u001b[0;34m\u001b[0m\u001b[0m\n\u001b[0;32m----> 2\u001b[0;31m \u001b[0mtup1\u001b[0m\u001b[0;34m[\u001b[0m\u001b[0;36m1\u001b[0m\u001b[0;34m]\u001b[0m \u001b[0;34m=\u001b[0m \u001b[0;36m7\u001b[0m\u001b[0;34m\u001b[0m\u001b[0;34m\u001b[0m\u001b[0m\n\u001b[0m",
      "\u001b[0;31mTypeError\u001b[0m: 'tuple' object does not support item assignment"
     ]
    }
   ],
   "source": [
    "tup1 = (3, 2, 1, 0)\n",
    "tup1[1] = 7"
   ]
  },
  {
   "cell_type": "code",
   "execution_count": 11,
   "metadata": {},
   "outputs": [
    {
     "name": "stdout",
     "output_type": "stream",
     "text": [
      "(3, 2, 1, 0)\n"
     ]
    }
   ],
   "source": [
    "# faire des copies\n",
    "\n",
    "tup2 = tup1\n",
    "print(tup2)"
   ]
  },
  {
   "cell_type": "code",
   "execution_count": 12,
   "metadata": {},
   "outputs": [
    {
     "ename": "AttributeError",
     "evalue": "'tuple' object has no attribute 'remove'",
     "output_type": "error",
     "traceback": [
      "\u001b[0;31m--------------------------------------------------------------\u001b[0m",
      "\u001b[0;31mAttributeError\u001b[0m               Traceback (most recent call last)",
      "\u001b[0;32m<ipython-input-12-7311ddce6a90>\u001b[0m in \u001b[0;36m<module>\u001b[0;34m\u001b[0m\n\u001b[0;32m----> 1\u001b[0;31m \u001b[0mtup1\u001b[0m\u001b[0;34m.\u001b[0m\u001b[0mremove\u001b[0m\u001b[0;34m(\u001b[0m\u001b[0;36m3\u001b[0m\u001b[0;34m)\u001b[0m\u001b[0;34m\u001b[0m\u001b[0;34m\u001b[0m\u001b[0m\n\u001b[0m\u001b[1;32m      2\u001b[0m \u001b[0;34m\u001b[0m\u001b[0m\n\u001b[1;32m      3\u001b[0m \u001b[0;31m# Les tuples ne peuvent être changés, une fois définis\u001b[0m\u001b[0;34m\u001b[0m\u001b[0;34m\u001b[0m\u001b[0m\n\u001b[1;32m      4\u001b[0m \u001b[0;31m# Les tuples sont habituellement plus rapides que les listes\u001b[0m\u001b[0;34m\u001b[0m\u001b[0;34m\u001b[0m\u001b[0m\n",
      "\u001b[0;31mAttributeError\u001b[0m: 'tuple' object has no attribute 'remove'"
     ]
    }
   ],
   "source": [
    "tup1.remove(3)\n",
    "\n",
    "# Les tuples ne peuvent être changés, une fois définis\n",
    "# Les tuples sont habituellement plus rapides que les listes"
   ]
  },
  {
   "cell_type": "markdown",
   "metadata": {},
   "source": [
    "<div class=\"alert alert-warning\">\n",
    "<h3>modification des valeurs d'un dictionnaire</h3>\n",
    "</div>"
   ]
  },
  {
   "cell_type": "code",
   "execution_count": 18,
   "metadata": {},
   "outputs": [
    {
     "data": {
      "text/plain": [
       "{'cle1': 'variable',\n",
       " 'cle2': [],\n",
       " 'cle3': [1, 2, 3],\n",
       " 'cle4': ('a', 'b'),\n",
       " 'autre': 'valeur2'}"
      ]
     },
     "execution_count": 18,
     "metadata": {},
     "output_type": "execute_result"
    }
   ],
   "source": [
    "# ajout des valeurs\n",
    "d1 = {\n",
    "    'cle1':'variable',\n",
    "    'cle2':[],\n",
    "    'cle3': [1,2,3],\n",
    "    'cle4': ('a', 'b',)\n",
    "    }\n",
    "\n",
    "d1['autre'] = 'valeur2'\n",
    "d1"
   ]
  },
  {
   "cell_type": "code",
   "execution_count": 14,
   "metadata": {},
   "outputs": [
    {
     "data": {
      "text/plain": [
       "'var 2'"
      ]
     },
     "execution_count": 14,
     "metadata": {},
     "output_type": "execute_result"
    }
   ],
   "source": [
    "# changements des valeurs:\n",
    "\n",
    "d1['cle1'] = 'var 2'\n",
    "d1['cle1']"
   ]
  },
  {
   "cell_type": "code",
   "execution_count": 42,
   "metadata": {},
   "outputs": [
    {
     "data": {
      "text/plain": [
       "[1, 2, 3]"
      ]
     },
     "execution_count": 42,
     "metadata": {},
     "output_type": "execute_result"
    }
   ],
   "source": [
    "# donnee la valeur de la clé SI elle existe\n",
    "\n",
    "var = d1.get('cle3')\n",
    "var"
   ]
  },
  {
   "cell_type": "code",
   "execution_count": null,
   "metadata": {},
   "outputs": [],
   "source": [
    "# supprimer une clé du dictionnaire SI elle existe\n",
    "\n",
    "d1.pop('cle4')\n",
    "d1"
   ]
  },
  {
   "cell_type": "code",
   "execution_count": 15,
   "metadata": {},
   "outputs": [
    {
     "data": {
      "text/plain": [
       "{'cle1': 'variable', 'cle2': [], 'cle3': [1, 2, 3]}"
      ]
     },
     "execution_count": 15,
     "metadata": {},
     "output_type": "execute_result"
    }
   ],
   "source": [
    "d1 = {\n",
    "    'cle1':'variable',\n",
    "    'cle2':[],\n",
    "    'cle3': [1,2,3],\n",
    "    'cle4': ('a', 'b',)\n",
    "    }\n",
    "\n",
    "del d1['cle4']\n",
    "d1"
   ]
  },
  {
   "cell_type": "code",
   "execution_count": 19,
   "metadata": {},
   "outputs": [
    {
     "name": "stdout",
     "output_type": "stream",
     "text": [
      "5 8\n"
     ]
    }
   ],
   "source": [
    "print(len(d1), len(d1['cle1']))"
   ]
  },
  {
   "cell_type": "code",
   "execution_count": 16,
   "metadata": {},
   "outputs": [
    {
     "data": {
      "text/plain": [
       "{}"
      ]
     },
     "execution_count": 16,
     "metadata": {},
     "output_type": "execute_result"
    }
   ],
   "source": [
    "# supprimer tous les élements du dictionnaire\n",
    "\n",
    "d1.clear()\n",
    "d1"
   ]
  },
  {
   "cell_type": "code",
   "execution_count": 20,
   "metadata": {},
   "outputs": [],
   "source": [
    "# faire des copies\n",
    "\n",
    "d3 = d1"
   ]
  },
  {
   "cell_type": "code",
   "execution_count": 21,
   "metadata": {},
   "outputs": [
    {
     "data": {
      "text/plain": [
       "{'cle1': 'variable',\n",
       " 'cle2': [],\n",
       " 'cle3': [1, 2, 3],\n",
       " 'cle4': ('a', 'b'),\n",
       " 'autre': 'valeur2'}"
      ]
     },
     "execution_count": 21,
     "metadata": {},
     "output_type": "execute_result"
    }
   ],
   "source": [
    "d1"
   ]
  },
  {
   "cell_type": "code",
   "execution_count": 22,
   "metadata": {},
   "outputs": [
    {
     "data": {
      "text/plain": [
       "{'cle1': 'variable',\n",
       " 'cle2': [],\n",
       " 'cle3': [1, 2, 3],\n",
       " 'cle4': ('a', 'b'),\n",
       " 'autre': 'valeur2'}"
      ]
     },
     "execution_count": 22,
     "metadata": {},
     "output_type": "execute_result"
    }
   ],
   "source": [
    "d3"
   ]
  },
  {
   "cell_type": "code",
   "execution_count": 23,
   "metadata": {},
   "outputs": [
    {
     "data": {
      "text/plain": [
       "{'cle1': 'variable',\n",
       " 'cle2': [],\n",
       " 'cle3': [1, 2, 3],\n",
       " 'cle4': ('a', 'b'),\n",
       " 'autre': 'valeur2',\n",
       " 'kqyky': 4.0}"
      ]
     },
     "execution_count": 23,
     "metadata": {},
     "output_type": "execute_result"
    }
   ],
   "source": [
    "d3['kqyky'] = 4.0\n",
    "d3"
   ]
  },
  {
   "cell_type": "code",
   "execution_count": 24,
   "metadata": {},
   "outputs": [
    {
     "data": {
      "text/plain": [
       "{'cle1': 'variable',\n",
       " 'cle2': [],\n",
       " 'cle3': [1, 2, 3],\n",
       " 'cle4': ('a', 'b'),\n",
       " 'autre': 'valeur2',\n",
       " 'kqyky': 4.0}"
      ]
     },
     "execution_count": 24,
     "metadata": {},
     "output_type": "execute_result"
    }
   ],
   "source": [
    "d1"
   ]
  },
  {
   "cell_type": "code",
   "execution_count": 16,
   "metadata": {},
   "outputs": [],
   "source": [
    "# créer une copie superficielle\n",
    "\n",
    "d3 = d1.copy()"
   ]
  },
  {
   "cell_type": "code",
   "execution_count": null,
   "metadata": {},
   "outputs": [],
   "source": [
    "# créer une copie complète\n",
    "\n",
    "d3 = d1.deepcopy()"
   ]
  },
  {
   "cell_type": "code",
   "execution_count": null,
   "metadata": {},
   "outputs": [],
   "source": [
    "import copy\n",
    "d3 = copy.deepcopy(d1)\n",
    "\n",
    "# Il faut créer une copie indépendante\n",
    "# Sinon, les modifications apportées au dictionnaire copié\n",
    "# vont également être envoyées à la version d'origine"
   ]
  },
  {
   "cell_type": "code",
   "execution_count": null,
   "metadata": {},
   "outputs": [],
   "source": [
    "# plus d'info sur la différence entre copy et deepcopy\n",
    "\n",
    "https://thispointer.com/python-how-to-copy-a-dictionary-shallow-copy-vs-deep-copy/\n",
    "https://stackabuse.com/deep-vs-shallow-copies-in-python/#:~:text=Deep%20copy%20stores%20copies%20of%20an%20object's%20values,,implementation,%20I'd%20like%20you%20to%20imagine%20this%20scenario.\n",
    "http://tech.quebecblogue.com/python-tips-copie-superficielle-copie-profonde-dans-python3/\n",
    "https://www.ipgirl.com/675/quelle-est-la-difference-entre-une-copie-profonde-et-une-copie-superficielle.html    "
   ]
  },
  {
   "cell_type": "markdown",
   "metadata": {},
   "source": [
    "<div class=\"alert alert-warning\">\n",
    "<h3>modification des valeurs d'un pandas DataFrame</h3>\n",
    "    <li>loc (location)\n",
    "    <li>iloc (index location)\n",
    "    <li>at\n",
    "</div>"
   ]
  },
  {
   "cell_type": "code",
   "execution_count": 25,
   "metadata": {
    "slideshow": {
     "slide_type": "fragment"
    }
   },
   "outputs": [],
   "source": [
    "import pandas"
   ]
  },
  {
   "cell_type": "code",
   "execution_count": 28,
   "metadata": {},
   "outputs": [],
   "source": [
    "fichier = 'data/projinfrarechrapprou20200527.csv'\n",
    "df_qc = pandas.read_csv(fichier)"
   ]
  },
  {
   "cell_type": "code",
   "execution_count": 29,
   "metadata": {},
   "outputs": [
    {
     "data": {
      "text/plain": [
       "'École Polytechnique de Montréal'"
      ]
     },
     "execution_count": 29,
     "metadata": {},
     "output_type": "execute_result"
    }
   ],
   "source": [
    "df_qc.ETABLISSEMENT[1]"
   ]
  },
  {
   "cell_type": "code",
   "execution_count": 30,
   "metadata": {},
   "outputs": [
    {
     "data": {
      "text/plain": [
       "0       Université du Québec à Chicoutimi (UQAC)\n",
       "1                École Polytechnique de Montréal\n",
       "2                       Université de Sherbrooke\n",
       "3                       Université de Sherbrooke\n",
       "4                               Université Laval\n",
       "                          ...                   \n",
       "1310                      Université de Montréal\n",
       "1311                      Université de Montréal\n",
       "1312             École Polytechnique de Montréal\n",
       "1313                      Université de Montréal\n",
       "1314      Université du Québec à Rimouski (UQAR)\n",
       "Name: ETABLISSEMENT, Length: 1315, dtype: object"
      ]
     },
     "execution_count": 30,
     "metadata": {},
     "output_type": "execute_result"
    }
   ],
   "source": [
    "# pour montrer la colonne\n",
    "\n",
    "df_qc['ETABLISSEMENT']"
   ]
  },
  {
   "cell_type": "code",
   "execution_count": 31,
   "metadata": {},
   "outputs": [
    {
     "data": {
      "text/plain": [
       "0       Université du Québec à Chicoutimi (UQAC)\n",
       "1                École Polytechnique de Montréal\n",
       "2                       Université de Sherbrooke\n",
       "3                       Université de Sherbrooke\n",
       "4                               Université Laval\n",
       "                          ...                   \n",
       "1310                      Université de Montréal\n",
       "1311                      Université de Montréal\n",
       "1312             École Polytechnique de Montréal\n",
       "1313                      Université de Montréal\n",
       "1314      Université du Québec à Rimouski (UQAR)\n",
       "Name: ETABLISSEMENT, Length: 1315, dtype: object"
      ]
     },
     "execution_count": 31,
     "metadata": {},
     "output_type": "execute_result"
    }
   ],
   "source": [
    "# semblable à la précédente; loc = location\n",
    "    \n",
    "df_qc.loc[:, 'ETABLISSEMENT']"
   ]
  },
  {
   "cell_type": "code",
   "execution_count": 32,
   "metadata": {},
   "outputs": [
    {
     "data": {
      "text/html": [
       "<div>\n",
       "<style scoped>\n",
       "    .dataframe tbody tr th:only-of-type {\n",
       "        vertical-align: middle;\n",
       "    }\n",
       "\n",
       "    .dataframe tbody tr th {\n",
       "        vertical-align: top;\n",
       "    }\n",
       "\n",
       "    .dataframe thead th {\n",
       "        text-align: right;\n",
       "    }\n",
       "</style>\n",
       "<table border=\"1\" class=\"dataframe\">\n",
       "  <thead>\n",
       "    <tr style=\"text-align: right;\">\n",
       "      <th></th>\n",
       "      <th>REGION_ADMINISTRATIVE</th>\n",
       "      <th>ETABLISSEMENT</th>\n",
       "      <th>ETABLISSEMENT_PARTENAIRE</th>\n",
       "      <th>ANNEE_FINANCIERE</th>\n",
       "      <th>PROGRAMME</th>\n",
       "      <th>VOLET</th>\n",
       "      <th>RESPONSABLE_DU_PROJET</th>\n",
       "      <th>TITRE</th>\n",
       "      <th>RESEAU</th>\n",
       "      <th>MONTANT_MEES</th>\n",
       "      <th>MONTANT_MSSS</th>\n",
       "      <th>MONTANT_MEI</th>\n",
       "      <th>MONTANT_TOTAL_QUEBEC</th>\n",
       "      <th>COUT_TOTAL</th>\n",
       "      <th>SECTEUR</th>\n",
       "      <th>DOMAINE_STRATEGIQUE</th>\n",
       "      <th>DOMAINE_PRIMAIRE</th>\n",
       "      <th>DISCIPLINE_PRIMAIRE</th>\n",
       "    </tr>\n",
       "  </thead>\n",
       "  <tbody>\n",
       "    <tr>\n",
       "      <th>1</th>\n",
       "      <td>Montréal</td>\n",
       "      <td>École Polytechnique de Montréal</td>\n",
       "      <td>NaN</td>\n",
       "      <td>2009-2010</td>\n",
       "      <td>Fonds des initiatives nouvelles</td>\n",
       "      <td>NaN</td>\n",
       "      <td>Ludvik MARTINU</td>\n",
       "      <td>Système de revêtements intelligents pour des s...</td>\n",
       "      <td>MEES</td>\n",
       "      <td>1067986.0</td>\n",
       "      <td>NaN</td>\n",
       "      <td>NaN</td>\n",
       "      <td>1067986</td>\n",
       "      <td>2725474</td>\n",
       "      <td>Sciences naturelles et génie</td>\n",
       "      <td>Nanosciences et nanotechnologies</td>\n",
       "      <td>Technique de production</td>\n",
       "      <td>Science et technologie des matériaux</td>\n",
       "    </tr>\n",
       "    <tr>\n",
       "      <th>2</th>\n",
       "      <td>Estrie</td>\n",
       "      <td>Université de Sherbrooke</td>\n",
       "      <td>NaN</td>\n",
       "      <td>2009-2010</td>\n",
       "      <td>Fonds des initiatives nouvelles</td>\n",
       "      <td>NaN</td>\n",
       "      <td>André Dieter BANDRAUK</td>\n",
       "      <td>Infrastructure pour modélisation et visualisat...</td>\n",
       "      <td>MEES</td>\n",
       "      <td>2377939.0</td>\n",
       "      <td>NaN</td>\n",
       "      <td>NaN</td>\n",
       "      <td>2377939</td>\n",
       "      <td>5944847</td>\n",
       "      <td>Sciences naturelles et génie</td>\n",
       "      <td>TIC (télécommunications, multimédia, logiciels...</td>\n",
       "      <td>Produits de l'industrie chimique</td>\n",
       "      <td>Chimie physique</td>\n",
       "    </tr>\n",
       "    <tr>\n",
       "      <th>3</th>\n",
       "      <td>Estrie</td>\n",
       "      <td>Université de Sherbrooke</td>\n",
       "      <td>NaN</td>\n",
       "      <td>2009-2010</td>\n",
       "      <td>Fonds des initiatives nouvelles</td>\n",
       "      <td>NaN</td>\n",
       "      <td>Alain BERRY</td>\n",
       "      <td>Vibroacoustique des structures multi-matériaux...</td>\n",
       "      <td>MEES</td>\n",
       "      <td>1644690.0</td>\n",
       "      <td>NaN</td>\n",
       "      <td>NaN</td>\n",
       "      <td>1644690</td>\n",
       "      <td>4248206</td>\n",
       "      <td>Sciences naturelles et génie</td>\n",
       "      <td>Matériaux de pointe (métaux légers)</td>\n",
       "      <td>Bruit et vibrations</td>\n",
       "      <td>Génie mécanique</td>\n",
       "    </tr>\n",
       "    <tr>\n",
       "      <th>4</th>\n",
       "      <td>Capitale-Nationale</td>\n",
       "      <td>Université Laval</td>\n",
       "      <td>NaN</td>\n",
       "      <td>2009-2010</td>\n",
       "      <td>Fonds des initiatives nouvelles</td>\n",
       "      <td>NaN</td>\n",
       "      <td>Marc-André SIRARD</td>\n",
       "      <td>Laboratoire de physiologie intégrative en scie...</td>\n",
       "      <td>MEES</td>\n",
       "      <td>2203653.0</td>\n",
       "      <td>NaN</td>\n",
       "      <td>NaN</td>\n",
       "      <td>2203653</td>\n",
       "      <td>5521200</td>\n",
       "      <td>Sciences naturelles et génie</td>\n",
       "      <td>Sciences de la vie (recherche clinique, santé ...</td>\n",
       "      <td>Agriculture</td>\n",
       "      <td>Physiologie</td>\n",
       "    </tr>\n",
       "    <tr>\n",
       "      <th>5</th>\n",
       "      <td>Montréal</td>\n",
       "      <td>Université McGill</td>\n",
       "      <td>NaN</td>\n",
       "      <td>2009-2010</td>\n",
       "      <td>Fonds de l'avant-garde</td>\n",
       "      <td>NaN</td>\n",
       "      <td>David THOMAS</td>\n",
       "      <td>Le Complexe des sciences de la vie de l'Univer...</td>\n",
       "      <td>MEES</td>\n",
       "      <td>10632949.0</td>\n",
       "      <td>NaN</td>\n",
       "      <td>NaN</td>\n",
       "      <td>10632949</td>\n",
       "      <td>26582371</td>\n",
       "      <td>Santé</td>\n",
       "      <td>Sciences de la vie (recherche clinique, santé ...</td>\n",
       "      <td>Recherches à caractère général et autres reche...</td>\n",
       "      <td>Biologie moléculaire et cellulaire</td>\n",
       "    </tr>\n",
       "    <tr>\n",
       "      <th>...</th>\n",
       "      <td>...</td>\n",
       "      <td>...</td>\n",
       "      <td>...</td>\n",
       "      <td>...</td>\n",
       "      <td>...</td>\n",
       "      <td>...</td>\n",
       "      <td>...</td>\n",
       "      <td>...</td>\n",
       "      <td>...</td>\n",
       "      <td>...</td>\n",
       "      <td>...</td>\n",
       "      <td>...</td>\n",
       "      <td>...</td>\n",
       "      <td>...</td>\n",
       "      <td>...</td>\n",
       "      <td>...</td>\n",
       "      <td>...</td>\n",
       "      <td>...</td>\n",
       "    </tr>\n",
       "    <tr>\n",
       "      <th>1310</th>\n",
       "      <td>Montréal</td>\n",
       "      <td>Université de Montréal</td>\n",
       "      <td>NaN</td>\n",
       "      <td>2018-2019</td>\n",
       "      <td>Fonds des leaders John-R.-Evans</td>\n",
       "      <td>Indépendant - chercheur junior - recrutement</td>\n",
       "      <td>Pierre-Luc CHAGNON</td>\n",
       "      <td>Comment les traits des champignons mycorhizien...</td>\n",
       "      <td>MEES</td>\n",
       "      <td>114771.0</td>\n",
       "      <td>NaN</td>\n",
       "      <td>NaN</td>\n",
       "      <td>114771</td>\n",
       "      <td>287517</td>\n",
       "      <td>Sciences naturelles et génie</td>\n",
       "      <td>Environnement et science du climat</td>\n",
       "      <td>Agriculture</td>\n",
       "      <td>Microbiologie</td>\n",
       "    </tr>\n",
       "    <tr>\n",
       "      <th>1311</th>\n",
       "      <td>Montréal</td>\n",
       "      <td>Université de Montréal</td>\n",
       "      <td>NaN</td>\n",
       "      <td>2018-2019</td>\n",
       "      <td>Fonds des leaders John-R.-Evans</td>\n",
       "      <td>Indépendant - chercheur junior - recrutement</td>\n",
       "      <td>Ahmad Hamdan</td>\n",
       "      <td>Infrastructure de recherche sur les plasmas mu...</td>\n",
       "      <td>MEES</td>\n",
       "      <td>233586.0</td>\n",
       "      <td>NaN</td>\n",
       "      <td>NaN</td>\n",
       "      <td>233586</td>\n",
       "      <td>583965</td>\n",
       "      <td>Sciences naturelles et génie</td>\n",
       "      <td>Développement durable et technologies vertes</td>\n",
       "      <td>Ressources renouvelables (rech. générale)</td>\n",
       "      <td>Physique</td>\n",
       "    </tr>\n",
       "    <tr>\n",
       "      <th>1312</th>\n",
       "      <td>Montréal</td>\n",
       "      <td>École Polytechnique de Montréal</td>\n",
       "      <td>NaN</td>\n",
       "      <td>2018-2019</td>\n",
       "      <td>Fonds des leaders John-R.-Evans</td>\n",
       "      <td>Indépendant - chercheur junior - recrutement</td>\n",
       "      <td>Keyhan SHESHYEKANI</td>\n",
       "      <td>Laboratoire de microréseaux</td>\n",
       "      <td>MEES</td>\n",
       "      <td>125000.0</td>\n",
       "      <td>NaN</td>\n",
       "      <td>NaN</td>\n",
       "      <td>125000</td>\n",
       "      <td>319961</td>\n",
       "      <td>Sciences naturelles et génie</td>\n",
       "      <td>Énergie</td>\n",
       "      <td>Technique de production</td>\n",
       "      <td>Génie électrique et électronique</td>\n",
       "    </tr>\n",
       "    <tr>\n",
       "      <th>1313</th>\n",
       "      <td>Montréal</td>\n",
       "      <td>Université de Montréal</td>\n",
       "      <td>CIUSSS de l'Est-de-l'Île-de-Montréal - Institu...</td>\n",
       "      <td>2018-2019</td>\n",
       "      <td>Fonds des leaders John-R.-Evans</td>\n",
       "      <td>Indépendant - chercheur junior - recrutement</td>\n",
       "      <td>Robert Paul Juster</td>\n",
       "      <td>Centre d’études sur le sexe/genre, l'allostasi...</td>\n",
       "      <td>MSSS</td>\n",
       "      <td>NaN</td>\n",
       "      <td>152970.0</td>\n",
       "      <td>NaN</td>\n",
       "      <td>152970</td>\n",
       "      <td>382425</td>\n",
       "      <td>Santé</td>\n",
       "      <td>Sciences de la vie (recherche clinique, santé ...</td>\n",
       "      <td>Santé</td>\n",
       "      <td>Comportement et psychologie humaine</td>\n",
       "    </tr>\n",
       "    <tr>\n",
       "      <th>1314</th>\n",
       "      <td>Bas-Saint-Laurent</td>\n",
       "      <td>Université du Québec à Rimouski (UQAR)</td>\n",
       "      <td>NaN</td>\n",
       "      <td>2018-2019</td>\n",
       "      <td>Fonds des leaders John-R.-Evans</td>\n",
       "      <td>Indépendant - chercheur établi</td>\n",
       "      <td>Martin-Hugues ST-LAURENT</td>\n",
       "      <td>Station de recherche montagnarde et alpine dan...</td>\n",
       "      <td>MEES</td>\n",
       "      <td>119780.0</td>\n",
       "      <td>NaN</td>\n",
       "      <td>NaN</td>\n",
       "      <td>119780</td>\n",
       "      <td>299450</td>\n",
       "      <td>Sciences naturelles et génie</td>\n",
       "      <td>Environnement et science du climat</td>\n",
       "      <td>Espèces vivantes et biotopes</td>\n",
       "      <td>Évolution et écologie</td>\n",
       "    </tr>\n",
       "  </tbody>\n",
       "</table>\n",
       "<p>1314 rows × 18 columns</p>\n",
       "</div>"
      ],
      "text/plain": [
       "     REGION_ADMINISTRATIVE                           ETABLISSEMENT  \\\n",
       "1                 Montréal         École Polytechnique de Montréal   \n",
       "2                   Estrie                Université de Sherbrooke   \n",
       "3                   Estrie                Université de Sherbrooke   \n",
       "4       Capitale-Nationale                        Université Laval   \n",
       "5                 Montréal                       Université McGill   \n",
       "...                    ...                                     ...   \n",
       "1310              Montréal                  Université de Montréal   \n",
       "1311              Montréal                  Université de Montréal   \n",
       "1312              Montréal         École Polytechnique de Montréal   \n",
       "1313              Montréal                  Université de Montréal   \n",
       "1314     Bas-Saint-Laurent  Université du Québec à Rimouski (UQAR)   \n",
       "\n",
       "                               ETABLISSEMENT_PARTENAIRE ANNEE_FINANCIERE  \\\n",
       "1                                                   NaN        2009-2010   \n",
       "2                                                   NaN        2009-2010   \n",
       "3                                                   NaN        2009-2010   \n",
       "4                                                   NaN        2009-2010   \n",
       "5                                                   NaN        2009-2010   \n",
       "...                                                 ...              ...   \n",
       "1310                                                NaN        2018-2019   \n",
       "1311                                                NaN        2018-2019   \n",
       "1312                                                NaN        2018-2019   \n",
       "1313  CIUSSS de l'Est-de-l'Île-de-Montréal - Institu...        2018-2019   \n",
       "1314                                                NaN        2018-2019   \n",
       "\n",
       "                            PROGRAMME  \\\n",
       "1     Fonds des initiatives nouvelles   \n",
       "2     Fonds des initiatives nouvelles   \n",
       "3     Fonds des initiatives nouvelles   \n",
       "4     Fonds des initiatives nouvelles   \n",
       "5              Fonds de l'avant-garde   \n",
       "...                               ...   \n",
       "1310  Fonds des leaders John-R.-Evans   \n",
       "1311  Fonds des leaders John-R.-Evans   \n",
       "1312  Fonds des leaders John-R.-Evans   \n",
       "1313  Fonds des leaders John-R.-Evans   \n",
       "1314  Fonds des leaders John-R.-Evans   \n",
       "\n",
       "                                             VOLET     RESPONSABLE_DU_PROJET  \\\n",
       "1                                              NaN            Ludvik MARTINU   \n",
       "2                                              NaN     André Dieter BANDRAUK   \n",
       "3                                              NaN               Alain BERRY   \n",
       "4                                              NaN         Marc-André SIRARD   \n",
       "5                                              NaN              David THOMAS   \n",
       "...                                            ...                       ...   \n",
       "1310  Indépendant - chercheur junior - recrutement        Pierre-Luc CHAGNON   \n",
       "1311  Indépendant - chercheur junior - recrutement              Ahmad Hamdan   \n",
       "1312  Indépendant - chercheur junior - recrutement        Keyhan SHESHYEKANI   \n",
       "1313  Indépendant - chercheur junior - recrutement        Robert Paul Juster   \n",
       "1314                Indépendant - chercheur établi  Martin-Hugues ST-LAURENT   \n",
       "\n",
       "                                                  TITRE RESEAU  MONTANT_MEES  \\\n",
       "1     Système de revêtements intelligents pour des s...   MEES     1067986.0   \n",
       "2     Infrastructure pour modélisation et visualisat...   MEES     2377939.0   \n",
       "3     Vibroacoustique des structures multi-matériaux...   MEES     1644690.0   \n",
       "4     Laboratoire de physiologie intégrative en scie...   MEES     2203653.0   \n",
       "5     Le Complexe des sciences de la vie de l'Univer...   MEES    10632949.0   \n",
       "...                                                 ...    ...           ...   \n",
       "1310  Comment les traits des champignons mycorhizien...   MEES      114771.0   \n",
       "1311  Infrastructure de recherche sur les plasmas mu...   MEES      233586.0   \n",
       "1312                        Laboratoire de microréseaux   MEES      125000.0   \n",
       "1313  Centre d’études sur le sexe/genre, l'allostasi...   MSSS           NaN   \n",
       "1314  Station de recherche montagnarde et alpine dan...   MEES      119780.0   \n",
       "\n",
       "      MONTANT_MSSS  MONTANT_MEI  MONTANT_TOTAL_QUEBEC  COUT_TOTAL  \\\n",
       "1              NaN          NaN               1067986     2725474   \n",
       "2              NaN          NaN               2377939     5944847   \n",
       "3              NaN          NaN               1644690     4248206   \n",
       "4              NaN          NaN               2203653     5521200   \n",
       "5              NaN          NaN              10632949    26582371   \n",
       "...            ...          ...                   ...         ...   \n",
       "1310           NaN          NaN                114771      287517   \n",
       "1311           NaN          NaN                233586      583965   \n",
       "1312           NaN          NaN                125000      319961   \n",
       "1313      152970.0          NaN                152970      382425   \n",
       "1314           NaN          NaN                119780      299450   \n",
       "\n",
       "                           SECTEUR  \\\n",
       "1     Sciences naturelles et génie   \n",
       "2     Sciences naturelles et génie   \n",
       "3     Sciences naturelles et génie   \n",
       "4     Sciences naturelles et génie   \n",
       "5                            Santé   \n",
       "...                            ...   \n",
       "1310  Sciences naturelles et génie   \n",
       "1311  Sciences naturelles et génie   \n",
       "1312  Sciences naturelles et génie   \n",
       "1313                         Santé   \n",
       "1314  Sciences naturelles et génie   \n",
       "\n",
       "                                    DOMAINE_STRATEGIQUE  \\\n",
       "1                      Nanosciences et nanotechnologies   \n",
       "2     TIC (télécommunications, multimédia, logiciels...   \n",
       "3                   Matériaux de pointe (métaux légers)   \n",
       "4     Sciences de la vie (recherche clinique, santé ...   \n",
       "5     Sciences de la vie (recherche clinique, santé ...   \n",
       "...                                                 ...   \n",
       "1310                 Environnement et science du climat   \n",
       "1311       Développement durable et technologies vertes   \n",
       "1312                                            Énergie   \n",
       "1313  Sciences de la vie (recherche clinique, santé ...   \n",
       "1314                 Environnement et science du climat   \n",
       "\n",
       "                                       DOMAINE_PRIMAIRE  \\\n",
       "1                               Technique de production   \n",
       "2                      Produits de l'industrie chimique   \n",
       "3                                   Bruit et vibrations   \n",
       "4                                           Agriculture   \n",
       "5     Recherches à caractère général et autres reche...   \n",
       "...                                                 ...   \n",
       "1310                                        Agriculture   \n",
       "1311          Ressources renouvelables (rech. générale)   \n",
       "1312                            Technique de production   \n",
       "1313                                              Santé   \n",
       "1314                       Espèces vivantes et biotopes   \n",
       "\n",
       "                       DISCIPLINE_PRIMAIRE  \n",
       "1     Science et technologie des matériaux  \n",
       "2                          Chimie physique  \n",
       "3                          Génie mécanique  \n",
       "4                              Physiologie  \n",
       "5       Biologie moléculaire et cellulaire  \n",
       "...                                    ...  \n",
       "1310                         Microbiologie  \n",
       "1311                              Physique  \n",
       "1312      Génie électrique et électronique  \n",
       "1313   Comportement et psychologie humaine  \n",
       "1314                 Évolution et écologie  \n",
       "\n",
       "[1314 rows x 18 columns]"
      ]
     },
     "execution_count": 32,
     "metadata": {},
     "output_type": "execute_result"
    }
   ],
   "source": [
    "df_qc.iloc[1:]              \n",
    "# affiche toutes les lignes de 1 :; iloc = index-location"
   ]
  },
  {
   "cell_type": "code",
   "execution_count": 33,
   "metadata": {},
   "outputs": [
    {
     "data": {
      "text/html": [
       "<div>\n",
       "<style scoped>\n",
       "    .dataframe tbody tr th:only-of-type {\n",
       "        vertical-align: middle;\n",
       "    }\n",
       "\n",
       "    .dataframe tbody tr th {\n",
       "        vertical-align: top;\n",
       "    }\n",
       "\n",
       "    .dataframe thead th {\n",
       "        text-align: right;\n",
       "    }\n",
       "</style>\n",
       "<table border=\"1\" class=\"dataframe\">\n",
       "  <thead>\n",
       "    <tr style=\"text-align: right;\">\n",
       "      <th></th>\n",
       "      <th>ETABLISSEMENT</th>\n",
       "      <th>ETABLISSEMENT_PARTENAIRE</th>\n",
       "    </tr>\n",
       "  </thead>\n",
       "  <tbody>\n",
       "    <tr>\n",
       "      <th>0</th>\n",
       "      <td>Université du Québec à Chicoutimi (UQAC)</td>\n",
       "      <td>NaN</td>\n",
       "    </tr>\n",
       "    <tr>\n",
       "      <th>1</th>\n",
       "      <td>École Polytechnique de Montréal</td>\n",
       "      <td>NaN</td>\n",
       "    </tr>\n",
       "    <tr>\n",
       "      <th>2</th>\n",
       "      <td>Université de Sherbrooke</td>\n",
       "      <td>NaN</td>\n",
       "    </tr>\n",
       "    <tr>\n",
       "      <th>3</th>\n",
       "      <td>Université de Sherbrooke</td>\n",
       "      <td>NaN</td>\n",
       "    </tr>\n",
       "    <tr>\n",
       "      <th>4</th>\n",
       "      <td>Université Laval</td>\n",
       "      <td>NaN</td>\n",
       "    </tr>\n",
       "    <tr>\n",
       "      <th>...</th>\n",
       "      <td>...</td>\n",
       "      <td>...</td>\n",
       "    </tr>\n",
       "    <tr>\n",
       "      <th>1310</th>\n",
       "      <td>Université de Montréal</td>\n",
       "      <td>NaN</td>\n",
       "    </tr>\n",
       "    <tr>\n",
       "      <th>1311</th>\n",
       "      <td>Université de Montréal</td>\n",
       "      <td>NaN</td>\n",
       "    </tr>\n",
       "    <tr>\n",
       "      <th>1312</th>\n",
       "      <td>École Polytechnique de Montréal</td>\n",
       "      <td>NaN</td>\n",
       "    </tr>\n",
       "    <tr>\n",
       "      <th>1313</th>\n",
       "      <td>Université de Montréal</td>\n",
       "      <td>CIUSSS de l'Est-de-l'Île-de-Montréal - Institu...</td>\n",
       "    </tr>\n",
       "    <tr>\n",
       "      <th>1314</th>\n",
       "      <td>Université du Québec à Rimouski (UQAR)</td>\n",
       "      <td>NaN</td>\n",
       "    </tr>\n",
       "  </tbody>\n",
       "</table>\n",
       "<p>1315 rows × 2 columns</p>\n",
       "</div>"
      ],
      "text/plain": [
       "                                 ETABLISSEMENT  \\\n",
       "0     Université du Québec à Chicoutimi (UQAC)   \n",
       "1              École Polytechnique de Montréal   \n",
       "2                     Université de Sherbrooke   \n",
       "3                     Université de Sherbrooke   \n",
       "4                             Université Laval   \n",
       "...                                        ...   \n",
       "1310                    Université de Montréal   \n",
       "1311                    Université de Montréal   \n",
       "1312           École Polytechnique de Montréal   \n",
       "1313                    Université de Montréal   \n",
       "1314    Université du Québec à Rimouski (UQAR)   \n",
       "\n",
       "                               ETABLISSEMENT_PARTENAIRE  \n",
       "0                                                   NaN  \n",
       "1                                                   NaN  \n",
       "2                                                   NaN  \n",
       "3                                                   NaN  \n",
       "4                                                   NaN  \n",
       "...                                                 ...  \n",
       "1310                                                NaN  \n",
       "1311                                                NaN  \n",
       "1312                                                NaN  \n",
       "1313  CIUSSS de l'Est-de-l'Île-de-Montréal - Institu...  \n",
       "1314                                                NaN  \n",
       "\n",
       "[1315 rows x 2 columns]"
      ]
     },
     "execution_count": 33,
     "metadata": {},
     "output_type": "execute_result"
    }
   ],
   "source": [
    "df_qc.iloc[0:, [1,2]]\n",
    "# affiche les lignes de 0 à : et les colonnes 1 et 2\n",
    "\n",
    "# iloc fonctionne seulement avec les positions"
   ]
  },
  {
   "cell_type": "code",
   "execution_count": 34,
   "metadata": {},
   "outputs": [
    {
     "data": {
      "text/plain": [
       "'Université du Québec à Chicoutimi (UQAC)'"
      ]
     },
     "execution_count": 34,
     "metadata": {},
     "output_type": "execute_result"
    }
   ],
   "source": [
    "df_qc.at[0,'ETABLISSEMENT']\n",
    "# permet l'accès aux cellules"
   ]
  },
  {
   "cell_type": "code",
   "execution_count": 107,
   "metadata": {},
   "outputs": [
    {
     "data": {
      "text/plain": [
       "0    Université du Québec à Chicoutimi (UQAC)\n",
       "1             École Polytechnique de Montréal\n",
       "2                    Université de Sherbrooke\n",
       "Name: ETABLISSEMENT, dtype: object"
      ]
     },
     "execution_count": 107,
     "metadata": {},
     "output_type": "execute_result"
    }
   ],
   "source": [
    "col = df_qc.columns[1]\n",
    "\n",
    "df_qc[col][:3]"
   ]
  },
  {
   "cell_type": "code",
   "execution_count": 108,
   "metadata": {},
   "outputs": [
    {
     "data": {
      "text/plain": [
       "0       Université du Québec à Chicoutimi (UQAC)\n",
       "1                École Polytechnique de Montréal\n",
       "2                       Université de Sherbrooke\n",
       "3                       Université de Sherbrooke\n",
       "4                               Université Laval\n",
       "                          ...                   \n",
       "1310                      Université de Montréal\n",
       "1311                      Université de Montréal\n",
       "1312             École Polytechnique de Montréal\n",
       "1313                      Université de Montréal\n",
       "1314      Université du Québec à Rimouski (UQAR)\n",
       "Name: ETABLISSEMENT, Length: 1315, dtype: object"
      ]
     },
     "execution_count": 108,
     "metadata": {},
     "output_type": "execute_result"
    }
   ],
   "source": [
    "df_qc.ETABLISSEMENT"
   ]
  },
  {
   "cell_type": "code",
   "execution_count": 36,
   "metadata": {},
   "outputs": [],
   "source": [
    "df_qc.loc[1, 'ETABLISSEMENT'] = 'POLY'"
   ]
  },
  {
   "cell_type": "code",
   "execution_count": 37,
   "metadata": {},
   "outputs": [],
   "source": [
    "df_qc.at[2, 'ETABLISSEMENT'] = 'Sherbrooke'"
   ]
  },
  {
   "cell_type": "code",
   "execution_count": 38,
   "metadata": {},
   "outputs": [],
   "source": [
    "df_qc.iloc[4, 1] = 'ULaval'"
   ]
  },
  {
   "cell_type": "code",
   "execution_count": 39,
   "metadata": {
    "scrolled": true
   },
   "outputs": [
    {
     "data": {
      "text/plain": [
       "0       Université du Québec à Chicoutimi (UQAC)\n",
       "1                                           POLY\n",
       "2                                     Sherbrooke\n",
       "3                       Université de Sherbrooke\n",
       "4                                         ULaval\n",
       "                          ...                   \n",
       "1310                      Université de Montréal\n",
       "1311                      Université de Montréal\n",
       "1312             École Polytechnique de Montréal\n",
       "1313                      Université de Montréal\n",
       "1314      Université du Québec à Rimouski (UQAR)\n",
       "Name: ETABLISSEMENT, Length: 1315, dtype: object"
      ]
     },
     "execution_count": 39,
     "metadata": {},
     "output_type": "execute_result"
    }
   ],
   "source": [
    "df_qc.ETABLISSEMENT"
   ]
  },
  {
   "cell_type": "code",
   "execution_count": 40,
   "metadata": {},
   "outputs": [],
   "source": [
    "df_qc2 = df_qc"
   ]
  },
  {
   "cell_type": "code",
   "execution_count": 41,
   "metadata": {},
   "outputs": [
    {
     "data": {
      "text/plain": [
       "0    Université du Québec à Chicoutimi (UQAC)\n",
       "1                                        POLY\n",
       "2                                  Sherbrooke\n",
       "Name: ETABLISSEMENT, dtype: object"
      ]
     },
     "execution_count": 41,
     "metadata": {},
     "output_type": "execute_result"
    }
   ],
   "source": [
    "df_qc.ETABLISSEMENT.head(3)"
   ]
  },
  {
   "cell_type": "code",
   "execution_count": 42,
   "metadata": {},
   "outputs": [
    {
     "data": {
      "text/plain": [
       "0    Université du Québec à Chicoutimi (UQAC)\n",
       "1                                        POLY\n",
       "2                                  Sherbrooke\n",
       "Name: ETABLISSEMENT, dtype: object"
      ]
     },
     "execution_count": 42,
     "metadata": {},
     "output_type": "execute_result"
    }
   ],
   "source": [
    "df_qc2.ETABLISSEMENT.head(3)"
   ]
  },
  {
   "cell_type": "code",
   "execution_count": 43,
   "metadata": {},
   "outputs": [],
   "source": [
    "df_qc2.at[1, 'ETABLISSEMENT'] = 'poly_new'"
   ]
  },
  {
   "cell_type": "code",
   "execution_count": 44,
   "metadata": {},
   "outputs": [
    {
     "data": {
      "text/plain": [
       "'poly_new'"
      ]
     },
     "execution_count": 44,
     "metadata": {},
     "output_type": "execute_result"
    }
   ],
   "source": [
    "df_qc2.at[1, 'ETABLISSEMENT']"
   ]
  },
  {
   "cell_type": "code",
   "execution_count": 45,
   "metadata": {},
   "outputs": [
    {
     "data": {
      "text/plain": [
       "'poly_new'"
      ]
     },
     "execution_count": 45,
     "metadata": {},
     "output_type": "execute_result"
    }
   ],
   "source": [
    "df_qc.at[1, 'ETABLISSEMENT']"
   ]
  },
  {
   "cell_type": "code",
   "execution_count": null,
   "metadata": {},
   "outputs": [],
   "source": [
    "# faire des copies\n",
    "\n",
    "df_qc = pandas.read_csv(fichier)\n",
    "df_qc2 = df_qc.copy(deep=True)\n",
    "df_qc2.at[1, 'ETABLISSEMENT'] = 'poly_new'\n",
    "df_qc2.ETABLISSEMENT[1]\n",
    "df_qc.ETABLISSEMENT[1]"
   ]
  },
  {
   "cell_type": "code",
   "execution_count": null,
   "metadata": {},
   "outputs": [],
   "source": [
    "import copy\n",
    "df_qc2 = copy.deepcopy(df_qc)\n",
    "df_qc2.at[1, 'ETABLISSEMENT'] = 'poly_new'"
   ]
  },
  {
   "cell_type": "code",
   "execution_count": 46,
   "metadata": {},
   "outputs": [],
   "source": [
    "df_qc3 = pandas.read_csv(fichier, usecols = ['ETABLISSEMENT', 'COUT_TOTAL'])"
   ]
  },
  {
   "cell_type": "code",
   "execution_count": 47,
   "metadata": {},
   "outputs": [
    {
     "data": {
      "text/plain": [
       "Index(['ETABLISSEMENT', 'COUT_TOTAL'], dtype='object')"
      ]
     },
     "execution_count": 47,
     "metadata": {},
     "output_type": "execute_result"
    }
   ],
   "source": [
    "df_qc3.columns"
   ]
  },
  {
   "cell_type": "code",
   "execution_count": 48,
   "metadata": {},
   "outputs": [],
   "source": [
    "df_qc4 = df_qc[[\"ETABLISSEMENT\", \"ETABLISSEMENT_PARTENAIRE\",\n",
    "       'ANNEE_FINANCIERE', 'PROGRAMME', 'VOLET', 'RESPONSABLE_DU_PROJET',\n",
    "       'TITRE', 'RESEAU', 'MONTANT_MEES', 'MONTANT_MSSS', 'MONTANT_MEI',\n",
    "       'MONTANT_TOTAL_QUEBEC', 'COUT_TOTAL']]"
   ]
  },
  {
   "cell_type": "code",
   "execution_count": 49,
   "metadata": {},
   "outputs": [
    {
     "data": {
      "text/plain": [
       "Index(['ETABLISSEMENT', 'ETABLISSEMENT_PARTENAIRE', 'ANNEE_FINANCIERE',\n",
       "       'PROGRAMME', 'VOLET', 'RESPONSABLE_DU_PROJET', 'TITRE', 'RESEAU',\n",
       "       'MONTANT_MEES', 'MONTANT_MSSS', 'MONTANT_MEI', 'MONTANT_TOTAL_QUEBEC',\n",
       "       'COUT_TOTAL'],\n",
       "      dtype='object')"
      ]
     },
     "execution_count": 49,
     "metadata": {},
     "output_type": "execute_result"
    }
   ],
   "source": [
    "df_qc4.columns"
   ]
  },
  {
   "cell_type": "code",
   "execution_count": 51,
   "metadata": {},
   "outputs": [
    {
     "data": {
      "text/plain": [
       "['Université du Québec à Chicoutimi (UQAC)',\n",
       " 'poly_new',\n",
       " 'Sherbrooke',\n",
       " 'Université de Sherbrooke',\n",
       " 'ULaval',\n",
       " 'Université McGill',\n",
       " 'École Polytechnique de Montréal',\n",
       " 'École Polytechnique de Montréal',\n",
       " 'École Polytechnique de Montréal',\n",
       " 'Université de Montréal',\n",
       " 'Université de Montréal',\n",
       " 'École Polytechnique de Montréal',\n",
       " 'Université du Québec à Montréal (UQAM)',\n",
       " 'Université de Montréal',\n",
       " 'Université McGill',\n",
       " 'Université du Québec en Outaouais (UQO)',\n",
       " 'Université Laval',\n",
       " 'Université de Montréal',\n",
       " 'Université McGill',\n",
       " 'Université de Sherbrooke',\n",
       " 'Université de Sherbrooke',\n",
       " 'Université du Québec à Montréal (UQAM)',\n",
       " 'Université Laval',\n",
       " 'HEC Montréal',\n",
       " 'Université Concordia',\n",
       " 'Université de Montréal',\n",
       " 'Université du Québec à Montréal (UQAM)',\n",
       " 'Université Laval',\n",
       " 'École de technologie supérieure (ETS)',\n",
       " 'Université de Sherbrooke',\n",
       " 'Télé-Université',\n",
       " 'Université de Montréal',\n",
       " 'Université de Montréal',\n",
       " 'Université de Montréal',\n",
       " 'École de technologie supérieure (ETS)',\n",
       " 'Université Laval',\n",
       " 'Université de Montréal',\n",
       " 'Université de Montréal',\n",
       " 'Université de Montréal',\n",
       " 'Université de Montréal',\n",
       " 'Université de Montréal',\n",
       " 'Université de Montréal',\n",
       " 'Université de Montréal',\n",
       " 'Université de Montréal',\n",
       " 'Université du Québec à Chicoutimi (UQAC)',\n",
       " 'Université de Montréal',\n",
       " 'Université Laval',\n",
       " 'Université de Montréal',\n",
       " 'Université de Montréal',\n",
       " 'Université de Montréal',\n",
       " 'Université de Montréal',\n",
       " 'Université du Québec à Chicoutimi (UQAC)',\n",
       " 'Université de Sherbrooke',\n",
       " 'Université Laval',\n",
       " 'Université McGill',\n",
       " 'Université McGill',\n",
       " 'Université McGill',\n",
       " 'Université de Montréal',\n",
       " 'Université Concordia',\n",
       " 'Université du Québec en Abitibi-Témiscamingue (UQAT)',\n",
       " 'Université McGill',\n",
       " 'Université de Sherbrooke',\n",
       " 'Université Laval',\n",
       " 'Université de Montréal',\n",
       " 'Université du Québec à Trois-Rivières (UQTR)',\n",
       " 'Université de Montréal',\n",
       " 'Université de Sherbrooke',\n",
       " 'Université Laval',\n",
       " 'Université McGill',\n",
       " 'Université McGill',\n",
       " 'Université Laval',\n",
       " 'Université Laval',\n",
       " 'Université McGill',\n",
       " 'Université Laval',\n",
       " 'Université Laval',\n",
       " 'Université Laval',\n",
       " 'Université McGill',\n",
       " 'Université de Montréal',\n",
       " 'Université Laval',\n",
       " 'Université Laval',\n",
       " 'École Polytechnique de Montréal',\n",
       " 'Université Laval',\n",
       " 'Université McGill',\n",
       " 'Université de Sherbrooke',\n",
       " 'École Polytechnique de Montréal',\n",
       " 'École Polytechnique de Montréal',\n",
       " 'Université Laval',\n",
       " 'Université Laval',\n",
       " 'Université Concordia',\n",
       " 'Université de Sherbrooke',\n",
       " 'Université du Québec à Rimouski (UQAR)',\n",
       " 'Université du Québec à Trois-Rivières (UQTR)',\n",
       " 'Université Laval',\n",
       " 'Université Laval',\n",
       " 'Université McGill',\n",
       " 'Université de Montréal',\n",
       " 'Université du Québec en Abitibi-Témiscamingue (UQAT)',\n",
       " 'Université Laval',\n",
       " 'Université McGill',\n",
       " 'Université McGill',\n",
       " 'Université de Montréal',\n",
       " 'École Polytechnique de Montréal',\n",
       " 'Université McGill',\n",
       " 'Université McGill',\n",
       " 'Université Laval',\n",
       " 'Institut national de la recherche scientifique (INRS)',\n",
       " 'Université McGill',\n",
       " 'Université McGill',\n",
       " 'Université McGill',\n",
       " 'Université de Montréal',\n",
       " 'Université McGill',\n",
       " 'Université de Sherbrooke',\n",
       " 'Institut national de la recherche scientifique (INRS)',\n",
       " 'Université McGill',\n",
       " 'Université McGill',\n",
       " 'Université McGill',\n",
       " 'Université de Sherbrooke',\n",
       " 'Université Laval',\n",
       " 'Université du Québec en Outaouais (UQO)',\n",
       " 'Université de Sherbrooke',\n",
       " 'Université McGill',\n",
       " 'Université de Montréal',\n",
       " 'Université McGill',\n",
       " 'Université Laval',\n",
       " 'Université de Montréal',\n",
       " 'École Polytechnique de Montréal',\n",
       " 'Université McGill',\n",
       " 'Université McGill',\n",
       " 'Université Concordia',\n",
       " 'Université de Montréal',\n",
       " 'École Polytechnique de Montréal',\n",
       " 'Université du Québec à Montréal (UQAM)',\n",
       " 'Université McGill',\n",
       " 'Université de Sherbrooke',\n",
       " 'Université Laval',\n",
       " 'Université Laval',\n",
       " 'Université Laval',\n",
       " 'Université Laval',\n",
       " 'Université Laval',\n",
       " 'Université Laval',\n",
       " 'Université du Québec en Abitibi-Témiscamingue (UQAT)',\n",
       " 'Université McGill',\n",
       " 'Université de Montréal',\n",
       " 'Université de Montréal',\n",
       " 'Université McGill',\n",
       " 'Université McGill',\n",
       " 'Université Concordia',\n",
       " 'École Polytechnique de Montréal',\n",
       " 'École Polytechnique de Montréal',\n",
       " 'Université McGill',\n",
       " 'Université de Montréal',\n",
       " 'Université Laval',\n",
       " 'Université de Montréal',\n",
       " 'Université de Montréal',\n",
       " 'Université de Montréal',\n",
       " 'Université du Québec à Trois-Rivières (UQTR)',\n",
       " 'Université du Québec à Montréal (UQAM)',\n",
       " 'Université Laval',\n",
       " 'Université du Québec à Rimouski (UQAR)',\n",
       " 'Université de Sherbrooke',\n",
       " 'Université du Québec à Rimouski (UQAR)',\n",
       " 'Université Laval',\n",
       " 'Université de Sherbrooke',\n",
       " 'Université Laval',\n",
       " 'Université Laval',\n",
       " 'Université du Québec à Chicoutimi (UQAC)',\n",
       " 'Université McGill',\n",
       " 'Université McGill',\n",
       " 'Université de Montréal',\n",
       " 'Université McGill',\n",
       " 'Université McGill',\n",
       " 'Université McGill',\n",
       " 'Université Laval',\n",
       " 'Université McGill',\n",
       " 'Université McGill',\n",
       " 'Institut national de la recherche scientifique (INRS)',\n",
       " 'Université McGill',\n",
       " 'Université McGill',\n",
       " 'Université McGill',\n",
       " 'Université du Québec à Montréal (UQAM)',\n",
       " 'Université Laval',\n",
       " 'Université Laval',\n",
       " 'Université de Sherbrooke',\n",
       " 'Institut national de la recherche scientifique (INRS)',\n",
       " 'Université Laval',\n",
       " 'Université McGill',\n",
       " 'Université de Montréal',\n",
       " 'Université McGill',\n",
       " 'École de technologie supérieure (ETS)',\n",
       " 'Université Laval',\n",
       " 'Université de Montréal',\n",
       " 'Université de Montréal',\n",
       " 'Université du Québec à Trois-Rivières (UQTR)',\n",
       " 'École de technologie supérieure (ETS)',\n",
       " 'Université de Sherbrooke',\n",
       " 'Université de Sherbrooke',\n",
       " 'HEC Montréal',\n",
       " 'École Polytechnique de Montréal',\n",
       " 'Université McGill',\n",
       " 'Université de Montréal',\n",
       " 'Université de Sherbrooke',\n",
       " 'Université McGill',\n",
       " 'Université McGill',\n",
       " 'Université McGill',\n",
       " 'Université McGill',\n",
       " 'Université McGill',\n",
       " 'Université McGill',\n",
       " 'Université McGill',\n",
       " 'Université McGill',\n",
       " 'Université McGill',\n",
       " 'Université du Québec à Rimouski (UQAR)',\n",
       " 'Université Laval',\n",
       " 'Université McGill',\n",
       " 'Université McGill',\n",
       " 'Université de Montréal',\n",
       " 'Université de Montréal',\n",
       " 'Université de Montréal',\n",
       " 'Université McGill',\n",
       " 'Université McGill',\n",
       " 'Université McGill',\n",
       " 'Université du Québec à Montréal (UQAM)',\n",
       " 'Université McGill',\n",
       " 'Université du Québec à Chicoutimi (UQAC)',\n",
       " 'Université Laval',\n",
       " 'Université Laval',\n",
       " 'Université Laval',\n",
       " 'Université Laval',\n",
       " 'Université Laval',\n",
       " 'Université Laval',\n",
       " 'Université Laval',\n",
       " 'Université McGill',\n",
       " 'Université du Québec à Trois-Rivières (UQTR)',\n",
       " 'École Polytechnique de Montréal',\n",
       " 'École Polytechnique de Montréal',\n",
       " 'École Polytechnique de Montréal',\n",
       " 'Université McGill',\n",
       " 'Université McGill',\n",
       " 'Université Laval',\n",
       " 'Université du Québec à Rimouski (UQAR)',\n",
       " 'Université du Québec à Chicoutimi (UQAC)',\n",
       " 'Université du Québec à Chicoutimi (UQAC)',\n",
       " 'Université Laval',\n",
       " 'Université du Québec à Rimouski (UQAR)',\n",
       " 'Université du Québec à Montréal (UQAM)',\n",
       " 'Université de Montréal',\n",
       " 'Université de Montréal',\n",
       " 'Université de Montréal',\n",
       " 'Université de Montréal',\n",
       " 'Université de Montréal',\n",
       " 'Université McGill',\n",
       " 'Université de Montréal',\n",
       " \"Université Bishop's\",\n",
       " 'Université de Montréal',\n",
       " 'Université du Québec à Trois-Rivières (UQTR)',\n",
       " 'Université McGill',\n",
       " 'Université de Sherbrooke',\n",
       " 'École Polytechnique de Montréal',\n",
       " 'Université de Sherbrooke',\n",
       " 'Université de Montréal',\n",
       " 'Université de Montréal',\n",
       " 'Université Concordia',\n",
       " 'HEC Montréal',\n",
       " 'Université Concordia',\n",
       " 'Université du Québec à Montréal (UQAM)',\n",
       " 'Université du Québec à Montréal (UQAM)',\n",
       " 'Université du Québec à Montréal (UQAM)',\n",
       " 'Université de Montréal',\n",
       " 'Université de Montréal',\n",
       " 'Université de Montréal',\n",
       " 'Université de Montréal',\n",
       " 'Institut national de la recherche scientifique (INRS)',\n",
       " 'Université de Montréal',\n",
       " 'Université de Montréal',\n",
       " 'Université de Montréal',\n",
       " 'Université de Montréal',\n",
       " 'Université de Montréal',\n",
       " 'Université de Montréal',\n",
       " 'Université du Québec à Montréal (UQAM)',\n",
       " 'Université du Québec à Rimouski (UQAR)',\n",
       " 'Université du Québec en Outaouais (UQO)',\n",
       " 'Université Laval',\n",
       " 'Université Laval',\n",
       " 'Institut national de la recherche scientifique (INRS)',\n",
       " 'Université Laval',\n",
       " 'Université McGill',\n",
       " 'École Polytechnique de Montréal',\n",
       " 'École Polytechnique de Montréal',\n",
       " 'École Polytechnique de Montréal',\n",
       " 'Université Laval',\n",
       " 'Université Laval',\n",
       " 'Télé-Université',\n",
       " 'Université du Québec à Montréal (UQAM)',\n",
       " 'Université du Québec à Montréal (UQAM)',\n",
       " 'Université du Québec à Montréal (UQAM)',\n",
       " 'Université McGill',\n",
       " 'Université du Québec en Outaouais (UQO)',\n",
       " 'Université de Sherbrooke',\n",
       " 'Université Laval',\n",
       " 'Université McGill',\n",
       " 'Université McGill',\n",
       " 'Université du Québec à Rimouski (UQAR)',\n",
       " 'Université de Sherbrooke',\n",
       " 'Université de Sherbrooke',\n",
       " 'Université Laval',\n",
       " 'Université Laval',\n",
       " 'Université Laval',\n",
       " 'Université Laval',\n",
       " 'Université Laval',\n",
       " 'Université du Québec à Rimouski (UQAR)',\n",
       " 'Université du Québec à Rimouski (UQAR)',\n",
       " \"École nationale d'administration publique (ENAP)\",\n",
       " 'Université de Sherbrooke',\n",
       " 'Université Laval',\n",
       " 'Université McGill',\n",
       " 'Université McGill',\n",
       " 'Université de Montréal',\n",
       " 'Université Concordia',\n",
       " 'Université McGill',\n",
       " 'Université McGill',\n",
       " 'Université Laval',\n",
       " 'Université de Montréal',\n",
       " 'Université de Montréal',\n",
       " 'Université du Québec à Trois-Rivières (UQTR)',\n",
       " 'Université McGill',\n",
       " 'Institut national de la recherche scientifique (INRS)',\n",
       " 'Université du Québec à Montréal (UQAM)',\n",
       " 'Institut national de la recherche scientifique (INRS)',\n",
       " 'Institut national de la recherche scientifique (INRS)',\n",
       " 'Université Laval',\n",
       " 'Université McGill',\n",
       " 'Université Laval',\n",
       " 'Université du Québec à Montréal (UQAM)',\n",
       " 'Université de Montréal',\n",
       " 'Université McGill',\n",
       " 'Université de Montréal',\n",
       " 'Université McGill',\n",
       " 'Université McGill',\n",
       " 'Université de Montréal',\n",
       " 'Université McGill',\n",
       " 'Université McGill',\n",
       " 'Université de Montréal',\n",
       " 'Collège Édouard Montpetit',\n",
       " 'Université de Sherbrooke',\n",
       " 'Université McGill',\n",
       " 'Université McGill',\n",
       " 'Université McGill',\n",
       " 'Université McGill',\n",
       " 'École de technologie supérieure (ETS)',\n",
       " 'Université Concordia',\n",
       " 'Université Laval',\n",
       " 'Université Laval',\n",
       " 'Université McGill',\n",
       " \"Université Bishop's\",\n",
       " 'Université du Québec à Rimouski (UQAR)',\n",
       " 'Université de Montréal',\n",
       " 'Université McGill',\n",
       " 'Université de Montréal',\n",
       " 'Institut national de la recherche scientifique (INRS)',\n",
       " 'Institut national de la recherche scientifique (INRS)',\n",
       " 'Université Laval',\n",
       " 'Université McGill',\n",
       " 'Université McGill',\n",
       " 'Université de Montréal',\n",
       " 'Cégep de Ste-Foy',\n",
       " 'Université de Montréal',\n",
       " 'Université du Québec à Montréal (UQAM)',\n",
       " 'Université du Québec à Montréal (UQAM)',\n",
       " 'École Polytechnique de Montréal',\n",
       " 'École Polytechnique de Montréal',\n",
       " 'Université McGill',\n",
       " 'Université McGill',\n",
       " 'Université de Sherbrooke',\n",
       " 'Université Laval',\n",
       " 'Université McGill',\n",
       " 'Université de Montréal',\n",
       " 'Université de Sherbrooke',\n",
       " 'Université de Montréal',\n",
       " 'École Polytechnique de Montréal',\n",
       " 'Université McGill',\n",
       " 'Université McGill',\n",
       " 'Université McGill',\n",
       " 'École de technologie supérieure (ETS)',\n",
       " 'Université de Montréal',\n",
       " 'Université de Montréal',\n",
       " 'Université McGill',\n",
       " 'Institut national de la recherche scientifique (INRS)',\n",
       " 'Université de Montréal',\n",
       " 'Institut national de la recherche scientifique (INRS)',\n",
       " 'Université McGill',\n",
       " 'Cégep André-Laurendeau',\n",
       " 'Université McGill',\n",
       " 'Université du Québec à Chicoutimi (UQAC)',\n",
       " 'Université de Montréal',\n",
       " 'Université de Montréal',\n",
       " 'Université du Québec à Rimouski (UQAR)',\n",
       " 'Cégep de Victoriaville',\n",
       " 'Université McGill',\n",
       " 'Université McGill',\n",
       " 'Université Laval',\n",
       " 'Université Laval',\n",
       " 'Université Laval',\n",
       " 'Université Laval',\n",
       " 'Université Laval',\n",
       " 'Cégep de Shawinigan',\n",
       " 'Université de Montréal',\n",
       " 'Université McGill',\n",
       " 'Université de Montréal',\n",
       " 'Université du Québec à Chicoutimi (UQAC)',\n",
       " 'Université de Montréal',\n",
       " 'Université du Québec à Montréal (UQAM)',\n",
       " 'Cégep de Trois-Rivières',\n",
       " 'Cégep de Saint-Jérôme',\n",
       " 'Université McGill',\n",
       " 'Université McGill',\n",
       " 'Université de Montréal',\n",
       " 'Université Laval',\n",
       " 'Collège de Maisonneuve',\n",
       " 'Université McGill',\n",
       " 'Université de Sherbrooke',\n",
       " 'Université du Québec à Rimouski (UQAR)',\n",
       " 'Université de Montréal',\n",
       " 'Université McGill',\n",
       " 'Institut national de la recherche scientifique (INRS)',\n",
       " 'Université de Montréal',\n",
       " 'Institut national de la recherche scientifique (INRS)',\n",
       " 'Université de Sherbrooke',\n",
       " 'Université de Montréal',\n",
       " 'Université McGill',\n",
       " 'Université Laval',\n",
       " 'Collège Ahuntsic',\n",
       " 'Institut national de la recherche scientifique (INRS)',\n",
       " 'Université Concordia',\n",
       " 'Université McGill',\n",
       " 'Université de Sherbrooke',\n",
       " 'Université du Québec à Trois-Rivières (UQTR)',\n",
       " 'Université du Québec à Trois-Rivières (UQTR)',\n",
       " 'Université McGill',\n",
       " 'Université McGill',\n",
       " 'Université McGill',\n",
       " 'Université McGill',\n",
       " 'Université McGill',\n",
       " 'Université de Sherbrooke',\n",
       " 'Université de Sherbrooke',\n",
       " 'Université Concordia',\n",
       " 'Université de Sherbrooke',\n",
       " 'Université du Québec à Montréal (UQAM)',\n",
       " 'Université de Montréal',\n",
       " 'Institut national de la recherche scientifique (INRS)',\n",
       " 'Université Laval',\n",
       " 'Université Laval',\n",
       " 'École Polytechnique de Montréal',\n",
       " 'Université de Sherbrooke',\n",
       " 'Université de Sherbrooke',\n",
       " \"Université Bishop's\",\n",
       " 'Université McGill',\n",
       " 'Université McGill',\n",
       " 'Université McGill',\n",
       " 'Université McGill',\n",
       " 'Université McGill',\n",
       " 'Université Laval',\n",
       " 'Université de Montréal',\n",
       " 'Université de Montréal',\n",
       " \"Université Bishop's\",\n",
       " 'Université Laval',\n",
       " 'Université McGill',\n",
       " 'Institut national de la recherche scientifique (INRS)',\n",
       " 'Institut national de la recherche scientifique (INRS)',\n",
       " 'Université de Sherbrooke',\n",
       " 'Université McGill',\n",
       " 'Université McGill',\n",
       " 'Université du Québec à Trois-Rivières (UQTR)',\n",
       " 'Université de Montréal',\n",
       " 'Université du Québec à Montréal (UQAM)',\n",
       " 'Université Laval',\n",
       " 'Université Laval',\n",
       " 'Université Concordia',\n",
       " 'Université Concordia',\n",
       " 'Université Concordia',\n",
       " 'Université Concordia',\n",
       " 'Université Laval',\n",
       " 'Université Laval',\n",
       " 'Université Laval',\n",
       " 'Université Laval',\n",
       " 'Université Laval',\n",
       " 'Université Laval',\n",
       " 'Université Laval',\n",
       " 'Université de Montréal',\n",
       " 'Université Concordia',\n",
       " 'Université McGill',\n",
       " 'Université McGill',\n",
       " 'Université McGill',\n",
       " 'Université de Montréal',\n",
       " 'Université de Montréal',\n",
       " 'Université de Montréal',\n",
       " 'Université de Montréal',\n",
       " 'Université de Montréal',\n",
       " 'Université de Montréal',\n",
       " 'Université de Sherbrooke',\n",
       " 'Université de Montréal',\n",
       " 'Université Concordia',\n",
       " 'Université Concordia',\n",
       " 'Université de Montréal',\n",
       " 'Université de Montréal',\n",
       " 'Université de Montréal',\n",
       " 'Université McGill',\n",
       " 'Université McGill',\n",
       " 'Université McGill',\n",
       " 'Université Laval',\n",
       " 'Université Laval',\n",
       " 'HEC Montréal',\n",
       " 'Université de Sherbrooke',\n",
       " 'Université de Sherbrooke',\n",
       " \"Cégep de l'Abitibi-Témiscamingue\",\n",
       " 'Université McGill',\n",
       " 'Université McGill',\n",
       " 'Université McGill',\n",
       " 'Université McGill',\n",
       " 'Université McGill',\n",
       " 'Université McGill',\n",
       " 'Université McGill',\n",
       " 'Université McGill',\n",
       " 'Université McGill',\n",
       " 'Université Laval',\n",
       " 'Université de Sherbrooke',\n",
       " 'Cégep de Trois-Rivières',\n",
       " 'Université McGill',\n",
       " 'Université de Montréal',\n",
       " 'Université de Montréal',\n",
       " 'Université de Montréal',\n",
       " 'Université de Montréal',\n",
       " 'Université de Montréal',\n",
       " 'Université de Montréal',\n",
       " 'Université du Québec à Trois-Rivières (UQTR)',\n",
       " 'Cégep de la Gaspésie et des Îles',\n",
       " 'Université Laval',\n",
       " 'Université Concordia',\n",
       " 'Université Laval',\n",
       " 'École de technologie supérieure (ETS)',\n",
       " 'Université Laval',\n",
       " 'Cégep André-Laurendeau',\n",
       " 'Cégep de Shawinigan',\n",
       " 'Cégep de St-Hyacinthe',\n",
       " 'Université Laval',\n",
       " 'Université de Montréal',\n",
       " 'Université de Montréal',\n",
       " 'Université de Montréal',\n",
       " 'Université de Montréal',\n",
       " 'Université de Montréal',\n",
       " 'Université McGill',\n",
       " 'Université McGill',\n",
       " 'Université McGill',\n",
       " 'Université McGill',\n",
       " 'Université Laval',\n",
       " 'Université Concordia',\n",
       " 'Université Concordia',\n",
       " 'Université Laval',\n",
       " 'Université du Québec à Montréal (UQAM)',\n",
       " 'Université Concordia',\n",
       " 'Université McGill',\n",
       " 'Université McGill',\n",
       " 'Université McGill',\n",
       " 'Université de Montréal',\n",
       " 'École de technologie supérieure (ETS)',\n",
       " 'École Polytechnique de Montréal',\n",
       " 'Université de Montréal',\n",
       " 'Institut national de la recherche scientifique (INRS)',\n",
       " 'Université de Montréal',\n",
       " 'Université McGill',\n",
       " 'Université McGill',\n",
       " 'Université McGill',\n",
       " 'Université de Sherbrooke',\n",
       " 'Université du Québec à Montréal (UQAM)',\n",
       " 'Institut national de la recherche scientifique (INRS)',\n",
       " 'Université Laval',\n",
       " 'Université McGill',\n",
       " 'Université McGill',\n",
       " 'Université du Québec en Outaouais (UQO)',\n",
       " 'Université de Montréal',\n",
       " 'Université Laval',\n",
       " 'Université du Québec à Montréal (UQAM)',\n",
       " 'Université de Montréal',\n",
       " 'École Polytechnique de Montréal',\n",
       " 'Université McGill',\n",
       " 'Université McGill',\n",
       " 'Université du Québec à Montréal (UQAM)',\n",
       " 'École de technologie supérieure (ETS)',\n",
       " 'Université McGill',\n",
       " 'Télé-Université',\n",
       " 'Université Laval',\n",
       " 'Université du Québec à Montréal (UQAM)',\n",
       " 'Université de Sherbrooke',\n",
       " 'Université de Montréal',\n",
       " 'Université McGill',\n",
       " 'Université Laval',\n",
       " 'Université du Québec à Montréal (UQAM)',\n",
       " 'Université de Montréal',\n",
       " 'Université Laval',\n",
       " 'Université McGill',\n",
       " 'Université Laval',\n",
       " 'Université du Québec à Montréal (UQAM)',\n",
       " 'Université McGill',\n",
       " 'Université de Sherbrooke',\n",
       " 'Université de Montréal',\n",
       " 'Université de Montréal',\n",
       " 'Université McGill',\n",
       " 'École de technologie supérieure (ETS)',\n",
       " 'Université McGill',\n",
       " 'Université McGill',\n",
       " 'École Polytechnique de Montréal',\n",
       " 'Université de Montréal',\n",
       " 'Université McGill',\n",
       " 'Université de Sherbrooke',\n",
       " 'Université Laval',\n",
       " 'Université Laval',\n",
       " 'Université de Sherbrooke',\n",
       " 'Université du Québec à Montréal (UQAM)',\n",
       " 'Institut national de la recherche scientifique (INRS)',\n",
       " 'Université Laval',\n",
       " 'Université Laval',\n",
       " 'Université Concordia',\n",
       " 'Université McGill',\n",
       " 'Université du Québec à Montréal (UQAM)',\n",
       " 'Université McGill',\n",
       " 'Université Laval',\n",
       " 'Université de Montréal',\n",
       " 'Université McGill',\n",
       " 'Université du Québec à Montréal (UQAM)',\n",
       " 'Université Laval',\n",
       " 'Télé-Université',\n",
       " 'Université Laval',\n",
       " 'Université Laval',\n",
       " 'École Polytechnique de Montréal',\n",
       " 'Université du Québec à Montréal (UQAM)',\n",
       " 'Université de Montréal',\n",
       " 'Institut national de la recherche scientifique (INRS)',\n",
       " 'Université Laval',\n",
       " 'Université Laval',\n",
       " 'Université McGill',\n",
       " 'Université Laval',\n",
       " 'Université de Montréal',\n",
       " 'Université Laval',\n",
       " 'Université de Montréal',\n",
       " 'École Polytechnique de Montréal',\n",
       " 'Université de Montréal',\n",
       " 'Université McGill',\n",
       " 'Université de Montréal',\n",
       " 'Université McGill',\n",
       " 'Université Laval',\n",
       " 'Université McGill',\n",
       " 'Université du Québec à Montréal (UQAM)',\n",
       " 'Université McGill',\n",
       " 'Université du Québec en Outaouais (UQO)',\n",
       " 'Université de Sherbrooke',\n",
       " 'Université de Montréal',\n",
       " 'Université du Québec à Montréal (UQAM)',\n",
       " 'Université de Montréal',\n",
       " 'Université McGill',\n",
       " 'Université McGill',\n",
       " 'Université Laval',\n",
       " 'Université McGill',\n",
       " 'Université de Sherbrooke',\n",
       " 'Cégep de la Gaspésie et des Îles',\n",
       " 'Université McGill',\n",
       " 'Université de Montréal',\n",
       " 'Université McGill',\n",
       " 'Université du Québec à Montréal (UQAM)',\n",
       " 'Université McGill',\n",
       " 'Université Laval',\n",
       " 'Université Laval',\n",
       " 'Université de Sherbrooke',\n",
       " 'Université du Québec à Montréal (UQAM)',\n",
       " 'Université du Québec à Trois-Rivières (UQTR)',\n",
       " 'Université Laval',\n",
       " 'Université Laval',\n",
       " 'Université de Montréal',\n",
       " 'Université McGill',\n",
       " 'Université de Montréal',\n",
       " 'Université de Montréal',\n",
       " 'Université de Sherbrooke',\n",
       " 'Université McGill',\n",
       " 'Université McGill',\n",
       " 'Université du Québec à Trois-Rivières (UQTR)',\n",
       " 'Université de Montréal',\n",
       " 'Université de Montréal',\n",
       " 'Université de Montréal',\n",
       " 'Université de Montréal',\n",
       " 'Université de Montréal',\n",
       " 'Institut national de la recherche scientifique (INRS)',\n",
       " 'Université de Sherbrooke',\n",
       " 'Université Laval',\n",
       " 'Université du Québec à Montréal (UQAM)',\n",
       " 'Cégep de Rimouski',\n",
       " 'Université McGill',\n",
       " 'Université du Québec à Montréal (UQAM)',\n",
       " 'Université du Québec à Montréal (UQAM)',\n",
       " 'Université McGill',\n",
       " 'Institut national de la recherche scientifique (INRS)',\n",
       " 'Université du Québec à Montréal (UQAM)',\n",
       " 'Université du Québec à Montréal (UQAM)',\n",
       " 'Université du Québec à Montréal (UQAM)',\n",
       " 'Université McGill',\n",
       " 'Université du Québec en Outaouais (UQO)',\n",
       " 'Université de Montréal',\n",
       " 'Université de Montréal',\n",
       " 'Université de Montréal',\n",
       " 'Université de Montréal',\n",
       " 'Université du Québec à Montréal (UQAM)',\n",
       " 'Université McGill',\n",
       " 'Université Laval',\n",
       " 'Université Laval',\n",
       " 'Université de Montréal',\n",
       " 'Université du Québec en Abitibi-Témiscamingue (UQAT)',\n",
       " 'Université du Québec en Abitibi-Témiscamingue (UQAT)',\n",
       " 'Université McGill',\n",
       " 'Université McGill',\n",
       " 'Université McGill',\n",
       " 'Université Laval',\n",
       " 'Université McGill',\n",
       " 'Institut national de la recherche scientifique (INRS)',\n",
       " 'Université de Montréal',\n",
       " 'Université Laval',\n",
       " 'Université McGill',\n",
       " 'École Polytechnique de Montréal',\n",
       " 'Université McGill',\n",
       " 'Institut national de la recherche scientifique (INRS)',\n",
       " 'Université Laval',\n",
       " 'Université Laval',\n",
       " 'Université McGill',\n",
       " 'Université McGill',\n",
       " 'Université Laval',\n",
       " 'Université de Montréal',\n",
       " 'Université McGill',\n",
       " 'Université de Montréal',\n",
       " \"École nationale d'administration publique (ENAP)\",\n",
       " 'Université de Montréal',\n",
       " 'Université McGill',\n",
       " 'Université de Montréal',\n",
       " 'Université du Québec à Rimouski (UQAR)',\n",
       " 'Université McGill',\n",
       " 'Université Laval',\n",
       " 'Institut national de la recherche scientifique (INRS)',\n",
       " 'Université Laval',\n",
       " 'Université de Montréal',\n",
       " 'Université McGill',\n",
       " 'Université Laval',\n",
       " 'Université de Montréal',\n",
       " 'Université McGill',\n",
       " 'Université de Sherbrooke',\n",
       " 'Université du Québec à Trois-Rivières (UQTR)',\n",
       " 'Université de Montréal',\n",
       " 'École Polytechnique de Montréal',\n",
       " 'École Polytechnique de Montréal',\n",
       " 'Université McGill',\n",
       " 'Université Laval',\n",
       " 'Université McGill',\n",
       " 'Université McGill',\n",
       " 'Université McGill',\n",
       " 'Université McGill',\n",
       " 'Cégep de St-Hyacinthe',\n",
       " \"Cégep de l'Abitibi-Témiscamingue\",\n",
       " 'Université Laval',\n",
       " 'Université de Montréal',\n",
       " 'Université Laval',\n",
       " 'Université de Montréal',\n",
       " 'École Polytechnique de Montréal',\n",
       " 'Université de Montréal',\n",
       " 'Institut national de la recherche scientifique (INRS)',\n",
       " 'HEC Montréal',\n",
       " 'Université Laval',\n",
       " 'Université Concordia',\n",
       " 'Université Laval',\n",
       " 'Université de Montréal',\n",
       " 'Université Laval',\n",
       " 'Université Laval',\n",
       " 'Université de Montréal',\n",
       " 'Université McGill',\n",
       " 'Université de Montréal',\n",
       " 'Université McGill',\n",
       " 'Université Laval',\n",
       " 'Université McGill',\n",
       " 'Université Concordia',\n",
       " 'Université de Montréal',\n",
       " 'Université McGill',\n",
       " 'Université de Montréal',\n",
       " 'Université Laval',\n",
       " 'Université McGill',\n",
       " 'Université Concordia',\n",
       " 'Université du Québec à Chicoutimi (UQAC)',\n",
       " 'École Polytechnique de Montréal',\n",
       " 'Université du Québec à Rimouski (UQAR)',\n",
       " 'Université McGill',\n",
       " 'Université Laval',\n",
       " 'Université Concordia',\n",
       " 'Université Concordia',\n",
       " 'Université McGill',\n",
       " 'Université McGill',\n",
       " 'Université Laval',\n",
       " 'Université McGill',\n",
       " 'Université Laval',\n",
       " 'Université de Montréal',\n",
       " 'Université McGill',\n",
       " 'Université McGill',\n",
       " 'Université McGill',\n",
       " 'Université Laval',\n",
       " 'Université Laval',\n",
       " 'Université McGill',\n",
       " 'Université Concordia',\n",
       " 'École Polytechnique de Montréal',\n",
       " 'Université McGill',\n",
       " 'Université Laval',\n",
       " 'Cégep de Trois-Rivières',\n",
       " 'Université McGill',\n",
       " 'Université de Sherbrooke',\n",
       " 'Université de Montréal',\n",
       " 'Université de Montréal',\n",
       " 'Université Laval',\n",
       " 'Université McGill',\n",
       " 'Université McGill',\n",
       " 'Université de Sherbrooke',\n",
       " 'Université McGill',\n",
       " 'Université de Montréal',\n",
       " 'Université McGill',\n",
       " 'École Polytechnique de Montréal',\n",
       " 'Université du Québec à Chicoutimi (UQAC)',\n",
       " 'Université de Sherbrooke',\n",
       " 'Université Laval',\n",
       " 'Université Laval',\n",
       " 'Université McGill',\n",
       " 'Université du Québec à Montréal (UQAM)',\n",
       " 'Université McGill',\n",
       " 'Université de Sherbrooke',\n",
       " 'Université McGill',\n",
       " 'Université McGill',\n",
       " 'Université de Montréal',\n",
       " 'Université de Montréal',\n",
       " 'Université Laval',\n",
       " 'Université de Montréal',\n",
       " 'Université Laval',\n",
       " 'Université du Québec à Montréal (UQAM)',\n",
       " 'Université McGill',\n",
       " 'Université McGill',\n",
       " 'Université de Sherbrooke',\n",
       " 'Université McGill',\n",
       " 'Université de Montréal',\n",
       " 'Université McGill',\n",
       " 'Université Laval',\n",
       " 'Université Laval',\n",
       " 'Université McGill',\n",
       " 'Université McGill',\n",
       " 'Université de Montréal',\n",
       " 'Université McGill',\n",
       " 'Université Concordia',\n",
       " 'Université Concordia',\n",
       " 'Université Concordia',\n",
       " 'École Polytechnique de Montréal',\n",
       " 'Université McGill',\n",
       " 'Université McGill',\n",
       " 'Université Laval',\n",
       " 'Université McGill',\n",
       " 'Université McGill',\n",
       " 'Institut national de la recherche scientifique (INRS)',\n",
       " \"École nationale d'administration publique (ENAP)\",\n",
       " 'Université de Montréal',\n",
       " 'Université McGill',\n",
       " 'Cégep de Thetford',\n",
       " 'Cégep de La Pocatière',\n",
       " 'École Polytechnique de Montréal',\n",
       " 'Université McGill',\n",
       " 'École de technologie supérieure (ETS)',\n",
       " 'École de technologie supérieure (ETS)',\n",
       " 'Université de Montréal',\n",
       " 'Université McGill',\n",
       " 'Université Laval',\n",
       " 'Université Laval',\n",
       " 'Université Laval',\n",
       " 'Université du Québec à Montréal (UQAM)',\n",
       " 'Université McGill',\n",
       " 'Université de Montréal',\n",
       " 'Université du Québec à Montréal (UQAM)',\n",
       " 'Cégep de Trois-Rivières',\n",
       " 'Cégep de St-Hyacinthe',\n",
       " 'Université de Montréal',\n",
       " 'Université Laval',\n",
       " 'Université Concordia',\n",
       " 'Université de Montréal',\n",
       " 'Université Concordia',\n",
       " 'Cégep de Sorel-Tracy',\n",
       " 'Université Laval',\n",
       " 'Cégep de Thetford',\n",
       " 'Université Laval',\n",
       " 'Université McGill',\n",
       " 'Université de Montréal',\n",
       " 'Université McGill',\n",
       " 'Université de Montréal',\n",
       " 'Université du Québec en Outaouais (UQO)',\n",
       " 'Université McGill',\n",
       " 'École Polytechnique de Montréal',\n",
       " 'Université Laval',\n",
       " 'Institut national de la recherche scientifique (INRS)',\n",
       " 'Université Concordia',\n",
       " 'Université de Montréal',\n",
       " 'Université de Montréal',\n",
       " 'Université du Québec à Montréal (UQAM)',\n",
       " 'Université de Sherbrooke',\n",
       " 'Université McGill',\n",
       " 'Université de Sherbrooke',\n",
       " 'Cégep de Trois-Rivières',\n",
       " 'Université Laval',\n",
       " 'Université du Québec à Montréal (UQAM)',\n",
       " 'Université McGill',\n",
       " 'Université de Montréal',\n",
       " 'Université Laval',\n",
       " 'Université Laval',\n",
       " 'École Polytechnique de Montréal',\n",
       " 'Université de Montréal',\n",
       " 'Université du Québec à Chicoutimi (UQAC)',\n",
       " 'Université McGill',\n",
       " 'École Polytechnique de Montréal',\n",
       " 'Institut national de la recherche scientifique (INRS)',\n",
       " 'École de technologie supérieure (ETS)',\n",
       " 'Université Laval',\n",
       " 'Université McGill',\n",
       " 'Université Laval',\n",
       " 'Université de Montréal',\n",
       " 'Université de Sherbrooke',\n",
       " 'Université de Montréal',\n",
       " 'Université de Montréal',\n",
       " 'Université McGill',\n",
       " 'Télé-Université',\n",
       " 'Université Laval',\n",
       " 'Université de Montréal',\n",
       " 'Université McGill',\n",
       " 'Institut national de la recherche scientifique (INRS)',\n",
       " 'Université Laval',\n",
       " 'Université Laval',\n",
       " 'Université Laval',\n",
       " 'Université de Sherbrooke',\n",
       " 'Université de Sherbrooke',\n",
       " 'Université Laval',\n",
       " 'Université de Montréal',\n",
       " 'Université de Montréal',\n",
       " 'Université Laval',\n",
       " 'Université de Montréal',\n",
       " 'Université Laval',\n",
       " 'Université du Québec en Outaouais (UQO)',\n",
       " 'Université Laval',\n",
       " 'Institut national de la recherche scientifique (INRS)',\n",
       " 'Université de Sherbrooke',\n",
       " 'Université McGill',\n",
       " 'École de technologie supérieure (ETS)',\n",
       " 'Université du Québec à Chicoutimi (UQAC)',\n",
       " 'Université du Québec à Chicoutimi (UQAC)',\n",
       " 'Université de Sherbrooke',\n",
       " 'Université McGill',\n",
       " 'Université de Montréal',\n",
       " 'Université de Montréal',\n",
       " 'Université McGill',\n",
       " 'Université de Montréal',\n",
       " 'Université de Montréal',\n",
       " 'Université de Montréal',\n",
       " 'École Polytechnique de Montréal',\n",
       " 'Université Laval',\n",
       " 'Université Laval',\n",
       " 'Université Laval',\n",
       " 'Université Laval',\n",
       " 'École Polytechnique de Montréal',\n",
       " 'École Polytechnique de Montréal',\n",
       " 'Université de Montréal',\n",
       " 'Université Laval',\n",
       " 'Institut national de la recherche scientifique (INRS)',\n",
       " 'Université de Montréal',\n",
       " 'Institut national de la recherche scientifique (INRS)',\n",
       " 'Université McGill',\n",
       " 'Université de Montréal',\n",
       " 'Université de Montréal',\n",
       " 'Université du Québec en Abitibi-Témiscamingue (UQAT)',\n",
       " 'Université McGill',\n",
       " 'Université McGill',\n",
       " 'Université de Sherbrooke',\n",
       " 'Université McGill',\n",
       " 'École Polytechnique de Montréal',\n",
       " 'Université du Québec à Rimouski (UQAR)',\n",
       " 'Université du Québec à Chicoutimi (UQAC)',\n",
       " 'Collège Édouard Montpetit',\n",
       " 'Université du Québec à Rimouski (UQAR)',\n",
       " 'Université du Québec à Montréal (UQAM)',\n",
       " 'HEC Montréal',\n",
       " 'Université Concordia',\n",
       " \"Collège d'Alma\",\n",
       " 'Université McGill',\n",
       " 'Université McGill',\n",
       " 'Université de Montréal',\n",
       " 'Université Laval',\n",
       " 'Université de Montréal',\n",
       " 'Université Laval',\n",
       " 'Université de Montréal',\n",
       " 'Université McGill',\n",
       " 'Université McGill',\n",
       " 'Université du Québec à Rimouski (UQAR)',\n",
       " 'Université McGill',\n",
       " ...]"
      ]
     },
     "execution_count": 51,
     "metadata": {},
     "output_type": "execute_result"
    }
   ],
   "source": [
    "# df.department.tolist()\n",
    "\n",
    "ls_df = df_qc4.ETABLISSEMENT.tolist()\n",
    "ls_df"
   ]
  },
  {
   "cell_type": "code",
   "execution_count": 52,
   "metadata": {},
   "outputs": [],
   "source": [
    "ls_df = list(df_qc.items())"
   ]
  },
  {
   "cell_type": "code",
   "execution_count": 53,
   "metadata": {},
   "outputs": [
    {
     "data": {
      "text/plain": [
       "('ETABLISSEMENT',\n",
       " 0       Université du Québec à Chicoutimi (UQAC)\n",
       " 1                                       poly_new\n",
       " 2                                     Sherbrooke\n",
       " 3                       Université de Sherbrooke\n",
       " 4                                         ULaval\n",
       "                           ...                   \n",
       " 1310                      Université de Montréal\n",
       " 1311                      Université de Montréal\n",
       " 1312             École Polytechnique de Montréal\n",
       " 1313                      Université de Montréal\n",
       " 1314      Université du Québec à Rimouski (UQAR)\n",
       " Name: ETABLISSEMENT, Length: 1315, dtype: object)"
      ]
     },
     "execution_count": 53,
     "metadata": {},
     "output_type": "execute_result"
    }
   ],
   "source": [
    "ls_df[1]"
   ]
  },
  {
   "cell_type": "code",
   "execution_count": 55,
   "metadata": {
    "scrolled": true
   },
   "outputs": [
    {
     "data": {
      "text/plain": [
       "0    valeur2\n",
       "1    valeur2\n",
       "2    valeur2\n",
       "3    valeur2\n",
       "4    valeur2\n",
       "Name: autre, dtype: object"
      ]
     },
     "execution_count": 55,
     "metadata": {},
     "output_type": "execute_result"
    }
   ],
   "source": [
    "# création d'une nouvelle colonne appelée «autre»\n",
    "\n",
    "df_qc2['autre'] = 'valeur2'\n",
    "df_qc2['autre'][:5]"
   ]
  },
  {
   "cell_type": "code",
   "execution_count": 56,
   "metadata": {},
   "outputs": [
    {
     "data": {
      "text/html": [
       "<div>\n",
       "<style scoped>\n",
       "    .dataframe tbody tr th:only-of-type {\n",
       "        vertical-align: middle;\n",
       "    }\n",
       "\n",
       "    .dataframe tbody tr th {\n",
       "        vertical-align: top;\n",
       "    }\n",
       "\n",
       "    .dataframe thead th {\n",
       "        text-align: right;\n",
       "    }\n",
       "</style>\n",
       "<table border=\"1\" class=\"dataframe\">\n",
       "  <thead>\n",
       "    <tr style=\"text-align: right;\">\n",
       "      <th></th>\n",
       "      <th>REGION_ADMINISTRATIVE</th>\n",
       "      <th>ETABLISSEMENT</th>\n",
       "      <th>ETABLISSEMENT_PARTENAIRE</th>\n",
       "      <th>ANNEE_FINANCIERE</th>\n",
       "      <th>PROGRAMME</th>\n",
       "      <th>VOLET</th>\n",
       "      <th>RESPONSABLE_DU_PROJET</th>\n",
       "      <th>TITRE</th>\n",
       "      <th>RESEAU</th>\n",
       "      <th>MONTANT_MEES</th>\n",
       "      <th>MONTANT_MSSS</th>\n",
       "      <th>MONTANT_MEI</th>\n",
       "      <th>MONTANT_TOTAL_QUEBEC</th>\n",
       "      <th>COUT_TOTAL</th>\n",
       "      <th>SECTEUR</th>\n",
       "      <th>DOMAINE_STRATEGIQUE</th>\n",
       "      <th>DOMAINE_PRIMAIRE</th>\n",
       "      <th>DISCIPLINE_PRIMAIRE</th>\n",
       "      <th>autre</th>\n",
       "    </tr>\n",
       "  </thead>\n",
       "  <tbody>\n",
       "    <tr>\n",
       "      <th>0</th>\n",
       "      <td>Saguenay-Lac-Saint-Jean</td>\n",
       "      <td>Université du Québec à Chicoutimi (UQAC)</td>\n",
       "      <td>NaN</td>\n",
       "      <td>2009-2010</td>\n",
       "      <td>Fonds de l'avant-garde</td>\n",
       "      <td>NaN</td>\n",
       "      <td>Hubert MORIN</td>\n",
       "      <td>Développement de l'infrastructure de recherche...</td>\n",
       "      <td>MEES</td>\n",
       "      <td>583172.0</td>\n",
       "      <td>NaN</td>\n",
       "      <td>NaN</td>\n",
       "      <td>583172</td>\n",
       "      <td>1457930</td>\n",
       "      <td>Sciences naturelles et génie</td>\n",
       "      <td>Ressources naturelles (forêt, faune, mines, eau)</td>\n",
       "      <td>Ressources renouvelables: production et techno...</td>\n",
       "      <td>Biologie végétale</td>\n",
       "      <td>valeur2</td>\n",
       "    </tr>\n",
       "    <tr>\n",
       "      <th>1</th>\n",
       "      <td>Montréal</td>\n",
       "      <td>poly_new</td>\n",
       "      <td>NaN</td>\n",
       "      <td>2009-2010</td>\n",
       "      <td>Fonds des initiatives nouvelles</td>\n",
       "      <td>NaN</td>\n",
       "      <td>Ludvik MARTINU</td>\n",
       "      <td>Système de revêtements intelligents pour des s...</td>\n",
       "      <td>MEES</td>\n",
       "      <td>1067986.0</td>\n",
       "      <td>NaN</td>\n",
       "      <td>NaN</td>\n",
       "      <td>1067986</td>\n",
       "      <td>2725474</td>\n",
       "      <td>Sciences naturelles et génie</td>\n",
       "      <td>Nanosciences et nanotechnologies</td>\n",
       "      <td>Technique de production</td>\n",
       "      <td>Science et technologie des matériaux</td>\n",
       "      <td>valeur2</td>\n",
       "    </tr>\n",
       "    <tr>\n",
       "      <th>2</th>\n",
       "      <td>Estrie</td>\n",
       "      <td>Sherbrooke</td>\n",
       "      <td>NaN</td>\n",
       "      <td>2009-2010</td>\n",
       "      <td>Fonds des initiatives nouvelles</td>\n",
       "      <td>NaN</td>\n",
       "      <td>André Dieter BANDRAUK</td>\n",
       "      <td>Infrastructure pour modélisation et visualisat...</td>\n",
       "      <td>MEES</td>\n",
       "      <td>2377939.0</td>\n",
       "      <td>NaN</td>\n",
       "      <td>NaN</td>\n",
       "      <td>2377939</td>\n",
       "      <td>5944847</td>\n",
       "      <td>Sciences naturelles et génie</td>\n",
       "      <td>TIC (télécommunications, multimédia, logiciels...</td>\n",
       "      <td>Produits de l'industrie chimique</td>\n",
       "      <td>Chimie physique</td>\n",
       "      <td>valeur2</td>\n",
       "    </tr>\n",
       "    <tr>\n",
       "      <th>3</th>\n",
       "      <td>Estrie</td>\n",
       "      <td>Université de Sherbrooke</td>\n",
       "      <td>NaN</td>\n",
       "      <td>2009-2010</td>\n",
       "      <td>Fonds des initiatives nouvelles</td>\n",
       "      <td>NaN</td>\n",
       "      <td>Alain BERRY</td>\n",
       "      <td>Vibroacoustique des structures multi-matériaux...</td>\n",
       "      <td>MEES</td>\n",
       "      <td>1644690.0</td>\n",
       "      <td>NaN</td>\n",
       "      <td>NaN</td>\n",
       "      <td>1644690</td>\n",
       "      <td>4248206</td>\n",
       "      <td>Sciences naturelles et génie</td>\n",
       "      <td>Matériaux de pointe (métaux légers)</td>\n",
       "      <td>Bruit et vibrations</td>\n",
       "      <td>Génie mécanique</td>\n",
       "      <td>valeur2</td>\n",
       "    </tr>\n",
       "    <tr>\n",
       "      <th>4</th>\n",
       "      <td>Capitale-Nationale</td>\n",
       "      <td>ULaval</td>\n",
       "      <td>NaN</td>\n",
       "      <td>2009-2010</td>\n",
       "      <td>Fonds des initiatives nouvelles</td>\n",
       "      <td>NaN</td>\n",
       "      <td>Marc-André SIRARD</td>\n",
       "      <td>Laboratoire de physiologie intégrative en scie...</td>\n",
       "      <td>MEES</td>\n",
       "      <td>2203653.0</td>\n",
       "      <td>NaN</td>\n",
       "      <td>NaN</td>\n",
       "      <td>2203653</td>\n",
       "      <td>5521200</td>\n",
       "      <td>Sciences naturelles et génie</td>\n",
       "      <td>Sciences de la vie (recherche clinique, santé ...</td>\n",
       "      <td>Agriculture</td>\n",
       "      <td>Physiologie</td>\n",
       "      <td>valeur2</td>\n",
       "    </tr>\n",
       "    <tr>\n",
       "      <th>...</th>\n",
       "      <td>...</td>\n",
       "      <td>...</td>\n",
       "      <td>...</td>\n",
       "      <td>...</td>\n",
       "      <td>...</td>\n",
       "      <td>...</td>\n",
       "      <td>...</td>\n",
       "      <td>...</td>\n",
       "      <td>...</td>\n",
       "      <td>...</td>\n",
       "      <td>...</td>\n",
       "      <td>...</td>\n",
       "      <td>...</td>\n",
       "      <td>...</td>\n",
       "      <td>...</td>\n",
       "      <td>...</td>\n",
       "      <td>...</td>\n",
       "      <td>...</td>\n",
       "      <td>...</td>\n",
       "    </tr>\n",
       "    <tr>\n",
       "      <th>1310</th>\n",
       "      <td>Montréal</td>\n",
       "      <td>Université de Montréal</td>\n",
       "      <td>NaN</td>\n",
       "      <td>2018-2019</td>\n",
       "      <td>Fonds des leaders John-R.-Evans</td>\n",
       "      <td>Indépendant - chercheur junior - recrutement</td>\n",
       "      <td>Pierre-Luc CHAGNON</td>\n",
       "      <td>Comment les traits des champignons mycorhizien...</td>\n",
       "      <td>MEES</td>\n",
       "      <td>114771.0</td>\n",
       "      <td>NaN</td>\n",
       "      <td>NaN</td>\n",
       "      <td>114771</td>\n",
       "      <td>287517</td>\n",
       "      <td>Sciences naturelles et génie</td>\n",
       "      <td>Environnement et science du climat</td>\n",
       "      <td>Agriculture</td>\n",
       "      <td>Microbiologie</td>\n",
       "      <td>valeur2</td>\n",
       "    </tr>\n",
       "    <tr>\n",
       "      <th>1311</th>\n",
       "      <td>Montréal</td>\n",
       "      <td>Université de Montréal</td>\n",
       "      <td>NaN</td>\n",
       "      <td>2018-2019</td>\n",
       "      <td>Fonds des leaders John-R.-Evans</td>\n",
       "      <td>Indépendant - chercheur junior - recrutement</td>\n",
       "      <td>Ahmad Hamdan</td>\n",
       "      <td>Infrastructure de recherche sur les plasmas mu...</td>\n",
       "      <td>MEES</td>\n",
       "      <td>233586.0</td>\n",
       "      <td>NaN</td>\n",
       "      <td>NaN</td>\n",
       "      <td>233586</td>\n",
       "      <td>583965</td>\n",
       "      <td>Sciences naturelles et génie</td>\n",
       "      <td>Développement durable et technologies vertes</td>\n",
       "      <td>Ressources renouvelables (rech. générale)</td>\n",
       "      <td>Physique</td>\n",
       "      <td>valeur2</td>\n",
       "    </tr>\n",
       "    <tr>\n",
       "      <th>1312</th>\n",
       "      <td>Montréal</td>\n",
       "      <td>École Polytechnique de Montréal</td>\n",
       "      <td>NaN</td>\n",
       "      <td>2018-2019</td>\n",
       "      <td>Fonds des leaders John-R.-Evans</td>\n",
       "      <td>Indépendant - chercheur junior - recrutement</td>\n",
       "      <td>Keyhan SHESHYEKANI</td>\n",
       "      <td>Laboratoire de microréseaux</td>\n",
       "      <td>MEES</td>\n",
       "      <td>125000.0</td>\n",
       "      <td>NaN</td>\n",
       "      <td>NaN</td>\n",
       "      <td>125000</td>\n",
       "      <td>319961</td>\n",
       "      <td>Sciences naturelles et génie</td>\n",
       "      <td>Énergie</td>\n",
       "      <td>Technique de production</td>\n",
       "      <td>Génie électrique et électronique</td>\n",
       "      <td>valeur2</td>\n",
       "    </tr>\n",
       "    <tr>\n",
       "      <th>1313</th>\n",
       "      <td>Montréal</td>\n",
       "      <td>Université de Montréal</td>\n",
       "      <td>CIUSSS de l'Est-de-l'Île-de-Montréal - Institu...</td>\n",
       "      <td>2018-2019</td>\n",
       "      <td>Fonds des leaders John-R.-Evans</td>\n",
       "      <td>Indépendant - chercheur junior - recrutement</td>\n",
       "      <td>Robert Paul Juster</td>\n",
       "      <td>Centre d’études sur le sexe/genre, l'allostasi...</td>\n",
       "      <td>MSSS</td>\n",
       "      <td>NaN</td>\n",
       "      <td>152970.0</td>\n",
       "      <td>NaN</td>\n",
       "      <td>152970</td>\n",
       "      <td>382425</td>\n",
       "      <td>Santé</td>\n",
       "      <td>Sciences de la vie (recherche clinique, santé ...</td>\n",
       "      <td>Santé</td>\n",
       "      <td>Comportement et psychologie humaine</td>\n",
       "      <td>valeur2</td>\n",
       "    </tr>\n",
       "    <tr>\n",
       "      <th>1314</th>\n",
       "      <td>Bas-Saint-Laurent</td>\n",
       "      <td>Université du Québec à Rimouski (UQAR)</td>\n",
       "      <td>NaN</td>\n",
       "      <td>2018-2019</td>\n",
       "      <td>Fonds des leaders John-R.-Evans</td>\n",
       "      <td>Indépendant - chercheur établi</td>\n",
       "      <td>Martin-Hugues ST-LAURENT</td>\n",
       "      <td>Station de recherche montagnarde et alpine dan...</td>\n",
       "      <td>MEES</td>\n",
       "      <td>119780.0</td>\n",
       "      <td>NaN</td>\n",
       "      <td>NaN</td>\n",
       "      <td>119780</td>\n",
       "      <td>299450</td>\n",
       "      <td>Sciences naturelles et génie</td>\n",
       "      <td>Environnement et science du climat</td>\n",
       "      <td>Espèces vivantes et biotopes</td>\n",
       "      <td>Évolution et écologie</td>\n",
       "      <td>valeur2</td>\n",
       "    </tr>\n",
       "  </tbody>\n",
       "</table>\n",
       "<p>1315 rows × 19 columns</p>\n",
       "</div>"
      ],
      "text/plain": [
       "        REGION_ADMINISTRATIVE                             ETABLISSEMENT  \\\n",
       "0     Saguenay-Lac-Saint-Jean  Université du Québec à Chicoutimi (UQAC)   \n",
       "1                    Montréal                                  poly_new   \n",
       "2                      Estrie                                Sherbrooke   \n",
       "3                      Estrie                  Université de Sherbrooke   \n",
       "4          Capitale-Nationale                                    ULaval   \n",
       "...                       ...                                       ...   \n",
       "1310                 Montréal                    Université de Montréal   \n",
       "1311                 Montréal                    Université de Montréal   \n",
       "1312                 Montréal           École Polytechnique de Montréal   \n",
       "1313                 Montréal                    Université de Montréal   \n",
       "1314        Bas-Saint-Laurent    Université du Québec à Rimouski (UQAR)   \n",
       "\n",
       "                               ETABLISSEMENT_PARTENAIRE ANNEE_FINANCIERE  \\\n",
       "0                                                   NaN        2009-2010   \n",
       "1                                                   NaN        2009-2010   \n",
       "2                                                   NaN        2009-2010   \n",
       "3                                                   NaN        2009-2010   \n",
       "4                                                   NaN        2009-2010   \n",
       "...                                                 ...              ...   \n",
       "1310                                                NaN        2018-2019   \n",
       "1311                                                NaN        2018-2019   \n",
       "1312                                                NaN        2018-2019   \n",
       "1313  CIUSSS de l'Est-de-l'Île-de-Montréal - Institu...        2018-2019   \n",
       "1314                                                NaN        2018-2019   \n",
       "\n",
       "                            PROGRAMME  \\\n",
       "0              Fonds de l'avant-garde   \n",
       "1     Fonds des initiatives nouvelles   \n",
       "2     Fonds des initiatives nouvelles   \n",
       "3     Fonds des initiatives nouvelles   \n",
       "4     Fonds des initiatives nouvelles   \n",
       "...                               ...   \n",
       "1310  Fonds des leaders John-R.-Evans   \n",
       "1311  Fonds des leaders John-R.-Evans   \n",
       "1312  Fonds des leaders John-R.-Evans   \n",
       "1313  Fonds des leaders John-R.-Evans   \n",
       "1314  Fonds des leaders John-R.-Evans   \n",
       "\n",
       "                                             VOLET     RESPONSABLE_DU_PROJET  \\\n",
       "0                                              NaN              Hubert MORIN   \n",
       "1                                              NaN            Ludvik MARTINU   \n",
       "2                                              NaN     André Dieter BANDRAUK   \n",
       "3                                              NaN               Alain BERRY   \n",
       "4                                              NaN         Marc-André SIRARD   \n",
       "...                                            ...                       ...   \n",
       "1310  Indépendant - chercheur junior - recrutement        Pierre-Luc CHAGNON   \n",
       "1311  Indépendant - chercheur junior - recrutement              Ahmad Hamdan   \n",
       "1312  Indépendant - chercheur junior - recrutement        Keyhan SHESHYEKANI   \n",
       "1313  Indépendant - chercheur junior - recrutement        Robert Paul Juster   \n",
       "1314                Indépendant - chercheur établi  Martin-Hugues ST-LAURENT   \n",
       "\n",
       "                                                  TITRE RESEAU  MONTANT_MEES  \\\n",
       "0     Développement de l'infrastructure de recherche...   MEES      583172.0   \n",
       "1     Système de revêtements intelligents pour des s...   MEES     1067986.0   \n",
       "2     Infrastructure pour modélisation et visualisat...   MEES     2377939.0   \n",
       "3     Vibroacoustique des structures multi-matériaux...   MEES     1644690.0   \n",
       "4     Laboratoire de physiologie intégrative en scie...   MEES     2203653.0   \n",
       "...                                                 ...    ...           ...   \n",
       "1310  Comment les traits des champignons mycorhizien...   MEES      114771.0   \n",
       "1311  Infrastructure de recherche sur les plasmas mu...   MEES      233586.0   \n",
       "1312                        Laboratoire de microréseaux   MEES      125000.0   \n",
       "1313  Centre d’études sur le sexe/genre, l'allostasi...   MSSS           NaN   \n",
       "1314  Station de recherche montagnarde et alpine dan...   MEES      119780.0   \n",
       "\n",
       "      MONTANT_MSSS  MONTANT_MEI  MONTANT_TOTAL_QUEBEC  COUT_TOTAL  \\\n",
       "0              NaN          NaN                583172     1457930   \n",
       "1              NaN          NaN               1067986     2725474   \n",
       "2              NaN          NaN               2377939     5944847   \n",
       "3              NaN          NaN               1644690     4248206   \n",
       "4              NaN          NaN               2203653     5521200   \n",
       "...            ...          ...                   ...         ...   \n",
       "1310           NaN          NaN                114771      287517   \n",
       "1311           NaN          NaN                233586      583965   \n",
       "1312           NaN          NaN                125000      319961   \n",
       "1313      152970.0          NaN                152970      382425   \n",
       "1314           NaN          NaN                119780      299450   \n",
       "\n",
       "                           SECTEUR  \\\n",
       "0     Sciences naturelles et génie   \n",
       "1     Sciences naturelles et génie   \n",
       "2     Sciences naturelles et génie   \n",
       "3     Sciences naturelles et génie   \n",
       "4     Sciences naturelles et génie   \n",
       "...                            ...   \n",
       "1310  Sciences naturelles et génie   \n",
       "1311  Sciences naturelles et génie   \n",
       "1312  Sciences naturelles et génie   \n",
       "1313                         Santé   \n",
       "1314  Sciences naturelles et génie   \n",
       "\n",
       "                                    DOMAINE_STRATEGIQUE  \\\n",
       "0      Ressources naturelles (forêt, faune, mines, eau)   \n",
       "1                      Nanosciences et nanotechnologies   \n",
       "2     TIC (télécommunications, multimédia, logiciels...   \n",
       "3                   Matériaux de pointe (métaux légers)   \n",
       "4     Sciences de la vie (recherche clinique, santé ...   \n",
       "...                                                 ...   \n",
       "1310                 Environnement et science du climat   \n",
       "1311       Développement durable et technologies vertes   \n",
       "1312                                            Énergie   \n",
       "1313  Sciences de la vie (recherche clinique, santé ...   \n",
       "1314                 Environnement et science du climat   \n",
       "\n",
       "                                       DOMAINE_PRIMAIRE  \\\n",
       "0     Ressources renouvelables: production et techno...   \n",
       "1                               Technique de production   \n",
       "2                      Produits de l'industrie chimique   \n",
       "3                                   Bruit et vibrations   \n",
       "4                                           Agriculture   \n",
       "...                                                 ...   \n",
       "1310                                        Agriculture   \n",
       "1311          Ressources renouvelables (rech. générale)   \n",
       "1312                            Technique de production   \n",
       "1313                                              Santé   \n",
       "1314                       Espèces vivantes et biotopes   \n",
       "\n",
       "                       DISCIPLINE_PRIMAIRE    autre  \n",
       "0                        Biologie végétale  valeur2  \n",
       "1     Science et technologie des matériaux  valeur2  \n",
       "2                          Chimie physique  valeur2  \n",
       "3                          Génie mécanique  valeur2  \n",
       "4                              Physiologie  valeur2  \n",
       "...                                    ...      ...  \n",
       "1310                         Microbiologie  valeur2  \n",
       "1311                              Physique  valeur2  \n",
       "1312      Génie électrique et électronique  valeur2  \n",
       "1313   Comportement et psychologie humaine  valeur2  \n",
       "1314                 Évolution et écologie  valeur2  \n",
       "\n",
       "[1315 rows x 19 columns]"
      ]
     },
     "execution_count": 56,
     "metadata": {},
     "output_type": "execute_result"
    }
   ],
   "source": [
    "df_qc"
   ]
  },
  {
   "cell_type": "code",
   "execution_count": 57,
   "metadata": {},
   "outputs": [
    {
     "data": {
      "text/html": [
       "<div>\n",
       "<style scoped>\n",
       "    .dataframe tbody tr th:only-of-type {\n",
       "        vertical-align: middle;\n",
       "    }\n",
       "\n",
       "    .dataframe tbody tr th {\n",
       "        vertical-align: top;\n",
       "    }\n",
       "\n",
       "    .dataframe thead th {\n",
       "        text-align: right;\n",
       "    }\n",
       "</style>\n",
       "<table border=\"1\" class=\"dataframe\">\n",
       "  <thead>\n",
       "    <tr style=\"text-align: right;\">\n",
       "      <th></th>\n",
       "      <th>REGION_ADMINISTRATIVE</th>\n",
       "      <th>ETABLISSEMENT_PARTENAIRE</th>\n",
       "      <th>ANNEE_FINANCIERE</th>\n",
       "      <th>PROGRAMME</th>\n",
       "      <th>VOLET</th>\n",
       "      <th>RESPONSABLE_DU_PROJET</th>\n",
       "      <th>TITRE</th>\n",
       "      <th>RESEAU</th>\n",
       "      <th>MONTANT_MEES</th>\n",
       "      <th>MONTANT_MSSS</th>\n",
       "      <th>MONTANT_MEI</th>\n",
       "      <th>MONTANT_TOTAL_QUEBEC</th>\n",
       "      <th>COUT_TOTAL</th>\n",
       "      <th>SECTEUR</th>\n",
       "      <th>DOMAINE_STRATEGIQUE</th>\n",
       "      <th>DOMAINE_PRIMAIRE</th>\n",
       "      <th>DISCIPLINE_PRIMAIRE</th>\n",
       "      <th>autre</th>\n",
       "    </tr>\n",
       "    <tr>\n",
       "      <th>ETABLISSEMENT</th>\n",
       "      <th></th>\n",
       "      <th></th>\n",
       "      <th></th>\n",
       "      <th></th>\n",
       "      <th></th>\n",
       "      <th></th>\n",
       "      <th></th>\n",
       "      <th></th>\n",
       "      <th></th>\n",
       "      <th></th>\n",
       "      <th></th>\n",
       "      <th></th>\n",
       "      <th></th>\n",
       "      <th></th>\n",
       "      <th></th>\n",
       "      <th></th>\n",
       "      <th></th>\n",
       "      <th></th>\n",
       "    </tr>\n",
       "  </thead>\n",
       "  <tbody>\n",
       "    <tr>\n",
       "      <th>Université du Québec à Chicoutimi (UQAC)</th>\n",
       "      <td>Saguenay-Lac-Saint-Jean</td>\n",
       "      <td>NaN</td>\n",
       "      <td>2009-2010</td>\n",
       "      <td>Fonds de l'avant-garde</td>\n",
       "      <td>NaN</td>\n",
       "      <td>Hubert MORIN</td>\n",
       "      <td>Développement de l'infrastructure de recherche...</td>\n",
       "      <td>MEES</td>\n",
       "      <td>583172.0</td>\n",
       "      <td>NaN</td>\n",
       "      <td>NaN</td>\n",
       "      <td>583172</td>\n",
       "      <td>1457930</td>\n",
       "      <td>Sciences naturelles et génie</td>\n",
       "      <td>Ressources naturelles (forêt, faune, mines, eau)</td>\n",
       "      <td>Ressources renouvelables: production et techno...</td>\n",
       "      <td>Biologie végétale</td>\n",
       "      <td>valeur2</td>\n",
       "    </tr>\n",
       "    <tr>\n",
       "      <th>poly_new</th>\n",
       "      <td>Montréal</td>\n",
       "      <td>NaN</td>\n",
       "      <td>2009-2010</td>\n",
       "      <td>Fonds des initiatives nouvelles</td>\n",
       "      <td>NaN</td>\n",
       "      <td>Ludvik MARTINU</td>\n",
       "      <td>Système de revêtements intelligents pour des s...</td>\n",
       "      <td>MEES</td>\n",
       "      <td>1067986.0</td>\n",
       "      <td>NaN</td>\n",
       "      <td>NaN</td>\n",
       "      <td>1067986</td>\n",
       "      <td>2725474</td>\n",
       "      <td>Sciences naturelles et génie</td>\n",
       "      <td>Nanosciences et nanotechnologies</td>\n",
       "      <td>Technique de production</td>\n",
       "      <td>Science et technologie des matériaux</td>\n",
       "      <td>valeur2</td>\n",
       "    </tr>\n",
       "    <tr>\n",
       "      <th>Sherbrooke</th>\n",
       "      <td>Estrie</td>\n",
       "      <td>NaN</td>\n",
       "      <td>2009-2010</td>\n",
       "      <td>Fonds des initiatives nouvelles</td>\n",
       "      <td>NaN</td>\n",
       "      <td>André Dieter BANDRAUK</td>\n",
       "      <td>Infrastructure pour modélisation et visualisat...</td>\n",
       "      <td>MEES</td>\n",
       "      <td>2377939.0</td>\n",
       "      <td>NaN</td>\n",
       "      <td>NaN</td>\n",
       "      <td>2377939</td>\n",
       "      <td>5944847</td>\n",
       "      <td>Sciences naturelles et génie</td>\n",
       "      <td>TIC (télécommunications, multimédia, logiciels...</td>\n",
       "      <td>Produits de l'industrie chimique</td>\n",
       "      <td>Chimie physique</td>\n",
       "      <td>valeur2</td>\n",
       "    </tr>\n",
       "    <tr>\n",
       "      <th>Université de Sherbrooke</th>\n",
       "      <td>Estrie</td>\n",
       "      <td>NaN</td>\n",
       "      <td>2009-2010</td>\n",
       "      <td>Fonds des initiatives nouvelles</td>\n",
       "      <td>NaN</td>\n",
       "      <td>Alain BERRY</td>\n",
       "      <td>Vibroacoustique des structures multi-matériaux...</td>\n",
       "      <td>MEES</td>\n",
       "      <td>1644690.0</td>\n",
       "      <td>NaN</td>\n",
       "      <td>NaN</td>\n",
       "      <td>1644690</td>\n",
       "      <td>4248206</td>\n",
       "      <td>Sciences naturelles et génie</td>\n",
       "      <td>Matériaux de pointe (métaux légers)</td>\n",
       "      <td>Bruit et vibrations</td>\n",
       "      <td>Génie mécanique</td>\n",
       "      <td>valeur2</td>\n",
       "    </tr>\n",
       "    <tr>\n",
       "      <th>ULaval</th>\n",
       "      <td>Capitale-Nationale</td>\n",
       "      <td>NaN</td>\n",
       "      <td>2009-2010</td>\n",
       "      <td>Fonds des initiatives nouvelles</td>\n",
       "      <td>NaN</td>\n",
       "      <td>Marc-André SIRARD</td>\n",
       "      <td>Laboratoire de physiologie intégrative en scie...</td>\n",
       "      <td>MEES</td>\n",
       "      <td>2203653.0</td>\n",
       "      <td>NaN</td>\n",
       "      <td>NaN</td>\n",
       "      <td>2203653</td>\n",
       "      <td>5521200</td>\n",
       "      <td>Sciences naturelles et génie</td>\n",
       "      <td>Sciences de la vie (recherche clinique, santé ...</td>\n",
       "      <td>Agriculture</td>\n",
       "      <td>Physiologie</td>\n",
       "      <td>valeur2</td>\n",
       "    </tr>\n",
       "    <tr>\n",
       "      <th>...</th>\n",
       "      <td>...</td>\n",
       "      <td>...</td>\n",
       "      <td>...</td>\n",
       "      <td>...</td>\n",
       "      <td>...</td>\n",
       "      <td>...</td>\n",
       "      <td>...</td>\n",
       "      <td>...</td>\n",
       "      <td>...</td>\n",
       "      <td>...</td>\n",
       "      <td>...</td>\n",
       "      <td>...</td>\n",
       "      <td>...</td>\n",
       "      <td>...</td>\n",
       "      <td>...</td>\n",
       "      <td>...</td>\n",
       "      <td>...</td>\n",
       "      <td>...</td>\n",
       "    </tr>\n",
       "    <tr>\n",
       "      <th>Université de Montréal</th>\n",
       "      <td>Montréal</td>\n",
       "      <td>NaN</td>\n",
       "      <td>2018-2019</td>\n",
       "      <td>Fonds des leaders John-R.-Evans</td>\n",
       "      <td>Indépendant - chercheur junior - recrutement</td>\n",
       "      <td>Pierre-Luc CHAGNON</td>\n",
       "      <td>Comment les traits des champignons mycorhizien...</td>\n",
       "      <td>MEES</td>\n",
       "      <td>114771.0</td>\n",
       "      <td>NaN</td>\n",
       "      <td>NaN</td>\n",
       "      <td>114771</td>\n",
       "      <td>287517</td>\n",
       "      <td>Sciences naturelles et génie</td>\n",
       "      <td>Environnement et science du climat</td>\n",
       "      <td>Agriculture</td>\n",
       "      <td>Microbiologie</td>\n",
       "      <td>valeur2</td>\n",
       "    </tr>\n",
       "    <tr>\n",
       "      <th>Université de Montréal</th>\n",
       "      <td>Montréal</td>\n",
       "      <td>NaN</td>\n",
       "      <td>2018-2019</td>\n",
       "      <td>Fonds des leaders John-R.-Evans</td>\n",
       "      <td>Indépendant - chercheur junior - recrutement</td>\n",
       "      <td>Ahmad Hamdan</td>\n",
       "      <td>Infrastructure de recherche sur les plasmas mu...</td>\n",
       "      <td>MEES</td>\n",
       "      <td>233586.0</td>\n",
       "      <td>NaN</td>\n",
       "      <td>NaN</td>\n",
       "      <td>233586</td>\n",
       "      <td>583965</td>\n",
       "      <td>Sciences naturelles et génie</td>\n",
       "      <td>Développement durable et technologies vertes</td>\n",
       "      <td>Ressources renouvelables (rech. générale)</td>\n",
       "      <td>Physique</td>\n",
       "      <td>valeur2</td>\n",
       "    </tr>\n",
       "    <tr>\n",
       "      <th>École Polytechnique de Montréal</th>\n",
       "      <td>Montréal</td>\n",
       "      <td>NaN</td>\n",
       "      <td>2018-2019</td>\n",
       "      <td>Fonds des leaders John-R.-Evans</td>\n",
       "      <td>Indépendant - chercheur junior - recrutement</td>\n",
       "      <td>Keyhan SHESHYEKANI</td>\n",
       "      <td>Laboratoire de microréseaux</td>\n",
       "      <td>MEES</td>\n",
       "      <td>125000.0</td>\n",
       "      <td>NaN</td>\n",
       "      <td>NaN</td>\n",
       "      <td>125000</td>\n",
       "      <td>319961</td>\n",
       "      <td>Sciences naturelles et génie</td>\n",
       "      <td>Énergie</td>\n",
       "      <td>Technique de production</td>\n",
       "      <td>Génie électrique et électronique</td>\n",
       "      <td>valeur2</td>\n",
       "    </tr>\n",
       "    <tr>\n",
       "      <th>Université de Montréal</th>\n",
       "      <td>Montréal</td>\n",
       "      <td>CIUSSS de l'Est-de-l'Île-de-Montréal - Institu...</td>\n",
       "      <td>2018-2019</td>\n",
       "      <td>Fonds des leaders John-R.-Evans</td>\n",
       "      <td>Indépendant - chercheur junior - recrutement</td>\n",
       "      <td>Robert Paul Juster</td>\n",
       "      <td>Centre d’études sur le sexe/genre, l'allostasi...</td>\n",
       "      <td>MSSS</td>\n",
       "      <td>NaN</td>\n",
       "      <td>152970.0</td>\n",
       "      <td>NaN</td>\n",
       "      <td>152970</td>\n",
       "      <td>382425</td>\n",
       "      <td>Santé</td>\n",
       "      <td>Sciences de la vie (recherche clinique, santé ...</td>\n",
       "      <td>Santé</td>\n",
       "      <td>Comportement et psychologie humaine</td>\n",
       "      <td>valeur2</td>\n",
       "    </tr>\n",
       "    <tr>\n",
       "      <th>Université du Québec à Rimouski (UQAR)</th>\n",
       "      <td>Bas-Saint-Laurent</td>\n",
       "      <td>NaN</td>\n",
       "      <td>2018-2019</td>\n",
       "      <td>Fonds des leaders John-R.-Evans</td>\n",
       "      <td>Indépendant - chercheur établi</td>\n",
       "      <td>Martin-Hugues ST-LAURENT</td>\n",
       "      <td>Station de recherche montagnarde et alpine dan...</td>\n",
       "      <td>MEES</td>\n",
       "      <td>119780.0</td>\n",
       "      <td>NaN</td>\n",
       "      <td>NaN</td>\n",
       "      <td>119780</td>\n",
       "      <td>299450</td>\n",
       "      <td>Sciences naturelles et génie</td>\n",
       "      <td>Environnement et science du climat</td>\n",
       "      <td>Espèces vivantes et biotopes</td>\n",
       "      <td>Évolution et écologie</td>\n",
       "      <td>valeur2</td>\n",
       "    </tr>\n",
       "  </tbody>\n",
       "</table>\n",
       "<p>1315 rows × 18 columns</p>\n",
       "</div>"
      ],
      "text/plain": [
       "                                            REGION_ADMINISTRATIVE  \\\n",
       "ETABLISSEMENT                                                       \n",
       "Université du Québec à Chicoutimi (UQAC)  Saguenay-Lac-Saint-Jean   \n",
       "poly_new                                                 Montréal   \n",
       "Sherbrooke                                                 Estrie   \n",
       "Université de Sherbrooke                                   Estrie   \n",
       "ULaval                                         Capitale-Nationale   \n",
       "...                                                           ...   \n",
       "Université de Montréal                                   Montréal   \n",
       "Université de Montréal                                   Montréal   \n",
       "École Polytechnique de Montréal                          Montréal   \n",
       "Université de Montréal                                   Montréal   \n",
       "Université du Québec à Rimouski (UQAR)          Bas-Saint-Laurent   \n",
       "\n",
       "                                                                   ETABLISSEMENT_PARTENAIRE  \\\n",
       "ETABLISSEMENT                                                                                 \n",
       "Université du Québec à Chicoutimi (UQAC)                                                NaN   \n",
       "poly_new                                                                                NaN   \n",
       "Sherbrooke                                                                              NaN   \n",
       "Université de Sherbrooke                                                                NaN   \n",
       "ULaval                                                                                  NaN   \n",
       "...                                                                                     ...   \n",
       "Université de Montréal                                                                  NaN   \n",
       "Université de Montréal                                                                  NaN   \n",
       "École Polytechnique de Montréal                                                         NaN   \n",
       "Université de Montréal                    CIUSSS de l'Est-de-l'Île-de-Montréal - Institu...   \n",
       "Université du Québec à Rimouski (UQAR)                                                  NaN   \n",
       "\n",
       "                                         ANNEE_FINANCIERE  \\\n",
       "ETABLISSEMENT                                               \n",
       "Université du Québec à Chicoutimi (UQAC)        2009-2010   \n",
       "poly_new                                        2009-2010   \n",
       "Sherbrooke                                      2009-2010   \n",
       "Université de Sherbrooke                        2009-2010   \n",
       "ULaval                                          2009-2010   \n",
       "...                                                   ...   \n",
       "Université de Montréal                          2018-2019   \n",
       "Université de Montréal                          2018-2019   \n",
       "École Polytechnique de Montréal                 2018-2019   \n",
       "Université de Montréal                          2018-2019   \n",
       "Université du Québec à Rimouski (UQAR)          2018-2019   \n",
       "\n",
       "                                                                PROGRAMME  \\\n",
       "ETABLISSEMENT                                                               \n",
       "Université du Québec à Chicoutimi (UQAC)           Fonds de l'avant-garde   \n",
       "poly_new                                  Fonds des initiatives nouvelles   \n",
       "Sherbrooke                                Fonds des initiatives nouvelles   \n",
       "Université de Sherbrooke                  Fonds des initiatives nouvelles   \n",
       "ULaval                                    Fonds des initiatives nouvelles   \n",
       "...                                                                   ...   \n",
       "Université de Montréal                    Fonds des leaders John-R.-Evans   \n",
       "Université de Montréal                    Fonds des leaders John-R.-Evans   \n",
       "École Polytechnique de Montréal           Fonds des leaders John-R.-Evans   \n",
       "Université de Montréal                    Fonds des leaders John-R.-Evans   \n",
       "Université du Québec à Rimouski (UQAR)    Fonds des leaders John-R.-Evans   \n",
       "\n",
       "                                                                                 VOLET  \\\n",
       "ETABLISSEMENT                                                                            \n",
       "Université du Québec à Chicoutimi (UQAC)                                           NaN   \n",
       "poly_new                                                                           NaN   \n",
       "Sherbrooke                                                                         NaN   \n",
       "Université de Sherbrooke                                                           NaN   \n",
       "ULaval                                                                             NaN   \n",
       "...                                                                                ...   \n",
       "Université de Montréal                    Indépendant - chercheur junior - recrutement   \n",
       "Université de Montréal                    Indépendant - chercheur junior - recrutement   \n",
       "École Polytechnique de Montréal           Indépendant - chercheur junior - recrutement   \n",
       "Université de Montréal                    Indépendant - chercheur junior - recrutement   \n",
       "Université du Québec à Rimouski (UQAR)                  Indépendant - chercheur établi   \n",
       "\n",
       "                                             RESPONSABLE_DU_PROJET  \\\n",
       "ETABLISSEMENT                                                        \n",
       "Université du Québec à Chicoutimi (UQAC)              Hubert MORIN   \n",
       "poly_new                                            Ludvik MARTINU   \n",
       "Sherbrooke                                   André Dieter BANDRAUK   \n",
       "Université de Sherbrooke                               Alain BERRY   \n",
       "ULaval                                           Marc-André SIRARD   \n",
       "...                                                            ...   \n",
       "Université de Montréal                          Pierre-Luc CHAGNON   \n",
       "Université de Montréal                                Ahmad Hamdan   \n",
       "École Polytechnique de Montréal                 Keyhan SHESHYEKANI   \n",
       "Université de Montréal                          Robert Paul Juster   \n",
       "Université du Québec à Rimouski (UQAR)    Martin-Hugues ST-LAURENT   \n",
       "\n",
       "                                                                                      TITRE  \\\n",
       "ETABLISSEMENT                                                                                 \n",
       "Université du Québec à Chicoutimi (UQAC)  Développement de l'infrastructure de recherche...   \n",
       "poly_new                                  Système de revêtements intelligents pour des s...   \n",
       "Sherbrooke                                Infrastructure pour modélisation et visualisat...   \n",
       "Université de Sherbrooke                  Vibroacoustique des structures multi-matériaux...   \n",
       "ULaval                                    Laboratoire de physiologie intégrative en scie...   \n",
       "...                                                                                     ...   \n",
       "Université de Montréal                    Comment les traits des champignons mycorhizien...   \n",
       "Université de Montréal                    Infrastructure de recherche sur les plasmas mu...   \n",
       "École Polytechnique de Montréal                                 Laboratoire de microréseaux   \n",
       "Université de Montréal                    Centre d’études sur le sexe/genre, l'allostasi...   \n",
       "Université du Québec à Rimouski (UQAR)    Station de recherche montagnarde et alpine dan...   \n",
       "\n",
       "                                         RESEAU  MONTANT_MEES  MONTANT_MSSS  \\\n",
       "ETABLISSEMENT                                                                 \n",
       "Université du Québec à Chicoutimi (UQAC)   MEES      583172.0           NaN   \n",
       "poly_new                                   MEES     1067986.0           NaN   \n",
       "Sherbrooke                                 MEES     2377939.0           NaN   \n",
       "Université de Sherbrooke                   MEES     1644690.0           NaN   \n",
       "ULaval                                     MEES     2203653.0           NaN   \n",
       "...                                         ...           ...           ...   \n",
       "Université de Montréal                     MEES      114771.0           NaN   \n",
       "Université de Montréal                     MEES      233586.0           NaN   \n",
       "École Polytechnique de Montréal            MEES      125000.0           NaN   \n",
       "Université de Montréal                     MSSS           NaN      152970.0   \n",
       "Université du Québec à Rimouski (UQAR)     MEES      119780.0           NaN   \n",
       "\n",
       "                                          MONTANT_MEI  MONTANT_TOTAL_QUEBEC  \\\n",
       "ETABLISSEMENT                                                                 \n",
       "Université du Québec à Chicoutimi (UQAC)          NaN                583172   \n",
       "poly_new                                          NaN               1067986   \n",
       "Sherbrooke                                        NaN               2377939   \n",
       "Université de Sherbrooke                          NaN               1644690   \n",
       "ULaval                                            NaN               2203653   \n",
       "...                                               ...                   ...   \n",
       "Université de Montréal                            NaN                114771   \n",
       "Université de Montréal                            NaN                233586   \n",
       "École Polytechnique de Montréal                   NaN                125000   \n",
       "Université de Montréal                            NaN                152970   \n",
       "Université du Québec à Rimouski (UQAR)            NaN                119780   \n",
       "\n",
       "                                          COUT_TOTAL  \\\n",
       "ETABLISSEMENT                                          \n",
       "Université du Québec à Chicoutimi (UQAC)     1457930   \n",
       "poly_new                                     2725474   \n",
       "Sherbrooke                                   5944847   \n",
       "Université de Sherbrooke                     4248206   \n",
       "ULaval                                       5521200   \n",
       "...                                              ...   \n",
       "Université de Montréal                        287517   \n",
       "Université de Montréal                        583965   \n",
       "École Polytechnique de Montréal               319961   \n",
       "Université de Montréal                        382425   \n",
       "Université du Québec à Rimouski (UQAR)        299450   \n",
       "\n",
       "                                                               SECTEUR  \\\n",
       "ETABLISSEMENT                                                            \n",
       "Université du Québec à Chicoutimi (UQAC)  Sciences naturelles et génie   \n",
       "poly_new                                  Sciences naturelles et génie   \n",
       "Sherbrooke                                Sciences naturelles et génie   \n",
       "Université de Sherbrooke                  Sciences naturelles et génie   \n",
       "ULaval                                    Sciences naturelles et génie   \n",
       "...                                                                ...   \n",
       "Université de Montréal                    Sciences naturelles et génie   \n",
       "Université de Montréal                    Sciences naturelles et génie   \n",
       "École Polytechnique de Montréal           Sciences naturelles et génie   \n",
       "Université de Montréal                                           Santé   \n",
       "Université du Québec à Rimouski (UQAR)    Sciences naturelles et génie   \n",
       "\n",
       "                                                                        DOMAINE_STRATEGIQUE  \\\n",
       "ETABLISSEMENT                                                                                 \n",
       "Université du Québec à Chicoutimi (UQAC)   Ressources naturelles (forêt, faune, mines, eau)   \n",
       "poly_new                                                   Nanosciences et nanotechnologies   \n",
       "Sherbrooke                                TIC (télécommunications, multimédia, logiciels...   \n",
       "Université de Sherbrooke                                Matériaux de pointe (métaux légers)   \n",
       "ULaval                                    Sciences de la vie (recherche clinique, santé ...   \n",
       "...                                                                                     ...   \n",
       "Université de Montréal                                   Environnement et science du climat   \n",
       "Université de Montréal                         Développement durable et technologies vertes   \n",
       "École Polytechnique de Montréal                                                     Énergie   \n",
       "Université de Montréal                    Sciences de la vie (recherche clinique, santé ...   \n",
       "Université du Québec à Rimouski (UQAR)                   Environnement et science du climat   \n",
       "\n",
       "                                                                           DOMAINE_PRIMAIRE  \\\n",
       "ETABLISSEMENT                                                                                 \n",
       "Université du Québec à Chicoutimi (UQAC)  Ressources renouvelables: production et techno...   \n",
       "poly_new                                                            Technique de production   \n",
       "Sherbrooke                                                 Produits de l'industrie chimique   \n",
       "Université de Sherbrooke                                                Bruit et vibrations   \n",
       "ULaval                                                                          Agriculture   \n",
       "...                                                                                     ...   \n",
       "Université de Montréal                                                          Agriculture   \n",
       "Université de Montréal                            Ressources renouvelables (rech. générale)   \n",
       "École Polytechnique de Montréal                                     Technique de production   \n",
       "Université de Montréal                                                                Santé   \n",
       "Université du Québec à Rimouski (UQAR)                         Espèces vivantes et biotopes   \n",
       "\n",
       "                                                           DISCIPLINE_PRIMAIRE  \\\n",
       "ETABLISSEMENT                                                                    \n",
       "Université du Québec à Chicoutimi (UQAC)                     Biologie végétale   \n",
       "poly_new                                  Science et technologie des matériaux   \n",
       "Sherbrooke                                                     Chimie physique   \n",
       "Université de Sherbrooke                                       Génie mécanique   \n",
       "ULaval                                                             Physiologie   \n",
       "...                                                                        ...   \n",
       "Université de Montréal                                           Microbiologie   \n",
       "Université de Montréal                                                Physique   \n",
       "École Polytechnique de Montréal               Génie électrique et électronique   \n",
       "Université de Montréal                     Comportement et psychologie humaine   \n",
       "Université du Québec à Rimouski (UQAR)                   Évolution et écologie   \n",
       "\n",
       "                                            autre  \n",
       "ETABLISSEMENT                                      \n",
       "Université du Québec à Chicoutimi (UQAC)  valeur2  \n",
       "poly_new                                  valeur2  \n",
       "Sherbrooke                                valeur2  \n",
       "Université de Sherbrooke                  valeur2  \n",
       "ULaval                                    valeur2  \n",
       "...                                           ...  \n",
       "Université de Montréal                    valeur2  \n",
       "Université de Montréal                    valeur2  \n",
       "École Polytechnique de Montréal           valeur2  \n",
       "Université de Montréal                    valeur2  \n",
       "Université du Québec à Rimouski (UQAR)    valeur2  \n",
       "\n",
       "[1315 rows x 18 columns]"
      ]
     },
     "execution_count": 57,
     "metadata": {},
     "output_type": "execute_result"
    }
   ],
   "source": [
    "# modification d'index\n",
    "\n",
    "df_qc.set_index('ETABLISSEMENT')\n",
    "\n",
    "# le cadre de donn/es df_qc n<est pas change"
   ]
  },
  {
   "cell_type": "code",
   "execution_count": 145,
   "metadata": {},
   "outputs": [],
   "source": [
    "df_qc"
   ]
  },
  {
   "cell_type": "code",
   "execution_count": 157,
   "metadata": {},
   "outputs": [],
   "source": [
    "df_qc.set_index('ETABLISSEMENT', inplace = True)"
   ]
  },
  {
   "cell_type": "code",
   "execution_count": 64,
   "metadata": {},
   "outputs": [],
   "source": [
    "df_qc3 = df_qc.set_index('ETABLISSEMENT')"
   ]
  },
  {
   "cell_type": "code",
   "execution_count": 58,
   "metadata": {},
   "outputs": [
    {
     "data": {
      "text/html": [
       "<div>\n",
       "<style scoped>\n",
       "    .dataframe tbody tr th:only-of-type {\n",
       "        vertical-align: middle;\n",
       "    }\n",
       "\n",
       "    .dataframe tbody tr th {\n",
       "        vertical-align: top;\n",
       "    }\n",
       "\n",
       "    .dataframe thead th {\n",
       "        text-align: right;\n",
       "    }\n",
       "</style>\n",
       "<table border=\"1\" class=\"dataframe\">\n",
       "  <thead>\n",
       "    <tr style=\"text-align: right;\">\n",
       "      <th></th>\n",
       "      <th>REGION_ADMINISTRATIVE</th>\n",
       "      <th>ETABLISSEMENT</th>\n",
       "      <th>ETABLISSEMENT_PARTENAIRE</th>\n",
       "      <th>ANNEE_FINANCIERE</th>\n",
       "      <th>PROGRAMME</th>\n",
       "      <th>VOLET</th>\n",
       "      <th>RESPONSABLE_DU_PROJET</th>\n",
       "      <th>TITRE</th>\n",
       "      <th>RESEAU</th>\n",
       "      <th>MONTANT_MEES</th>\n",
       "      <th>MONTANT_MSSS</th>\n",
       "      <th>MONTANT_MEI</th>\n",
       "      <th>MONTANT_TOTAL_QUEBEC</th>\n",
       "      <th>COUT_TOTAL</th>\n",
       "      <th>SECTEUR</th>\n",
       "      <th>DOMAINE_STRATEGIQUE</th>\n",
       "      <th>DOMAINE_PRIMAIRE</th>\n",
       "      <th>DISCIPLINE_PRIMAIRE</th>\n",
       "      <th>autre</th>\n",
       "    </tr>\n",
       "  </thead>\n",
       "  <tbody>\n",
       "    <tr>\n",
       "      <th>0</th>\n",
       "      <td>Saguenay-Lac-Saint-Jean</td>\n",
       "      <td>Université du Québec à Chicoutimi (UQAC)</td>\n",
       "      <td>NaN</td>\n",
       "      <td>2009-2010</td>\n",
       "      <td>Fonds de l'avant-garde</td>\n",
       "      <td>NaN</td>\n",
       "      <td>Hubert MORIN</td>\n",
       "      <td>Développement de l'infrastructure de recherche...</td>\n",
       "      <td>MEES</td>\n",
       "      <td>583172.0</td>\n",
       "      <td>NaN</td>\n",
       "      <td>NaN</td>\n",
       "      <td>583172</td>\n",
       "      <td>1457930</td>\n",
       "      <td>Sciences naturelles et génie</td>\n",
       "      <td>Ressources naturelles (forêt, faune, mines, eau)</td>\n",
       "      <td>Ressources renouvelables: production et techno...</td>\n",
       "      <td>Biologie végétale</td>\n",
       "      <td>valeur2</td>\n",
       "    </tr>\n",
       "    <tr>\n",
       "      <th>1</th>\n",
       "      <td>Montréal</td>\n",
       "      <td>poly_new</td>\n",
       "      <td>NaN</td>\n",
       "      <td>2009-2010</td>\n",
       "      <td>Fonds des initiatives nouvelles</td>\n",
       "      <td>NaN</td>\n",
       "      <td>Ludvik MARTINU</td>\n",
       "      <td>Système de revêtements intelligents pour des s...</td>\n",
       "      <td>MEES</td>\n",
       "      <td>1067986.0</td>\n",
       "      <td>NaN</td>\n",
       "      <td>NaN</td>\n",
       "      <td>1067986</td>\n",
       "      <td>2725474</td>\n",
       "      <td>Sciences naturelles et génie</td>\n",
       "      <td>Nanosciences et nanotechnologies</td>\n",
       "      <td>Technique de production</td>\n",
       "      <td>Science et technologie des matériaux</td>\n",
       "      <td>valeur2</td>\n",
       "    </tr>\n",
       "    <tr>\n",
       "      <th>2</th>\n",
       "      <td>Estrie</td>\n",
       "      <td>Sherbrooke</td>\n",
       "      <td>NaN</td>\n",
       "      <td>2009-2010</td>\n",
       "      <td>Fonds des initiatives nouvelles</td>\n",
       "      <td>NaN</td>\n",
       "      <td>André Dieter BANDRAUK</td>\n",
       "      <td>Infrastructure pour modélisation et visualisat...</td>\n",
       "      <td>MEES</td>\n",
       "      <td>2377939.0</td>\n",
       "      <td>NaN</td>\n",
       "      <td>NaN</td>\n",
       "      <td>2377939</td>\n",
       "      <td>5944847</td>\n",
       "      <td>Sciences naturelles et génie</td>\n",
       "      <td>TIC (télécommunications, multimédia, logiciels...</td>\n",
       "      <td>Produits de l'industrie chimique</td>\n",
       "      <td>Chimie physique</td>\n",
       "      <td>valeur2</td>\n",
       "    </tr>\n",
       "    <tr>\n",
       "      <th>3</th>\n",
       "      <td>Estrie</td>\n",
       "      <td>Université de Sherbrooke</td>\n",
       "      <td>NaN</td>\n",
       "      <td>2009-2010</td>\n",
       "      <td>Fonds des initiatives nouvelles</td>\n",
       "      <td>NaN</td>\n",
       "      <td>Alain BERRY</td>\n",
       "      <td>Vibroacoustique des structures multi-matériaux...</td>\n",
       "      <td>MEES</td>\n",
       "      <td>1644690.0</td>\n",
       "      <td>NaN</td>\n",
       "      <td>NaN</td>\n",
       "      <td>1644690</td>\n",
       "      <td>4248206</td>\n",
       "      <td>Sciences naturelles et génie</td>\n",
       "      <td>Matériaux de pointe (métaux légers)</td>\n",
       "      <td>Bruit et vibrations</td>\n",
       "      <td>Génie mécanique</td>\n",
       "      <td>valeur2</td>\n",
       "    </tr>\n",
       "    <tr>\n",
       "      <th>4</th>\n",
       "      <td>Capitale-Nationale</td>\n",
       "      <td>ULaval</td>\n",
       "      <td>NaN</td>\n",
       "      <td>2009-2010</td>\n",
       "      <td>Fonds des initiatives nouvelles</td>\n",
       "      <td>NaN</td>\n",
       "      <td>Marc-André SIRARD</td>\n",
       "      <td>Laboratoire de physiologie intégrative en scie...</td>\n",
       "      <td>MEES</td>\n",
       "      <td>2203653.0</td>\n",
       "      <td>NaN</td>\n",
       "      <td>NaN</td>\n",
       "      <td>2203653</td>\n",
       "      <td>5521200</td>\n",
       "      <td>Sciences naturelles et génie</td>\n",
       "      <td>Sciences de la vie (recherche clinique, santé ...</td>\n",
       "      <td>Agriculture</td>\n",
       "      <td>Physiologie</td>\n",
       "      <td>valeur2</td>\n",
       "    </tr>\n",
       "    <tr>\n",
       "      <th>...</th>\n",
       "      <td>...</td>\n",
       "      <td>...</td>\n",
       "      <td>...</td>\n",
       "      <td>...</td>\n",
       "      <td>...</td>\n",
       "      <td>...</td>\n",
       "      <td>...</td>\n",
       "      <td>...</td>\n",
       "      <td>...</td>\n",
       "      <td>...</td>\n",
       "      <td>...</td>\n",
       "      <td>...</td>\n",
       "      <td>...</td>\n",
       "      <td>...</td>\n",
       "      <td>...</td>\n",
       "      <td>...</td>\n",
       "      <td>...</td>\n",
       "      <td>...</td>\n",
       "      <td>...</td>\n",
       "    </tr>\n",
       "    <tr>\n",
       "      <th>1310</th>\n",
       "      <td>Montréal</td>\n",
       "      <td>Université de Montréal</td>\n",
       "      <td>NaN</td>\n",
       "      <td>2018-2019</td>\n",
       "      <td>Fonds des leaders John-R.-Evans</td>\n",
       "      <td>Indépendant - chercheur junior - recrutement</td>\n",
       "      <td>Pierre-Luc CHAGNON</td>\n",
       "      <td>Comment les traits des champignons mycorhizien...</td>\n",
       "      <td>MEES</td>\n",
       "      <td>114771.0</td>\n",
       "      <td>NaN</td>\n",
       "      <td>NaN</td>\n",
       "      <td>114771</td>\n",
       "      <td>287517</td>\n",
       "      <td>Sciences naturelles et génie</td>\n",
       "      <td>Environnement et science du climat</td>\n",
       "      <td>Agriculture</td>\n",
       "      <td>Microbiologie</td>\n",
       "      <td>valeur2</td>\n",
       "    </tr>\n",
       "    <tr>\n",
       "      <th>1311</th>\n",
       "      <td>Montréal</td>\n",
       "      <td>Université de Montréal</td>\n",
       "      <td>NaN</td>\n",
       "      <td>2018-2019</td>\n",
       "      <td>Fonds des leaders John-R.-Evans</td>\n",
       "      <td>Indépendant - chercheur junior - recrutement</td>\n",
       "      <td>Ahmad Hamdan</td>\n",
       "      <td>Infrastructure de recherche sur les plasmas mu...</td>\n",
       "      <td>MEES</td>\n",
       "      <td>233586.0</td>\n",
       "      <td>NaN</td>\n",
       "      <td>NaN</td>\n",
       "      <td>233586</td>\n",
       "      <td>583965</td>\n",
       "      <td>Sciences naturelles et génie</td>\n",
       "      <td>Développement durable et technologies vertes</td>\n",
       "      <td>Ressources renouvelables (rech. générale)</td>\n",
       "      <td>Physique</td>\n",
       "      <td>valeur2</td>\n",
       "    </tr>\n",
       "    <tr>\n",
       "      <th>1312</th>\n",
       "      <td>Montréal</td>\n",
       "      <td>École Polytechnique de Montréal</td>\n",
       "      <td>NaN</td>\n",
       "      <td>2018-2019</td>\n",
       "      <td>Fonds des leaders John-R.-Evans</td>\n",
       "      <td>Indépendant - chercheur junior - recrutement</td>\n",
       "      <td>Keyhan SHESHYEKANI</td>\n",
       "      <td>Laboratoire de microréseaux</td>\n",
       "      <td>MEES</td>\n",
       "      <td>125000.0</td>\n",
       "      <td>NaN</td>\n",
       "      <td>NaN</td>\n",
       "      <td>125000</td>\n",
       "      <td>319961</td>\n",
       "      <td>Sciences naturelles et génie</td>\n",
       "      <td>Énergie</td>\n",
       "      <td>Technique de production</td>\n",
       "      <td>Génie électrique et électronique</td>\n",
       "      <td>valeur2</td>\n",
       "    </tr>\n",
       "    <tr>\n",
       "      <th>1313</th>\n",
       "      <td>Montréal</td>\n",
       "      <td>Université de Montréal</td>\n",
       "      <td>CIUSSS de l'Est-de-l'Île-de-Montréal - Institu...</td>\n",
       "      <td>2018-2019</td>\n",
       "      <td>Fonds des leaders John-R.-Evans</td>\n",
       "      <td>Indépendant - chercheur junior - recrutement</td>\n",
       "      <td>Robert Paul Juster</td>\n",
       "      <td>Centre d’études sur le sexe/genre, l'allostasi...</td>\n",
       "      <td>MSSS</td>\n",
       "      <td>NaN</td>\n",
       "      <td>152970.0</td>\n",
       "      <td>NaN</td>\n",
       "      <td>152970</td>\n",
       "      <td>382425</td>\n",
       "      <td>Santé</td>\n",
       "      <td>Sciences de la vie (recherche clinique, santé ...</td>\n",
       "      <td>Santé</td>\n",
       "      <td>Comportement et psychologie humaine</td>\n",
       "      <td>valeur2</td>\n",
       "    </tr>\n",
       "    <tr>\n",
       "      <th>1314</th>\n",
       "      <td>Bas-Saint-Laurent</td>\n",
       "      <td>Université du Québec à Rimouski (UQAR)</td>\n",
       "      <td>NaN</td>\n",
       "      <td>2018-2019</td>\n",
       "      <td>Fonds des leaders John-R.-Evans</td>\n",
       "      <td>Indépendant - chercheur établi</td>\n",
       "      <td>Martin-Hugues ST-LAURENT</td>\n",
       "      <td>Station de recherche montagnarde et alpine dan...</td>\n",
       "      <td>MEES</td>\n",
       "      <td>119780.0</td>\n",
       "      <td>NaN</td>\n",
       "      <td>NaN</td>\n",
       "      <td>119780</td>\n",
       "      <td>299450</td>\n",
       "      <td>Sciences naturelles et génie</td>\n",
       "      <td>Environnement et science du climat</td>\n",
       "      <td>Espèces vivantes et biotopes</td>\n",
       "      <td>Évolution et écologie</td>\n",
       "      <td>valeur2</td>\n",
       "    </tr>\n",
       "  </tbody>\n",
       "</table>\n",
       "<p>1315 rows × 19 columns</p>\n",
       "</div>"
      ],
      "text/plain": [
       "        REGION_ADMINISTRATIVE                             ETABLISSEMENT  \\\n",
       "0     Saguenay-Lac-Saint-Jean  Université du Québec à Chicoutimi (UQAC)   \n",
       "1                    Montréal                                  poly_new   \n",
       "2                      Estrie                                Sherbrooke   \n",
       "3                      Estrie                  Université de Sherbrooke   \n",
       "4          Capitale-Nationale                                    ULaval   \n",
       "...                       ...                                       ...   \n",
       "1310                 Montréal                    Université de Montréal   \n",
       "1311                 Montréal                    Université de Montréal   \n",
       "1312                 Montréal           École Polytechnique de Montréal   \n",
       "1313                 Montréal                    Université de Montréal   \n",
       "1314        Bas-Saint-Laurent    Université du Québec à Rimouski (UQAR)   \n",
       "\n",
       "                               ETABLISSEMENT_PARTENAIRE ANNEE_FINANCIERE  \\\n",
       "0                                                   NaN        2009-2010   \n",
       "1                                                   NaN        2009-2010   \n",
       "2                                                   NaN        2009-2010   \n",
       "3                                                   NaN        2009-2010   \n",
       "4                                                   NaN        2009-2010   \n",
       "...                                                 ...              ...   \n",
       "1310                                                NaN        2018-2019   \n",
       "1311                                                NaN        2018-2019   \n",
       "1312                                                NaN        2018-2019   \n",
       "1313  CIUSSS de l'Est-de-l'Île-de-Montréal - Institu...        2018-2019   \n",
       "1314                                                NaN        2018-2019   \n",
       "\n",
       "                            PROGRAMME  \\\n",
       "0              Fonds de l'avant-garde   \n",
       "1     Fonds des initiatives nouvelles   \n",
       "2     Fonds des initiatives nouvelles   \n",
       "3     Fonds des initiatives nouvelles   \n",
       "4     Fonds des initiatives nouvelles   \n",
       "...                               ...   \n",
       "1310  Fonds des leaders John-R.-Evans   \n",
       "1311  Fonds des leaders John-R.-Evans   \n",
       "1312  Fonds des leaders John-R.-Evans   \n",
       "1313  Fonds des leaders John-R.-Evans   \n",
       "1314  Fonds des leaders John-R.-Evans   \n",
       "\n",
       "                                             VOLET     RESPONSABLE_DU_PROJET  \\\n",
       "0                                              NaN              Hubert MORIN   \n",
       "1                                              NaN            Ludvik MARTINU   \n",
       "2                                              NaN     André Dieter BANDRAUK   \n",
       "3                                              NaN               Alain BERRY   \n",
       "4                                              NaN         Marc-André SIRARD   \n",
       "...                                            ...                       ...   \n",
       "1310  Indépendant - chercheur junior - recrutement        Pierre-Luc CHAGNON   \n",
       "1311  Indépendant - chercheur junior - recrutement              Ahmad Hamdan   \n",
       "1312  Indépendant - chercheur junior - recrutement        Keyhan SHESHYEKANI   \n",
       "1313  Indépendant - chercheur junior - recrutement        Robert Paul Juster   \n",
       "1314                Indépendant - chercheur établi  Martin-Hugues ST-LAURENT   \n",
       "\n",
       "                                                  TITRE RESEAU  MONTANT_MEES  \\\n",
       "0     Développement de l'infrastructure de recherche...   MEES      583172.0   \n",
       "1     Système de revêtements intelligents pour des s...   MEES     1067986.0   \n",
       "2     Infrastructure pour modélisation et visualisat...   MEES     2377939.0   \n",
       "3     Vibroacoustique des structures multi-matériaux...   MEES     1644690.0   \n",
       "4     Laboratoire de physiologie intégrative en scie...   MEES     2203653.0   \n",
       "...                                                 ...    ...           ...   \n",
       "1310  Comment les traits des champignons mycorhizien...   MEES      114771.0   \n",
       "1311  Infrastructure de recherche sur les plasmas mu...   MEES      233586.0   \n",
       "1312                        Laboratoire de microréseaux   MEES      125000.0   \n",
       "1313  Centre d’études sur le sexe/genre, l'allostasi...   MSSS           NaN   \n",
       "1314  Station de recherche montagnarde et alpine dan...   MEES      119780.0   \n",
       "\n",
       "      MONTANT_MSSS  MONTANT_MEI  MONTANT_TOTAL_QUEBEC  COUT_TOTAL  \\\n",
       "0              NaN          NaN                583172     1457930   \n",
       "1              NaN          NaN               1067986     2725474   \n",
       "2              NaN          NaN               2377939     5944847   \n",
       "3              NaN          NaN               1644690     4248206   \n",
       "4              NaN          NaN               2203653     5521200   \n",
       "...            ...          ...                   ...         ...   \n",
       "1310           NaN          NaN                114771      287517   \n",
       "1311           NaN          NaN                233586      583965   \n",
       "1312           NaN          NaN                125000      319961   \n",
       "1313      152970.0          NaN                152970      382425   \n",
       "1314           NaN          NaN                119780      299450   \n",
       "\n",
       "                           SECTEUR  \\\n",
       "0     Sciences naturelles et génie   \n",
       "1     Sciences naturelles et génie   \n",
       "2     Sciences naturelles et génie   \n",
       "3     Sciences naturelles et génie   \n",
       "4     Sciences naturelles et génie   \n",
       "...                            ...   \n",
       "1310  Sciences naturelles et génie   \n",
       "1311  Sciences naturelles et génie   \n",
       "1312  Sciences naturelles et génie   \n",
       "1313                         Santé   \n",
       "1314  Sciences naturelles et génie   \n",
       "\n",
       "                                    DOMAINE_STRATEGIQUE  \\\n",
       "0      Ressources naturelles (forêt, faune, mines, eau)   \n",
       "1                      Nanosciences et nanotechnologies   \n",
       "2     TIC (télécommunications, multimédia, logiciels...   \n",
       "3                   Matériaux de pointe (métaux légers)   \n",
       "4     Sciences de la vie (recherche clinique, santé ...   \n",
       "...                                                 ...   \n",
       "1310                 Environnement et science du climat   \n",
       "1311       Développement durable et technologies vertes   \n",
       "1312                                            Énergie   \n",
       "1313  Sciences de la vie (recherche clinique, santé ...   \n",
       "1314                 Environnement et science du climat   \n",
       "\n",
       "                                       DOMAINE_PRIMAIRE  \\\n",
       "0     Ressources renouvelables: production et techno...   \n",
       "1                               Technique de production   \n",
       "2                      Produits de l'industrie chimique   \n",
       "3                                   Bruit et vibrations   \n",
       "4                                           Agriculture   \n",
       "...                                                 ...   \n",
       "1310                                        Agriculture   \n",
       "1311          Ressources renouvelables (rech. générale)   \n",
       "1312                            Technique de production   \n",
       "1313                                              Santé   \n",
       "1314                       Espèces vivantes et biotopes   \n",
       "\n",
       "                       DISCIPLINE_PRIMAIRE    autre  \n",
       "0                        Biologie végétale  valeur2  \n",
       "1     Science et technologie des matériaux  valeur2  \n",
       "2                          Chimie physique  valeur2  \n",
       "3                          Génie mécanique  valeur2  \n",
       "4                              Physiologie  valeur2  \n",
       "...                                    ...      ...  \n",
       "1310                         Microbiologie  valeur2  \n",
       "1311                              Physique  valeur2  \n",
       "1312      Génie électrique et électronique  valeur2  \n",
       "1313   Comportement et psychologie humaine  valeur2  \n",
       "1314                 Évolution et écologie  valeur2  \n",
       "\n",
       "[1315 rows x 19 columns]"
      ]
     },
     "execution_count": 58,
     "metadata": {},
     "output_type": "execute_result"
    }
   ],
   "source": [
    "df_qc"
   ]
  },
  {
   "cell_type": "code",
   "execution_count": 59,
   "metadata": {},
   "outputs": [
    {
     "data": {
      "text/plain": [
       "1"
      ]
     },
     "execution_count": 59,
     "metadata": {},
     "output_type": "execute_result"
    }
   ],
   "source": [
    "df_qc.index[1]"
   ]
  },
  {
   "cell_type": "code",
   "execution_count": 60,
   "metadata": {},
   "outputs": [
    {
     "data": {
      "text/plain": [
       "2725474"
      ]
     },
     "execution_count": 60,
     "metadata": {},
     "output_type": "execute_result"
    }
   ],
   "source": [
    "df_qc.at[1, 'COUT_TOTAL']"
   ]
  },
  {
   "cell_type": "code",
   "execution_count": 24,
   "metadata": {},
   "outputs": [],
   "source": [
    "df_qc.index"
   ]
  },
  {
   "cell_type": "code",
   "execution_count": 65,
   "metadata": {},
   "outputs": [
    {
     "data": {
      "text/plain": [
       "ETABLISSEMENT\n",
       "École Polytechnique de Montréal     2725474\n",
       "École Polytechnique de Montréal     2733818\n",
       "École Polytechnique de Montréal     3950656\n",
       "École Polytechnique de Montréal     3648864\n",
       "École Polytechnique de Montréal     8481600\n",
       "École Polytechnique de Montréal      322332\n",
       "École Polytechnique de Montréal      259525\n",
       "École Polytechnique de Montréal    12406827\n",
       "École Polytechnique de Montréal      537323\n",
       "École Polytechnique de Montréal     7329611\n",
       "École Polytechnique de Montréal     6846945\n",
       "École Polytechnique de Montréal      995480\n",
       "École Polytechnique de Montréal      795760\n",
       "École Polytechnique de Montréal      999993\n",
       "École Polytechnique de Montréal      513316\n",
       "École Polytechnique de Montréal      478143\n",
       "École Polytechnique de Montréal      329818\n",
       "École Polytechnique de Montréal      998680\n",
       "École Polytechnique de Montréal      403241\n",
       "École Polytechnique de Montréal      814165\n",
       "École Polytechnique de Montréal      317654\n",
       "École Polytechnique de Montréal      322641\n",
       "École Polytechnique de Montréal     4804784\n",
       "École Polytechnique de Montréal      374442\n",
       "École Polytechnique de Montréal      998671\n",
       "École Polytechnique de Montréal      412313\n",
       "École Polytechnique de Montréal      499953\n",
       "École Polytechnique de Montréal     2545643\n",
       "École Polytechnique de Montréal      531035\n",
       "École Polytechnique de Montréal      577890\n",
       "École Polytechnique de Montréal      764413\n",
       "École Polytechnique de Montréal      526755\n",
       "École Polytechnique de Montréal      319581\n",
       "École Polytechnique de Montréal      476114\n",
       "École Polytechnique de Montréal      338439\n",
       "École Polytechnique de Montréal     3497065\n",
       "École Polytechnique de Montréal     4628742\n",
       "École Polytechnique de Montréal      234018\n",
       "École Polytechnique de Montréal      807872\n",
       "École Polytechnique de Montréal      323695\n",
       "École Polytechnique de Montréal      407802\n",
       "École Polytechnique de Montréal      511250\n",
       "École Polytechnique de Montréal      507043\n",
       "École Polytechnique de Montréal      999871\n",
       "École Polytechnique de Montréal      431728\n",
       "École Polytechnique de Montréal      246381\n",
       "École Polytechnique de Montréal      332800\n",
       "École Polytechnique de Montréal     2889478\n",
       "École Polytechnique de Montréal      639062\n",
       "École Polytechnique de Montréal      659972\n",
       "École Polytechnique de Montréal    10251609\n",
       "École Polytechnique de Montréal      625000\n",
       "École Polytechnique de Montréal      628771\n",
       "École Polytechnique de Montréal     8592793\n",
       "École Polytechnique de Montréal     6239325\n",
       "École Polytechnique de Montréal      280928\n",
       "École Polytechnique de Montréal      416488\n",
       "École Polytechnique de Montréal      319153\n",
       "École Polytechnique de Montréal      625342\n",
       "École Polytechnique de Montréal      319961\n",
       "Name: COUT_TOTAL, dtype: int64"
      ]
     },
     "execution_count": 65,
     "metadata": {},
     "output_type": "execute_result"
    }
   ],
   "source": [
    "df_qc3.at['École Polytechnique de Montréal', 'COUT_TOTAL']"
   ]
  },
  {
   "cell_type": "code",
   "execution_count": 145,
   "metadata": {},
   "outputs": [],
   "source": [
    "df_qc.to_excel('chemin/tmp2.xls')\n",
    "df_qc.to_csv('chemin/tmp2.csv')"
   ]
  },
  {
   "cell_type": "markdown",
   "metadata": {},
   "source": [
    "<div class=\"alert alert-warning\">\n",
    "<h3>modification des valeurs d'un tableau Numpy</h3>\n",
    "<li> np.reshape\n",
    "<li> np.newaxis\n",
    "<li> copy\n",
    "<li> changer les éléments\n",
    "</div>"
   ]
  },
  {
   "cell_type": "code",
   "execution_count": 1,
   "metadata": {
    "slideshow": {
     "slide_type": "fragment"
    }
   },
   "outputs": [],
   "source": [
    "import numpy as np"
   ]
  },
  {
   "cell_type": "code",
   "execution_count": 5,
   "metadata": {},
   "outputs": [],
   "source": [
    "x1 = np.random.randint(10, size = 6) #tableau 1D"
   ]
  },
  {
   "cell_type": "code",
   "execution_count": 3,
   "metadata": {},
   "outputs": [
    {
     "data": {
      "text/plain": [
       "array([[3, 8, 7],\n",
       "       [3, 0, 6]])"
      ]
     },
     "execution_count": 3,
     "metadata": {},
     "output_type": "execute_result"
    }
   ],
   "source": [
    "x1_2D = x1.reshape((2,3))\n",
    "x1_2D"
   ]
  },
  {
   "cell_type": "code",
   "execution_count": 4,
   "metadata": {},
   "outputs": [
    {
     "data": {
      "text/plain": [
       "array([[3, 8],\n",
       "       [7, 3],\n",
       "       [0, 6]])"
      ]
     },
     "execution_count": 4,
     "metadata": {},
     "output_type": "execute_result"
    }
   ],
   "source": [
    "x1_2D2 = np.reshape(x1, (3, -1))\n",
    "# -1 décide automatiquement le nombre de cols\n",
    "\n",
    "x1_2D2"
   ]
  },
  {
   "cell_type": "code",
   "execution_count": 6,
   "metadata": {},
   "outputs": [
    {
     "data": {
      "text/plain": [
       "array([[6],\n",
       "       [4],\n",
       "       [9],\n",
       "       [9],\n",
       "       [2],\n",
       "       [5]])"
      ]
     },
     "execution_count": 6,
     "metadata": {},
     "output_type": "execute_result"
    }
   ],
   "source": [
    "# np.newaxis pour convertir un tableau 1D\n",
    "# en un vecteur de ligne ou colonne\n",
    "\n",
    "x1[:,np.newaxis]"
   ]
  },
  {
   "cell_type": "code",
   "execution_count": 7,
   "metadata": {},
   "outputs": [
    {
     "data": {
      "text/plain": [
       "array([[ 6, 12, 93,  2],\n",
       "       [ 5, 26, 78, 90],\n",
       "       [ 3, 12, 16, 22],\n",
       "       [ 5,  3,  1, 16]])"
      ]
     },
     "execution_count": 7,
     "metadata": {},
     "output_type": "execute_result"
    }
   ],
   "source": [
    "# changer de plus grandes tables\n",
    "\n",
    "mon_tab = np.array(((6, 12, 93, 2),\n",
    "                    (5, 26, 78, 90),\n",
    "                    (3, 12, 16, 22),\n",
    "                    (5, 3, 1, 16)))\n",
    "mon_tab"
   ]
  },
  {
   "cell_type": "code",
   "execution_count": 8,
   "metadata": {},
   "outputs": [
    {
     "data": {
      "text/plain": [
       "(4, 4)"
      ]
     },
     "execution_count": 8,
     "metadata": {},
     "output_type": "execute_result"
    }
   ],
   "source": [
    "mon_tab.shape"
   ]
  },
  {
   "cell_type": "code",
   "execution_count": 9,
   "metadata": {},
   "outputs": [],
   "source": [
    "mon_tab_remodel = np.reshape(mon_tab, (8,2))"
   ]
  },
  {
   "cell_type": "code",
   "execution_count": 10,
   "metadata": {},
   "outputs": [
    {
     "data": {
      "text/plain": [
       "array([[ 6, 12],\n",
       "       [93,  2],\n",
       "       [ 5, 26],\n",
       "       [78, 90],\n",
       "       [ 3, 12],\n",
       "       [16, 22],\n",
       "       [ 5,  3],\n",
       "       [ 1, 16]])"
      ]
     },
     "execution_count": 10,
     "metadata": {},
     "output_type": "execute_result"
    }
   ],
   "source": [
    "mon_tab_remodel"
   ]
  },
  {
   "cell_type": "code",
   "execution_count": 11,
   "metadata": {},
   "outputs": [
    {
     "data": {
      "text/plain": [
       "array([[[ 6, 12, 93,  2]],\n",
       "\n",
       "       [[ 5, 26, 78, 90]],\n",
       "\n",
       "       [[ 3, 12, 16, 22]],\n",
       "\n",
       "       [[ 5,  3,  1, 16]]])"
      ]
     },
     "execution_count": 11,
     "metadata": {},
     "output_type": "execute_result"
    }
   ],
   "source": [
    "m3 = mon_tab[:, np.newaxis]\n",
    "m3"
   ]
  },
  {
   "cell_type": "code",
   "execution_count": 12,
   "metadata": {},
   "outputs": [
    {
     "data": {
      "text/plain": [
       "(4, 1, 4)"
      ]
     },
     "execution_count": 12,
     "metadata": {},
     "output_type": "execute_result"
    }
   ],
   "source": [
    "m3.shape"
   ]
  },
  {
   "cell_type": "code",
   "execution_count": 13,
   "metadata": {},
   "outputs": [
    {
     "data": {
      "text/plain": [
       "array([[ 6, 12, 93,  2],\n",
       "       [ 5, 26, 78, 90],\n",
       "       [ 3, 12, 16, 22],\n",
       "       [ 5,  3,  1, 16]])"
      ]
     },
     "execution_count": 13,
     "metadata": {},
     "output_type": "execute_result"
    }
   ],
   "source": [
    "mon_tab"
   ]
  },
  {
   "cell_type": "code",
   "execution_count": 79,
   "metadata": {},
   "outputs": [
    {
     "ename": "ValueError",
     "evalue": "cannot reshape array of size 16 into shape (8,3)",
     "output_type": "error",
     "traceback": [
      "\u001b[0;31m--------------------------------------------------------------\u001b[0m",
      "\u001b[0;31mValueError\u001b[0m                   Traceback (most recent call last)",
      "\u001b[0;32m<ipython-input-79-7cd7a60147c3>\u001b[0m in \u001b[0;36m<module>\u001b[0;34m\u001b[0m\n\u001b[0;32m----> 1\u001b[0;31m \u001b[0mnp\u001b[0m\u001b[0;34m.\u001b[0m\u001b[0mreshape\u001b[0m\u001b[0;34m(\u001b[0m\u001b[0mmon_tab\u001b[0m\u001b[0;34m,\u001b[0m \u001b[0;34m(\u001b[0m\u001b[0;36m8\u001b[0m\u001b[0;34m,\u001b[0m\u001b[0;36m3\u001b[0m\u001b[0;34m)\u001b[0m\u001b[0;34m)\u001b[0m\u001b[0;34m\u001b[0m\u001b[0;34m\u001b[0m\u001b[0m\n\u001b[0m",
      "\u001b[0;32m<__array_function__ internals>\u001b[0m in \u001b[0;36mreshape\u001b[0;34m(*args, **kwargs)\u001b[0m\n",
      "\u001b[0;32m/usr/lib/python3/dist-packages/numpy/core/fromnumeric.py\u001b[0m in \u001b[0;36mreshape\u001b[0;34m(a, newshape, order)\u001b[0m\n\u001b[1;32m    297\u001b[0m            [5, 6]])\n\u001b[1;32m    298\u001b[0m     \"\"\"\n\u001b[0;32m--> 299\u001b[0;31m     \u001b[0;32mreturn\u001b[0m \u001b[0m_wrapfunc\u001b[0m\u001b[0;34m(\u001b[0m\u001b[0ma\u001b[0m\u001b[0;34m,\u001b[0m \u001b[0;34m'reshape'\u001b[0m\u001b[0;34m,\u001b[0m \u001b[0mnewshape\u001b[0m\u001b[0;34m,\u001b[0m \u001b[0morder\u001b[0m\u001b[0;34m=\u001b[0m\u001b[0morder\u001b[0m\u001b[0;34m)\u001b[0m\u001b[0;34m\u001b[0m\u001b[0;34m\u001b[0m\u001b[0m\n\u001b[0m\u001b[1;32m    300\u001b[0m \u001b[0;34m\u001b[0m\u001b[0m\n\u001b[1;32m    301\u001b[0m \u001b[0;34m\u001b[0m\u001b[0m\n",
      "\u001b[0;32m/usr/lib/python3/dist-packages/numpy/core/fromnumeric.py\u001b[0m in \u001b[0;36m_wrapfunc\u001b[0;34m(obj, method, *args, **kwds)\u001b[0m\n\u001b[1;32m     56\u001b[0m \u001b[0;34m\u001b[0m\u001b[0m\n\u001b[1;32m     57\u001b[0m     \u001b[0;32mtry\u001b[0m\u001b[0;34m:\u001b[0m\u001b[0;34m\u001b[0m\u001b[0;34m\u001b[0m\u001b[0m\n\u001b[0;32m---> 58\u001b[0;31m         \u001b[0;32mreturn\u001b[0m \u001b[0mbound\u001b[0m\u001b[0;34m(\u001b[0m\u001b[0;34m*\u001b[0m\u001b[0margs\u001b[0m\u001b[0;34m,\u001b[0m \u001b[0;34m**\u001b[0m\u001b[0mkwds\u001b[0m\u001b[0;34m)\u001b[0m\u001b[0;34m\u001b[0m\u001b[0;34m\u001b[0m\u001b[0m\n\u001b[0m\u001b[1;32m     59\u001b[0m     \u001b[0;32mexcept\u001b[0m \u001b[0mTypeError\u001b[0m\u001b[0;34m:\u001b[0m\u001b[0;34m\u001b[0m\u001b[0;34m\u001b[0m\u001b[0m\n\u001b[1;32m     60\u001b[0m         \u001b[0;31m# A TypeError occurs if the object does have such a method in its\u001b[0m\u001b[0;34m\u001b[0m\u001b[0;34m\u001b[0m\u001b[0m\n",
      "\u001b[0;31mValueError\u001b[0m: cannot reshape array of size 16 into shape (8,3)"
     ]
    }
   ],
   "source": [
    "np.reshape(mon_tab, (8,3))"
   ]
  },
  {
   "cell_type": "code",
   "execution_count": 14,
   "metadata": {},
   "outputs": [
    {
     "data": {
      "text/plain": [
       "array([[ 6, 12],\n",
       "       [93,  2],\n",
       "       [ 5, 26],\n",
       "       [78, 90],\n",
       "       [ 3, 12],\n",
       "       [16, 22],\n",
       "       [ 5,  3],\n",
       "       [ 1, 16]])"
      ]
     },
     "execution_count": 14,
     "metadata": {},
     "output_type": "execute_result"
    }
   ],
   "source": [
    "np.reshape(mon_tab, (8,-1))"
   ]
  },
  {
   "cell_type": "code",
   "execution_count": 20,
   "metadata": {},
   "outputs": [],
   "source": [
    "x2 = np.random.randint(10, size = (3,4))#tableau 2D"
   ]
  },
  {
   "cell_type": "code",
   "execution_count": 16,
   "metadata": {},
   "outputs": [
    {
     "data": {
      "text/plain": [
       "array([[6, 9],\n",
       "       [2, 3]])"
      ]
     },
     "execution_count": 16,
     "metadata": {},
     "output_type": "execute_result"
    }
   ],
   "source": [
    "x2_v1 = x2[1:,2:].copy()\n",
    "\n",
    "x2_v1"
   ]
  },
  {
   "cell_type": "code",
   "execution_count": 17,
   "metadata": {},
   "outputs": [
    {
     "data": {
      "text/plain": [
       "array([[2, 1],\n",
       "       [6, 0]])"
      ]
     },
     "execution_count": 17,
     "metadata": {},
     "output_type": "execute_result"
    }
   ],
   "source": [
    "x2_v2 = x2[:2, :2].copy()\n",
    "x2_v2"
   ]
  },
  {
   "cell_type": "code",
   "execution_count": 21,
   "metadata": {},
   "outputs": [
    {
     "data": {
      "text/plain": [
       "array([[4, 0, 7, 2],\n",
       "       [3, 3, 6, 3],\n",
       "       [0, 5, 7, 9]])"
      ]
     },
     "execution_count": 21,
     "metadata": {},
     "output_type": "execute_result"
    }
   ],
   "source": [
    "x2"
   ]
  },
  {
   "cell_type": "code",
   "execution_count": 22,
   "metadata": {},
   "outputs": [
    {
     "data": {
      "text/plain": [
       "array([[12,  0,  7,  2],\n",
       "       [ 3,  3,  6,  3],\n",
       "       [ 0,  5,  7,  9]])"
      ]
     },
     "execution_count": 22,
     "metadata": {},
     "output_type": "execute_result"
    }
   ],
   "source": [
    "x2[0,0] = 12\n",
    "x2"
   ]
  },
  {
   "cell_type": "code",
   "execution_count": 23,
   "metadata": {},
   "outputs": [
    {
     "data": {
      "text/plain": [
       "array([[12,  3,  7,  2],\n",
       "       [ 3,  3,  6,  3],\n",
       "       [ 0,  5,  7,  9]])"
      ]
     },
     "execution_count": 23,
     "metadata": {},
     "output_type": "execute_result"
    }
   ],
   "source": [
    "x2[0,1] = 3.141\n",
    "x2\n",
    "\n",
    "# ? ou est la nouvelle valeur ?"
   ]
  },
  {
   "cell_type": "markdown",
   "metadata": {},
   "source": [
    "<div class=\"alert alert-warning\">\n",
    "<b>REMARQUE ! </b>\n",
    "<ul> contrairement aux listes, les tableaux numpy ont un type fixe, i.e., float in int = int</div>"
   ]
  },
  {
   "cell_type": "markdown",
   "metadata": {},
   "source": [
    "<div class=\"alert alert-warning\">\n",
    "<b>trier les tableaux numpy</b>\n",
    "<li> np.sort\n",
    "<li> np.argsort</div>"
   ]
  },
  {
   "cell_type": "code",
   "execution_count": 24,
   "metadata": {},
   "outputs": [
    {
     "data": {
      "text/plain": [
       "array([2, 3, 3, 5, 5, 7])"
      ]
     },
     "execution_count": 24,
     "metadata": {},
     "output_type": "execute_result"
    }
   ],
   "source": [
    "a = np.array([2,5,3,7,5,3])\n",
    "\n",
    "np.sort(a)"
   ]
  },
  {
   "cell_type": "code",
   "execution_count": 25,
   "metadata": {},
   "outputs": [
    {
     "data": {
      "text/plain": [
       "array([2, 3, 3, 5, 5, 7])"
      ]
     },
     "execution_count": 25,
     "metadata": {},
     "output_type": "execute_result"
    }
   ],
   "source": [
    "a.sort()\n",
    "a"
   ]
  },
  {
   "cell_type": "code",
   "execution_count": 26,
   "metadata": {},
   "outputs": [
    {
     "data": {
      "text/plain": [
       "array([0, 1, 2, 3, 4, 5])"
      ]
     },
     "execution_count": 26,
     "metadata": {},
     "output_type": "execute_result"
    }
   ],
   "source": [
    "np.argsort(a)\n",
    "\n",
    "#affiche les indices des éléments triés"
   ]
  },
  {
   "cell_type": "markdown",
   "metadata": {},
   "source": [
    "<div class=\"alert alert-info\">\n",
    "<h3>Combinaison des données</h3></div>"
   ]
  },
  {
   "cell_type": "markdown",
   "metadata": {},
   "source": [
    "<div class=\"alert alert-warning\">\n",
    "<h3>combiner les chaînes</h3>\n",
    "</div>"
   ]
  },
  {
   "cell_type": "code",
   "execution_count": 33,
   "metadata": {},
   "outputs": [],
   "source": [
    "text3, c, text4 = 'montreal', 4, '.ca'"
   ]
  },
  {
   "cell_type": "code",
   "execution_count": 34,
   "metadata": {},
   "outputs": [
    {
     "data": {
      "text/plain": [
       "'montreal'"
      ]
     },
     "execution_count": 34,
     "metadata": {},
     "output_type": "execute_result"
    }
   ],
   "source": [
    "text3"
   ]
  },
  {
   "cell_type": "code",
   "execution_count": 35,
   "metadata": {},
   "outputs": [
    {
     "data": {
      "text/plain": [
       "('montreal', 4, '.ca')"
      ]
     },
     "execution_count": 35,
     "metadata": {},
     "output_type": "execute_result"
    }
   ],
   "source": [
    "text3, c, text4"
   ]
  },
  {
   "cell_type": "code",
   "execution_count": 36,
   "metadata": {},
   "outputs": [
    {
     "name": "stdout",
     "output_type": "stream",
     "text": [
      "4\n"
     ]
    }
   ],
   "source": [
    "print(c)"
   ]
  },
  {
   "cell_type": "code",
   "execution_count": 37,
   "metadata": {},
   "outputs": [
    {
     "ename": "TypeError",
     "evalue": "can only concatenate str (not \"int\") to str",
     "output_type": "error",
     "traceback": [
      "\u001b[0;31m--------------------------------------------------------------\u001b[0m",
      "\u001b[0;31mTypeError\u001b[0m                    Traceback (most recent call last)",
      "\u001b[0;32m<ipython-input-37-0cee3cd39cf7>\u001b[0m in \u001b[0;36m<module>\u001b[0;34m\u001b[0m\n\u001b[0;32m----> 1\u001b[0;31m \u001b[0mprint\u001b[0m\u001b[0;34m(\u001b[0m\u001b[0mtext3\u001b[0m\u001b[0;34m+\u001b[0m\u001b[0mc\u001b[0m\u001b[0;34m)\u001b[0m\u001b[0;34m\u001b[0m\u001b[0;34m\u001b[0m\u001b[0m\n\u001b[0m",
      "\u001b[0;31mTypeError\u001b[0m: can only concatenate str (not \"int\") to str"
     ]
    }
   ],
   "source": [
    "print(text3+c)"
   ]
  },
  {
   "cell_type": "code",
   "execution_count": 38,
   "metadata": {},
   "outputs": [
    {
     "name": "stdout",
     "output_type": "stream",
     "text": [
      "montreal4\n"
     ]
    }
   ],
   "source": [
    "print(text3+str(c))"
   ]
  },
  {
   "cell_type": "code",
   "execution_count": null,
   "metadata": {},
   "outputs": [],
   "source": [
    "# string() commands:\n",
    "\n",
    "# len()\n",
    "# strip()      # Les espaces de début sont supprimés\n",
    "# strip(char)  # retourne une copie de la chaîne dans laquelle tous les caractères ont été supprimés du DÉBUT et de la FIN de la chaîne\n",
    "# rstrip(char) # retourne une copie de la chaîne dans laquelle tous les caractères ont été supprimés de la FIN de la chaîne\n",
    "\n",
    "# replace(char)\n",
    "# split(char, char)\n",
    "# find(char)\n",
    "# isdigit()"
   ]
  },
  {
   "cell_type": "code",
   "execution_count": null,
   "metadata": {},
   "outputs": [],
   "source": [
    "s = 'bonjour'\n",
    "# len(s) \n",
    "# s.find(j)\n",
    "# s.find('j')\n",
    "# s.rstrip('ur')\n",
    "# s.replace('b','c')"
   ]
  },
  {
   "cell_type": "code",
   "execution_count": null,
   "metadata": {},
   "outputs": [],
   "source": [
    "# all string methods:\n",
    "https://docs.python.org/2/library/string.html\n",
    "https://docs.python.org/3/library/stdtypes.html\n",
    "https://www.programiz.com/python-programming/methods/string"
   ]
  },
  {
   "cell_type": "code",
   "execution_count": 39,
   "metadata": {},
   "outputs": [
    {
     "data": {
      "text/plain": [
       "False"
      ]
     },
     "execution_count": 39,
     "metadata": {},
     "output_type": "execute_result"
    }
   ],
   "source": [
    "a = \"aBDnnc\" # contien des lettre minuscules\n",
    "\n",
    "a.islower()"
   ]
  },
  {
   "cell_type": "code",
   "execution_count": 16,
   "metadata": {},
   "outputs": [
    {
     "data": {
      "text/plain": [
       "'tex'"
      ]
     },
     "execution_count": 16,
     "metadata": {},
     "output_type": "execute_result"
    }
   ],
   "source": [
    "# ATTENTION avec strip(), rstrip()\n",
    "# si la commande comprend plusieurs caractères,\n",
    "# les caractères du milieu seront traités comme une commande de recherche\n",
    "\n",
    "# ex2 = \"texts.xlsx\"\n",
    "# ex2.strip(\".xlsx\")\n",
    "# ex2.rstrip(\".xlsx\")\n",
    "\n",
    "# ex3 = \"textn.fini\"\n",
    "# ex3.strip(\".fini\")\n",
    "# ex3.rstrip(\".fini\")\n",
    "\n",
    "# ex4 = \"textt.fiti\"\n",
    "# ex4.strip(\".fiti\")\n",
    "# ex4.rstrip(\".fiti\")\n",
    "\n",
    "# strip()  supprime les caractères du début et de la fin\n",
    "# rstrip() supprime le caractères de la fin. # reverse strip()"
   ]
  },
  {
   "cell_type": "markdown",
   "metadata": {},
   "source": [
    "<div class=\"alert alert-warning\">\n",
    "<h3>combiner les entieres et les flottants</h3>\n",
    "</div>"
   ]
  },
  {
   "cell_type": "code",
   "execution_count": 40,
   "metadata": {},
   "outputs": [],
   "source": [
    "i = 30"
   ]
  },
  {
   "cell_type": "code",
   "execution_count": 41,
   "metadata": {},
   "outputs": [
    {
     "data": {
      "text/plain": [
       "37"
      ]
     },
     "execution_count": 41,
     "metadata": {},
     "output_type": "execute_result"
    }
   ],
   "source": [
    "ii = i+7\n",
    "ii"
   ]
  },
  {
   "cell_type": "code",
   "execution_count": 42,
   "metadata": {},
   "outputs": [
    {
     "data": {
      "text/plain": [
       "3.0"
      ]
     },
     "execution_count": 42,
     "metadata": {},
     "output_type": "execute_result"
    }
   ],
   "source": [
    "f = 3.0\n",
    "f"
   ]
  },
  {
   "cell_type": "code",
   "execution_count": 43,
   "metadata": {},
   "outputs": [
    {
     "data": {
      "text/plain": [
       "11.0"
      ]
     },
     "execution_count": 43,
     "metadata": {},
     "output_type": "execute_result"
    }
   ],
   "source": [
    "ff = f+8\n",
    "ff"
   ]
  },
  {
   "cell_type": "code",
   "execution_count": 98,
   "metadata": {},
   "outputs": [
    {
     "data": {
      "text/plain": [
       "48.0"
      ]
     },
     "execution_count": 98,
     "metadata": {},
     "output_type": "execute_result"
    }
   ],
   "source": [
    "fff = ff+ii\n",
    "fff"
   ]
  },
  {
   "cell_type": "code",
   "execution_count": 44,
   "metadata": {},
   "outputs": [
    {
     "data": {
      "text/plain": [
       "0.1"
      ]
     },
     "execution_count": 44,
     "metadata": {},
     "output_type": "execute_result"
    }
   ],
   "source": [
    "f/i"
   ]
  },
  {
   "cell_type": "code",
   "execution_count": 45,
   "metadata": {},
   "outputs": [
    {
     "data": {
      "text/plain": [
       "3.6666666666666665"
      ]
     },
     "execution_count": 45,
     "metadata": {},
     "output_type": "execute_result"
    }
   ],
   "source": [
    "ff/f"
   ]
  },
  {
   "cell_type": "code",
   "execution_count": 46,
   "metadata": {},
   "outputs": [
    {
     "data": {
      "text/plain": [
       "int"
      ]
     },
     "execution_count": 46,
     "metadata": {},
     "output_type": "execute_result"
    }
   ],
   "source": [
    "type(i)"
   ]
  },
  {
   "cell_type": "code",
   "execution_count": 47,
   "metadata": {},
   "outputs": [
    {
     "data": {
      "text/plain": [
       "30.0"
      ]
     },
     "execution_count": 47,
     "metadata": {},
     "output_type": "execute_result"
    }
   ],
   "source": [
    "fi = float(i)\n",
    "fi"
   ]
  },
  {
   "cell_type": "code",
   "execution_count": 101,
   "metadata": {},
   "outputs": [
    {
     "data": {
      "text/plain": [
       "3"
      ]
     },
     "execution_count": 101,
     "metadata": {},
     "output_type": "execute_result"
    }
   ],
   "source": [
    "iff = int(f)\n",
    "iff"
   ]
  },
  {
   "cell_type": "code",
   "execution_count": 102,
   "metadata": {},
   "outputs": [
    {
     "data": {
      "text/plain": [
       "int"
      ]
     },
     "execution_count": 102,
     "metadata": {},
     "output_type": "execute_result"
    }
   ],
   "source": [
    "type(i)"
   ]
  },
  {
   "cell_type": "code",
   "execution_count": null,
   "metadata": {},
   "outputs": [],
   "source": [
    "type(f)"
   ]
  },
  {
   "cell_type": "code",
   "execution_count": 104,
   "metadata": {},
   "outputs": [
    {
     "data": {
      "text/plain": [
       "str"
      ]
     },
     "execution_count": 104,
     "metadata": {},
     "output_type": "execute_result"
    }
   ],
   "source": [
    "text3\n",
    "type(text3)"
   ]
  },
  {
   "cell_type": "code",
   "execution_count": null,
   "metadata": {},
   "outputs": [],
   "source": [
    "# integer methods:\n",
    "\n",
    "https://docs.python.org/3/library/stdtypes.html"
   ]
  },
  {
   "cell_type": "code",
   "execution_count": null,
   "metadata": {},
   "outputs": [],
   "source": [
    "a = 7676\n",
    "\n",
    "a.bit_length()"
   ]
  },
  {
   "cell_type": "code",
   "execution_count": 48,
   "metadata": {},
   "outputs": [
    {
     "data": {
      "text/plain": [
       "True"
      ]
     },
     "execution_count": 48,
     "metadata": {},
     "output_type": "execute_result"
    }
   ],
   "source": [
    "m = 8.0\n",
    "m.is_integer()"
   ]
  },
  {
   "cell_type": "markdown",
   "metadata": {},
   "source": [
    "<div class=\"alert alert-warning\">\n",
    "<h3>combiner les listes</h3>\n",
    "</div>"
   ]
  },
  {
   "cell_type": "code",
   "execution_count": 52,
   "metadata": {},
   "outputs": [
    {
     "data": {
      "text/plain": [
       "['text1', 'b', 'text2', 'text', 'text2', 'text']"
      ]
     },
     "execution_count": 52,
     "metadata": {},
     "output_type": "execute_result"
    }
   ],
   "source": [
    "# concatenation:\n",
    "ls1 = ['text1', 'b', 'text2', 'text',]\n",
    "\n",
    "ls3 = ls1+ls1[2:]\n",
    "ls3"
   ]
  },
  {
   "cell_type": "code",
   "execution_count": 51,
   "metadata": {},
   "outputs": [
    {
     "data": {
      "text/plain": [
       "('text1', 'b', 'text2', 'text', 'text2', 'text')"
      ]
     },
     "execution_count": 51,
     "metadata": {},
     "output_type": "execute_result"
    }
   ],
   "source": [
    "tup1 = ('text1', 'b', 'text2', 'text',)\n",
    "\n",
    "tup3 = tup1+tup1[-2:]\n",
    "tup3"
   ]
  },
  {
   "cell_type": "code",
   "execution_count": 53,
   "metadata": {},
   "outputs": [
    {
     "ename": "TypeError",
     "evalue": "can only concatenate list (not \"tuple\") to list",
     "output_type": "error",
     "traceback": [
      "\u001b[0;31m--------------------------------------------------------------\u001b[0m",
      "\u001b[0;31mTypeError\u001b[0m                    Traceback (most recent call last)",
      "\u001b[0;32m<ipython-input-53-c4d224999479>\u001b[0m in \u001b[0;36m<module>\u001b[0;34m\u001b[0m\n\u001b[0;32m----> 1\u001b[0;31m \u001b[0mtup4\u001b[0m \u001b[0;34m=\u001b[0m \u001b[0mls1\u001b[0m\u001b[0;34m+\u001b[0m\u001b[0mtup1\u001b[0m\u001b[0;34m\u001b[0m\u001b[0;34m\u001b[0m\u001b[0m\n\u001b[0m\u001b[1;32m      2\u001b[0m \u001b[0mtup4\u001b[0m\u001b[0;34m\u001b[0m\u001b[0;34m\u001b[0m\u001b[0m\n",
      "\u001b[0;31mTypeError\u001b[0m: can only concatenate list (not \"tuple\") to list"
     ]
    }
   ],
   "source": [
    "tup4 = ls1+tup1\n",
    "tup4"
   ]
  },
  {
   "cell_type": "code",
   "execution_count": null,
   "metadata": {},
   "outputs": [],
   "source": [
    "# commandes python utilisables sur les listes \n",
    "help(ls1)\n",
    "len(ls)    # taille de la liste ls\n",
    "sorted(ls) # enregistrera une liste triée\n",
    "\n",
    "# commande spécifique pour les listes:\n",
    "ls.sort    # affichera une liste triée mais ne l'enregistrera pas \n",
    "ls.append  # ajout d’un element à la fin de la liste ls\n",
    "ls.reverse # inverser la liste ls\n",
    "ls.index   # rechercher un élément dans la liste ls\n",
    "ls.remove  # retirer un element de la liste ls\n",
    "ls.pop     # retirer le dernier element de la liste ls"
   ]
  },
  {
   "cell_type": "markdown",
   "metadata": {},
   "source": [
    "<center><img src=\"img/Tableau_comparaison_liste_tuple.png\"></center>"
   ]
  },
  {
   "cell_type": "markdown",
   "metadata": {},
   "source": [
    "<div class=\"alert alert-warning\">\n",
    "<h3>combiner les dictionnaires</h3>\n",
    "</div>"
   ]
  },
  {
   "cell_type": "code",
   "execution_count": null,
   "metadata": {},
   "outputs": [],
   "source": [
    "# La concaténation des dictionnaires peut comporter des erreurs\n",
    "# Vérifiez la version de python."
   ]
  },
  {
   "cell_type": "code",
   "execution_count": 56,
   "metadata": {},
   "outputs": [],
   "source": [
    "x = {'a': 1, 'b': 2}\n",
    "y = {'b': 3, 'c': 4}"
   ]
  },
  {
   "cell_type": "code",
   "execution_count": 57,
   "metadata": {},
   "outputs": [
    {
     "data": {
      "text/plain": [
       "{'a': 1, 'b': 3, 'c': 4}"
      ]
     },
     "execution_count": 57,
     "metadata": {},
     "output_type": "execute_result"
    }
   ],
   "source": [
    "# python >3.9\n",
    "\n",
    "z = x | y\n",
    "z\n",
    "\n",
    "# ATTENTION!\n",
    "# la valeur des clés avec le même nom\n",
    "# prendra TOUJOURS la valeur du deuxième dictionnaire"
   ]
  },
  {
   "cell_type": "code",
   "execution_count": 58,
   "metadata": {},
   "outputs": [
    {
     "data": {
      "text/plain": [
       "{'a': 1, 'b': 3, 'c': 4}"
      ]
     },
     "execution_count": 58,
     "metadata": {},
     "output_type": "execute_result"
    }
   ],
   "source": [
    "# python >3.5\n",
    "\n",
    "z = {**x, **y}\n",
    "z"
   ]
  },
  {
   "cell_type": "code",
   "execution_count": 59,
   "metadata": {},
   "outputs": [
    {
     "data": {
      "text/plain": [
       "{'a': 1, 'b': 3, 'foo': 1, 'bar': 2, 'c': 4}"
      ]
     },
     "execution_count": 59,
     "metadata": {},
     "output_type": "execute_result"
    }
   ],
   "source": [
    "# la fusion peut être effectuée en incluant de nouvelles clés:\n",
    "\n",
    "z = {**x, 'foo': 1, 'bar': 2, **y}\n",
    "z"
   ]
  },
  {
   "cell_type": "code",
   "execution_count": 13,
   "metadata": {},
   "outputs": [],
   "source": [
    "# python 2\n",
    "\n",
    "z = x.copy()\n",
    "z.update(y) \n",
    "z"
   ]
  },
  {
   "cell_type": "code",
   "execution_count": null,
   "metadata": {},
   "outputs": [],
   "source": [
    "# pour une réponse plus complète:\n",
    "# https://stackoverflow.com/questions/38987/how-do-i-merge-two-dictionaries-in-a-single-expression-take-union-of-dictionari"
   ]
  },
  {
   "cell_type": "markdown",
   "metadata": {},
   "source": [
    "<div class=\"alert alert-warning\">\n",
    "<h3>combiner les pandas.DataFrame</h3>\n",
    "</div>"
   ]
  },
  {
   "cell_type": "markdown",
   "metadata": {
    "slideshow": {
     "slide_type": "subslide"
    }
   },
   "source": [
    "<div class=\"alert alert-success\">\n",
    "<ul> <h5>Concat/ Append</h5>\n",
    "<li> Concat donne la flexibilité de rejoindre les jeux de données en fonction de l'axe (toutes les lignes ou toutes les colonnes)\n",
    "<p><p> pandas.concat(objs, axis=0, join='outer', join_axes=None, ignore_index=False, keys=None, levels=None, names=None, verify_integrity=False, sort=None, copy=True)<p>\n",
    "<li> Append est le cas spécifique (axe = 0, join = 'outer') de concat. il a été écrit avant l'écriture de la fonction concat. il peut être supprimé dans les versions ultérieures.\n",
    "<p><p> pandas.DataFrame.append(other, ignore_index=False, verify_integrity=False, sort=None)</ul>\n",
    "<p>\n",
    "<ul> <h5>Merge/ Join</h5>\n",
    "<li> Merge est basée sur une colonne particulière de chacun des deux cadres de données, ces colonnes sont des variables comme «left_on», «right_on», «on»\n",
    "<p><p> pandas.DataFrame.merge(right, how='inner', on=None, left_on=None, right_on=None, left_index=False, right_index=False, sort=False, suffixes=('_x', '_y'), copy=True, indicator=False, validate=None)<p>\n",
    "<li> Join est basée sur les index et sur la façon dont les variable se combinent =['left','right','inner','outer']. Utilisez le join pour la jointure index sur index (par défaut) et colonne (s) sur index. Si vous vous joignez uniquement à l'index, vous souhaiterez peut-être utiliser join pour vous éviter de taper.\n",
    "<p><p> pandas.DataFrame.join(self, other, on=None, how='left', lsuffix='', rsuffix='', sort=False)</ul></div>"
   ]
  },
  {
   "cell_type": "code",
   "execution_count": 61,
   "metadata": {},
   "outputs": [],
   "source": [
    "import pandas"
   ]
  },
  {
   "cell_type": "code",
   "execution_count": 62,
   "metadata": {},
   "outputs": [],
   "source": [
    "df_A = pandas.DataFrame({'a':5, 'b':2, 'c':1}, index = [0])\n",
    "df_B = pandas.DataFrame({'a':3, 'b':4, 'c':2}, index = [0])\n",
    "df_C = pandas.DataFrame({'a':7, 'b':2, 'c':8}, index = [0])"
   ]
  },
  {
   "cell_type": "code",
   "execution_count": 63,
   "metadata": {
    "scrolled": true
   },
   "outputs": [
    {
     "data": {
      "text/html": [
       "<div>\n",
       "<style scoped>\n",
       "    .dataframe tbody tr th:only-of-type {\n",
       "        vertical-align: middle;\n",
       "    }\n",
       "\n",
       "    .dataframe tbody tr th {\n",
       "        vertical-align: top;\n",
       "    }\n",
       "\n",
       "    .dataframe thead th {\n",
       "        text-align: right;\n",
       "    }\n",
       "</style>\n",
       "<table border=\"1\" class=\"dataframe\">\n",
       "  <thead>\n",
       "    <tr style=\"text-align: right;\">\n",
       "      <th></th>\n",
       "      <th>a</th>\n",
       "      <th>b</th>\n",
       "      <th>c</th>\n",
       "    </tr>\n",
       "  </thead>\n",
       "  <tbody>\n",
       "    <tr>\n",
       "      <th>0</th>\n",
       "      <td>5</td>\n",
       "      <td>2</td>\n",
       "      <td>1</td>\n",
       "    </tr>\n",
       "    <tr>\n",
       "      <th>0</th>\n",
       "      <td>3</td>\n",
       "      <td>4</td>\n",
       "      <td>2</td>\n",
       "    </tr>\n",
       "  </tbody>\n",
       "</table>\n",
       "</div>"
      ],
      "text/plain": [
       "   a  b  c\n",
       "0  5  2  1\n",
       "0  3  4  2"
      ]
     },
     "execution_count": 63,
     "metadata": {},
     "output_type": "execute_result"
    }
   ],
   "source": [
    "df_A.append(df_B)"
   ]
  },
  {
   "cell_type": "code",
   "execution_count": 64,
   "metadata": {
    "scrolled": true
   },
   "outputs": [
    {
     "data": {
      "text/html": [
       "<div>\n",
       "<style scoped>\n",
       "    .dataframe tbody tr th:only-of-type {\n",
       "        vertical-align: middle;\n",
       "    }\n",
       "\n",
       "    .dataframe tbody tr th {\n",
       "        vertical-align: top;\n",
       "    }\n",
       "\n",
       "    .dataframe thead th {\n",
       "        text-align: right;\n",
       "    }\n",
       "</style>\n",
       "<table border=\"1\" class=\"dataframe\">\n",
       "  <thead>\n",
       "    <tr style=\"text-align: right;\">\n",
       "      <th></th>\n",
       "      <th>a</th>\n",
       "      <th>b</th>\n",
       "      <th>c</th>\n",
       "    </tr>\n",
       "  </thead>\n",
       "  <tbody>\n",
       "    <tr>\n",
       "      <th>0</th>\n",
       "      <td>5</td>\n",
       "      <td>2</td>\n",
       "      <td>1</td>\n",
       "    </tr>\n",
       "    <tr>\n",
       "      <th>0</th>\n",
       "      <td>3</td>\n",
       "      <td>4</td>\n",
       "      <td>2</td>\n",
       "    </tr>\n",
       "  </tbody>\n",
       "</table>\n",
       "</div>"
      ],
      "text/plain": [
       "   a  b  c\n",
       "0  5  2  1\n",
       "0  3  4  2"
      ]
     },
     "execution_count": 64,
     "metadata": {},
     "output_type": "execute_result"
    }
   ],
   "source": [
    "df_Concat = pandas.concat([df_A, df_B], axis = 0)\n",
    "# axis=0 is default - pour les colonnes\n",
    "\n",
    "df_Concat"
   ]
  },
  {
   "cell_type": "code",
   "execution_count": 244,
   "metadata": {},
   "outputs": [
    {
     "data": {
      "text/html": [
       "<div>\n",
       "<style scoped>\n",
       "    .dataframe tbody tr th:only-of-type {\n",
       "        vertical-align: middle;\n",
       "    }\n",
       "\n",
       "    .dataframe tbody tr th {\n",
       "        vertical-align: top;\n",
       "    }\n",
       "\n",
       "    .dataframe thead th {\n",
       "        text-align: right;\n",
       "    }\n",
       "</style>\n",
       "<table border=\"1\" class=\"dataframe\">\n",
       "  <thead>\n",
       "    <tr style=\"text-align: right;\">\n",
       "      <th></th>\n",
       "      <th>a</th>\n",
       "      <th>b</th>\n",
       "      <th>c</th>\n",
       "      <th>a</th>\n",
       "      <th>b</th>\n",
       "      <th>c</th>\n",
       "    </tr>\n",
       "  </thead>\n",
       "  <tbody>\n",
       "    <tr>\n",
       "      <th>0</th>\n",
       "      <td>1</td>\n",
       "      <td>2</td>\n",
       "      <td>2</td>\n",
       "      <td>3</td>\n",
       "      <td>4</td>\n",
       "      <td>2</td>\n",
       "    </tr>\n",
       "  </tbody>\n",
       "</table>\n",
       "</div>"
      ],
      "text/plain": [
       "   a  b  c  a  b  c\n",
       "0  1  2  2  3  4  2"
      ]
     },
     "execution_count": 244,
     "metadata": {},
     "output_type": "execute_result"
    }
   ],
   "source": [
    "df_Concat = pandas.concat([df_A, df_B], axis = 1)\n",
    "# axis=1 = pour l'index\n",
    "\n",
    "df_Concat"
   ]
  },
  {
   "cell_type": "code",
   "execution_count": 65,
   "metadata": {},
   "outputs": [
    {
     "data": {
      "text/html": [
       "<div>\n",
       "<style scoped>\n",
       "    .dataframe tbody tr th:only-of-type {\n",
       "        vertical-align: middle;\n",
       "    }\n",
       "\n",
       "    .dataframe tbody tr th {\n",
       "        vertical-align: top;\n",
       "    }\n",
       "\n",
       "    .dataframe thead th {\n",
       "        text-align: right;\n",
       "    }\n",
       "</style>\n",
       "<table border=\"1\" class=\"dataframe\">\n",
       "  <thead>\n",
       "    <tr style=\"text-align: right;\">\n",
       "      <th></th>\n",
       "      <th></th>\n",
       "      <th>a</th>\n",
       "      <th>b</th>\n",
       "      <th>c</th>\n",
       "    </tr>\n",
       "  </thead>\n",
       "  <tbody>\n",
       "    <tr>\n",
       "      <th>rouge</th>\n",
       "      <th>0</th>\n",
       "      <td>5</td>\n",
       "      <td>2</td>\n",
       "      <td>1</td>\n",
       "    </tr>\n",
       "    <tr>\n",
       "      <th>bleue</th>\n",
       "      <th>0</th>\n",
       "      <td>3</td>\n",
       "      <td>4</td>\n",
       "      <td>2</td>\n",
       "    </tr>\n",
       "  </tbody>\n",
       "</table>\n",
       "</div>"
      ],
      "text/plain": [
       "         a  b  c\n",
       "rouge 0  5  2  1\n",
       "bleue 0  3  4  2"
      ]
     },
     "execution_count": 65,
     "metadata": {},
     "output_type": "execute_result"
    }
   ],
   "source": [
    "pandas.concat([df_A, df_B],\n",
    "              keys=['rouge','bleue'],\n",
    "              axis=0)"
   ]
  },
  {
   "cell_type": "code",
   "execution_count": 66,
   "metadata": {},
   "outputs": [],
   "source": [
    "df_office1 = pandas.DataFrame({'name':['Alana','Pierre','Corinne','Marianne'],\n",
    "                           'group':['Bank','Science','Resources','Plannification']})\n",
    "df_office2 = pandas.DataFrame({'name':['Alana','Pierre','Corinne','Marianne'],\n",
    "                           'date':['2004','2008','2006','2012']})"
   ]
  },
  {
   "cell_type": "code",
   "execution_count": 67,
   "metadata": {},
   "outputs": [
    {
     "data": {
      "text/html": [
       "<div>\n",
       "<style scoped>\n",
       "    .dataframe tbody tr th:only-of-type {\n",
       "        vertical-align: middle;\n",
       "    }\n",
       "\n",
       "    .dataframe tbody tr th {\n",
       "        vertical-align: top;\n",
       "    }\n",
       "\n",
       "    .dataframe thead th {\n",
       "        text-align: right;\n",
       "    }\n",
       "</style>\n",
       "<table border=\"1\" class=\"dataframe\">\n",
       "  <thead>\n",
       "    <tr style=\"text-align: right;\">\n",
       "      <th></th>\n",
       "      <th>name</th>\n",
       "      <th>group</th>\n",
       "    </tr>\n",
       "  </thead>\n",
       "  <tbody>\n",
       "    <tr>\n",
       "      <th>0</th>\n",
       "      <td>Alana</td>\n",
       "      <td>Bank</td>\n",
       "    </tr>\n",
       "    <tr>\n",
       "      <th>1</th>\n",
       "      <td>Pierre</td>\n",
       "      <td>Science</td>\n",
       "    </tr>\n",
       "    <tr>\n",
       "      <th>2</th>\n",
       "      <td>Corinne</td>\n",
       "      <td>Resources</td>\n",
       "    </tr>\n",
       "    <tr>\n",
       "      <th>3</th>\n",
       "      <td>Marianne</td>\n",
       "      <td>Plannification</td>\n",
       "    </tr>\n",
       "    <tr>\n",
       "      <th>0</th>\n",
       "      <td>Alana</td>\n",
       "      <td>Bank</td>\n",
       "    </tr>\n",
       "    <tr>\n",
       "      <th>1</th>\n",
       "      <td>Pierre</td>\n",
       "      <td>Science</td>\n",
       "    </tr>\n",
       "    <tr>\n",
       "      <th>2</th>\n",
       "      <td>Corinne</td>\n",
       "      <td>Resources</td>\n",
       "    </tr>\n",
       "    <tr>\n",
       "      <th>3</th>\n",
       "      <td>Marianne</td>\n",
       "      <td>Plannification</td>\n",
       "    </tr>\n",
       "  </tbody>\n",
       "</table>\n",
       "</div>"
      ],
      "text/plain": [
       "       name           group\n",
       "0     Alana            Bank\n",
       "1    Pierre         Science\n",
       "2   Corinne       Resources\n",
       "3  Marianne  Plannification\n",
       "0     Alana            Bank\n",
       "1    Pierre         Science\n",
       "2   Corinne       Resources\n",
       "3  Marianne  Plannification"
      ]
     },
     "execution_count": 67,
     "metadata": {},
     "output_type": "execute_result"
    }
   ],
   "source": [
    "pandas.concat([df_office1, df_office1])"
   ]
  },
  {
   "cell_type": "code",
   "execution_count": 55,
   "metadata": {},
   "outputs": [
    {
     "data": {
      "text/html": [
       "<div>\n",
       "<style scoped>\n",
       "    .dataframe tbody tr th:only-of-type {\n",
       "        vertical-align: middle;\n",
       "    }\n",
       "\n",
       "    .dataframe tbody tr th {\n",
       "        vertical-align: top;\n",
       "    }\n",
       "\n",
       "    .dataframe thead th {\n",
       "        text-align: right;\n",
       "    }\n",
       "</style>\n",
       "<table border=\"1\" class=\"dataframe\">\n",
       "  <thead>\n",
       "    <tr style=\"text-align: right;\">\n",
       "      <th></th>\n",
       "      <th>group</th>\n",
       "      <th>name</th>\n",
       "    </tr>\n",
       "  </thead>\n",
       "  <tbody>\n",
       "    <tr>\n",
       "      <th>0</th>\n",
       "      <td>Bank</td>\n",
       "      <td>Alana</td>\n",
       "    </tr>\n",
       "    <tr>\n",
       "      <th>1</th>\n",
       "      <td>Science</td>\n",
       "      <td>Pierre</td>\n",
       "    </tr>\n",
       "    <tr>\n",
       "      <th>2</th>\n",
       "      <td>Resources</td>\n",
       "      <td>Corinne</td>\n",
       "    </tr>\n",
       "    <tr>\n",
       "      <th>3</th>\n",
       "      <td>Plannification</td>\n",
       "      <td>Marianne</td>\n",
       "    </tr>\n",
       "    <tr>\n",
       "      <th>0</th>\n",
       "      <td>Bank</td>\n",
       "      <td>Alana</td>\n",
       "    </tr>\n",
       "    <tr>\n",
       "      <th>1</th>\n",
       "      <td>Science</td>\n",
       "      <td>Pierre</td>\n",
       "    </tr>\n",
       "    <tr>\n",
       "      <th>2</th>\n",
       "      <td>Resources</td>\n",
       "      <td>Corinne</td>\n",
       "    </tr>\n",
       "    <tr>\n",
       "      <th>3</th>\n",
       "      <td>Plannification</td>\n",
       "      <td>Marianne</td>\n",
       "    </tr>\n",
       "  </tbody>\n",
       "</table>\n",
       "</div>"
      ],
      "text/plain": [
       "            group      name\n",
       "0            Bank     Alana\n",
       "1         Science    Pierre\n",
       "2       Resources   Corinne\n",
       "3  Plannification  Marianne\n",
       "0            Bank     Alana\n",
       "1         Science    Pierre\n",
       "2       Resources   Corinne\n",
       "3  Plannification  Marianne"
      ]
     },
     "execution_count": 55,
     "metadata": {},
     "output_type": "execute_result"
    }
   ],
   "source": [
    "pandas.concat([df_office1, df_office1])"
   ]
  },
  {
   "cell_type": "code",
   "execution_count": 68,
   "metadata": {
    "scrolled": true
   },
   "outputs": [
    {
     "data": {
      "text/html": [
       "<div>\n",
       "<style scoped>\n",
       "    .dataframe tbody tr th:only-of-type {\n",
       "        vertical-align: middle;\n",
       "    }\n",
       "\n",
       "    .dataframe tbody tr th {\n",
       "        vertical-align: top;\n",
       "    }\n",
       "\n",
       "    .dataframe thead th {\n",
       "        text-align: right;\n",
       "    }\n",
       "</style>\n",
       "<table border=\"1\" class=\"dataframe\">\n",
       "  <thead>\n",
       "    <tr style=\"text-align: right;\">\n",
       "      <th></th>\n",
       "      <th>name</th>\n",
       "      <th>group</th>\n",
       "      <th>name</th>\n",
       "      <th>date</th>\n",
       "    </tr>\n",
       "  </thead>\n",
       "  <tbody>\n",
       "    <tr>\n",
       "      <th>0</th>\n",
       "      <td>Alana</td>\n",
       "      <td>Bank</td>\n",
       "      <td>Alana</td>\n",
       "      <td>2004</td>\n",
       "    </tr>\n",
       "    <tr>\n",
       "      <th>1</th>\n",
       "      <td>Pierre</td>\n",
       "      <td>Science</td>\n",
       "      <td>Pierre</td>\n",
       "      <td>2008</td>\n",
       "    </tr>\n",
       "    <tr>\n",
       "      <th>2</th>\n",
       "      <td>Corinne</td>\n",
       "      <td>Resources</td>\n",
       "      <td>Corinne</td>\n",
       "      <td>2006</td>\n",
       "    </tr>\n",
       "    <tr>\n",
       "      <th>3</th>\n",
       "      <td>Marianne</td>\n",
       "      <td>Plannification</td>\n",
       "      <td>Marianne</td>\n",
       "      <td>2012</td>\n",
       "    </tr>\n",
       "  </tbody>\n",
       "</table>\n",
       "</div>"
      ],
      "text/plain": [
       "       name           group      name  date\n",
       "0     Alana            Bank     Alana  2004\n",
       "1    Pierre         Science    Pierre  2008\n",
       "2   Corinne       Resources   Corinne  2006\n",
       "3  Marianne  Plannification  Marianne  2012"
      ]
     },
     "execution_count": 68,
     "metadata": {},
     "output_type": "execute_result"
    }
   ],
   "source": [
    "pandas.concat([df_office1, df_office2], axis=1)"
   ]
  },
  {
   "cell_type": "code",
   "execution_count": 69,
   "metadata": {},
   "outputs": [
    {
     "data": {
      "text/html": [
       "<div>\n",
       "<style scoped>\n",
       "    .dataframe tbody tr th:only-of-type {\n",
       "        vertical-align: middle;\n",
       "    }\n",
       "\n",
       "    .dataframe tbody tr th {\n",
       "        vertical-align: top;\n",
       "    }\n",
       "\n",
       "    .dataframe thead th {\n",
       "        text-align: right;\n",
       "    }\n",
       "</style>\n",
       "<table border=\"1\" class=\"dataframe\">\n",
       "  <thead>\n",
       "    <tr style=\"text-align: right;\">\n",
       "      <th></th>\n",
       "      <th>name</th>\n",
       "      <th>group</th>\n",
       "      <th>date</th>\n",
       "    </tr>\n",
       "  </thead>\n",
       "  <tbody>\n",
       "    <tr>\n",
       "      <th>0</th>\n",
       "      <td>Alana</td>\n",
       "      <td>Bank</td>\n",
       "      <td>2004</td>\n",
       "    </tr>\n",
       "    <tr>\n",
       "      <th>1</th>\n",
       "      <td>Pierre</td>\n",
       "      <td>Science</td>\n",
       "      <td>2008</td>\n",
       "    </tr>\n",
       "    <tr>\n",
       "      <th>2</th>\n",
       "      <td>Corinne</td>\n",
       "      <td>Resources</td>\n",
       "      <td>2006</td>\n",
       "    </tr>\n",
       "    <tr>\n",
       "      <th>3</th>\n",
       "      <td>Marianne</td>\n",
       "      <td>Plannification</td>\n",
       "      <td>2012</td>\n",
       "    </tr>\n",
       "  </tbody>\n",
       "</table>\n",
       "</div>"
      ],
      "text/plain": [
       "       name           group  date\n",
       "0     Alana            Bank  2004\n",
       "1    Pierre         Science  2008\n",
       "2   Corinne       Resources  2006\n",
       "3  Marianne  Plannification  2012"
      ]
     },
     "execution_count": 69,
     "metadata": {},
     "output_type": "execute_result"
    }
   ],
   "source": [
    "df_office1.merge(df_office2)"
   ]
  },
  {
   "cell_type": "code",
   "execution_count": 257,
   "metadata": {},
   "outputs": [
    {
     "data": {
      "text/html": [
       "<div>\n",
       "<style scoped>\n",
       "    .dataframe tbody tr th:only-of-type {\n",
       "        vertical-align: middle;\n",
       "    }\n",
       "\n",
       "    .dataframe tbody tr th {\n",
       "        vertical-align: top;\n",
       "    }\n",
       "\n",
       "    .dataframe thead th {\n",
       "        text-align: right;\n",
       "    }\n",
       "</style>\n",
       "<table border=\"1\" class=\"dataframe\">\n",
       "  <thead>\n",
       "    <tr style=\"text-align: right;\">\n",
       "      <th></th>\n",
       "      <th>name</th>\n",
       "      <th>group</th>\n",
       "    </tr>\n",
       "  </thead>\n",
       "  <tbody>\n",
       "    <tr>\n",
       "      <th>0</th>\n",
       "      <td>Alana</td>\n",
       "      <td>Bank</td>\n",
       "    </tr>\n",
       "    <tr>\n",
       "      <th>1</th>\n",
       "      <td>Pierre</td>\n",
       "      <td>Science</td>\n",
       "    </tr>\n",
       "    <tr>\n",
       "      <th>2</th>\n",
       "      <td>Corinne</td>\n",
       "      <td>Resources</td>\n",
       "    </tr>\n",
       "    <tr>\n",
       "      <th>3</th>\n",
       "      <td>Marianne</td>\n",
       "      <td>Plannification</td>\n",
       "    </tr>\n",
       "  </tbody>\n",
       "</table>\n",
       "</div>"
      ],
      "text/plain": [
       "       name           group\n",
       "0     Alana            Bank\n",
       "1    Pierre         Science\n",
       "2   Corinne       Resources\n",
       "3  Marianne  Plannification"
      ]
     },
     "execution_count": 257,
     "metadata": {},
     "output_type": "execute_result"
    }
   ],
   "source": [
    "df_office1"
   ]
  },
  {
   "cell_type": "code",
   "execution_count": 258,
   "metadata": {},
   "outputs": [
    {
     "data": {
      "text/html": [
       "<div>\n",
       "<style scoped>\n",
       "    .dataframe tbody tr th:only-of-type {\n",
       "        vertical-align: middle;\n",
       "    }\n",
       "\n",
       "    .dataframe tbody tr th {\n",
       "        vertical-align: top;\n",
       "    }\n",
       "\n",
       "    .dataframe thead th {\n",
       "        text-align: right;\n",
       "    }\n",
       "</style>\n",
       "<table border=\"1\" class=\"dataframe\">\n",
       "  <thead>\n",
       "    <tr style=\"text-align: right;\">\n",
       "      <th></th>\n",
       "      <th>name</th>\n",
       "      <th>date</th>\n",
       "    </tr>\n",
       "  </thead>\n",
       "  <tbody>\n",
       "    <tr>\n",
       "      <th>0</th>\n",
       "      <td>Alana</td>\n",
       "      <td>2004</td>\n",
       "    </tr>\n",
       "    <tr>\n",
       "      <th>1</th>\n",
       "      <td>Pierre</td>\n",
       "      <td>2008</td>\n",
       "    </tr>\n",
       "    <tr>\n",
       "      <th>2</th>\n",
       "      <td>Corinne</td>\n",
       "      <td>2006</td>\n",
       "    </tr>\n",
       "    <tr>\n",
       "      <th>3</th>\n",
       "      <td>Marianne</td>\n",
       "      <td>2012</td>\n",
       "    </tr>\n",
       "  </tbody>\n",
       "</table>\n",
       "</div>"
      ],
      "text/plain": [
       "       name  date\n",
       "0     Alana  2004\n",
       "1    Pierre  2008\n",
       "2   Corinne  2006\n",
       "3  Marianne  2012"
      ]
     },
     "execution_count": 258,
     "metadata": {},
     "output_type": "execute_result"
    }
   ],
   "source": [
    "df_office2"
   ]
  },
  {
   "cell_type": "code",
   "execution_count": 70,
   "metadata": {
    "scrolled": true
   },
   "outputs": [
    {
     "data": {
      "text/html": [
       "<div>\n",
       "<style scoped>\n",
       "    .dataframe tbody tr th:only-of-type {\n",
       "        vertical-align: middle;\n",
       "    }\n",
       "\n",
       "    .dataframe tbody tr th {\n",
       "        vertical-align: top;\n",
       "    }\n",
       "\n",
       "    .dataframe thead th {\n",
       "        text-align: right;\n",
       "    }\n",
       "</style>\n",
       "<table border=\"1\" class=\"dataframe\">\n",
       "  <thead>\n",
       "    <tr style=\"text-align: right;\">\n",
       "      <th></th>\n",
       "      <th>name</th>\n",
       "      <th>group</th>\n",
       "      <th>date</th>\n",
       "    </tr>\n",
       "  </thead>\n",
       "  <tbody>\n",
       "    <tr>\n",
       "      <th>0</th>\n",
       "      <td>Alana</td>\n",
       "      <td>Bank</td>\n",
       "      <td>2004</td>\n",
       "    </tr>\n",
       "    <tr>\n",
       "      <th>1</th>\n",
       "      <td>Pierre</td>\n",
       "      <td>Science</td>\n",
       "      <td>2008</td>\n",
       "    </tr>\n",
       "    <tr>\n",
       "      <th>2</th>\n",
       "      <td>Corinne</td>\n",
       "      <td>Resources</td>\n",
       "      <td>2006</td>\n",
       "    </tr>\n",
       "    <tr>\n",
       "      <th>3</th>\n",
       "      <td>Marianne</td>\n",
       "      <td>Plannification</td>\n",
       "      <td>2012</td>\n",
       "    </tr>\n",
       "  </tbody>\n",
       "</table>\n",
       "</div>"
      ],
      "text/plain": [
       "       name           group  date\n",
       "0     Alana            Bank  2004\n",
       "1    Pierre         Science  2008\n",
       "2   Corinne       Resources  2006\n",
       "3  Marianne  Plannification  2012"
      ]
     },
     "execution_count": 70,
     "metadata": {},
     "output_type": "execute_result"
    }
   ],
   "source": [
    "df_office1.join(df_office2.set_index('name'), on='name')"
   ]
  },
  {
   "cell_type": "markdown",
   "metadata": {},
   "source": [
    "<div class=\"alert alert-warning\">\n",
    "<h3>combiner les numpy.array</h3>\n",
    "</div>"
   ]
  },
  {
   "cell_type": "markdown",
   "metadata": {},
   "source": [
    "<div class=\"alert alert-warning\">\n",
    "<ul> <b>Concatenation </b></div>"
   ]
  },
  {
   "cell_type": "code",
   "execution_count": 71,
   "metadata": {},
   "outputs": [],
   "source": [
    "# concaténation de tableaux\n",
    "\n",
    "tab1 = np.array(((1, 2),\n",
    "                 (3, 4)))\n",
    "tab2 = np.array(((5, 6),\n",
    "                 (7, 8)))\n",
    "tab3 = np.array(((9, 10),\n",
    "                 (11, 12)))"
   ]
  },
  {
   "cell_type": "code",
   "execution_count": 72,
   "metadata": {},
   "outputs": [
    {
     "data": {
      "text/plain": [
       "(2, 2)"
      ]
     },
     "execution_count": 72,
     "metadata": {},
     "output_type": "execute_result"
    }
   ],
   "source": [
    "tab1.shape"
   ]
  },
  {
   "cell_type": "code",
   "execution_count": 73,
   "metadata": {},
   "outputs": [
    {
     "data": {
      "text/plain": [
       "array([[1, 2],\n",
       "       [3, 4]])"
      ]
     },
     "execution_count": 73,
     "metadata": {},
     "output_type": "execute_result"
    }
   ],
   "source": [
    "tab1"
   ]
  },
  {
   "cell_type": "code",
   "execution_count": 74,
   "metadata": {},
   "outputs": [],
   "source": [
    "concat1 = np.concatenate((tab1, tab2, tab3))"
   ]
  },
  {
   "cell_type": "code",
   "execution_count": 75,
   "metadata": {},
   "outputs": [
    {
     "data": {
      "text/plain": [
       "array([[ 1,  2],\n",
       "       [ 3,  4],\n",
       "       [ 5,  6],\n",
       "       [ 7,  8],\n",
       "       [ 9, 10],\n",
       "       [11, 12]])"
      ]
     },
     "execution_count": 75,
     "metadata": {},
     "output_type": "execute_result"
    }
   ],
   "source": [
    "concat1"
   ]
  },
  {
   "cell_type": "code",
   "execution_count": 76,
   "metadata": {},
   "outputs": [
    {
     "data": {
      "text/plain": [
       "(6, 2)"
      ]
     },
     "execution_count": 76,
     "metadata": {},
     "output_type": "execute_result"
    }
   ],
   "source": [
    "concat1.shape"
   ]
  },
  {
   "cell_type": "code",
   "execution_count": 77,
   "metadata": {},
   "outputs": [
    {
     "name": "stdout",
     "output_type": "stream",
     "text": [
      "[1 2 3] [4 5 6] [7 8 9]\n"
     ]
    }
   ],
   "source": [
    "# concaténation de tableaux, different types\n",
    "\n",
    "a = np.array([1,2,3])\n",
    "b = np.array([4,5,6])\n",
    "c = np.array([7,8,9])\n",
    "print(a, b,c)"
   ]
  },
  {
   "cell_type": "markdown",
   "metadata": {},
   "source": [
    "<center><img src=\"img/numpy_vstack_hstack.png\"><center>"
   ]
  },
  {
   "cell_type": "code",
   "execution_count": 78,
   "metadata": {},
   "outputs": [
    {
     "data": {
      "text/plain": [
       "array([[1, 2, 3],\n",
       "       [4, 5, 6],\n",
       "       [7, 8, 9]])"
      ]
     },
     "execution_count": 78,
     "metadata": {},
     "output_type": "execute_result"
    }
   ],
   "source": [
    "np.vstack([a,b,c]) #concaténation vertical"
   ]
  },
  {
   "cell_type": "code",
   "execution_count": 79,
   "metadata": {},
   "outputs": [
    {
     "name": "stdout",
     "output_type": "stream",
     "text": [
      "(3, 3) 2\n"
     ]
    }
   ],
   "source": [
    "chk1 = np.vstack([a,b,c]) #concaténation vertical\n",
    "print(chk1.shape, chk1.ndim)"
   ]
  },
  {
   "cell_type": "code",
   "execution_count": 80,
   "metadata": {},
   "outputs": [
    {
     "data": {
      "text/plain": [
       "array([1, 2, 3, 4, 5, 6, 7, 8, 9])"
      ]
     },
     "execution_count": 80,
     "metadata": {},
     "output_type": "execute_result"
    }
   ],
   "source": [
    "np.hstack([a,b,c]) #concaténation horizontale"
   ]
  },
  {
   "cell_type": "code",
   "execution_count": 81,
   "metadata": {},
   "outputs": [
    {
     "name": "stdout",
     "output_type": "stream",
     "text": [
      "(9,) 1\n"
     ]
    }
   ],
   "source": [
    "chk_v = np.hstack([a,b,c]) #concaténation vertical\n",
    "print(chk_v.shape, chk_v.ndim)"
   ]
  },
  {
   "cell_type": "code",
   "execution_count": 101,
   "metadata": {},
   "outputs": [
    {
     "data": {
      "text/plain": [
       "array([[1, 4, 7],\n",
       "       [2, 5, 8],\n",
       "       [3, 6, 9]])"
      ]
     },
     "execution_count": 101,
     "metadata": {},
     "output_type": "execute_result"
    }
   ],
   "source": [
    "np.c_[a,b,c] #concaténation vertical, Version 2"
   ]
  },
  {
   "cell_type": "code",
   "execution_count": 102,
   "metadata": {},
   "outputs": [
    {
     "data": {
      "text/plain": [
       "array([1, 2, 3, 4, 5, 6, 7, 8, 9])"
      ]
     },
     "execution_count": 102,
     "metadata": {},
     "output_type": "execute_result"
    }
   ],
   "source": [
    "np.r_[a,b,c] #concaténation horizontale, Version 2"
   ]
  },
  {
   "cell_type": "markdown",
   "metadata": {},
   "source": [
    "<div class=\"alert alert-warning\">\n",
    "<b>Division de tableaux </b>\n",
    "</div>"
   ]
  },
  {
   "cell_type": "markdown",
   "metadata": {},
   "source": [
    "<div class=\"alert alert-success\">\n",
    "<li> np.split\n",
    "<li> np.vsplit\n",
    "<li> np.hsplit</div>"
   ]
  },
  {
   "cell_type": "code",
   "execution_count": 82,
   "metadata": {},
   "outputs": [
    {
     "data": {
      "text/plain": [
       "array([[ 1,  2],\n",
       "       [ 3,  4],\n",
       "       [ 5,  6],\n",
       "       [ 7,  8],\n",
       "       [ 9, 10],\n",
       "       [11, 12]])"
      ]
     },
     "execution_count": 82,
     "metadata": {},
     "output_type": "execute_result"
    }
   ],
   "source": [
    "tab_concat = np.array(((1, 2),\n",
    "                       (3, 4),\n",
    "                       (5, 6),\n",
    "                       (7, 8),\n",
    "                       (9, 10),\n",
    "                       (11, 12)))\n",
    "tab_concat"
   ]
  },
  {
   "cell_type": "code",
   "execution_count": 83,
   "metadata": {},
   "outputs": [
    {
     "data": {
      "text/plain": [
       "((6, 2), 2)"
      ]
     },
     "execution_count": 83,
     "metadata": {},
     "output_type": "execute_result"
    }
   ],
   "source": [
    "tab_concat.shape, tab_concat.ndim"
   ]
  },
  {
   "cell_type": "markdown",
   "metadata": {},
   "source": [
    "<center><img src=\"img/numpy_split.png\"><center>"
   ]
  },
  {
   "cell_type": "code",
   "execution_count": 84,
   "metadata": {},
   "outputs": [
    {
     "data": {
      "text/plain": [
       "[array([[1, 2],\n",
       "        [3, 4]]),\n",
       " array([[5, 6],\n",
       "        [7, 8]]),\n",
       " array([[ 9, 10],\n",
       "        [11, 12]])]"
      ]
     },
     "execution_count": 84,
     "metadata": {},
     "output_type": "execute_result"
    }
   ],
   "source": [
    "np.split(tab_concat, 3)"
   ]
  },
  {
   "cell_type": "markdown",
   "metadata": {},
   "source": [
    "<center><img src=\"img/numpy_vsplit.png\"><center>"
   ]
  },
  {
   "cell_type": "code",
   "execution_count": 85,
   "metadata": {},
   "outputs": [
    {
     "data": {
      "text/plain": [
       "[array([[1, 2],\n",
       "        [3, 4],\n",
       "        [5, 6]]),\n",
       " array([[ 7,  8],\n",
       "        [ 9, 10],\n",
       "        [11, 12]])]"
      ]
     },
     "execution_count": 85,
     "metadata": {},
     "output_type": "execute_result"
    }
   ],
   "source": [
    "# numpy.vsplit(ary, indices_or_sections)\n",
    "\n",
    "np.vsplit(tab_concat, [3])"
   ]
  },
  {
   "cell_type": "code",
   "execution_count": 86,
   "metadata": {},
   "outputs": [
    {
     "data": {
      "text/plain": [
       "array([[1, 2],\n",
       "       [3, 4],\n",
       "       [5, 6]])"
      ]
     },
     "execution_count": 86,
     "metadata": {},
     "output_type": "execute_result"
    }
   ],
   "source": [
    "u1, u2 = np.vsplit(tab_concat, [3])\n",
    "u1"
   ]
  },
  {
   "cell_type": "code",
   "execution_count": 87,
   "metadata": {},
   "outputs": [
    {
     "data": {
      "text/plain": [
       "array([[ 1,  2],\n",
       "       [ 3,  4],\n",
       "       [ 5,  6],\n",
       "       [ 7,  8],\n",
       "       [ 9, 10],\n",
       "       [11, 12]])"
      ]
     },
     "execution_count": 87,
     "metadata": {},
     "output_type": "execute_result"
    }
   ],
   "source": [
    "tab_concat"
   ]
  },
  {
   "cell_type": "markdown",
   "metadata": {},
   "source": [
    "<center><img src=\"img/numpy_hsplit.png\"><center>"
   ]
  },
  {
   "cell_type": "code",
   "execution_count": 81,
   "metadata": {
    "scrolled": false
   },
   "outputs": [
    {
     "data": {
      "text/plain": [
       "array([[ 2],\n",
       "       [ 4],\n",
       "       [ 6],\n",
       "       [ 8],\n",
       "       [10],\n",
       "       [12]])"
      ]
     },
     "execution_count": 81,
     "metadata": {},
     "output_type": "execute_result"
    }
   ],
   "source": [
    "u1, u2 = np.hsplit(tab_concat, [1])\n",
    "u2"
   ]
  },
  {
   "cell_type": "markdown",
   "metadata": {},
   "source": [
    "<div class=\"alert alert-info\">\n",
    "<h3>Groupby: pandas.DataFrame.groupby</h3></div>"
   ]
  },
  {
   "cell_type": "markdown",
   "metadata": {
    "slideshow": {
     "slide_type": "subslide"
    }
   },
   "source": [
    "<div class=\"alert alert-success\">\n",
    "<li> DataFrame.groupby(by=None, axis=0, level=None, as_index=True, sort=True, group_keys=True, squeeze=False, observed=False, **kwargs)\n",
    "\n",
    "<p>\n",
    "\n",
    "groupby s'effectue en 3 étapes:\n",
    "\n",
    "<li> <b>fractionnement</b> pour scinder et grouper un Cadre de données en fonction de la valeur de la clé spécifiée\n",
    "<li> <b>application</b> pour calculer une fonction (agrégat, transformation, filtrage, au sein des groupes individuels)\n",
    "<li> <b>combinaison</b> fusionne les résultats dans un tableau de sortie."
   ]
  },
  {
   "cell_type": "code",
   "execution_count": 56,
   "metadata": {},
   "outputs": [
    {
     "data": {
      "text/plain": [
       "Index(['method', 'number', 'orbital_period', 'mass', 'distance', 'year'], dtype='object')"
      ]
     },
     "execution_count": 56,
     "metadata": {},
     "output_type": "execute_result"
    }
   ],
   "source": [
    "planets.columns"
   ]
  },
  {
   "cell_type": "code",
   "execution_count": 264,
   "metadata": {},
   "outputs": [],
   "source": [
    "#planets.method.tolist()"
   ]
  },
  {
   "cell_type": "code",
   "execution_count": 197,
   "metadata": {},
   "outputs": [],
   "source": [
    "planets.to_excel('chemin/tmp3.xls')"
   ]
  },
  {
   "cell_type": "code",
   "execution_count": 57,
   "metadata": {},
   "outputs": [
    {
     "data": {
      "text/html": [
       "<div>\n",
       "<style scoped>\n",
       "    .dataframe tbody tr th:only-of-type {\n",
       "        vertical-align: middle;\n",
       "    }\n",
       "\n",
       "    .dataframe tbody tr th {\n",
       "        vertical-align: top;\n",
       "    }\n",
       "\n",
       "    .dataframe thead th {\n",
       "        text-align: right;\n",
       "    }\n",
       "</style>\n",
       "<table border=\"1\" class=\"dataframe\">\n",
       "  <thead>\n",
       "    <tr style=\"text-align: right;\">\n",
       "      <th></th>\n",
       "      <th>number</th>\n",
       "      <th>orbital_period</th>\n",
       "      <th>mass</th>\n",
       "      <th>distance</th>\n",
       "      <th>year</th>\n",
       "    </tr>\n",
       "    <tr>\n",
       "      <th>method</th>\n",
       "      <th></th>\n",
       "      <th></th>\n",
       "      <th></th>\n",
       "      <th></th>\n",
       "      <th></th>\n",
       "    </tr>\n",
       "  </thead>\n",
       "  <tbody>\n",
       "    <tr>\n",
       "      <th>Astrometry</th>\n",
       "      <td>1.000000</td>\n",
       "      <td>631.180000</td>\n",
       "      <td>NaN</td>\n",
       "      <td>17.875000</td>\n",
       "      <td>2011.500000</td>\n",
       "    </tr>\n",
       "    <tr>\n",
       "      <th>Eclipse Timing Variations</th>\n",
       "      <td>1.666667</td>\n",
       "      <td>4751.644444</td>\n",
       "      <td>5.125000</td>\n",
       "      <td>315.360000</td>\n",
       "      <td>2010.000000</td>\n",
       "    </tr>\n",
       "    <tr>\n",
       "      <th>Imaging</th>\n",
       "      <td>1.315789</td>\n",
       "      <td>118247.737500</td>\n",
       "      <td>NaN</td>\n",
       "      <td>67.715937</td>\n",
       "      <td>2009.131579</td>\n",
       "    </tr>\n",
       "    <tr>\n",
       "      <th>Microlensing</th>\n",
       "      <td>1.173913</td>\n",
       "      <td>3153.571429</td>\n",
       "      <td>NaN</td>\n",
       "      <td>4144.000000</td>\n",
       "      <td>2009.782609</td>\n",
       "    </tr>\n",
       "    <tr>\n",
       "      <th>Orbital Brightness Modulation</th>\n",
       "      <td>1.666667</td>\n",
       "      <td>0.709307</td>\n",
       "      <td>NaN</td>\n",
       "      <td>1180.000000</td>\n",
       "      <td>2011.666667</td>\n",
       "    </tr>\n",
       "    <tr>\n",
       "      <th>Pulsar Timing</th>\n",
       "      <td>2.200000</td>\n",
       "      <td>7343.021201</td>\n",
       "      <td>NaN</td>\n",
       "      <td>1200.000000</td>\n",
       "      <td>1998.400000</td>\n",
       "    </tr>\n",
       "    <tr>\n",
       "      <th>Pulsation Timing Variations</th>\n",
       "      <td>1.000000</td>\n",
       "      <td>1170.000000</td>\n",
       "      <td>NaN</td>\n",
       "      <td>NaN</td>\n",
       "      <td>2007.000000</td>\n",
       "    </tr>\n",
       "    <tr>\n",
       "      <th>Radial Velocity</th>\n",
       "      <td>1.721519</td>\n",
       "      <td>823.354680</td>\n",
       "      <td>2.630699</td>\n",
       "      <td>51.600208</td>\n",
       "      <td>2007.518987</td>\n",
       "    </tr>\n",
       "    <tr>\n",
       "      <th>Transit</th>\n",
       "      <td>1.954660</td>\n",
       "      <td>21.102073</td>\n",
       "      <td>1.470000</td>\n",
       "      <td>599.298080</td>\n",
       "      <td>2011.236776</td>\n",
       "    </tr>\n",
       "    <tr>\n",
       "      <th>Transit Timing Variations</th>\n",
       "      <td>2.250000</td>\n",
       "      <td>79.783500</td>\n",
       "      <td>NaN</td>\n",
       "      <td>1104.333333</td>\n",
       "      <td>2012.500000</td>\n",
       "    </tr>\n",
       "  </tbody>\n",
       "</table>\n",
       "</div>"
      ],
      "text/plain": [
       "                                 number  orbital_period      mass  \\\n",
       "method                                                              \n",
       "Astrometry                     1.000000      631.180000       NaN   \n",
       "Eclipse Timing Variations      1.666667     4751.644444  5.125000   \n",
       "Imaging                        1.315789   118247.737500       NaN   \n",
       "Microlensing                   1.173913     3153.571429       NaN   \n",
       "Orbital Brightness Modulation  1.666667        0.709307       NaN   \n",
       "Pulsar Timing                  2.200000     7343.021201       NaN   \n",
       "Pulsation Timing Variations    1.000000     1170.000000       NaN   \n",
       "Radial Velocity                1.721519      823.354680  2.630699   \n",
       "Transit                        1.954660       21.102073  1.470000   \n",
       "Transit Timing Variations      2.250000       79.783500       NaN   \n",
       "\n",
       "                                  distance         year  \n",
       "method                                                   \n",
       "Astrometry                       17.875000  2011.500000  \n",
       "Eclipse Timing Variations       315.360000  2010.000000  \n",
       "Imaging                          67.715937  2009.131579  \n",
       "Microlensing                   4144.000000  2009.782609  \n",
       "Orbital Brightness Modulation  1180.000000  2011.666667  \n",
       "Pulsar Timing                  1200.000000  1998.400000  \n",
       "Pulsation Timing Variations            NaN  2007.000000  \n",
       "Radial Velocity                  51.600208  2007.518987  \n",
       "Transit                         599.298080  2011.236776  \n",
       "Transit Timing Variations      1104.333333  2012.500000  "
      ]
     },
     "execution_count": 57,
     "metadata": {},
     "output_type": "execute_result"
    }
   ],
   "source": [
    "planets.groupby('method').mean()"
   ]
  },
  {
   "cell_type": "code",
   "execution_count": 265,
   "metadata": {},
   "outputs": [
    {
     "data": {
      "text/plain": [
       "631.1800000000001"
      ]
     },
     "execution_count": 265,
     "metadata": {},
     "output_type": "execute_result"
    }
   ],
   "source": [
    "planets.orbital_period[planets.method=='Astrometry'].mean()"
   ]
  },
  {
   "cell_type": "code",
   "execution_count": 266,
   "metadata": {},
   "outputs": [
    {
     "data": {
      "text/plain": [
       "17.875"
      ]
     },
     "execution_count": 266,
     "metadata": {},
     "output_type": "execute_result"
    }
   ],
   "source": [
    "planets.distance[planets.method=='Astrometry'].mean()"
   ]
  },
  {
   "cell_type": "code",
   "execution_count": 267,
   "metadata": {},
   "outputs": [
    {
     "data": {
      "text/plain": [
       "dict_keys(['Astrometry', 'Eclipse Timing Variations', 'Imaging', 'Microlensing', 'Orbital Brightness Modulation', 'Pulsar Timing', 'Pulsation Timing Variations', 'Radial Velocity', 'Transit', 'Transit Timing Variations'])"
      ]
     },
     "execution_count": 267,
     "metadata": {},
     "output_type": "execute_result"
    }
   ],
   "source": [
    "planets.groupby('method').groups.keys()"
   ]
  },
  {
   "cell_type": "code",
   "execution_count": 268,
   "metadata": {},
   "outputs": [
    {
     "data": {
      "text/html": [
       "<div>\n",
       "<style scoped>\n",
       "    .dataframe tbody tr th:only-of-type {\n",
       "        vertical-align: middle;\n",
       "    }\n",
       "\n",
       "    .dataframe tbody tr th {\n",
       "        vertical-align: top;\n",
       "    }\n",
       "\n",
       "    .dataframe thead th {\n",
       "        text-align: right;\n",
       "    }\n",
       "</style>\n",
       "<table border=\"1\" class=\"dataframe\">\n",
       "  <thead>\n",
       "    <tr style=\"text-align: right;\">\n",
       "      <th></th>\n",
       "      <th></th>\n",
       "      <th>number</th>\n",
       "      <th>orbital_period</th>\n",
       "      <th>mass</th>\n",
       "      <th>distance</th>\n",
       "    </tr>\n",
       "    <tr>\n",
       "      <th>method</th>\n",
       "      <th>year</th>\n",
       "      <th></th>\n",
       "      <th></th>\n",
       "      <th></th>\n",
       "      <th></th>\n",
       "    </tr>\n",
       "  </thead>\n",
       "  <tbody>\n",
       "    <tr>\n",
       "      <th rowspan=\"2\" valign=\"top\">Astrometry</th>\n",
       "      <th>2010</th>\n",
       "      <td>1</td>\n",
       "      <td>1016.00000</td>\n",
       "      <td>NaN</td>\n",
       "      <td>14.98</td>\n",
       "    </tr>\n",
       "    <tr>\n",
       "      <th>2013</th>\n",
       "      <td>1</td>\n",
       "      <td>246.36000</td>\n",
       "      <td>NaN</td>\n",
       "      <td>20.77</td>\n",
       "    </tr>\n",
       "    <tr>\n",
       "      <th rowspan=\"3\" valign=\"top\">Eclipse Timing Variations</th>\n",
       "      <th>2008</th>\n",
       "      <td>2</td>\n",
       "      <td>5767.00000</td>\n",
       "      <td>NaN</td>\n",
       "      <td>130.72</td>\n",
       "    </tr>\n",
       "    <tr>\n",
       "      <th>2009</th>\n",
       "      <td>1</td>\n",
       "      <td>10220.00000</td>\n",
       "      <td>6.05</td>\n",
       "      <td>NaN</td>\n",
       "    </tr>\n",
       "    <tr>\n",
       "      <th>2010</th>\n",
       "      <td>2</td>\n",
       "      <td>5573.55000</td>\n",
       "      <td>NaN</td>\n",
       "      <td>500.00</td>\n",
       "    </tr>\n",
       "    <tr>\n",
       "      <th>...</th>\n",
       "      <th>...</th>\n",
       "      <td>...</td>\n",
       "      <td>...</td>\n",
       "      <td>...</td>\n",
       "      <td>...</td>\n",
       "    </tr>\n",
       "    <tr>\n",
       "      <th>Transit</th>\n",
       "      <th>2014</th>\n",
       "      <td>1</td>\n",
       "      <td>3.57532</td>\n",
       "      <td>NaN</td>\n",
       "      <td>322.00</td>\n",
       "    </tr>\n",
       "    <tr>\n",
       "      <th rowspan=\"4\" valign=\"top\">Transit Timing Variations</th>\n",
       "      <th>2011</th>\n",
       "      <td>2</td>\n",
       "      <td>160.00000</td>\n",
       "      <td>NaN</td>\n",
       "      <td>2119.00</td>\n",
       "    </tr>\n",
       "    <tr>\n",
       "      <th>2012</th>\n",
       "      <td>2</td>\n",
       "      <td>57.01100</td>\n",
       "      <td>NaN</td>\n",
       "      <td>855.00</td>\n",
       "    </tr>\n",
       "    <tr>\n",
       "      <th>2013</th>\n",
       "      <td>2</td>\n",
       "      <td>22.33950</td>\n",
       "      <td>NaN</td>\n",
       "      <td>339.00</td>\n",
       "    </tr>\n",
       "    <tr>\n",
       "      <th>2014</th>\n",
       "      <td>3</td>\n",
       "      <td>NaN</td>\n",
       "      <td>NaN</td>\n",
       "      <td>NaN</td>\n",
       "    </tr>\n",
       "  </tbody>\n",
       "</table>\n",
       "<p>69 rows × 4 columns</p>\n",
       "</div>"
      ],
      "text/plain": [
       "                                number  orbital_period  mass  distance\n",
       "method                    year                                        \n",
       "Astrometry                2010       1      1016.00000   NaN     14.98\n",
       "                          2013       1       246.36000   NaN     20.77\n",
       "Eclipse Timing Variations 2008       2      5767.00000   NaN    130.72\n",
       "                          2009       1     10220.00000  6.05       NaN\n",
       "                          2010       2      5573.55000   NaN    500.00\n",
       "...                                ...             ...   ...       ...\n",
       "Transit                   2014       1         3.57532   NaN    322.00\n",
       "Transit Timing Variations 2011       2       160.00000   NaN   2119.00\n",
       "                          2012       2        57.01100   NaN    855.00\n",
       "                          2013       2        22.33950   NaN    339.00\n",
       "                          2014       3             NaN   NaN       NaN\n",
       "\n",
       "[69 rows x 4 columns]"
      ]
     },
     "execution_count": 268,
     "metadata": {},
     "output_type": "execute_result"
    }
   ],
   "source": [
    "planets.groupby(['method','year']).first()"
   ]
  },
  {
   "cell_type": "code",
   "execution_count": null,
   "metadata": {},
   "outputs": [],
   "source": [
    "planets.groupby('method')['year'].describe()"
   ]
  },
  {
   "cell_type": "code",
   "execution_count": 269,
   "metadata": {},
   "outputs": [
    {
     "data": {
      "text/plain": [
       "       method                       \n",
       "count  Astrometry                          2.0\n",
       "       Eclipse Timing Variations           9.0\n",
       "       Imaging                            38.0\n",
       "       Microlensing                       23.0\n",
       "       Orbital Brightness Modulation       3.0\n",
       "                                         ...  \n",
       "max    Pulsar Timing                    2011.0\n",
       "       Pulsation Timing Variations      2007.0\n",
       "       Radial Velocity                  2014.0\n",
       "       Transit                          2014.0\n",
       "       Transit Timing Variations        2014.0\n",
       "Length: 80, dtype: float64"
      ]
     },
     "execution_count": 269,
     "metadata": {},
     "output_type": "execute_result"
    }
   ],
   "source": [
    "#dispatch:\n",
    "\n",
    "planets.groupby('method')['year'].describe().unstack()"
   ]
  },
  {
   "cell_type": "code",
   "execution_count": null,
   "metadata": {},
   "outputs": [],
   "source": [
    "# python commands:\n",
    "# help(i)\n",
    "sorted()"
   ]
  },
  {
   "cell_type": "markdown",
   "metadata": {},
   "source": [
    "<div class=\"alert alert-danger\">\n",
    "<b>les commandes et codes à apprendre par cœur </b></div>"
   ]
  },
  {
   "cell_type": "raw",
   "metadata": {},
   "source": [
    "STRINGS:\n",
    "    ''.replace()\n",
    "    ''.strip() ! Attention\n",
    "    ''.rstrip() ! Attention\n",
    "    ''.split()\n",
    "    ''.find()\n",
    "    ''.rfind()\n",
    "    ''.upper()\n",
    "    ''.lower()\n",
    "    ''.isdigit()\n",
    "    ''.isupper()\n",
    "    ''.islower()\n",
    "    ''.endswith()\n",
    "    ''.startswith()\n",
    "    ''.count()\n",
    "    ''.join()\n",
    "    ''.zfill()\n",
    "    https://docs.python.org/3/library/stdtypes.html\n",
    "    https://www.programiz.com/python-programming/methods/string\n",
    "    \n",
    "LIST:\n",
    "    ls.remove()\n",
    "    ls.append()\n",
    "    ls.pop\n",
    "    ls.sort()\n",
    "    ls.reverse\n",
    "    ls+ls\n",
    "    https://docs.python.org/3/library/stdtypes.html\n",
    "\n",
    "TUPLE:\n",
    "    tup+tup\n",
    "    https://docs.python.org/3/library/stdtypes.html\n",
    "\n",
    "DICTIONARY:\n",
    "    d.copy()\n",
    "    d.deepcopy()\n",
    "    d.get(cle)\n",
    "    d.pop()\n",
    "    del d[cle]\n",
    "    d.clear()\n",
    "\n",
    "COPY\n",
    "    copy.deepcopy(d)\n",
    "\n",
    "PANDAS:\n",
    "    df.loc, df.iloc, df.at\n",
    "    df.copy(deep=True)\n",
    "    df.set_index(NAME, inplace=True)\n",
    "    df.describe()\n",
    "    COMBINAISON:\n",
    "        df_A.append(df_B)\n",
    "        pandas.concat([df_A, df_B], keys=['rouge','bleue'], axis=0, sort=True)\n",
    "        df_A.merge(df_B)\n",
    "        df_A.join(df_B.set_index('name'), on='name')\n",
    "    GROUPBY:\n",
    "        df.groupby('COL').mean()\n",
    "        df.distance[df.COL=='VAL'].mean()\n",
    "        df.groupby('COL')['COL2'].describe().unstack()\n",
    "        df.groupby(['COL' , decade])['COL1'].sum().unstack().fillna(0)\n",
    "NUMPY:\n",
    "    np.reshape\n",
    "    np.newaxis\n",
    "    np.sort\n",
    "    np.argsort\n",
    "    np.concatenate\n",
    "    np.vstack\n",
    "    np.hstack\n",
    "    np.split\n",
    "    np.vsplit\n",
    "    np.hsplit"
   ]
  },
  {
   "cell_type": "markdown",
   "metadata": {
    "slideshow": {
     "slide_type": "slide"
    }
   },
   "source": [
    "<div class=\"alert alert-danger\">\n",
    "<h3>Exercises</h3>\n",
    "</div>"
   ]
  },
  {
   "cell_type": "markdown",
   "metadata": {},
   "source": [
    "<div class=\"alert alert-success\">\n",
    "<li> Comment ajouter une variable à un tuple ?\n",
    "<li> Triez et affichez la liste\n",
    "<li> Ajoutez l’élément 12 à la liste et affichez la liste \n",
    "<li> Enlevez l’élément 38 et affichez la liste\n",
    "<li>convertir un tableau 1D en tableau 2D avec 2 lignes\n",
    "    </ul>\n",
    "</div>"
   ]
  },
  {
   "cell_type": "markdown",
   "metadata": {},
   "source": [
    "<div class=\"alert alert-success\">\n",
    "<li> Comment concaténer 2 listes ?\n",
    "<li> Comment concaténer un tuple et une liste ?\n",
    "<li> Quelles sont les commandes habituelles utilisées pour travailler avec une liste ?\n",
    "<li> Quelles sont les commandes pour travailler avec une chaîne ?\n",
    "</ul>\n",
    "</div>"
   ]
  },
  {
   "cell_type": "code",
   "execution_count": null,
   "metadata": {},
   "outputs": [],
   "source": [
    "# Trouvez l'erreur\n",
    "list1 = ['1','2','3', 4, '5', 6, 'c']\n",
    "list2 = ['a','b','c','d']\n",
    "list3 = ('e','f','g','h')\n",
    "\n",
    "print(list1+list2[3])\n",
    "print(list1[3]+list2)\n",
    "print(list1+list3)"
   ]
  },
  {
   "cell_type": "markdown",
   "metadata": {},
   "source": [
    "<div class=\"alert alert-success\">\n",
    "<li> Décrivez les étapes du code 'CODE GROUPBY EXERCISE'\n",
    "<li> Qu'est-ce que la fonction fillna() apportera au code final?\n",
    "</div>"
   ]
  },
  {
   "cell_type": "code",
   "execution_count": 202,
   "metadata": {},
   "outputs": [
    {
     "data": {
      "text/html": [
       "<div>\n",
       "<style scoped>\n",
       "    .dataframe tbody tr th:only-of-type {\n",
       "        vertical-align: middle;\n",
       "    }\n",
       "\n",
       "    .dataframe tbody tr th {\n",
       "        vertical-align: top;\n",
       "    }\n",
       "\n",
       "    .dataframe thead th {\n",
       "        text-align: right;\n",
       "    }\n",
       "</style>\n",
       "<table border=\"1\" class=\"dataframe\">\n",
       "  <thead>\n",
       "    <tr style=\"text-align: right;\">\n",
       "      <th>decade</th>\n",
       "      <th>1980s</th>\n",
       "      <th>1990s</th>\n",
       "      <th>2000s</th>\n",
       "      <th>2010s</th>\n",
       "    </tr>\n",
       "    <tr>\n",
       "      <th>method</th>\n",
       "      <th></th>\n",
       "      <th></th>\n",
       "      <th></th>\n",
       "      <th></th>\n",
       "    </tr>\n",
       "  </thead>\n",
       "  <tbody>\n",
       "    <tr>\n",
       "      <th>Astrometry</th>\n",
       "      <td>0.0</td>\n",
       "      <td>0.0</td>\n",
       "      <td>0.0</td>\n",
       "      <td>2.0</td>\n",
       "    </tr>\n",
       "    <tr>\n",
       "      <th>Eclipse Timing Variations</th>\n",
       "      <td>0.0</td>\n",
       "      <td>0.0</td>\n",
       "      <td>5.0</td>\n",
       "      <td>10.0</td>\n",
       "    </tr>\n",
       "    <tr>\n",
       "      <th>Imaging</th>\n",
       "      <td>0.0</td>\n",
       "      <td>0.0</td>\n",
       "      <td>29.0</td>\n",
       "      <td>21.0</td>\n",
       "    </tr>\n",
       "    <tr>\n",
       "      <th>Microlensing</th>\n",
       "      <td>0.0</td>\n",
       "      <td>0.0</td>\n",
       "      <td>12.0</td>\n",
       "      <td>15.0</td>\n",
       "    </tr>\n",
       "    <tr>\n",
       "      <th>Orbital Brightness Modulation</th>\n",
       "      <td>0.0</td>\n",
       "      <td>0.0</td>\n",
       "      <td>0.0</td>\n",
       "      <td>5.0</td>\n",
       "    </tr>\n",
       "    <tr>\n",
       "      <th>Pulsar Timing</th>\n",
       "      <td>0.0</td>\n",
       "      <td>9.0</td>\n",
       "      <td>1.0</td>\n",
       "      <td>1.0</td>\n",
       "    </tr>\n",
       "    <tr>\n",
       "      <th>Pulsation Timing Variations</th>\n",
       "      <td>0.0</td>\n",
       "      <td>0.0</td>\n",
       "      <td>1.0</td>\n",
       "      <td>0.0</td>\n",
       "    </tr>\n",
       "    <tr>\n",
       "      <th>Radial Velocity</th>\n",
       "      <td>1.0</td>\n",
       "      <td>52.0</td>\n",
       "      <td>475.0</td>\n",
       "      <td>424.0</td>\n",
       "    </tr>\n",
       "    <tr>\n",
       "      <th>Transit</th>\n",
       "      <td>0.0</td>\n",
       "      <td>0.0</td>\n",
       "      <td>64.0</td>\n",
       "      <td>712.0</td>\n",
       "    </tr>\n",
       "    <tr>\n",
       "      <th>Transit Timing Variations</th>\n",
       "      <td>0.0</td>\n",
       "      <td>0.0</td>\n",
       "      <td>0.0</td>\n",
       "      <td>9.0</td>\n",
       "    </tr>\n",
       "  </tbody>\n",
       "</table>\n",
       "</div>"
      ],
      "text/plain": [
       "decade                         1980s  1990s  2000s  2010s\n",
       "method                                                   \n",
       "Astrometry                       0.0    0.0    0.0    2.0\n",
       "Eclipse Timing Variations        0.0    0.0    5.0   10.0\n",
       "Imaging                          0.0    0.0   29.0   21.0\n",
       "Microlensing                     0.0    0.0   12.0   15.0\n",
       "Orbital Brightness Modulation    0.0    0.0    0.0    5.0\n",
       "Pulsar Timing                    0.0    9.0    1.0    1.0\n",
       "Pulsation Timing Variations      0.0    0.0    1.0    0.0\n",
       "Radial Velocity                  1.0   52.0  475.0  424.0\n",
       "Transit                          0.0    0.0   64.0  712.0\n",
       "Transit Timing Variations        0.0    0.0    0.0    9.0"
      ]
     },
     "execution_count": 202,
     "metadata": {},
     "output_type": "execute_result"
    }
   ],
   "source": [
    "# CODE GROUPBY EXERCISE\n",
    "decade = 10 * (planets['year'] // 10)\n",
    "decade = decade.astype(str) + 's'\n",
    "decade.name = 'decade'\n",
    "planets.groupby(['method' , decade])['number'].sum().unstack().fillna(0)"
   ]
  },
  {
   "cell_type": "code",
   "execution_count": 3,
   "metadata": {
    "collapsed": true,
    "slideshow": {
     "slide_type": "subslide"
    }
   },
   "outputs": [],
   "source": [
    "# Créez un cadre de données de pandas\n",
    "# à partir  des éléments ci-dessous:\n",
    "\n",
    "mydict = dict(zip(mylist, myarr))"
   ]
  },
  {
   "cell_type": "code",
   "execution_count": 114,
   "metadata": {},
   "outputs": [],
   "source": [
    "# Combinez ls1 et dict1 pour former une base de données\n",
    "\n",
    "ls1 = list('abcedfghijklmnopqrstuvwxyz')\n",
    "dict1 = {i: [str(i)+'_'+str(i*2)] for i in range(1,len(ls1))}"
   ]
  },
  {
   "cell_type": "markdown",
   "metadata": {},
   "source": [
    "Créez un tableau numpy 3 × 3 de tous les True"
   ]
  },
  {
   "cell_type": "markdown",
   "metadata": {},
   "source": [
    "obtenir les positions de 2 élèments dans un tableau numpy, où les éléments A et B correspondent"
   ]
  },
  {
   "cell_type": "markdown",
   "metadata": {},
   "source": [
    "joindre deux tableaux verticalement"
   ]
  },
  {
   "cell_type": "code",
   "execution_count": null,
   "metadata": {},
   "outputs": [],
   "source": [
    "# réponses pour la quéstion dans chapitre 2\n",
    "\n",
    "# version 1\n",
    "d1 = {'Subj_ID':['001'],'score': [16], 'group': [2], 'condition': ['cognition']}\n",
    "df_d = pandas.DataFrame(d1)\n",
    "\n",
    "# version 2\n",
    "d1 = {'Subj_ID':'001','score': 16, 'group': 2, 'condition': 'cognition'}\n",
    "df_d = pandas.DataFrame(d1, index=[0])"
   ]
  }
 ],
 "metadata": {
  "anaconda-cloud": {},
  "celltoolbar": "Slideshow",
  "kernelspec": {
   "display_name": "Python 3 (ipykernel)",
   "language": "python",
   "name": "python3"
  },
  "language_info": {
   "codemirror_mode": {
    "name": "ipython",
    "version": 3
   },
   "file_extension": ".py",
   "mimetype": "text/x-python",
   "name": "python",
   "nbconvert_exporter": "python",
   "pygments_lexer": "ipython3",
   "version": "3.11.7"
  }
 },
 "nbformat": 4,
 "nbformat_minor": 2
}
