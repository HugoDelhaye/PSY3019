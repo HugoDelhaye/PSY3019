{
 "cells": [
  {
   "cell_type": "markdown",
   "metadata": {},
   "source": [
    "<div class=\"alert alert-info\">\n",
    "\n",
    "# PSY 3019/6973-G-H24\n",
    "# Cueillette et traitement des données en neurosciences cognitives\n",
    "## Chapitre 4: Le contrôle de flux.\n",
    "<p>\n",
    "<li> Gérer les conditions: if, elif, else\n",
    "<li> Les boucles:\n",
    "    <ul><li> la boucle \"for\"\n",
    "        <li> la boucle \"while\"</ul>"
   ]
  },
  {
   "cell_type": "markdown",
   "metadata": {},
   "source": [
    "<div class=\"alert alert-info\">\n",
    "<h2>Gérer les conditions - if, elif, else</h2>\n",
    "</div>"
   ]
  },
  {
   "cell_type": "raw",
   "metadata": {},
   "source": [
    "Les Opérateurs de comparaison sont également des Opérateurs de conditions\n",
    "\n",
    "==  Égal à\n",
    "!=  Inégal\n",
    "<   Moins que\n",
    ">   Plus grand que\n",
    "<=  Inférieur ou égal à\n",
    ">=  Égal ou supérieur à\n",
    "\n",
    "Opérateurs logiques\n",
    "\n",
    "and \n",
    "or \n",
    "not \n",
    "\n",
    "Opérateurs d'identité\n",
    "is\n",
    "is not\n",
    "\n",
    "Opérateurs d'adhésion\n",
    "in\n",
    "not in\n",
    "\n",
    "Opérateurs au niveau du bit\n",
    "& AND\n",
    "|  OR"
   ]
  },
  {
   "cell_type": "markdown",
   "metadata": {},
   "source": [
    "<div class=\"alert alert-success\">\n",
    "<li>Les décisions et conditions peuvent être définies en utilisant les déclarations «if»</div>"
   ]
  },
  {
   "cell_type": "code",
   "execution_count": 1,
   "metadata": {},
   "outputs": [
    {
     "name": "stdout",
     "output_type": "stream",
     "text": [
      "oui\n"
     ]
    }
   ],
   "source": [
    "# objectif: Activer la déclaration \"if\"\n",
    "\n",
    "py = \"thon\"\n",
    "\n",
    "if py == \"thon\":\n",
    "    print('oui')\n",
    "else:\n",
    "    print('erreur')"
   ]
  },
  {
   "cell_type": "code",
   "execution_count": 2,
   "metadata": {},
   "outputs": [
    {
     "name": "stdout",
     "output_type": "stream",
     "text": [
      "erreur\n"
     ]
    }
   ],
   "source": [
    "# objectif: Activer la déclaration \"else\"\n",
    "\n",
    "py = \"th\"\n",
    "\n",
    "if py == \"thon\":\n",
    "    print('oui')\n",
    "else:\n",
    "    print('erreur')"
   ]
  },
  {
   "cell_type": "code",
   "execution_count": 3,
   "metadata": {},
   "outputs": [
    {
     "name": "stdout",
     "output_type": "stream",
     "text": [
      "oui\n"
     ]
    }
   ],
   "source": [
    "# objectif: Activer la déclaration \"if\"\n",
    "\n",
    "py = \"thon\"\n",
    "\n",
    "if py == \"thon\":\n",
    "    print('oui')\n",
    "elif len(py) > 2:\n",
    "    text = 'py'+py\n",
    "    print(text)\n",
    "else:\n",
    "    print('erreur')"
   ]
  },
  {
   "cell_type": "code",
   "execution_count": 4,
   "metadata": {},
   "outputs": [
    {
     "name": "stdout",
     "output_type": "stream",
     "text": [
      "pythn\n"
     ]
    }
   ],
   "source": [
    "# objectif: Activer la déclaration \"elif\"\n",
    "\n",
    "py = \"thn\"\n",
    "\n",
    "if py == \"th on\": #False\n",
    "    print('oui')\n",
    "elif len(py) > 2: #True\n",
    "    text = 'py'+py\n",
    "    print(text)\n",
    "else:\n",
    "    print('erreur')"
   ]
  },
  {
   "cell_type": "code",
   "execution_count": 5,
   "metadata": {},
   "outputs": [
    {
     "name": "stdout",
     "output_type": "stream",
     "text": [
      "erreur\n"
     ]
    }
   ],
   "source": [
    "# objectif: Activer la déclaration \"else\"\n",
    "\n",
    "py = \"th\"\n",
    "\n",
    "if py == \"thon\":\n",
    "    print('oui')\n",
    "elif len(py) > 2:\n",
    "    text = 'py'+py\n",
    "    print(text)\n",
    "else:\n",
    "    print('erreur')"
   ]
  },
  {
   "cell_type": "code",
   "execution_count": 7,
   "metadata": {},
   "outputs": [
    {
     "name": "stdout",
     "output_type": "stream",
     "text": [
      "cle1\n"
     ]
    }
   ],
   "source": [
    "# objectif:\n",
    "# Mettre en œuvre la déclaration \"if\" sur une structure de données\n",
    "\n",
    "d = {'cle1': 1,}\n",
    "\n",
    "if 1 in d:\n",
    "    print('oui')\n",
    "elif 'cle1' in d:\n",
    "    print('cle1')\n",
    "else:\n",
    "    d['cle2'] = 3\n",
    "    print(d)"
   ]
  },
  {
   "cell_type": "code",
   "execution_count": 8,
   "metadata": {},
   "outputs": [
    {
     "name": "stdout",
     "output_type": "stream",
     "text": [
      "{'cle1': 1, 'cle2': 3}\n"
     ]
    }
   ],
   "source": [
    "d = {'cle1': 1,}\n",
    "\n",
    "if 1 in d:\n",
    "    print('oui')\n",
    "elif 'cle2' in d:\n",
    "    print('cle2')\n",
    "else:\n",
    "    d['cle2'] = 3\n",
    "    print(d)"
   ]
  },
  {
   "cell_type": "markdown",
   "metadata": {},
   "source": [
    "<div class=\"alert alert-info\">\n",
    "<h2>Les boucles</h2>\n",
    "</div>"
   ]
  },
  {
   "cell_type": "markdown",
   "metadata": {},
   "source": [
    "<div class=\"alert alert-warning\">\n",
    "<h3>la boucle \"for\" - itération définitive</h3>\n",
    "</div>"
   ]
  },
  {
   "cell_type": "code",
   "execution_count": 122,
   "metadata": {},
   "outputs": [
    {
     "data": {
      "text/plain": [
       "('banana', 'poire', 'mango')"
      ]
     },
     "execution_count": 122,
     "metadata": {},
     "output_type": "execute_result"
    }
   ],
   "source": [
    "fruits = ['banana','poire','mango','prune','orange','mandarines','pêche']\n",
    "\n",
    "# objectif: comment voir chaque valeur par index ?\n",
    "fruits[0], fruits[1], fruits[2]"
   ]
  },
  {
   "cell_type": "markdown",
   "metadata": {},
   "source": [
    "<div class=\"alert alert-success\">\n",
    "<ol>\n",
    "<li>La boucle \"for\" est utilisé pour itération sur une séquence (liste, tuple, dictionnaire, ensemble, chaîne).\n",
    "<li>Avec la boucle \"for\" nous pouvons exécuter un ensemble d'instructions, une fois pour chaque élément\n",
    "<li>\"for\" commence par la valeur en position 0\n",
    "<li>et enregistre la valeur dans une variable temporaire\n",
    "<li>Cette nouvelle valeur est également utilisée pour vérifier la condition</ol></div>"
   ]
  },
  {
   "cell_type": "code",
   "execution_count": 12,
   "metadata": {},
   "outputs": [
    {
     "name": "stdout",
     "output_type": "stream",
     "text": [
      "banana\n",
      "poire\n",
      "mango\n",
      "prune\n",
      "orange\n",
      "mandarines\n",
      "pêche\n"
     ]
    }
   ],
   "source": [
    "fruits = ['banana','poire','mango','prune','orange','mandarines','pêche',]\n",
    "\n",
    "for var in fruits:\n",
    "    print(var)"
   ]
  },
  {
   "cell_type": "code",
   "execution_count": 13,
   "metadata": {},
   "outputs": [
    {
     "name": "stdout",
     "output_type": "stream",
     "text": [
      "0\n",
      "1\n",
      "2\n",
      "3\n",
      "4\n"
     ]
    }
   ],
   "source": [
    "# objectif: comment print chaque valeur de la liste fruits, par index ?\n",
    "\n",
    "for i in range(0,5):\n",
    "    print(i)"
   ]
  },
  {
   "cell_type": "code",
   "execution_count": 14,
   "metadata": {},
   "outputs": [
    {
     "name": "stdout",
     "output_type": "stream",
     "text": [
      "banana\n",
      "poire\n",
      "mango\n",
      "prune\n",
      "orange\n"
     ]
    }
   ],
   "source": [
    "# par index\n",
    "# fruits[0], fruits[1], fruits[2]\n",
    "\n",
    "for index in range(0,5):\n",
    "    print(fruits[index])"
   ]
  },
  {
   "cell_type": "code",
   "execution_count": 15,
   "metadata": {},
   "outputs": [
    {
     "name": "stdout",
     "output_type": "stream",
     "text": [
      "banana\n",
      "poire\n",
      "mango\n",
      "prune\n",
      "orange\n",
      "mandarines\n",
      "pêche\n"
     ]
    }
   ],
   "source": [
    "for index in range(0, len(fruits)):\n",
    "    print(fruits[index])"
   ]
  },
  {
   "cell_type": "markdown",
   "metadata": {},
   "source": [
    "<div class=\"alert alert-success\">\n",
    "    <li><b>INDENTATION:</b>\n",
    "<ul><li>Dans certains langages de programmation, l'indentation n'a pour but que de mieux lire.\n",
    "<li>En Python - l'indentation - fait partie du code. Il indique un bloc de code.\n",
    "<li>Par défaut, l'indentation comprend 4 espaces\n",
    "<li>Les deux points \":\" nécessite toujours une indentation </ul></div>"
   ]
  },
  {
   "cell_type": "code",
   "execution_count": 16,
   "metadata": {},
   "outputs": [],
   "source": [
    "import seaborn\n",
    "df = seaborn.load_dataset('planets')\n",
    "\n",
    "# # Alternative:\n",
    "# planets = pandas.read_excel('/data/planets.xlsx')\n",
    "# planets.set_index(\"Unnamed: 0\", inplace = True)"
   ]
  },
  {
   "cell_type": "code",
   "execution_count": 17,
   "metadata": {},
   "outputs": [],
   "source": [
    "import pandas as pd"
   ]
  },
  {
   "cell_type": "code",
   "execution_count": 18,
   "metadata": {},
   "outputs": [
    {
     "data": {
      "text/plain": [
       "Index(['method', 'number', 'orbital_period', 'mass', 'distance', 'year'], dtype='object')"
      ]
     },
     "execution_count": 18,
     "metadata": {},
     "output_type": "execute_result"
    }
   ],
   "source": [
    "df.columns"
   ]
  },
  {
   "cell_type": "code",
   "execution_count": 19,
   "metadata": {},
   "outputs": [
    {
     "data": {
      "text/plain": [
       "0       Radial Velocity\n",
       "1       Radial Velocity\n",
       "2       Radial Velocity\n",
       "3       Radial Velocity\n",
       "4       Radial Velocity\n",
       "             ...       \n",
       "1030            Transit\n",
       "1031            Transit\n",
       "1032            Transit\n",
       "1033            Transit\n",
       "1034            Transit\n",
       "Name: method, Length: 1035, dtype: object"
      ]
     },
     "execution_count": 19,
     "metadata": {},
     "output_type": "execute_result"
    }
   ],
   "source": [
    "df.method"
   ]
  },
  {
   "cell_type": "code",
   "execution_count": 20,
   "metadata": {},
   "outputs": [
    {
     "ename": "NameError",
     "evalue": "name 'Transit' is not defined",
     "output_type": "error",
     "traceback": [
      "\u001b[0;31m---------------------------------------------------------------------------\u001b[0m",
      "\u001b[0;31mNameError\u001b[0m                                 Traceback (most recent call last)",
      "\u001b[0;32m<ipython-input-20-e93d5da87ae2>\u001b[0m in \u001b[0;36m<module>\u001b[0;34m\u001b[0m\n\u001b[1;32m      1\u001b[0m \u001b[0;32mfor\u001b[0m \u001b[0mindex\u001b[0m \u001b[0;32min\u001b[0m \u001b[0mrange\u001b[0m\u001b[0;34m(\u001b[0m\u001b[0;36m0\u001b[0m\u001b[0;34m,\u001b[0m \u001b[0mlen\u001b[0m\u001b[0;34m(\u001b[0m\u001b[0mdf\u001b[0m\u001b[0;34m.\u001b[0m\u001b[0mmethod\u001b[0m\u001b[0;34m)\u001b[0m\u001b[0;34m)\u001b[0m\u001b[0;34m:\u001b[0m\u001b[0;34m\u001b[0m\u001b[0;34m\u001b[0m\u001b[0m\n\u001b[1;32m      2\u001b[0m     \u001b[0mvaleur\u001b[0m \u001b[0;34m=\u001b[0m \u001b[0mdf\u001b[0m\u001b[0;34m[\u001b[0m\u001b[0;34m'method'\u001b[0m\u001b[0;34m]\u001b[0m\u001b[0;34m[\u001b[0m\u001b[0mindex\u001b[0m\u001b[0;34m]\u001b[0m\u001b[0;34m\u001b[0m\u001b[0;34m\u001b[0m\u001b[0m\n\u001b[0;32m----> 3\u001b[0;31m     \u001b[0;32mif\u001b[0m \u001b[0mvaleur\u001b[0m \u001b[0;34m==\u001b[0m \u001b[0mTransit\u001b[0m\u001b[0;34m:\u001b[0m\u001b[0;34m\u001b[0m\u001b[0;34m\u001b[0m\u001b[0m\n\u001b[0m\u001b[1;32m      4\u001b[0m         \u001b[0mprint\u001b[0m\u001b[0;34m(\u001b[0m\u001b[0;34m'oui'\u001b[0m\u001b[0;34m,\u001b[0m \u001b[0mvaleur\u001b[0m\u001b[0;34m)\u001b[0m\u001b[0;34m\u001b[0m\u001b[0;34m\u001b[0m\u001b[0m\n",
      "\u001b[0;31mNameError\u001b[0m: name 'Transit' is not defined"
     ]
    }
   ],
   "source": [
    "# objectif: trouver l'index dans la pandas.Series \n",
    "# avec la valeur Transit\n",
    "\n",
    "for index in range(0, len(df.method)):\n",
    "    valeur = df['method'][index]\n",
    "    if valeur == Transit:\n",
    "        print('oui', valeur)"
   ]
  },
  {
   "cell_type": "code",
   "execution_count": 21,
   "metadata": {},
   "outputs": [
    {
     "name": "stdout",
     "output_type": "stream",
     "text": [
      "<class 'str'>\n",
      "<class 'str'>\n",
      "<class 'str'>\n",
      "<class 'str'>\n",
      "<class 'str'>\n"
     ]
    }
   ],
   "source": [
    "for index in range(0,len(df.method.head(5))):\n",
    "    valeur = df['method'][index]\n",
    "    print(type(valeur))"
   ]
  },
  {
   "cell_type": "code",
   "execution_count": 22,
   "metadata": {},
   "outputs": [
    {
     "name": "stdout",
     "output_type": "stream",
     "text": [
      "oui Transit\n",
      "oui Transit\n",
      "oui Transit\n",
      "oui Transit\n",
      "oui Transit\n",
      "oui Transit\n",
      "oui Transit\n",
      "oui Transit\n"
     ]
    }
   ],
   "source": [
    "for index in range(0,len(df.method.head(100))):\n",
    "    valeur = df['method'][index]\n",
    "    if valeur == \"Transit\":\n",
    "        print('oui', valeur)"
   ]
  },
  {
   "cell_type": "code",
   "execution_count": 74,
   "metadata": {},
   "outputs": [
    {
     "data": {
      "text/plain": [
       "[0, 1, 2, 3, 4, 5, 6, 7, 8, 9]"
      ]
     },
     "execution_count": 74,
     "metadata": {},
     "output_type": "execute_result"
    }
   ],
   "source": [
    "# creating a list:\n",
    "\n",
    "ls1= list()\n",
    "\n",
    "for i in range(0,10):\n",
    "    ls1.append(i)\n",
    "\n",
    "ls1"
   ]
  },
  {
   "cell_type": "code",
   "execution_count": 75,
   "metadata": {},
   "outputs": [
    {
     "data": {
      "text/plain": [
       "[0, 1, 2, 3, 4, 5, 6, 7, 8, 9]"
      ]
     },
     "execution_count": 75,
     "metadata": {},
     "output_type": "execute_result"
    }
   ],
   "source": [
    "# ls1 = []\n",
    "\n",
    "ls1 = [i for i in range(0,10)]\n",
    "\n",
    "ls1"
   ]
  },
  {
   "cell_type": "code",
   "execution_count": 76,
   "metadata": {},
   "outputs": [
    {
     "data": {
      "text/plain": [
       "array([[1, 2, 3],\n",
       "       [2, 3, 4],\n",
       "       [3, 4, 5]])"
      ]
     },
     "execution_count": 76,
     "metadata": {},
     "output_type": "execute_result"
    }
   ],
   "source": [
    "np.array([range(i, i+3) for i in [1,2,3]]) # ?"
   ]
  },
  {
   "cell_type": "code",
   "execution_count": 136,
   "metadata": {},
   "outputs": [
    {
     "data": {
      "text/html": [
       "<div>\n",
       "<style scoped>\n",
       "    .dataframe tbody tr th:only-of-type {\n",
       "        vertical-align: middle;\n",
       "    }\n",
       "\n",
       "    .dataframe tbody tr th {\n",
       "        vertical-align: top;\n",
       "    }\n",
       "\n",
       "    .dataframe thead th {\n",
       "        text-align: right;\n",
       "    }\n",
       "</style>\n",
       "<table border=\"1\" class=\"dataframe\">\n",
       "  <thead>\n",
       "    <tr style=\"text-align: right;\">\n",
       "      <th></th>\n",
       "      <th>a</th>\n",
       "      <th>b</th>\n",
       "    </tr>\n",
       "  </thead>\n",
       "  <tbody>\n",
       "    <tr>\n",
       "      <th>0</th>\n",
       "      <td>0</td>\n",
       "      <td>0</td>\n",
       "    </tr>\n",
       "    <tr>\n",
       "      <th>1</th>\n",
       "      <td>1</td>\n",
       "      <td>2</td>\n",
       "    </tr>\n",
       "    <tr>\n",
       "      <th>2</th>\n",
       "      <td>2</td>\n",
       "      <td>4</td>\n",
       "    </tr>\n",
       "  </tbody>\n",
       "</table>\n",
       "</div>"
      ],
      "text/plain": [
       "   a  b\n",
       "0  0  0\n",
       "1  1  2\n",
       "2  2  4"
      ]
     },
     "execution_count": 136,
     "metadata": {},
     "output_type": "execute_result"
    }
   ],
   "source": [
    "# Les cadres de données peuvent être créés comme des tableaux numpy:\n",
    "\n",
    "np_ar_exmpl = [{'a':i, 'b':2*i} for i in range(3)]\n",
    "df = pandas.DataFrame(np_ar_exmpl)\n",
    "df"
   ]
  },
  {
   "cell_type": "code",
   "execution_count": 137,
   "metadata": {},
   "outputs": [],
   "source": [
    "df.to_csv(\"tmp.csv\")"
   ]
  },
  {
   "cell_type": "code",
   "execution_count": 138,
   "metadata": {},
   "outputs": [
    {
     "name": "stdout",
     "output_type": "stream",
     "text": [
      "1036\n"
     ]
    }
   ],
   "source": [
    "# lecture ligne par ligne:\n",
    "\n",
    "filename = \"tmp.csv\"\n",
    "data = [] # initialiser la liste vide pour stocker des données\n",
    "\n",
    "# pseudocode:\n",
    "# boucle sur les lignes,\n",
    "# * divise chaque ligne dans une liste\n",
    "# * ajoute le résultat à la liste:\n",
    "\n",
    "for line in open(filename).readlines():\n",
    "    line = line.strip().split(',')\n",
    "    data.append(line)\n",
    "\n",
    "print(len(data))"
   ]
  },
  {
   "cell_type": "code",
   "execution_count": 139,
   "metadata": {},
   "outputs": [
    {
     "data": {
      "text/plain": [
       "['99', 'Transit', '1', '6.21229', '', '380.0', '2010']"
      ]
     },
     "execution_count": 139,
     "metadata": {},
     "output_type": "execute_result"
    }
   ],
   "source": [
    "# Imprimer la 100ème ligne:\n",
    "data[100]"
   ]
  },
  {
   "cell_type": "markdown",
   "metadata": {},
   "source": [
    "<div class=\"alert alert-warning\">\n",
    "<h3>la boucle \"while\" - itération indéfinie</h3>\n",
    "</div>"
   ]
  },
  {
   "cell_type": "code",
   "execution_count": 23,
   "metadata": {},
   "outputs": [],
   "source": [
    "ls = ['banana','poire','mango','prune','orange','mandarines','pêche',]"
   ]
  },
  {
   "cell_type": "code",
   "execution_count": 24,
   "metadata": {
    "scrolled": true
   },
   "outputs": [
    {
     "name": "stdout",
     "output_type": "stream",
     "text": [
      "banana\n",
      "poire\n",
      "mango\n",
      "prune\n",
      "orange\n",
      "mandarines\n",
      "pêche\n"
     ]
    }
   ],
   "source": [
    "n = 0\n",
    "\n",
    "while n < len(ls):\n",
    "    # n= 0, len(ls) = 7; n<7 ? True\n",
    "    print(ls[n])\n",
    "    n += 1 # n = n + 1\n",
    "    # n= 7, len(ls) = 7; n<7 ? False"
   ]
  },
  {
   "cell_type": "markdown",
   "metadata": {},
   "source": [
    "<div class=\"alert alert-danger\">\n",
    "<li><b>Attention</b>\n",
    "    <ul>\n",
    "    <li> la boucle \"while\" peut facilement démarrer une boucle infinie\n",
    "    </ul></div>"
   ]
  },
  {
   "cell_type": "markdown",
   "metadata": {},
   "source": [
    "<div class=\"alert alert-danger\">\n",
    "<b>les commandes et codes à apprendre par cœur </b></div>"
   ]
  },
  {
   "cell_type": "raw",
   "metadata": {},
   "source": [
    "CONDITIONNES:\n",
    "    if, elif, else\n",
    "\n",
    "RÉPÉTITIONS:\n",
    "    BOUCLE for\n",
    "    BOUCLE while\n",
    "    range()\n",
    "    [i for i in range(0,10)]\n",
    "    {'a':i for i in range(3)}\n",
    "    [{'a':i, 'b':2*i} for i in range(3)]\n",
    "\n",
    "FICHIERS:\n",
    "    open(file)\n",
    "    open(filename).readlines()"
   ]
  },
  {
   "cell_type": "markdown",
   "metadata": {},
   "source": [
    "<div class=\"alert alert-danger\">\n",
    "<h3>Exercises</h3>\n",
    "</div>"
   ]
  },
  {
   "cell_type": "code",
   "execution_count": null,
   "metadata": {},
   "outputs": [],
   "source": [
    "# calculer le nombre de caractères dans chaque mot de la list fruits\n",
    "\n",
    "fruits = ['banana','poire','mango','prune','orange','mandarines','pêche',]"
   ]
  },
  {
   "cell_type": "code",
   "execution_count": null,
   "metadata": {},
   "outputs": [],
   "source": [
    "# jeu \"devine le nombre\" \n",
    "\n",
    "import random as randomlib\n",
    "random = randomlib.randint(1, 100)\n",
    "print(\"Devinez un nombre entre 1 et 100 \")\n",
    "while True:\n",
    "    guess = int(input())\n",
    "    if guess < random:\n",
    "        print(\"Trop bas \")\n",
    "    elif guess > random:\n",
    "        print(\"Trop haut \")\n",
    "    else:\n",
    "        print(\"C'est ça! \")\n",
    "        break\n",
    "\n",
    "# 1. changez le nombre minimal et maximal à utiliser par le jeu.\n",
    "# 2. vérifiez si la réponse fournie est divisible par 2."
   ]
  }
 ],
 "metadata": {
  "anaconda-cloud": {},
  "celltoolbar": "Slideshow",
  "kernelspec": {
   "display_name": "Python 3 (ipykernel)",
   "language": "python",
   "name": "python3"
  },
  "language_info": {
   "codemirror_mode": {
    "name": "ipython",
    "version": 3
   },
   "file_extension": ".py",
   "mimetype": "text/x-python",
   "name": "python",
   "nbconvert_exporter": "python",
   "pygments_lexer": "ipython3",
   "version": "3.11.7"
  }
 },
 "nbformat": 4,
 "nbformat_minor": 2
}
