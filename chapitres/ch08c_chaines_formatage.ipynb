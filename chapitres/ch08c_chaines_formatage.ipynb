{
 "cells": [
  {
   "cell_type": "markdown",
   "metadata": {},
   "source": [
    "<div class=\"alert alert-info\">\n",
    "\n",
    "# PSY 3019 / 6973\n",
    "# Cueillette et traitement des données en neurosciences cognitives\n",
    "## Chapitre 7: Formatage des chaînes"
   ]
  },
  {
   "cell_type": "markdown",
   "metadata": {},
   "source": [
    "<div class=\"alert alert-success\">\n",
    "<h3>formatage des chaînes</h3>\n",
    "</div>"
   ]
  },
  {
   "cell_type": "code",
   "execution_count": 29,
   "metadata": {},
   "outputs": [],
   "source": [
    "# nous utilisons maintenant cette méthode d'impression des informations: \n",
    "\n",
    "nom = 'Michèle'\n",
    "#print('Je m\\'appelle ',nom)"
   ]
  },
  {
   "cell_type": "markdown",
   "metadata": {},
   "source": [
    "<div class=\"alert alert-success\">\n",
    "    <li>que puis-je faire si je veux imprimer la même chose mais avec une variable différente?\n",
    "    <li>en python, il existe actuellement trois méthodes de formatage du texte:\n",
    "        <ol>\n",
    "            <li> Interpolation de chaînes / f-Strings (Python 3.6+)\n",
    "            <li> Formatage «Nouveau style» (str.format)\n",
    "            <li>Formatage \"à l'ancienne\" (opérateur%)\n",
    "</div>"
   ]
  },
  {
   "cell_type": "markdown",
   "metadata": {},
   "source": [
    "<div class=\"alert alert-info\">\n",
    "<li>formatage pour une variable\n",
    "</div>"
   ]
  },
  {
   "cell_type": "code",
   "execution_count": 28,
   "metadata": {},
   "outputs": [],
   "source": [
    "#print(f'Je m\\'appelle {nom}')         #style f-Strings\n",
    "#print('Je m\\'appelle {}'.format(nom)) # style nouveau\n",
    "#print('Je m\\'appelle %s' %nom)        # style ancienne"
   ]
  },
  {
   "cell_type": "markdown",
   "metadata": {},
   "source": [
    "<div class=\"alert alert-info\">\n",
    "<li>formatage pour plusieurs variables\n",
    "</div>"
   ]
  },
  {
   "cell_type": "code",
   "execution_count": 27,
   "metadata": {},
   "outputs": [],
   "source": [
    "age = 22\n",
    "\n",
    "#print(f'Je m\\'appelle {nom} et j\\'ai {age}')         #style f-Strings\n",
    "#print('Je m\\'appelle {0} et j\\'ai {1}'.format(nom, age)) # style nouveau\n",
    "#print('Je m\\'appelle %s et j\\'ai %s' % (nom, age))        # style ancienne"
   ]
  },
  {
   "cell_type": "markdown",
   "metadata": {},
   "source": [
    "<div class=\"alert alert-info\">\n",
    "    <li> le nouveau style peut être utilisé sans les positions,\n",
    "    <li> si les variables sont utilisées\n",
    "    <li> dans l'ordre où elles sont ajoutées.\n",
    "</div>"
   ]
  },
  {
   "cell_type": "code",
   "execution_count": 26,
   "metadata": {},
   "outputs": [],
   "source": [
    "#print('Je m\\'appelle {} et j\\'ai {}'.format(nom, age))\n",
    "# style nouveau"
   ]
  },
  {
   "cell_type": "markdown",
   "metadata": {},
   "source": [
    "<div class=\"alert alert-info\">\n",
    "    <li> le nouveau style permet d'utiliser plusieurs endroits pour la même variable \n",
    "</div>"
   ]
  },
  {
   "cell_type": "code",
   "execution_count": 25,
   "metadata": {},
   "outputs": [],
   "source": [
    "#print('Je m\\'appelle {0} et j\\'ai {1}. {0}'.format(nom, age))\n",
    "# style nouveau"
   ]
  },
  {
   "cell_type": "markdown",
   "metadata": {},
   "source": [
    "<div class=\"alert alert-info\">\n",
    "    <li> mais le formatage peut également être utilisé\n",
    "    <li> pour créer de nouvelles valeurs:\n",
    "</div>"
   ]
  },
  {
   "cell_type": "code",
   "execution_count": 24,
   "metadata": {},
   "outputs": [],
   "source": [
    "#print(f'{nom},     {age},    {age+2}')             #style f-Strings\n",
    "#print('{}, {}, {}'.format(nom, age, age+3)) # style nouveau\n",
    "#print('%s, %s, %s' % (nom, age, age+5)) # style ancienne"
   ]
  },
  {
   "cell_type": "markdown",
   "metadata": {},
   "source": [
    "<div class=\"alert alert-info\">\n",
    "<li>formatage: positionement\n",
    "</div>"
   ]
  },
  {
   "cell_type": "markdown",
   "metadata": {},
   "source": [
    "<div class=\"alert alert-info\">\n",
    "    <li> Par défaut:<ul>\n",
    "    <li> les valeurs sont formatées pour\n",
    "    <li> n'occuper que le nombre de caractères requis\n",
    "    <li> pour représenter le contenu.</ul>\n",
    "    <li> Il est cependant possible de définir qu'une valeur doit être complétée à une longueur spécifique.\n",
    "</div>"
   ]
  },
  {
   "cell_type": "markdown",
   "metadata": {},
   "source": [
    "<div class=\"alert alert-info\">\n",
    "    <li> le texte peut également être aligné en fonction de certaines règles. \n",
    "    <li> Par default:<ul>\n",
    "    <li> le f-Strings style est aligné à gauche\n",
    "    <li> le nouveau style est aligné à gauche\n",
    "    <li> l'ancien style est aligné à droite</ul>\n",
    "</div>"
   ]
  },
  {
   "cell_type": "code",
   "execution_count": 23,
   "metadata": {},
   "outputs": [],
   "source": [
    "# Aligner à GAUCHE, d'une longueur de 10 caractères:\n",
    "\n",
    "#f'{\"test\":10}'         # style f-Strings\n",
    "#'{:10}'.format('test') # style nouveau\n",
    "#'%-10s' % ('test',)     # style ancienne"
   ]
  },
  {
   "cell_type": "code",
   "execution_count": 22,
   "metadata": {},
   "outputs": [],
   "source": [
    "# Aligner à DROITE:\n",
    "\n",
    "#f'{\"test\":>10}'         # style f-Strings\n",
    "#'{:>10}'.format('test') # style nouveau\n",
    "#'%10s' % ('test',)      # style ancienne"
   ]
  },
  {
   "cell_type": "code",
   "execution_count": 11,
   "metadata": {},
   "outputs": [
    {
     "data": {
      "text/plain": [
       "'   test   '"
      ]
     },
     "execution_count": 11,
     "metadata": {},
     "output_type": "execute_result"
    }
   ],
   "source": [
    "# Alignez au CENTRE:\n",
    "\n",
    "f'{\"test\":^10}'         # style f-Strings\n",
    "'{:^10}'.format('test') # style nouveau"
   ]
  },
  {
   "cell_type": "markdown",
   "metadata": {},
   "source": [
    "<div class=\"alert alert-info\">\n",
    "<li>formatage: chiffres\n",
    "</div>"
   ]
  },
  {
   "cell_type": "markdown",
   "metadata": {},
   "source": [
    "<div class=\"alert alert-info\">\n",
    "    <li> quand les chiffres sont grands,\n",
    "    <li> comment imprimer uniquement les 2 ou trois premiers chiffres? \n",
    "</div>"
   ]
  },
  {
   "cell_type": "code",
   "execution_count": 21,
   "metadata": {},
   "outputs": [],
   "source": [
    "var = 3.14159\n",
    "\n",
    "#print(f\"{var:.3f}\")\n",
    "#print(\"{:.2f}\".format(var))\n",
    "#print(\"%.2f\" % var)"
   ]
  },
  {
   "cell_type": "markdown",
   "metadata": {},
   "source": [
    "<div class=\"alert alert-info\">\n",
    "    <li>mise en forme sur un jeu de données \n",
    "</div>"
   ]
  },
  {
   "cell_type": "code",
   "execution_count": 13,
   "metadata": {},
   "outputs": [],
   "source": [
    "import seaborn\n",
    "df = seaborn.load_dataset('planets')"
   ]
  },
  {
   "cell_type": "code",
   "execution_count": 20,
   "metadata": {},
   "outputs": [],
   "source": [
    "#df.columns"
   ]
  },
  {
   "cell_type": "code",
   "execution_count": 19,
   "metadata": {},
   "outputs": [],
   "source": [
    "#for (method, group) in df.groupby('method'):\n",
    "#     print(method, group.shape)"
   ]
  },
  {
   "cell_type": "code",
   "execution_count": 18,
   "metadata": {},
   "outputs": [],
   "source": [
    "# style f-Strings\n",
    "\n",
    "#for (method, group) in df.groupby('method'):\n",
    "#    print(f\"{method:30} shape={group.shape}\")"
   ]
  },
  {
   "cell_type": "code",
   "execution_count": 17,
   "metadata": {},
   "outputs": [],
   "source": [
    "# style nouveau\n",
    "\n",
    "#for (method, group) in df.groupby('method'):\n",
    "#    print(\"{0:30} shape={1}\".format(method, group.shape))"
   ]
  },
  {
   "cell_type": "code",
   "execution_count": 16,
   "metadata": {},
   "outputs": [],
   "source": [
    "# style ancienne\n",
    "\n",
    "#for (method, group) in df.groupby('method'):\n",
    "#    print(\"%-30s shape=%s\" %(method, group.shape))"
   ]
  },
  {
   "cell_type": "code",
   "execution_count": null,
   "metadata": {},
   "outputs": [],
   "source": [
    "# Aligne à GAUCHE (dans l'espace disponible) \n",
    "f'{var:}'         # style f-Strings\n",
    "'{:}'.format(var) # style nouveau\n",
    "'%-s' % (var,)     # style ancienne\n",
    "\n",
    "# Aligne à DROITE (dans l'espace disponible) \n",
    "f'{var:>}'          # style f-Strings\n",
    "'{:>}'.format(var)  # style nouveau\n",
    "'%s' % (var,)       # style ancienne\n",
    "\n",
    "# Aligne au CENTRE (dans l'espace disponible) \n",
    "f'{var:^}'         # style f-Strings\n",
    "'{:^}'.format(var) # style nouveau\n",
    "\n",
    "# Formatage des chiffres(int, float)\n",
    "f\"{var:.2f}\"\n",
    "\"{:.2f}\".format(var)\n",
    "\"%.2f\" % var"
   ]
  },
  {
   "cell_type": "markdown",
   "metadata": {},
   "source": [
    "<div class=\"alert alert-danger\">\n",
    "<h3>Exercises</h3>\n",
    "</div>"
   ]
  },
  {
   "cell_type": "markdown",
   "metadata": {},
   "source": [
    "<div class=\"alert alert-danger\">\n",
    "<ol start=1><li>formatage chaînes (durée suggéree: 15min)\n",
    "<ul><li>dans le jeu de données iris de seaborn\n",
    "\n",
    "<li> imprimer les 5 premières lignes de 4 colonnes\n",
    "<li> avec 4 espaces entre eux\n",
    "<li> tout aligné à gauche\n",
    "<li> dernière colonne alignée à droite\n",
    "\n",
    "</ul></ol></div>"
   ]
  },
  {
   "cell_type": "code",
   "execution_count": 75,
   "metadata": {},
   "outputs": [],
   "source": [
    "import seaborn\n",
    "df = seaborn.load_dataset('iris')"
   ]
  }
 ],
 "metadata": {
  "anaconda-cloud": {},
  "celltoolbar": "Slideshow",
  "kernelspec": {
   "display_name": "Python 3 (ipykernel)",
   "language": "python",
   "name": "python3"
  },
  "language_info": {
   "codemirror_mode": {
    "name": "ipython",
    "version": 3
   },
   "file_extension": ".py",
   "mimetype": "text/x-python",
   "name": "python",
   "nbconvert_exporter": "python",
   "pygments_lexer": "ipython3",
   "version": "3.11.7"
  }
 },
 "nbformat": 4,
 "nbformat_minor": 2
}
